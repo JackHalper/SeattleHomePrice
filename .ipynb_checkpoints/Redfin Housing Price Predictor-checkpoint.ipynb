{
 "cells": [
  {
   "cell_type": "markdown",
   "id": "6052d39c",
   "metadata": {},
   "source": [
    "# Redfin Listing Price Predictor"
   ]
  },
  {
   "cell_type": "markdown",
   "id": "0db472d8",
   "metadata": {},
   "source": [
    "## Instructions"
   ]
  },
  {
   "cell_type": "markdown",
   "id": "91c93784",
   "metadata": {},
   "source": [
    "Go To Redfin.com and find the listed property you want to predict \n",
    "- 1. Navigate to Cell in the Toolbar\n",
    "- 2. Select Run All\n",
    "- 3. Input House Information \n",
    "- 4. Copy and Paste House Description \n",
    "- 5. Input House Listing Price \n",
    "- 6. Scroll to the Bottom to Get Predictions\n",
    "\n",
    "- PROPERTY TYPE INPUT OPTIONS (CASE SENSITIVE) \n",
    "    - Single Family Residential\n",
    "    - Condo/Co-op\t\n",
    "    - Townhouse"
   ]
  },
  {
   "cell_type": "code",
   "execution_count": 164,
   "id": "ac83f320",
   "metadata": {
    "slideshow": {
     "slide_type": "skip"
    }
   },
   "outputs": [],
   "source": [
    "import pandas as pd\n",
    "import nltk\n",
    "from nltk.corpus import stopwords\n",
    "from nltk.stem import WordNetLemmatizer\n",
    "from nltk.tokenize import word_tokenize\n",
    "from sklearn.feature_extraction.text import CountVectorizer, TfidfVectorizer\n",
    "import seaborn as sns\n",
    "import matplotlib.pyplot as plt\n",
    "import numpy as np\n",
    "import spacy \n",
    "import re\n",
    "from gensim.models.phrases import Phraser, Phrases\n",
    "import pickle\n",
    "from datetime import datetime\n",
    "import time"
   ]
  },
  {
   "cell_type": "code",
   "execution_count": 165,
   "id": "1b1cbd34",
   "metadata": {
    "slideshow": {
     "slide_type": "fragment"
    }
   },
   "outputs": [
    {
     "name": "stdout",
     "output_type": "stream",
     "text": [
      "Enter YEAR BUILT: 2008\n",
      "Enter PROPERTY TYPE: Single Family Residential\n",
      "Enter ZIP OR POSTAL CODE: 98136\n",
      "Enter BEDS: 4\n",
      "Enter BATHS: 3.5\n",
      "Enter LOCATION: Seaview\n",
      "Enter SQUARE FEET: 4040\n",
      "Enter LOT SIZE: 5000\n",
      "Enter Description: This contemporary west facing home in the coveted neighborhood of Seaview offers over 4000 sq ft, tons of natural light t/o, 3 bedrooms on one level, spacious primary bedroom w/ 5 piece bathroom & so much more. Main level features high ceilings, bamboo floors, formal dining room, living room, 2 gas fireplaces, family room, eat-in chef's kitchen w/ SS high end appliances. The basement is a dream w/bar, 9 ft ceilings, plenty of room for ping pong or pool table, large TV, ample storage, 4th bedroom, 3/4 bath. Home boasts low maintenance yard, private backyard w/ plenty of room for BBQ & pizza oven, basketball court which leads to 2 car garage +2 car parking pad off of paved alley. Close to all that West Seattle has to offer!\n",
      "Enter Price1799950\n"
     ]
    }
   ],
   "source": [
    "current_year = datetime.now().year\n",
    "current_month = datetime.now().month\n",
    "current_quarter = (current_month - 1) // 3 + 1  # Calculate the quarter based on the current month\n",
    "current_date = datetime.now().date()\n",
    "\n",
    "columns = [\n",
    "    \"Year\",\n",
    "    \"Quarter\",\n",
    "    \"YEAR BUILT\",\n",
    "    \"SALE TYPE\",\n",
    "    \"SOLD DATE\",\n",
    "    \"PROPERTY TYPE\",\n",
    "    \"ZIP OR POSTAL CODE\",\n",
    "    \"BEDS\",\n",
    "    \"BATHS\",\n",
    "    \"LOCATION\",\n",
    "    \"SQUARE FEET\",\n",
    "    \"LOT SIZE\", \n",
    "    \"Description\"\n",
    "]\n",
    "\n",
    "df = pd.DataFrame(columns=columns)\n",
    "for column in columns:\n",
    "    if column == \"Year\":\n",
    "        user_input = current_year\n",
    "    elif column == \"Quarter\":\n",
    "        user_input = current_quarter\n",
    "    elif column == \"SOLD DATE\":\n",
    "        user_input = current_date \n",
    "    elif column == \"SALE TYPE\":\n",
    "        user_input = \"PAST SALE\"  \n",
    "    else:\n",
    "        user_input = input(f\"Enter {column}: \")\n",
    "    df.at[0, column] = user_input\n",
    "price = input(f\"Enter Price\")\n"
   ]
  },
  {
   "cell_type": "code",
   "execution_count": null,
   "id": "3b1f1f61",
   "metadata": {},
   "outputs": [],
   "source": []
  },
  {
   "cell_type": "code",
   "execution_count": 166,
   "id": "52841518",
   "metadata": {
    "slideshow": {
     "slide_type": "skip"
    }
   },
   "outputs": [],
   "source": [
    "df[\"Age\"] = 2023 - df[\"YEAR BUILT\"].astype(\"int\")\n",
    "df[\"Year\"] = df[\"Year\"].astype(\"int\")\n",
    "df[\"ZIP OR POSTAL CODE\"] = df[\"ZIP OR POSTAL CODE\"].astype(\"int\")\n",
    "df[\"BEDS\"] = df[\"BEDS\"].astype(\"float\")\n",
    "df[\"BATHS\"] = df[\"BATHS\"].astype(\"float\")\n",
    "df[\"SQUARE FEET\"] = df[\"SQUARE FEET\"].astype(\"int\")\n",
    "df[\"LOT SIZE\"] = df[\"LOT SIZE\"].astype(\"int\")\n",
    "df[\"Quarter\"] = df[\"Quarter\"].astype(\"int\")\n",
    "df[\"SOLD DATE\"] = pd.to_datetime(df[\"SOLD DATE\"])\n",
    "df[\"ZIP OR POSTAL CODE\"] = df[\"ZIP OR POSTAL CODE\"].astype(\"int\")"
   ]
  },
  {
   "cell_type": "code",
   "execution_count": 167,
   "id": "bc7940d8",
   "metadata": {
    "slideshow": {
     "slide_type": "skip"
    }
   },
   "outputs": [
    {
     "data": {
      "text/html": [
       "<div>\n",
       "<style scoped>\n",
       "    .dataframe tbody tr th:only-of-type {\n",
       "        vertical-align: middle;\n",
       "    }\n",
       "\n",
       "    .dataframe tbody tr th {\n",
       "        vertical-align: top;\n",
       "    }\n",
       "\n",
       "    .dataframe thead th {\n",
       "        text-align: right;\n",
       "    }\n",
       "</style>\n",
       "<table border=\"1\" class=\"dataframe\">\n",
       "  <thead>\n",
       "    <tr style=\"text-align: right;\">\n",
       "      <th></th>\n",
       "      <th>Year</th>\n",
       "      <th>Quarter</th>\n",
       "      <th>SALE TYPE</th>\n",
       "      <th>SOLD DATE</th>\n",
       "      <th>PROPERTY TYPE</th>\n",
       "      <th>ZIP OR POSTAL CODE</th>\n",
       "      <th>BEDS</th>\n",
       "      <th>BATHS</th>\n",
       "      <th>LOCATION</th>\n",
       "      <th>SQUARE FEET</th>\n",
       "      <th>LOT SIZE</th>\n",
       "      <th>Description</th>\n",
       "      <th>Age</th>\n",
       "    </tr>\n",
       "  </thead>\n",
       "  <tbody>\n",
       "    <tr>\n",
       "      <th>0</th>\n",
       "      <td>2023</td>\n",
       "      <td>4</td>\n",
       "      <td>PAST SALE</td>\n",
       "      <td>2023-11-15</td>\n",
       "      <td>Single Family Residential</td>\n",
       "      <td>98136</td>\n",
       "      <td>4.0</td>\n",
       "      <td>3.5</td>\n",
       "      <td>Seaview</td>\n",
       "      <td>4040</td>\n",
       "      <td>5000</td>\n",
       "      <td>This contemporary west facing home in the cove...</td>\n",
       "      <td>15</td>\n",
       "    </tr>\n",
       "  </tbody>\n",
       "</table>\n",
       "</div>"
      ],
      "text/plain": [
       "   Year  Quarter  SALE TYPE  SOLD DATE              PROPERTY TYPE  \\\n",
       "0  2023        4  PAST SALE 2023-11-15  Single Family Residential   \n",
       "\n",
       "   ZIP OR POSTAL CODE  BEDS  BATHS LOCATION  SQUARE FEET  LOT SIZE  \\\n",
       "0               98136   4.0    3.5  Seaview         4040      5000   \n",
       "\n",
       "                                         Description  Age  \n",
       "0  This contemporary west facing home in the cove...   15  "
      ]
     },
     "execution_count": 167,
     "metadata": {},
     "output_type": "execute_result"
    }
   ],
   "source": [
    "df.drop(\"YEAR BUILT\", axis =1)"
   ]
  },
  {
   "cell_type": "code",
   "execution_count": 168,
   "id": "116c90ba",
   "metadata": {
    "slideshow": {
     "slide_type": "skip"
    }
   },
   "outputs": [],
   "source": [
    "df [\"Description\"] = df[\"Description\"].str.lower()"
   ]
  },
  {
   "cell_type": "code",
   "execution_count": 169,
   "id": "cb8de56a",
   "metadata": {
    "slideshow": {
     "slide_type": "skip"
    }
   },
   "outputs": [],
   "source": [
    "nlp = spacy.load('en_core_web_sm')\n",
    "def lemmatize(text): \n",
    "    doc = nlp(text)\n",
    "    lemmatized_text = \" \".join([token.lemma_ for token in doc])\n",
    "    return lemmatized_text"
   ]
  },
  {
   "cell_type": "code",
   "execution_count": 170,
   "id": "43ac8456",
   "metadata": {
    "slideshow": {
     "slide_type": "skip"
    }
   },
   "outputs": [],
   "source": [
    "df[\"Description\"] = df[\"Description\"].apply(lemmatize)"
   ]
  },
  {
   "cell_type": "code",
   "execution_count": 171,
   "id": "c112c50e",
   "metadata": {
    "slideshow": {
     "slide_type": "skip"
    }
   },
   "outputs": [],
   "source": [
    "stop_words = set(stopwords.words('english'))"
   ]
  },
  {
   "cell_type": "code",
   "execution_count": 172,
   "id": "829b7da1",
   "metadata": {
    "slideshow": {
     "slide_type": "skip"
    }
   },
   "outputs": [],
   "source": [
    "df[\"Description\"] = df[\"Description\"].apply(word_tokenize)"
   ]
  },
  {
   "cell_type": "code",
   "execution_count": 173,
   "id": "a944d9c5",
   "metadata": {
    "slideshow": {
     "slide_type": "skip"
    }
   },
   "outputs": [],
   "source": [
    "clean_words = []\n",
    "for tokenized_description in df[\"Description\"]:\n",
    "    cleaned_tokens = [token for token in tokenized_description if token not in stop_words]\n",
    "    clean_words.append(cleaned_tokens)"
   ]
  },
  {
   "cell_type": "code",
   "execution_count": 174,
   "id": "6895952e",
   "metadata": {
    "slideshow": {
     "slide_type": "skip"
    }
   },
   "outputs": [],
   "source": [
    "df[\"Description\"] = clean_words"
   ]
  },
  {
   "cell_type": "code",
   "execution_count": 175,
   "id": "009efda5",
   "metadata": {
    "slideshow": {
     "slide_type": "skip"
    }
   },
   "outputs": [],
   "source": [
    "def clean_tokens(tokens):\n",
    "    cleaned_tokens = []\n",
    "    for token in tokens:\n",
    "        cleaned_token = re.sub(r'[^a-zA-Z0-9]', '', token)\n",
    "        if cleaned_token:\n",
    "            cleaned_tokens.append(cleaned_token)\n",
    "    return cleaned_tokens\n",
    "\n"
   ]
  },
  {
   "cell_type": "code",
   "execution_count": 176,
   "id": "8cdf1292",
   "metadata": {
    "slideshow": {
     "slide_type": "skip"
    }
   },
   "outputs": [],
   "source": [
    "df[\"Description\"] = df[\"Description\"].apply(clean_tokens)"
   ]
  },
  {
   "cell_type": "code",
   "execution_count": 177,
   "id": "b1411aee",
   "metadata": {
    "slideshow": {
     "slide_type": "skip"
    }
   },
   "outputs": [],
   "source": [
    "with open('Pickled Models/bigram_model.pkl', 'rb') as f:\n",
    "    bigram = pickle.load(f)"
   ]
  },
  {
   "cell_type": "code",
   "execution_count": 178,
   "id": "660e2d6d",
   "metadata": {
    "slideshow": {
     "slide_type": "skip"
    }
   },
   "outputs": [],
   "source": [
    "df['Description'] = df['Description'].apply(lambda tokens: ' '.join(bigram[tokens]))"
   ]
  },
  {
   "cell_type": "code",
   "execution_count": 179,
   "id": "a5631809",
   "metadata": {
    "slideshow": {
     "slide_type": "skip"
    }
   },
   "outputs": [],
   "source": [
    "with open('Pickled Models/vectorizer.pkl', 'rb') as c:\n",
    "    vectorizer = pickle.load(c)"
   ]
  },
  {
   "cell_type": "code",
   "execution_count": 180,
   "id": "8a062b73",
   "metadata": {
    "slideshow": {
     "slide_type": "skip"
    }
   },
   "outputs": [],
   "source": [
    "transformed_df = vectorizer.transform(df[\"Description\"])"
   ]
  },
  {
   "cell_type": "code",
   "execution_count": 181,
   "id": "65632fa3",
   "metadata": {
    "slideshow": {
     "slide_type": "skip"
    }
   },
   "outputs": [],
   "source": [
    "df_bow = pd.DataFrame(transformed_df.toarray(), columns=vectorizer.get_feature_names_out())"
   ]
  },
  {
   "cell_type": "code",
   "execution_count": 182,
   "id": "a7ac8de7",
   "metadata": {
    "slideshow": {
     "slide_type": "skip"
    }
   },
   "outputs": [],
   "source": [
    "df.reset_index(drop=True, inplace=True)\n",
    "df_bow.reset_index(drop=True, inplace=True)"
   ]
  },
  {
   "cell_type": "code",
   "execution_count": 183,
   "id": "4c2a1773",
   "metadata": {
    "slideshow": {
     "slide_type": "skip"
    }
   },
   "outputs": [],
   "source": [
    "df_combined = pd.concat([df.drop('Description', axis=1), df_bow], axis=1)"
   ]
  },
  {
   "cell_type": "code",
   "execution_count": 184,
   "id": "6af6d6f5",
   "metadata": {
    "slideshow": {
     "slide_type": "skip"
    }
   },
   "outputs": [],
   "source": [
    "df_combined = pd.concat([df.drop('Description', axis=1), df_bow], axis=1)"
   ]
  },
  {
   "cell_type": "code",
   "execution_count": 185,
   "id": "de7303fc",
   "metadata": {
    "slideshow": {
     "slide_type": "skip"
    }
   },
   "outputs": [],
   "source": [
    "with open('Pickled Models/XGBPipeline.pkl', 'rb') as z:\n",
    "    bestmodel = pickle.load(z)"
   ]
  },
  {
   "cell_type": "code",
   "execution_count": 186,
   "id": "49839a1c",
   "metadata": {
    "slideshow": {
     "slide_type": "skip"
    }
   },
   "outputs": [],
   "source": [
    "prediction = bestmodel.predict(df_combined)"
   ]
  },
  {
   "cell_type": "code",
   "execution_count": 187,
   "id": "b2704e48",
   "metadata": {},
   "outputs": [],
   "source": [
    "price = int(price)"
   ]
  },
  {
   "cell_type": "code",
   "execution_count": 188,
   "id": "d236dab6",
   "metadata": {},
   "outputs": [
    {
     "data": {
      "text/plain": [
       "1897122.2"
      ]
     },
     "execution_count": 188,
     "metadata": {},
     "output_type": "execute_result"
    }
   ],
   "source": [
    "prediction[0]"
   ]
  },
  {
   "cell_type": "code",
   "execution_count": 189,
   "id": "8fcfab44",
   "metadata": {},
   "outputs": [],
   "source": [
    "percentage_error = ((price - prediction[0]) / price) * 100"
   ]
  },
  {
   "cell_type": "code",
   "execution_count": 190,
   "id": "764af71c",
   "metadata": {
    "slideshow": {
     "slide_type": "slide"
    }
   },
   "outputs": [
    {
     "name": "stdout",
     "output_type": "stream",
     "text": [
      "Predicted Sale Price: $1897122\n",
      "Listing vs. Predicted Sale Price Error: $97172\n",
      "Percentage Error: -5.40%\n"
     ]
    }
   ],
   "source": [
    "print(f\"Predicted Sale Price: ${prediction[0]:.0f}\")\n",
    "print(f\"Listing vs. Predicted Sale Price Error: ${prediction[0] - price:.0f}\")\n",
    "print(f\"Percentage Error: {percentage_error:.2f}%\")"
   ]
  }
 ],
 "metadata": {
  "celltoolbar": "Slideshow",
  "kernelspec": {
   "display_name": "Python (learn-env)",
   "language": "python",
   "name": "learn-env"
  },
  "language_info": {
   "codemirror_mode": {
    "name": "ipython",
    "version": 3
   },
   "file_extension": ".py",
   "mimetype": "text/x-python",
   "name": "python",
   "nbconvert_exporter": "python",
   "pygments_lexer": "ipython3",
   "version": "3.8.5"
  }
 },
 "nbformat": 4,
 "nbformat_minor": 5
}
