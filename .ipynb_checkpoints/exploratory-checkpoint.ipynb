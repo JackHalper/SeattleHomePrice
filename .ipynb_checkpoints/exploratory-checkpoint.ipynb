{
 "cells": [
  {
   "cell_type": "markdown",
   "metadata": {},
   "source": [
    "# DataScraping Notebook"
   ]
  },
  {
   "cell_type": "markdown",
   "metadata": {},
   "source": [
    "### Import Relevent Modules for DataScraping"
   ]
  },
  {
   "cell_type": "code",
   "execution_count": null,
   "metadata": {},
   "outputs": [],
   "source": [
    "import pandas as pd\n",
    "import requests\n",
    "from bs4 import BeautifulSoup\n",
    "from selenium import webdriver\n",
    "from selenium.webdriver.common.by import By\n",
    "from selenium.webdriver.firefox.options import Options\n",
    "from bs4 import BeautifulSoup\n",
    "from selenium.webdriver.common.action_chains import ActionChains\n",
    "import time\n",
    "from fake_useragent import UserAgent"
   ]
  },
  {
   "cell_type": "code",
   "execution_count": null,
   "metadata": {},
   "outputs": [],
   "source": [
    "Redfin_98101 = pd.read_csv(\"Redfin Data\\Redfin98101.csv\")"
   ]
  },
  {
   "cell_type": "code",
   "execution_count": null,
   "metadata": {},
   "outputs": [],
   "source": [
    "Redfin_98101.head()"
   ]
  },
  {
   "cell_type": "code",
   "execution_count": null,
   "metadata": {},
   "outputs": [],
   "source": []
  },
  {
   "cell_type": "code",
   "execution_count": null,
   "metadata": {},
   "outputs": [],
   "source": [
    "# Rename the column\n",
    "Redfin_98101 = Redfin_98101.rename(columns={\n",
    "    'URL (SEE https://www.redfin.com/buy-a-home/comparative-market-analysis FOR INFO ON PRICING)': 'URL'\n",
    "})\n"
   ]
  },
  {
   "cell_type": "code",
   "execution_count": 6,
   "metadata": {},
   "outputs": [],
   "source": [
    "def scrape_and_export_descriptions(input_csv, output_csv):\n",
    "    # Load the input CSV\n",
    "    data = pd.read_csv(input_csv)\n",
    "   \n",
    "    # Rename the column\n",
    "    data = data.rename(columns={'URL (SEE https://www.redfin.com/buy-a-home/comparative-market-analysis FOR INFO ON PRICING)': 'URL'})\n",
    "   \n",
    "    # Function to expand and extract text\n",
    "    def expand_and_extract_text(url):\n",
    "        # Configure the web driver\n",
    "        chrome_options = Options()\n",
    "       \n",
    "\n",
    "        # Initialize the web driver\n",
    "        driver = webdriver.Chrome(options=chrome_options)\n",
    "\n",
    "        try:\n",
    "            # Navigate to the URL\n",
    "            driver.get(url)\n",
    "           \n",
    "            # Print the URL being processed\n",
    "            print(f\"Processing URL: {url}\")\n",
    "\n",
    "            # Scroll down by 600 pixels\n",
    "            driver.execute_script(\"window.scrollBy(0, 600);\")\n",
    "\n",
    "            # Find the button that triggers the expansion\n",
    "            button = driver.find_element(By.XPATH, '//*[@id=\"marketingRemarks-preview\"]/div[2]/div/button')\n",
    "\n",
    "            # Click the button\n",
    "            button.click()\n",
    "\n",
    "            # Wait for a brief moment to allow the content to expand (adjust the time as needed)\n",
    "            time.sleep(.5)\n",
    "\n",
    "            # Get the page source after the content has loaded\n",
    "            page_source = driver.page_source\n",
    "\n",
    "            # Parse the page source with BeautifulSoup\n",
    "            soup = BeautifulSoup(page_source, 'html.parser')\n",
    "\n",
    "            # Extract the text content using BeautifulSoup\n",
    "            text_content = soup.find('div', {'class': 'house-info', 'id': 'house-info', 'data-rf-test-id': 'house-info'}).get_text()\n",
    "\n",
    "            return text_content\n",
    "\n",
    "        except Exception as e:\n",
    "            print(f\"Error processing URL: {url}\")\n",
    "            print(e)\n",
    "\n",
    "        finally:\n",
    "            # Close the web driver\n",
    "            driver.quit()\n",
    "\n",
    "    # Apply the expand_and_extract_text function to each URL and store the descriptions in a new column\n",
    "    data['Description'] = data['URL'].apply(expand_and_extract_text)\n",
    "\n",
    "    # Export the DataFrame with descriptions to a new CSV file\n",
    "    data.to_csv(output_csv, index=False)"
   ]
  },
  {
   "cell_type": "code",
   "execution_count": null,
   "metadata": {},
   "outputs": [],
   "source": [
    "scrape_and_export_descriptions(\"Redfin Data\\Redfin98103-1.csv\", \"Redfin Data\\Redfin_98103-1_Descriptions.csv\")\n",
    "\n"
   ]
  },
  {
   "cell_type": "code",
   "execution_count": null,
   "metadata": {},
   "outputs": [],
   "source": [
    "scrape_and_export_descriptions(\"Redfin Data\\Redfin98103-2.csv\", \"Redfin Data\\Redfin_98103-2_Descriptions.csv\")\n"
   ]
  },
  {
   "cell_type": "code",
   "execution_count": null,
   "metadata": {},
   "outputs": [],
   "source": [
    "scrape_and_export_descriptions(\"Redfin Data\\Redfin98103-3.csv\", \"Redfin Data\\Redfin_98103-3_Descriptions.csv\")\n"
   ]
  },
  {
   "cell_type": "code",
   "execution_count": null,
   "metadata": {},
   "outputs": [],
   "source": [
    "scrape_and_export_descriptions(\"Redfin Data\\Redfin98104.csv\", \"Redfin Data\\Redfin_98104_Descriptions.csv\")\n"
   ]
  },
  {
   "cell_type": "code",
   "execution_count": null,
   "metadata": {},
   "outputs": [],
   "source": [
    "scrape_and_export_descriptions(\"Redfin Data\\Redfin98105.csv\", \"Redfin Data\\Redfin_98105_Descriptions.csv\")\n"
   ]
  },
  {
   "cell_type": "code",
   "execution_count": null,
   "metadata": {},
   "outputs": [
    {
     "name": "stdout",
     "output_type": "stream",
     "text": [
      "Exception occurred: 'NoneType' object has no attribute 'get_text'\n",
      "Exception occurred: Message: Failed to decode response from marionette\n",
      "\n",
      "Exception occurred: Message: Tried to run command without establishing a connection\n",
      "\n",
      "Exception occurred: Message: Tried to run command without establishing a connection\n",
      "\n",
      "Exception occurred: Message: Tried to run command without establishing a connection\n",
      "\n",
      "Exception occurred: Message: Tried to run command without establishing a connection\n",
      "\n",
      "Exception occurred: Message: Tried to run command without establishing a connection\n",
      "\n",
      "Exception occurred: Message: Tried to run command without establishing a connection\n",
      "\n",
      "Exception occurred: Message: Tried to run command without establishing a connection\n",
      "\n",
      "Exception occurred: Message: Tried to run command without establishing a connection\n",
      "\n",
      "Exception occurred: Message: Tried to run command without establishing a connection\n",
      "\n",
      "Exception occurred: Message: Tried to run command without establishing a connection\n",
      "\n",
      "Exception occurred: Message: Tried to run command without establishing a connection\n",
      "\n",
      "Exception occurred: Message: Tried to run command without establishing a connection\n",
      "\n",
      "Exception occurred: Message: Tried to run command without establishing a connection\n",
      "\n",
      "Exception occurred: Message: Tried to run command without establishing a connection\n",
      "\n",
      "Exception occurred: Message: Tried to run command without establishing a connection\n",
      "\n",
      "Exception occurred: Message: Tried to run command without establishing a connection\n",
      "\n",
      "Exception occurred: Message: Tried to run command without establishing a connection\n",
      "\n",
      "Exception occurred: Message: Tried to run command without establishing a connection\n",
      "\n",
      "Exception occurred: Message: Tried to run command without establishing a connection\n",
      "\n",
      "Exception occurred: Message: Tried to run command without establishing a connection\n",
      "\n",
      "Exception occurred: Message: Tried to run command without establishing a connection\n",
      "\n",
      "Exception occurred: Message: Tried to run command without establishing a connection\n",
      "\n",
      "Exception occurred: Message: Tried to run command without establishing a connection\n",
      "\n",
      "Exception occurred: Message: Tried to run command without establishing a connection\n",
      "\n",
      "Exception occurred: Message: Tried to run command without establishing a connection\n",
      "\n",
      "Exception occurred: Message: Tried to run command without establishing a connection\n",
      "\n",
      "Exception occurred: Message: Tried to run command without establishing a connection\n",
      "\n",
      "Exception occurred: Message: Tried to run command without establishing a connection\n",
      "\n",
      "Exception occurred: Message: Tried to run command without establishing a connection\n",
      "\n",
      "Exception occurred: Message: Tried to run command without establishing a connection\n",
      "\n",
      "Exception occurred: Message: Tried to run command without establishing a connection\n",
      "\n",
      "Exception occurred: Message: Tried to run command without establishing a connection\n",
      "\n",
      "Exception occurred: Message: Tried to run command without establishing a connection\n",
      "\n",
      "Exception occurred: Message: Tried to run command without establishing a connection\n",
      "\n",
      "Exception occurred: Message: Tried to run command without establishing a connection\n",
      "\n",
      "Exception occurred: Message: Tried to run command without establishing a connection\n",
      "\n",
      "Exception occurred: Message: Tried to run command without establishing a connection\n",
      "\n",
      "Exception occurred: Message: Tried to run command without establishing a connection\n",
      "\n",
      "Exception occurred: Message: Tried to run command without establishing a connection\n",
      "\n",
      "Exception occurred: Message: Tried to run command without establishing a connection\n",
      "\n",
      "Exception occurred: Message: Tried to run command without establishing a connection\n",
      "\n",
      "Exception occurred: Message: Tried to run command without establishing a connection\n",
      "\n",
      "Exception occurred: Message: Tried to run command without establishing a connection\n",
      "\n",
      "Exception occurred: Message: Tried to run command without establishing a connection\n",
      "\n",
      "Exception occurred: Message: Tried to run command without establishing a connection\n",
      "\n",
      "Exception occurred: Message: Tried to run command without establishing a connection\n",
      "\n",
      "Exception occurred: Message: Tried to run command without establishing a connection\n",
      "\n",
      "Exception occurred: Message: Tried to run command without establishing a connection\n",
      "\n",
      "Exception occurred: Message: Tried to run command without establishing a connection\n",
      "\n",
      "Exception occurred: Message: Tried to run command without establishing a connection\n",
      "\n",
      "Exception occurred: Message: Tried to run command without establishing a connection\n",
      "\n",
      "Exception occurred: Message: Tried to run command without establishing a connection\n",
      "\n"
     ]
    }
   ],
   "source": [
    "scrape_and_export_descriptions(\"Redfin Data\\Redfin98118-1.csv\", \"Redfin Data\\Redfin_98118-1_Descriptions.csv\")\n"
   ]
  },
  {
   "cell_type": "code",
   "execution_count": null,
   "metadata": {},
   "outputs": [],
   "source": []
  }
 ],
 "metadata": {
  "kernelspec": {
   "display_name": "Python (learn-env)",
   "language": "python",
   "name": "learn-env"
  },
  "language_info": {
   "codemirror_mode": {
    "name": "ipython",
    "version": 3
   },
   "file_extension": ".py",
   "mimetype": "text/x-python",
   "name": "python",
   "nbconvert_exporter": "python",
   "pygments_lexer": "ipython3",
   "version": "3.8.5"
  }
 },
 "nbformat": 4,
 "nbformat_minor": 4
}
