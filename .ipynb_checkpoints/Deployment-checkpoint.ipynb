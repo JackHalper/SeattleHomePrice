{
 "cells": [
  {
   "cell_type": "markdown",
   "id": "96c8241b",
   "metadata": {},
   "source": [
    "# Redfin Listing Price Predictor"
   ]
  },
  {
   "cell_type": "markdown",
   "id": "ae5c5f4c",
   "metadata": {},
   "source": [
    "## Instructions"
   ]
  },
  {
   "cell_type": "markdown",
   "id": "dd6da65a",
   "metadata": {},
   "source": [
    "Go To Redfin.com and find the listed property you want to predict \n",
    "- 1. Navigate to Cell in the Toolbar\n",
    "- 2. Select Run All\n",
    "- 3. Input House Information \n",
    "- 4. Copy and Paste House Description \n",
    "- 5. Input House Listing Price \n",
    "- 6. Scroll to the Bottom to Get Predictions\n",
    "\n",
    "- PROPERTY TYPE INPUT OPTIONS (CASE SENSITIVE) \n",
    "    - Single Family Residential\n",
    "    - Condo/Co-op\t\n",
    "    - Townhouse"
   ]
  },
  {
   "cell_type": "code",
   "execution_count": 658,
   "id": "edb7820c",
   "metadata": {
    "slideshow": {
     "slide_type": "skip"
    }
   },
   "outputs": [],
   "source": [
    "import pandas as pd\n",
    "import nltk\n",
    "from nltk.corpus import stopwords\n",
    "from nltk.stem import WordNetLemmatizer\n",
    "from nltk.tokenize import word_tokenize\n",
    "from sklearn.feature_extraction.text import CountVectorizer, TfidfVectorizer\n",
    "import seaborn as sns\n",
    "import matplotlib.pyplot as plt\n",
    "import numpy as np\n",
    "import spacy \n",
    "import re\n",
    "from gensim.models.phrases import Phraser, Phrases\n",
    "import pickle"
   ]
  },
  {
   "cell_type": "code",
   "execution_count": 659,
   "id": "40936aa2",
   "metadata": {
    "slideshow": {
     "slide_type": "fragment"
    }
   },
   "outputs": [
    {
     "name": "stdout",
     "output_type": "stream",
     "text": [
      "Enter YEAR BUILT: 2023\n",
      "Enter PROPERTY TYPE: Single Family Residential\n",
      "Enter ZIP OR POSTAL CODE: 98136\n",
      "Enter BEDS: 2\n",
      "Enter BATHS: 1.5\n",
      "Enter LOCATION: Seaview\n",
      "Enter SQUARE FEET: 961\n",
      "Enter LOT SIZE: 500\n",
      "Enter Description: 5.625% rate Seller paid 7/6 buydown! Check with listing agent for preferred lender details. This brand new, detached contemporary 2 bed, 2 bath home is located on a quiet residential street just 3 blocks from Alaska Junction! Enjoy light-filled, open-concept living w/spacious gas range kitchen, ample cabinetry, quartz counters, stainless appliances, designer tile work, & powder on the main. Relax in your high-ceiling bedrooms, spa-inspired full bath, while relishing mini split air and heat, on-demand hot water, EV charging & off-street parking. With a rare walk score of 94, you’re just steps from Whole Foods, the West Seattle Farmer’s Market, Elliot Bay Spa & top-rated C & P Coffee Company, to name just a few. Easy transit to downtown\n",
      "Enter Price649950\n"
     ]
    }
   ],
   "source": [
    "current_year = datetime.now().year\n",
    "current_month = datetime.now().month\n",
    "current_quarter = (current_month - 1) // 3 + 1  # Calculate the quarter based on the current month\n",
    "current_date = datetime.now().date()\n",
    "\n",
    "columns = [\n",
    "    \"Year\",\n",
    "    \"Quarter\",\n",
    "    \"YEAR BUILT\",\n",
    "    \"SALE TYPE\",\n",
    "    \"SOLD DATE\",\n",
    "    \"PROPERTY TYPE\",\n",
    "    \"ZIP OR POSTAL CODE\",\n",
    "    \"BEDS\",\n",
    "    \"BATHS\",\n",
    "    \"LOCATION\",\n",
    "    \"SQUARE FEET\",\n",
    "    \"LOT SIZE\", \n",
    "    \"Description\"\n",
    "]\n",
    "\n",
    "df = pd.DataFrame(columns=columns)\n",
    "for column in columns:\n",
    "    if column == \"Year\":\n",
    "        user_input = current_year\n",
    "    elif column == \"Quarter\":\n",
    "        user_input = current_quarter\n",
    "    elif column == \"SOLD DATE\":\n",
    "        user_input = current_date \n",
    "    elif column == \"SALE TYPE\":\n",
    "        user_input = \"PAST SALE\"  \n",
    "    else:\n",
    "        user_input = input(f\"Enter {column}: \")\n",
    "    df.at[0, column] = user_input\n",
    "price = input(f\"Enter Price\")\n"
   ]
  },
  {
   "cell_type": "code",
   "execution_count": 660,
   "id": "61e551f1",
   "metadata": {
    "slideshow": {
     "slide_type": "skip"
    }
   },
   "outputs": [],
   "source": [
    "df[\"Age\"] = 2023 - df[\"YEAR BUILT\"].astype(\"int\")\n",
    "df[\"Year\"] = df[\"Year\"].astype(\"int\")\n",
    "df[\"ZIP OR POSTAL CODE\"] = df[\"ZIP OR POSTAL CODE\"].astype(\"int\")\n",
    "df[\"BEDS\"] = df[\"BEDS\"].astype(\"float\")\n",
    "df[\"BATHS\"] = df[\"BATHS\"].astype(\"float\")\n",
    "df[\"SQUARE FEET\"] = df[\"SQUARE FEET\"].astype(\"int\")\n",
    "df[\"LOT SIZE\"] = df[\"LOT SIZE\"].astype(\"int\")\n",
    "df[\"Quarter\"] = df[\"Quarter\"].astype(\"int\")\n",
    "df[\"SOLD DATE\"] = pd.to_datetime(df[\"SOLD DATE\"])\n",
    "df[\"ZIP OR POSTAL CODE\"] = df[\"ZIP OR POSTAL CODE\"].astype(\"int\")"
   ]
  },
  {
   "cell_type": "code",
   "execution_count": 661,
   "id": "4297c912",
   "metadata": {
    "slideshow": {
     "slide_type": "skip"
    }
   },
   "outputs": [
    {
     "data": {
      "text/html": [
       "<div>\n",
       "<style scoped>\n",
       "    .dataframe tbody tr th:only-of-type {\n",
       "        vertical-align: middle;\n",
       "    }\n",
       "\n",
       "    .dataframe tbody tr th {\n",
       "        vertical-align: top;\n",
       "    }\n",
       "\n",
       "    .dataframe thead th {\n",
       "        text-align: right;\n",
       "    }\n",
       "</style>\n",
       "<table border=\"1\" class=\"dataframe\">\n",
       "  <thead>\n",
       "    <tr style=\"text-align: right;\">\n",
       "      <th></th>\n",
       "      <th>Year</th>\n",
       "      <th>Quarter</th>\n",
       "      <th>SALE TYPE</th>\n",
       "      <th>SOLD DATE</th>\n",
       "      <th>PROPERTY TYPE</th>\n",
       "      <th>ZIP OR POSTAL CODE</th>\n",
       "      <th>BEDS</th>\n",
       "      <th>BATHS</th>\n",
       "      <th>LOCATION</th>\n",
       "      <th>SQUARE FEET</th>\n",
       "      <th>LOT SIZE</th>\n",
       "      <th>Description</th>\n",
       "      <th>Age</th>\n",
       "    </tr>\n",
       "  </thead>\n",
       "  <tbody>\n",
       "    <tr>\n",
       "      <th>0</th>\n",
       "      <td>2023</td>\n",
       "      <td>4</td>\n",
       "      <td>PAST SALE</td>\n",
       "      <td>2023-11-15</td>\n",
       "      <td>Single Family Residential</td>\n",
       "      <td>98136</td>\n",
       "      <td>2.0</td>\n",
       "      <td>1.5</td>\n",
       "      <td>Seaview</td>\n",
       "      <td>961</td>\n",
       "      <td>500</td>\n",
       "      <td>5.625% rate Seller paid 7/6 buydown! Check wit...</td>\n",
       "      <td>0</td>\n",
       "    </tr>\n",
       "  </tbody>\n",
       "</table>\n",
       "</div>"
      ],
      "text/plain": [
       "   Year  Quarter  SALE TYPE  SOLD DATE              PROPERTY TYPE  \\\n",
       "0  2023        4  PAST SALE 2023-11-15  Single Family Residential   \n",
       "\n",
       "   ZIP OR POSTAL CODE  BEDS  BATHS LOCATION  SQUARE FEET  LOT SIZE  \\\n",
       "0               98136   2.0    1.5  Seaview          961       500   \n",
       "\n",
       "                                         Description  Age  \n",
       "0  5.625% rate Seller paid 7/6 buydown! Check wit...    0  "
      ]
     },
     "execution_count": 661,
     "metadata": {},
     "output_type": "execute_result"
    }
   ],
   "source": [
    "df.drop(\"YEAR BUILT\", axis =1)"
   ]
  },
  {
   "cell_type": "code",
   "execution_count": 662,
   "id": "35e3d6b8",
   "metadata": {
    "slideshow": {
     "slide_type": "skip"
    }
   },
   "outputs": [],
   "source": [
    "df [\"Description\"] = df[\"Description\"].str.lower()"
   ]
  },
  {
   "cell_type": "code",
   "execution_count": 663,
   "id": "c711817f",
   "metadata": {
    "slideshow": {
     "slide_type": "skip"
    }
   },
   "outputs": [],
   "source": [
    "nlp = spacy.load('en_core_web_sm')\n",
    "def lemmatize(text): \n",
    "    doc = nlp(text)\n",
    "    lemmatized_text = \" \".join([token.lemma_ for token in doc])\n",
    "    return lemmatized_text"
   ]
  },
  {
   "cell_type": "code",
   "execution_count": 664,
   "id": "80751d31",
   "metadata": {
    "slideshow": {
     "slide_type": "skip"
    }
   },
   "outputs": [],
   "source": [
    "df[\"Description\"] = df[\"Description\"].apply(lemmatize)"
   ]
  },
  {
   "cell_type": "code",
   "execution_count": 665,
   "id": "1f32bd8b",
   "metadata": {
    "slideshow": {
     "slide_type": "skip"
    }
   },
   "outputs": [],
   "source": [
    "stop_words = set(stopwords.words('english'))"
   ]
  },
  {
   "cell_type": "code",
   "execution_count": 666,
   "id": "75c7291c",
   "metadata": {
    "slideshow": {
     "slide_type": "skip"
    }
   },
   "outputs": [],
   "source": [
    "df[\"Description\"] = df[\"Description\"].apply(word_tokenize)"
   ]
  },
  {
   "cell_type": "code",
   "execution_count": 667,
   "id": "a1d93a6a",
   "metadata": {
    "slideshow": {
     "slide_type": "skip"
    }
   },
   "outputs": [],
   "source": [
    "clean_words = []\n",
    "for tokenized_description in df[\"Description\"]:\n",
    "    cleaned_tokens = [token for token in tokenized_description if token not in stop_words]\n",
    "    clean_words.append(cleaned_tokens)"
   ]
  },
  {
   "cell_type": "code",
   "execution_count": 668,
   "id": "95c7a7c4",
   "metadata": {
    "slideshow": {
     "slide_type": "skip"
    }
   },
   "outputs": [],
   "source": [
    "df[\"Description\"] = clean_words"
   ]
  },
  {
   "cell_type": "code",
   "execution_count": 669,
   "id": "7abb9652",
   "metadata": {
    "slideshow": {
     "slide_type": "skip"
    }
   },
   "outputs": [],
   "source": [
    "def clean_tokens(tokens):\n",
    "    cleaned_tokens = []\n",
    "    for token in tokens:\n",
    "        cleaned_token = re.sub(r'[^a-zA-Z0-9]', '', token)\n",
    "        if cleaned_token:\n",
    "            cleaned_tokens.append(cleaned_token)\n",
    "    return cleaned_tokens\n",
    "\n"
   ]
  },
  {
   "cell_type": "code",
   "execution_count": 670,
   "id": "f8244a2d",
   "metadata": {
    "slideshow": {
     "slide_type": "skip"
    }
   },
   "outputs": [],
   "source": [
    "df[\"Description\"] = df[\"Description\"].apply(clean_tokens)"
   ]
  },
  {
   "cell_type": "code",
   "execution_count": 671,
   "id": "c0da7afe",
   "metadata": {
    "slideshow": {
     "slide_type": "skip"
    }
   },
   "outputs": [],
   "source": [
    "with open('bigram_model.pkl', 'rb') as f:\n",
    "    bigram = pickle.load(f)"
   ]
  },
  {
   "cell_type": "code",
   "execution_count": 672,
   "id": "e7b3d33f",
   "metadata": {
    "slideshow": {
     "slide_type": "skip"
    }
   },
   "outputs": [],
   "source": [
    "df['Description'] = df['Description'].apply(lambda tokens: ' '.join(bigram[tokens]))"
   ]
  },
  {
   "cell_type": "code",
   "execution_count": 673,
   "id": "6223defa",
   "metadata": {
    "slideshow": {
     "slide_type": "skip"
    }
   },
   "outputs": [],
   "source": [
    "with open('vectorizer.pkl', 'rb') as c:\n",
    "    vectorizer = pickle.load(c)"
   ]
  },
  {
   "cell_type": "code",
   "execution_count": 674,
   "id": "11d66c3a",
   "metadata": {
    "slideshow": {
     "slide_type": "skip"
    }
   },
   "outputs": [],
   "source": [
    "transformed_df = vectorizer.transform(df[\"Description\"])"
   ]
  },
  {
   "cell_type": "code",
   "execution_count": 675,
   "id": "cf8782ed",
   "metadata": {
    "slideshow": {
     "slide_type": "skip"
    }
   },
   "outputs": [],
   "source": [
    "df_bow = pd.DataFrame(transformed_df.toarray(), columns=vectorizer.get_feature_names_out())"
   ]
  },
  {
   "cell_type": "code",
   "execution_count": 676,
   "id": "40b457a9",
   "metadata": {
    "slideshow": {
     "slide_type": "skip"
    }
   },
   "outputs": [],
   "source": [
    "df.reset_index(drop=True, inplace=True)\n",
    "df_bow.reset_index(drop=True, inplace=True)"
   ]
  },
  {
   "cell_type": "code",
   "execution_count": 677,
   "id": "e09226e4",
   "metadata": {
    "slideshow": {
     "slide_type": "skip"
    }
   },
   "outputs": [],
   "source": [
    "df_combined = pd.concat([df.drop('Description', axis=1), df_bow], axis=1)"
   ]
  },
  {
   "cell_type": "code",
   "execution_count": 678,
   "id": "ebf9394f",
   "metadata": {
    "slideshow": {
     "slide_type": "skip"
    }
   },
   "outputs": [],
   "source": [
    "df_combined = pd.concat([df.drop('Description', axis=1), df_bow], axis=1)"
   ]
  },
  {
   "cell_type": "code",
   "execution_count": 679,
   "id": "23df7d08",
   "metadata": {
    "slideshow": {
     "slide_type": "skip"
    }
   },
   "outputs": [],
   "source": [
    "with open('XGBPipeline.pkl', 'rb') as z:\n",
    "    bestmodel = pickle.load(z)"
   ]
  },
  {
   "cell_type": "code",
   "execution_count": 680,
   "id": "513c1ad8",
   "metadata": {
    "slideshow": {
     "slide_type": "skip"
    }
   },
   "outputs": [],
   "source": [
    "prediction = bestmodel.predict(df_combined)"
   ]
  },
  {
   "cell_type": "code",
   "execution_count": 681,
   "id": "f0b97676",
   "metadata": {},
   "outputs": [],
   "source": [
    "price = int(price)"
   ]
  },
  {
   "cell_type": "code",
   "execution_count": 682,
   "id": "41aabb81",
   "metadata": {},
   "outputs": [
    {
     "data": {
      "text/plain": [
       "625240.2"
      ]
     },
     "execution_count": 682,
     "metadata": {},
     "output_type": "execute_result"
    }
   ],
   "source": [
    "prediction[0]"
   ]
  },
  {
   "cell_type": "code",
   "execution_count": 683,
   "id": "895b670d",
   "metadata": {},
   "outputs": [],
   "source": [
    "percentage_error = ((price - prediction[0]) / price) * 100"
   ]
  },
  {
   "cell_type": "code",
   "execution_count": 684,
   "id": "3a46867d",
   "metadata": {
    "slideshow": {
     "slide_type": "slide"
    }
   },
   "outputs": [
    {
     "name": "stdout",
     "output_type": "stream",
     "text": [
      "Predicted Sale Price: $625240\n",
      "Listing vs. Predicted Sale Price Error: $-24710\n",
      "Percentage Error: 3.80%\n"
     ]
    }
   ],
   "source": [
    "print(f\"Predicted Sale Price: ${prediction[0]:.0f}\")\n",
    "print(f\"Listing vs. Predicted Sale Price Error: ${prediction[0] - price:.0f}\")\n",
    "print(f\"Percentage Error: {percentage_error:.2f}%\")"
   ]
  }
 ],
 "metadata": {
  "celltoolbar": "Slideshow",
  "kernelspec": {
   "display_name": "Python (learn-env)",
   "language": "python",
   "name": "learn-env"
  },
  "language_info": {
   "codemirror_mode": {
    "name": "ipython",
    "version": 3
   },
   "file_extension": ".py",
   "mimetype": "text/x-python",
   "name": "python",
   "nbconvert_exporter": "python",
   "pygments_lexer": "ipython3",
   "version": "3.8.5"
  }
 },
 "nbformat": 4,
 "nbformat_minor": 5
}
