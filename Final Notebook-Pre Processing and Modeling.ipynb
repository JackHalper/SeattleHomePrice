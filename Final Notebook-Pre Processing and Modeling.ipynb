{
 "cells": [
  {
   "cell_type": "markdown",
   "id": "5adf2afe",
   "metadata": {},
   "source": [
    "# Final Notebook - Preprocessing, NLP, and Modeling"
   ]
  },
  {
   "cell_type": "markdown",
   "id": "19eaf546",
   "metadata": {},
   "source": [
    "## Introduction"
   ]
  },
  {
   "cell_type": "markdown",
   "id": "e12361e5",
   "metadata": {},
   "source": [
    "### Importing Relevent Modules"
   ]
  },
  {
   "cell_type": "markdown",
   "id": "f089fb12",
   "metadata": {},
   "source": [
    "###### Import NLP/Standard Packages"
   ]
  },
  {
   "cell_type": "code",
   "execution_count": 3,
   "id": "303b7dc5",
   "metadata": {},
   "outputs": [],
   "source": [
    "import pandas as pd\n",
    "import nltk\n",
    "from nltk.corpus import stopwords\n",
    "from nltk.stem import WordNetLemmatizer\n",
    "from nltk.tokenize import word_tokenize\n",
    "from sklearn.feature_extraction.text import CountVectorizer, TfidfVectorizer\n",
    "import seaborn as sns\n",
    "import matplotlib.pyplot as plt\n",
    "import numpy as np\n",
    "import spacy \n",
    "import re\n",
    "from gensim.models.phrases import Phraser, Phrases\n",
    "import pickle"
   ]
  },
  {
   "cell_type": "markdown",
   "id": "d49ca56d",
   "metadata": {},
   "source": [
    "###### Import Scraped Combined Data "
   ]
  },
  {
   "cell_type": "code",
   "execution_count": 4,
   "id": "aea01be3",
   "metadata": {},
   "outputs": [],
   "source": [
    "df = pd.read_csv(\"Redfin Data\\Redfin_Combined.csv\")"
   ]
  },
  {
   "cell_type": "markdown",
   "id": "c1128c63",
   "metadata": {},
   "source": [
    "###### Dropping Properties Where Webscraping Failed"
   ]
  },
  {
   "cell_type": "code",
   "execution_count": 5,
   "id": "45919655",
   "metadata": {},
   "outputs": [],
   "source": [
    "df = df[df[\"Description\"] != \"Skipped after 4 retries\"]"
   ]
  },
  {
   "cell_type": "code",
   "execution_count": 6,
   "id": "273ece53",
   "metadata": {},
   "outputs": [],
   "source": [
    "df = df[df[\"Description\"] != \"NA\"]"
   ]
  },
  {
   "cell_type": "code",
   "execution_count": 7,
   "id": "19c92ef7",
   "metadata": {},
   "outputs": [],
   "source": [
    "df.dropna(subset=[\"Description\"], inplace=True)"
   ]
  },
  {
   "cell_type": "markdown",
   "id": "f3c23061",
   "metadata": {},
   "source": [
    "######  Checking Columns"
   ]
  },
  {
   "cell_type": "code",
   "execution_count": 8,
   "id": "4cd5d5dc",
   "metadata": {},
   "outputs": [
    {
     "data": {
      "text/plain": [
       "Index(['SALE TYPE', 'SOLD DATE', 'PROPERTY TYPE', 'ADDRESS', 'CITY',\n",
       "       'STATE OR PROVINCE', 'ZIP OR POSTAL CODE', 'PRICE', 'BEDS', 'BATHS',\n",
       "       'LOCATION', 'SQUARE FEET', 'LOT SIZE', 'YEAR BUILT', 'DAYS ON MARKET',\n",
       "       '$/SQUARE FEET', 'HOA/MONTH', 'STATUS', 'NEXT OPEN HOUSE START TIME',\n",
       "       'NEXT OPEN HOUSE END TIME', 'URL', 'SOURCE', 'MLS#', 'FAVORITE',\n",
       "       'INTERESTED', 'LATITUDE', 'LONGITUDE', 'Description'],\n",
       "      dtype='object')"
      ]
     },
     "execution_count": 8,
     "metadata": {},
     "output_type": "execute_result"
    }
   ],
   "source": [
    "df.columns"
   ]
  },
  {
   "cell_type": "code",
   "execution_count": 9,
   "id": "5a0bf891",
   "metadata": {},
   "outputs": [
    {
     "data": {
      "text/html": [
       "<div>\n",
       "<style scoped>\n",
       "    .dataframe tbody tr th:only-of-type {\n",
       "        vertical-align: middle;\n",
       "    }\n",
       "\n",
       "    .dataframe tbody tr th {\n",
       "        vertical-align: top;\n",
       "    }\n",
       "\n",
       "    .dataframe thead th {\n",
       "        text-align: right;\n",
       "    }\n",
       "</style>\n",
       "<table border=\"1\" class=\"dataframe\">\n",
       "  <thead>\n",
       "    <tr style=\"text-align: right;\">\n",
       "      <th></th>\n",
       "      <th>SALE TYPE</th>\n",
       "      <th>SOLD DATE</th>\n",
       "      <th>PROPERTY TYPE</th>\n",
       "      <th>ADDRESS</th>\n",
       "      <th>CITY</th>\n",
       "      <th>STATE OR PROVINCE</th>\n",
       "      <th>ZIP OR POSTAL CODE</th>\n",
       "      <th>PRICE</th>\n",
       "      <th>BEDS</th>\n",
       "      <th>BATHS</th>\n",
       "      <th>...</th>\n",
       "      <th>NEXT OPEN HOUSE START TIME</th>\n",
       "      <th>NEXT OPEN HOUSE END TIME</th>\n",
       "      <th>URL</th>\n",
       "      <th>SOURCE</th>\n",
       "      <th>MLS#</th>\n",
       "      <th>FAVORITE</th>\n",
       "      <th>INTERESTED</th>\n",
       "      <th>LATITUDE</th>\n",
       "      <th>LONGITUDE</th>\n",
       "      <th>Description</th>\n",
       "    </tr>\n",
       "  </thead>\n",
       "  <tbody>\n",
       "    <tr>\n",
       "      <th>0</th>\n",
       "      <td>PAST SALE</td>\n",
       "      <td>May-30-2023</td>\n",
       "      <td>Single Family Residential</td>\n",
       "      <td>9238 Evanston Ave N</td>\n",
       "      <td>Seattle</td>\n",
       "      <td>WA</td>\n",
       "      <td>98103.0</td>\n",
       "      <td>690000.0</td>\n",
       "      <td>2.0</td>\n",
       "      <td>1.0</td>\n",
       "      <td>...</td>\n",
       "      <td>NaN</td>\n",
       "      <td>NaN</td>\n",
       "      <td>https://www.redfin.com/WA/Seattle/9238-Evansto...</td>\n",
       "      <td>NWMLS as Distributed by MLS Grid</td>\n",
       "      <td>2065664.0</td>\n",
       "      <td>N</td>\n",
       "      <td>Y</td>\n",
       "      <td>47.697164</td>\n",
       "      <td>-122.351014</td>\n",
       "      <td>INVESTORS &amp; homebuyers- Check out this FULLY u...</td>\n",
       "    </tr>\n",
       "    <tr>\n",
       "      <th>1</th>\n",
       "      <td>PAST SALE</td>\n",
       "      <td>September-22-2023</td>\n",
       "      <td>Single Family Residential</td>\n",
       "      <td>1412 N 46th St</td>\n",
       "      <td>Seattle</td>\n",
       "      <td>WA</td>\n",
       "      <td>98103.0</td>\n",
       "      <td>900000.0</td>\n",
       "      <td>2.0</td>\n",
       "      <td>1.5</td>\n",
       "      <td>...</td>\n",
       "      <td>NaN</td>\n",
       "      <td>NaN</td>\n",
       "      <td>https://www.redfin.com/WA/Seattle/1412-N-46th-...</td>\n",
       "      <td>NWMLS as Distributed by MLS Grid</td>\n",
       "      <td>2150815.0</td>\n",
       "      <td>N</td>\n",
       "      <td>Y</td>\n",
       "      <td>47.662339</td>\n",
       "      <td>-122.339990</td>\n",
       "      <td>Charming &amp; undeniably special, you'll fall in ...</td>\n",
       "    </tr>\n",
       "    <tr>\n",
       "      <th>2</th>\n",
       "      <td>PAST SALE</td>\n",
       "      <td>October-27-2023</td>\n",
       "      <td>Condo/Co-op</td>\n",
       "      <td>731 N 94th St #4</td>\n",
       "      <td>Seattle</td>\n",
       "      <td>WA</td>\n",
       "      <td>98103.0</td>\n",
       "      <td>410000.0</td>\n",
       "      <td>2.0</td>\n",
       "      <td>2.0</td>\n",
       "      <td>...</td>\n",
       "      <td>NaN</td>\n",
       "      <td>NaN</td>\n",
       "      <td>https://www.redfin.com/WA/Seattle/731-N-94th-S...</td>\n",
       "      <td>NWMLS as Distributed by MLS Grid</td>\n",
       "      <td>2167654.0</td>\n",
       "      <td>N</td>\n",
       "      <td>Y</td>\n",
       "      <td>47.696649</td>\n",
       "      <td>-122.348650</td>\n",
       "      <td>Welcome home to this move-in ready, recently u...</td>\n",
       "    </tr>\n",
       "    <tr>\n",
       "      <th>3</th>\n",
       "      <td>PAST SALE</td>\n",
       "      <td>July-20-2023</td>\n",
       "      <td>Condo/Co-op</td>\n",
       "      <td>6801 Greenwood Ave N #105</td>\n",
       "      <td>Seattle</td>\n",
       "      <td>WA</td>\n",
       "      <td>98103.0</td>\n",
       "      <td>515000.0</td>\n",
       "      <td>1.0</td>\n",
       "      <td>1.0</td>\n",
       "      <td>...</td>\n",
       "      <td>NaN</td>\n",
       "      <td>NaN</td>\n",
       "      <td>https://www.redfin.com/WA/Seattle/6801-Greenwo...</td>\n",
       "      <td>NWMLS as Distributed by MLS Grid</td>\n",
       "      <td>2127918.0</td>\n",
       "      <td>N</td>\n",
       "      <td>Y</td>\n",
       "      <td>47.678871</td>\n",
       "      <td>-122.355649</td>\n",
       "      <td>Rare opportunity for a bright &amp; airy condo w/ ...</td>\n",
       "    </tr>\n",
       "    <tr>\n",
       "      <th>4</th>\n",
       "      <td>PAST SALE</td>\n",
       "      <td>May-26-2023</td>\n",
       "      <td>Condo/Co-op</td>\n",
       "      <td>8760 Greenwood Ave N Unit N405</td>\n",
       "      <td>Seattle</td>\n",
       "      <td>WA</td>\n",
       "      <td>98103.0</td>\n",
       "      <td>398500.0</td>\n",
       "      <td>1.0</td>\n",
       "      <td>1.0</td>\n",
       "      <td>...</td>\n",
       "      <td>NaN</td>\n",
       "      <td>NaN</td>\n",
       "      <td>https://www.redfin.com/WA/Seattle/8760-Greenwo...</td>\n",
       "      <td>NWMLS as Distributed by MLS Grid</td>\n",
       "      <td>2062567.0</td>\n",
       "      <td>N</td>\n",
       "      <td>Y</td>\n",
       "      <td>47.694002</td>\n",
       "      <td>-122.355046</td>\n",
       "      <td>Light, bright, &amp; centrally located - this beau...</td>\n",
       "    </tr>\n",
       "    <tr>\n",
       "      <th>...</th>\n",
       "      <td>...</td>\n",
       "      <td>...</td>\n",
       "      <td>...</td>\n",
       "      <td>...</td>\n",
       "      <td>...</td>\n",
       "      <td>...</td>\n",
       "      <td>...</td>\n",
       "      <td>...</td>\n",
       "      <td>...</td>\n",
       "      <td>...</td>\n",
       "      <td>...</td>\n",
       "      <td>...</td>\n",
       "      <td>...</td>\n",
       "      <td>...</td>\n",
       "      <td>...</td>\n",
       "      <td>...</td>\n",
       "      <td>...</td>\n",
       "      <td>...</td>\n",
       "      <td>...</td>\n",
       "      <td>...</td>\n",
       "      <td>...</td>\n",
       "    </tr>\n",
       "    <tr>\n",
       "      <th>7056</th>\n",
       "      <td>PAST SALE</td>\n",
       "      <td>November-9-2022</td>\n",
       "      <td>Condo/Co-op</td>\n",
       "      <td>14029 Greenwood Ave N Unit B</td>\n",
       "      <td>Seattle</td>\n",
       "      <td>WA</td>\n",
       "      <td>98133.0</td>\n",
       "      <td>430000.0</td>\n",
       "      <td>2.0</td>\n",
       "      <td>2.0</td>\n",
       "      <td>...</td>\n",
       "      <td>NaN</td>\n",
       "      <td>NaN</td>\n",
       "      <td>https://www.redfin.com/WA/Seattle/14029-Greenw...</td>\n",
       "      <td>NWMLS as Distributed by MLS Grid</td>\n",
       "      <td>1990579.0</td>\n",
       "      <td>N</td>\n",
       "      <td>Y</td>\n",
       "      <td>47.731340</td>\n",
       "      <td>-122.356059</td>\n",
       "      <td>Seller offering $8K credit to buyer for intere...</td>\n",
       "    </tr>\n",
       "    <tr>\n",
       "      <th>7057</th>\n",
       "      <td>PAST SALE</td>\n",
       "      <td>April-20-2023</td>\n",
       "      <td>Townhouse</td>\n",
       "      <td>10170 Holman Rd NW Unit C</td>\n",
       "      <td>Seattle</td>\n",
       "      <td>WA</td>\n",
       "      <td>98177.0</td>\n",
       "      <td>622500.0</td>\n",
       "      <td>2.0</td>\n",
       "      <td>2.0</td>\n",
       "      <td>...</td>\n",
       "      <td>NaN</td>\n",
       "      <td>NaN</td>\n",
       "      <td>https://www.redfin.com/WA/Seattle/10170-Holman...</td>\n",
       "      <td>NWMLS as Distributed by MLS Grid</td>\n",
       "      <td>2038206.0</td>\n",
       "      <td>N</td>\n",
       "      <td>Y</td>\n",
       "      <td>47.703461</td>\n",
       "      <td>-122.358204</td>\n",
       "      <td>New Pricing! Stunning new construction in Crow...</td>\n",
       "    </tr>\n",
       "    <tr>\n",
       "      <th>7058</th>\n",
       "      <td>PAST SALE</td>\n",
       "      <td>May-4-2023</td>\n",
       "      <td>Townhouse</td>\n",
       "      <td>14302 Midvale Ave N</td>\n",
       "      <td>Seattle</td>\n",
       "      <td>WA</td>\n",
       "      <td>98133.0</td>\n",
       "      <td>550000.0</td>\n",
       "      <td>2.0</td>\n",
       "      <td>2.0</td>\n",
       "      <td>...</td>\n",
       "      <td>NaN</td>\n",
       "      <td>NaN</td>\n",
       "      <td>https://www.redfin.com/WA/Seattle/14302-Midval...</td>\n",
       "      <td>NWMLS as Distributed by MLS Grid</td>\n",
       "      <td>2042405.0</td>\n",
       "      <td>N</td>\n",
       "      <td>Y</td>\n",
       "      <td>47.732467</td>\n",
       "      <td>-122.343786</td>\n",
       "      <td>Great value for home buyers or investors!  2 b...</td>\n",
       "    </tr>\n",
       "    <tr>\n",
       "      <th>7059</th>\n",
       "      <td>PAST SALE</td>\n",
       "      <td>December-6-2022</td>\n",
       "      <td>Single Family Residential</td>\n",
       "      <td>727 N 128th St</td>\n",
       "      <td>Seattle</td>\n",
       "      <td>WA</td>\n",
       "      <td>98117.0</td>\n",
       "      <td>755000.0</td>\n",
       "      <td>2.0</td>\n",
       "      <td>2.0</td>\n",
       "      <td>...</td>\n",
       "      <td>NaN</td>\n",
       "      <td>NaN</td>\n",
       "      <td>https://www.redfin.com/WA/Seattle/727-N-128th-...</td>\n",
       "      <td>NWMLS as Distributed by MLS Grid</td>\n",
       "      <td>2005454.0</td>\n",
       "      <td>N</td>\n",
       "      <td>Y</td>\n",
       "      <td>47.722070</td>\n",
       "      <td>-122.349220</td>\n",
       "      <td>Stand-alone new construction with heated 400 S...</td>\n",
       "    </tr>\n",
       "    <tr>\n",
       "      <th>7060</th>\n",
       "      <td>PAST SALE</td>\n",
       "      <td>February-28-2023</td>\n",
       "      <td>Condo/Co-op</td>\n",
       "      <td>11550 Stone Ave N Unit 101-A</td>\n",
       "      <td>Seattle</td>\n",
       "      <td>WA</td>\n",
       "      <td>98133.0</td>\n",
       "      <td>277000.0</td>\n",
       "      <td>1.0</td>\n",
       "      <td>1.0</td>\n",
       "      <td>...</td>\n",
       "      <td>NaN</td>\n",
       "      <td>NaN</td>\n",
       "      <td>https://www.redfin.com/WA/Seattle/11550-Stone-...</td>\n",
       "      <td>NWMLS as Distributed by MLS Grid</td>\n",
       "      <td>2028003.0</td>\n",
       "      <td>N</td>\n",
       "      <td>Y</td>\n",
       "      <td>47.713939</td>\n",
       "      <td>-122.341618</td>\n",
       "      <td>As you enter this ground floor condo, you'll b...</td>\n",
       "    </tr>\n",
       "  </tbody>\n",
       "</table>\n",
       "<p>6308 rows × 28 columns</p>\n",
       "</div>"
      ],
      "text/plain": [
       "      SALE TYPE          SOLD DATE              PROPERTY TYPE  \\\n",
       "0     PAST SALE        May-30-2023  Single Family Residential   \n",
       "1     PAST SALE  September-22-2023  Single Family Residential   \n",
       "2     PAST SALE    October-27-2023                Condo/Co-op   \n",
       "3     PAST SALE       July-20-2023                Condo/Co-op   \n",
       "4     PAST SALE        May-26-2023                Condo/Co-op   \n",
       "...         ...                ...                        ...   \n",
       "7056  PAST SALE    November-9-2022                Condo/Co-op   \n",
       "7057  PAST SALE      April-20-2023                  Townhouse   \n",
       "7058  PAST SALE         May-4-2023                  Townhouse   \n",
       "7059  PAST SALE    December-6-2022  Single Family Residential   \n",
       "7060  PAST SALE   February-28-2023                Condo/Co-op   \n",
       "\n",
       "                             ADDRESS     CITY STATE OR PROVINCE  \\\n",
       "0                9238 Evanston Ave N  Seattle                WA   \n",
       "1                     1412 N 46th St  Seattle                WA   \n",
       "2                   731 N 94th St #4  Seattle                WA   \n",
       "3          6801 Greenwood Ave N #105  Seattle                WA   \n",
       "4     8760 Greenwood Ave N Unit N405  Seattle                WA   \n",
       "...                              ...      ...               ...   \n",
       "7056    14029 Greenwood Ave N Unit B  Seattle                WA   \n",
       "7057       10170 Holman Rd NW Unit C  Seattle                WA   \n",
       "7058             14302 Midvale Ave N  Seattle                WA   \n",
       "7059                  727 N 128th St  Seattle                WA   \n",
       "7060    11550 Stone Ave N Unit 101-A  Seattle                WA   \n",
       "\n",
       "      ZIP OR POSTAL CODE     PRICE  BEDS  BATHS  ...  \\\n",
       "0                98103.0  690000.0   2.0    1.0  ...   \n",
       "1                98103.0  900000.0   2.0    1.5  ...   \n",
       "2                98103.0  410000.0   2.0    2.0  ...   \n",
       "3                98103.0  515000.0   1.0    1.0  ...   \n",
       "4                98103.0  398500.0   1.0    1.0  ...   \n",
       "...                  ...       ...   ...    ...  ...   \n",
       "7056             98133.0  430000.0   2.0    2.0  ...   \n",
       "7057             98177.0  622500.0   2.0    2.0  ...   \n",
       "7058             98133.0  550000.0   2.0    2.0  ...   \n",
       "7059             98117.0  755000.0   2.0    2.0  ...   \n",
       "7060             98133.0  277000.0   1.0    1.0  ...   \n",
       "\n",
       "     NEXT OPEN HOUSE START TIME  NEXT OPEN HOUSE END TIME  \\\n",
       "0                           NaN                       NaN   \n",
       "1                           NaN                       NaN   \n",
       "2                           NaN                       NaN   \n",
       "3                           NaN                       NaN   \n",
       "4                           NaN                       NaN   \n",
       "...                         ...                       ...   \n",
       "7056                        NaN                       NaN   \n",
       "7057                        NaN                       NaN   \n",
       "7058                        NaN                       NaN   \n",
       "7059                        NaN                       NaN   \n",
       "7060                        NaN                       NaN   \n",
       "\n",
       "                                                    URL  \\\n",
       "0     https://www.redfin.com/WA/Seattle/9238-Evansto...   \n",
       "1     https://www.redfin.com/WA/Seattle/1412-N-46th-...   \n",
       "2     https://www.redfin.com/WA/Seattle/731-N-94th-S...   \n",
       "3     https://www.redfin.com/WA/Seattle/6801-Greenwo...   \n",
       "4     https://www.redfin.com/WA/Seattle/8760-Greenwo...   \n",
       "...                                                 ...   \n",
       "7056  https://www.redfin.com/WA/Seattle/14029-Greenw...   \n",
       "7057  https://www.redfin.com/WA/Seattle/10170-Holman...   \n",
       "7058  https://www.redfin.com/WA/Seattle/14302-Midval...   \n",
       "7059  https://www.redfin.com/WA/Seattle/727-N-128th-...   \n",
       "7060  https://www.redfin.com/WA/Seattle/11550-Stone-...   \n",
       "\n",
       "                                SOURCE       MLS#  FAVORITE  INTERESTED  \\\n",
       "0     NWMLS as Distributed by MLS Grid  2065664.0         N           Y   \n",
       "1     NWMLS as Distributed by MLS Grid  2150815.0         N           Y   \n",
       "2     NWMLS as Distributed by MLS Grid  2167654.0         N           Y   \n",
       "3     NWMLS as Distributed by MLS Grid  2127918.0         N           Y   \n",
       "4     NWMLS as Distributed by MLS Grid  2062567.0         N           Y   \n",
       "...                                ...        ...       ...         ...   \n",
       "7056  NWMLS as Distributed by MLS Grid  1990579.0         N           Y   \n",
       "7057  NWMLS as Distributed by MLS Grid  2038206.0         N           Y   \n",
       "7058  NWMLS as Distributed by MLS Grid  2042405.0         N           Y   \n",
       "7059  NWMLS as Distributed by MLS Grid  2005454.0         N           Y   \n",
       "7060  NWMLS as Distributed by MLS Grid  2028003.0         N           Y   \n",
       "\n",
       "       LATITUDE   LONGITUDE                                        Description  \n",
       "0     47.697164 -122.351014  INVESTORS & homebuyers- Check out this FULLY u...  \n",
       "1     47.662339 -122.339990  Charming & undeniably special, you'll fall in ...  \n",
       "2     47.696649 -122.348650  Welcome home to this move-in ready, recently u...  \n",
       "3     47.678871 -122.355649  Rare opportunity for a bright & airy condo w/ ...  \n",
       "4     47.694002 -122.355046  Light, bright, & centrally located - this beau...  \n",
       "...         ...         ...                                                ...  \n",
       "7056  47.731340 -122.356059  Seller offering $8K credit to buyer for intere...  \n",
       "7057  47.703461 -122.358204  New Pricing! Stunning new construction in Crow...  \n",
       "7058  47.732467 -122.343786  Great value for home buyers or investors!  2 b...  \n",
       "7059  47.722070 -122.349220  Stand-alone new construction with heated 400 S...  \n",
       "7060  47.713939 -122.341618  As you enter this ground floor condo, you'll b...  \n",
       "\n",
       "[6308 rows x 28 columns]"
      ]
     },
     "execution_count": 9,
     "metadata": {},
     "output_type": "execute_result"
    }
   ],
   "source": [
    "df"
   ]
  },
  {
   "cell_type": "markdown",
   "id": "d099fb3b",
   "metadata": {},
   "source": [
    "###### Lowercasing all Descriptions"
   ]
  },
  {
   "cell_type": "code",
   "execution_count": 10,
   "id": "8240745c",
   "metadata": {},
   "outputs": [],
   "source": [
    "df [\"Description\"] = df[\"Description\"].str.lower()"
   ]
  },
  {
   "cell_type": "markdown",
   "id": "0cca5618",
   "metadata": {},
   "source": [
    "###### Checking to ensure Descriptions are lowercased correctly"
   ]
  },
  {
   "cell_type": "code",
   "execution_count": 11,
   "id": "843fa4e8",
   "metadata": {},
   "outputs": [
    {
     "data": {
      "text/plain": [
       "0    investors & homebuyers- check out this fully u...\n",
       "1    charming & undeniably special, you'll fall in ...\n",
       "2    welcome home to this move-in ready, recently u...\n",
       "3    rare opportunity for a bright & airy condo w/ ...\n",
       "4    light, bright, & centrally located - this beau...\n",
       "Name: Description, dtype: object"
      ]
     },
     "execution_count": 11,
     "metadata": {},
     "output_type": "execute_result"
    }
   ],
   "source": [
    "df[\"Description\"].head()"
   ]
  },
  {
   "cell_type": "markdown",
   "id": "2d91ecb7",
   "metadata": {},
   "source": [
    "###### Lemmatizing "
   ]
  },
  {
   "cell_type": "code",
   "execution_count": 12,
   "id": "f88995fb",
   "metadata": {},
   "outputs": [],
   "source": [
    "nlp = spacy.load('en_core_web_sm')\n",
    "#Lemmitization Function\n",
    "def lemmatize(text): \n",
    "    doc = nlp(text)\n",
    "    lemmatized_text = \" \".join([token.lemma_ for token in doc])\n",
    "    return lemmatized_text"
   ]
  },
  {
   "cell_type": "markdown",
   "id": "6a2903f0",
   "metadata": {},
   "source": [
    "###### Applying the Lemmitization Function"
   ]
  },
  {
   "cell_type": "code",
   "execution_count": 13,
   "id": "29062a38",
   "metadata": {},
   "outputs": [],
   "source": [
    "df[\"Description\"] = df[\"Description\"].apply(lemmatize)"
   ]
  },
  {
   "cell_type": "markdown",
   "id": "bb1237bd",
   "metadata": {},
   "source": [
    "###### Looking at the Text Content after Lemmatization"
   ]
  },
  {
   "cell_type": "code",
   "execution_count": 14,
   "id": "22e67d9a",
   "metadata": {},
   "outputs": [
    {
     "data": {
      "text/plain": [
       "0    investor & homebuyers- check out this fully up...\n",
       "1    charming & undeniably special , you 'll fall i...\n",
       "2    welcome home to this move - in ready , recentl...\n",
       "3    rare opportunity for a bright & airy condo w/ ...\n",
       "4    light , bright , & centrally locate - this bea...\n",
       "Name: Description, dtype: object"
      ]
     },
     "execution_count": 14,
     "metadata": {},
     "output_type": "execute_result"
    }
   ],
   "source": [
    "df[\"Description\"].head()"
   ]
  },
  {
   "cell_type": "markdown",
   "id": "223d332f",
   "metadata": {},
   "source": [
    "###### Removing Stop Words"
   ]
  },
  {
   "cell_type": "code",
   "execution_count": 15,
   "id": "02347e57",
   "metadata": {},
   "outputs": [],
   "source": [
    "stop_words = set(stopwords.words('english'))"
   ]
  },
  {
   "cell_type": "code",
   "execution_count": 16,
   "id": "d3a2b76f",
   "metadata": {},
   "outputs": [],
   "source": [
    "df[\"Description\"] = df[\"Description\"].apply(word_tokenize)"
   ]
  },
  {
   "cell_type": "code",
   "execution_count": 17,
   "id": "1d4300c2",
   "metadata": {},
   "outputs": [],
   "source": [
    "clean_words = []\n",
    "for tokenized_description in df[\"Description\"]:\n",
    "    cleaned_tokens = [token for token in tokenized_description if token not in stop_words]\n",
    "    clean_words.append(cleaned_tokens)"
   ]
  },
  {
   "cell_type": "code",
   "execution_count": 18,
   "id": "abd85b20",
   "metadata": {},
   "outputs": [],
   "source": [
    "df[\"Description\"] = clean_words"
   ]
  },
  {
   "cell_type": "markdown",
   "id": "ddf6e595",
   "metadata": {},
   "source": [
    "###### Cleaning Tokens (Removing Special Characters) "
   ]
  },
  {
   "cell_type": "code",
   "execution_count": 19,
   "id": "f509771d",
   "metadata": {},
   "outputs": [],
   "source": [
    "def clean_tokens(tokens):\n",
    "    cleaned_tokens = []\n",
    "    for token in tokens:\n",
    "        cleaned_token = re.sub(r'[^a-zA-Z0-9]', '', token)\n",
    "        if cleaned_token:\n",
    "            cleaned_tokens.append(cleaned_token)\n",
    "    return cleaned_tokens"
   ]
  },
  {
   "cell_type": "markdown",
   "id": "aba8a940",
   "metadata": {},
   "source": [
    "###### Applying the Clean Functions"
   ]
  },
  {
   "cell_type": "code",
   "execution_count": 22,
   "id": "4cc01845",
   "metadata": {},
   "outputs": [],
   "source": [
    "df[\"Description\"] = df[\"Description\"].apply(clean_tokens)"
   ]
  },
  {
   "cell_type": "markdown",
   "id": "2c65e615",
   "metadata": {},
   "source": [
    "###### Creating a Gensim Bigram Model"
   ]
  },
  {
   "cell_type": "code",
   "execution_count": 23,
   "id": "713f231b",
   "metadata": {},
   "outputs": [],
   "source": [
    "phrases = Phrases(df[\"Description\"], min_count=1, threshold=1)\n",
    "bigram = Phraser(phrases)"
   ]
  },
  {
   "cell_type": "code",
   "execution_count": 24,
   "id": "0dc3c974",
   "metadata": {},
   "outputs": [],
   "source": [
    "with open('bigram_model.pkl', 'wb') as f:\n",
    "    pickle.dump(bigram, f)"
   ]
  },
  {
   "cell_type": "markdown",
   "id": "638ed9a9",
   "metadata": {},
   "source": [
    "###### Applying \"Probable\" Bigram Model to df[\"Description\"]"
   ]
  },
  {
   "cell_type": "code",
   "execution_count": 25,
   "id": "24b95d51",
   "metadata": {},
   "outputs": [],
   "source": [
    "df['Description'] = df['Description'].apply(lambda tokens: ' '.join(bigram[tokens]))"
   ]
  },
  {
   "cell_type": "markdown",
   "id": "9f761b0c",
   "metadata": {},
   "source": [
    "###### Intializing the CountVectorizer (BOW)"
   ]
  },
  {
   "cell_type": "code",
   "execution_count": 26,
   "id": "791691ce",
   "metadata": {},
   "outputs": [],
   "source": [
    "vectorizer = CountVectorizer(stop_words=[\"show_less\"], max_df = .95, min_df = .01)"
   ]
  },
  {
   "cell_type": "code",
   "execution_count": 27,
   "id": "550ad24d",
   "metadata": {},
   "outputs": [],
   "source": [
    "with open('vectorizer.pkl', 'wb') as f:\n",
    "    pickle.dump(vectorizer, f)"
   ]
  },
  {
   "cell_type": "markdown",
   "id": "1ccb2749",
   "metadata": {},
   "source": [
    "###### Fitting the CountVectorizer(BOW); Setting Max_DF relatively low because common words not likely to be instructive for prediction"
   ]
  },
  {
   "cell_type": "code",
   "execution_count": 28,
   "id": "653aa346",
   "metadata": {},
   "outputs": [
    {
     "data": {
      "text/html": [
       "<style>#sk-container-id-1 {color: black;}#sk-container-id-1 pre{padding: 0;}#sk-container-id-1 div.sk-toggleable {background-color: white;}#sk-container-id-1 label.sk-toggleable__label {cursor: pointer;display: block;width: 100%;margin-bottom: 0;padding: 0.3em;box-sizing: border-box;text-align: center;}#sk-container-id-1 label.sk-toggleable__label-arrow:before {content: \"▸\";float: left;margin-right: 0.25em;color: #696969;}#sk-container-id-1 label.sk-toggleable__label-arrow:hover:before {color: black;}#sk-container-id-1 div.sk-estimator:hover label.sk-toggleable__label-arrow:before {color: black;}#sk-container-id-1 div.sk-toggleable__content {max-height: 0;max-width: 0;overflow: hidden;text-align: left;background-color: #f0f8ff;}#sk-container-id-1 div.sk-toggleable__content pre {margin: 0.2em;color: black;border-radius: 0.25em;background-color: #f0f8ff;}#sk-container-id-1 input.sk-toggleable__control:checked~div.sk-toggleable__content {max-height: 200px;max-width: 100%;overflow: auto;}#sk-container-id-1 input.sk-toggleable__control:checked~label.sk-toggleable__label-arrow:before {content: \"▾\";}#sk-container-id-1 div.sk-estimator input.sk-toggleable__control:checked~label.sk-toggleable__label {background-color: #d4ebff;}#sk-container-id-1 div.sk-label input.sk-toggleable__control:checked~label.sk-toggleable__label {background-color: #d4ebff;}#sk-container-id-1 input.sk-hidden--visually {border: 0;clip: rect(1px 1px 1px 1px);clip: rect(1px, 1px, 1px, 1px);height: 1px;margin: -1px;overflow: hidden;padding: 0;position: absolute;width: 1px;}#sk-container-id-1 div.sk-estimator {font-family: monospace;background-color: #f0f8ff;border: 1px dotted black;border-radius: 0.25em;box-sizing: border-box;margin-bottom: 0.5em;}#sk-container-id-1 div.sk-estimator:hover {background-color: #d4ebff;}#sk-container-id-1 div.sk-parallel-item::after {content: \"\";width: 100%;border-bottom: 1px solid gray;flex-grow: 1;}#sk-container-id-1 div.sk-label:hover label.sk-toggleable__label {background-color: #d4ebff;}#sk-container-id-1 div.sk-serial::before {content: \"\";position: absolute;border-left: 1px solid gray;box-sizing: border-box;top: 0;bottom: 0;left: 50%;z-index: 0;}#sk-container-id-1 div.sk-serial {display: flex;flex-direction: column;align-items: center;background-color: white;padding-right: 0.2em;padding-left: 0.2em;position: relative;}#sk-container-id-1 div.sk-item {position: relative;z-index: 1;}#sk-container-id-1 div.sk-parallel {display: flex;align-items: stretch;justify-content: center;background-color: white;position: relative;}#sk-container-id-1 div.sk-item::before, #sk-container-id-1 div.sk-parallel-item::before {content: \"\";position: absolute;border-left: 1px solid gray;box-sizing: border-box;top: 0;bottom: 0;left: 50%;z-index: -1;}#sk-container-id-1 div.sk-parallel-item {display: flex;flex-direction: column;z-index: 1;position: relative;background-color: white;}#sk-container-id-1 div.sk-parallel-item:first-child::after {align-self: flex-end;width: 50%;}#sk-container-id-1 div.sk-parallel-item:last-child::after {align-self: flex-start;width: 50%;}#sk-container-id-1 div.sk-parallel-item:only-child::after {width: 0;}#sk-container-id-1 div.sk-dashed-wrapped {border: 1px dashed gray;margin: 0 0.4em 0.5em 0.4em;box-sizing: border-box;padding-bottom: 0.4em;background-color: white;}#sk-container-id-1 div.sk-label label {font-family: monospace;font-weight: bold;display: inline-block;line-height: 1.2em;}#sk-container-id-1 div.sk-label-container {text-align: center;}#sk-container-id-1 div.sk-container {/* jupyter's `normalize.less` sets `[hidden] { display: none; }` but bootstrap.min.css set `[hidden] { display: none !important; }` so we also need the `!important` here to be able to override the default hidden behavior on the sphinx rendered scikit-learn.org. See: https://github.com/scikit-learn/scikit-learn/issues/21755 */display: inline-block !important;position: relative;}#sk-container-id-1 div.sk-text-repr-fallback {display: none;}</style><div id=\"sk-container-id-1\" class=\"sk-top-container\"><div class=\"sk-text-repr-fallback\"><pre>CountVectorizer(max_df=0.95, min_df=0.01, stop_words=[&#x27;show_less&#x27;])</pre><b>In a Jupyter environment, please rerun this cell to show the HTML representation or trust the notebook. <br />On GitHub, the HTML representation is unable to render, please try loading this page with nbviewer.org.</b></div><div class=\"sk-container\" hidden><div class=\"sk-item\"><div class=\"sk-estimator sk-toggleable\"><input class=\"sk-toggleable__control sk-hidden--visually\" id=\"sk-estimator-id-1\" type=\"checkbox\" checked><label for=\"sk-estimator-id-1\" class=\"sk-toggleable__label sk-toggleable__label-arrow\">CountVectorizer</label><div class=\"sk-toggleable__content\"><pre>CountVectorizer(max_df=0.95, min_df=0.01, stop_words=[&#x27;show_less&#x27;])</pre></div></div></div></div></div>"
      ],
      "text/plain": [
       "CountVectorizer(max_df=0.95, min_df=0.01, stop_words=['show_less'])"
      ]
     },
     "execution_count": 28,
     "metadata": {},
     "output_type": "execute_result"
    }
   ],
   "source": [
    "vectorizer.fit(df[\"Description\"])"
   ]
  },
  {
   "cell_type": "markdown",
   "id": "3ea0ba88",
   "metadata": {},
   "source": [
    "###### Transforming"
   ]
  },
  {
   "cell_type": "code",
   "execution_count": 29,
   "id": "4c317969",
   "metadata": {},
   "outputs": [],
   "source": [
    "transformed_df = vectorizer.transform(df[\"Description\"])"
   ]
  },
  {
   "cell_type": "markdown",
   "id": "92c21616",
   "metadata": {},
   "source": [
    "###### Rejoining the Dataframe"
   ]
  },
  {
   "cell_type": "code",
   "execution_count": 30,
   "id": "5239a7f8",
   "metadata": {},
   "outputs": [],
   "source": [
    "df_bow = pd.DataFrame(transformed_df.toarray(), columns=vectorizer.get_feature_names_out())"
   ]
  },
  {
   "cell_type": "code",
   "execution_count": 31,
   "id": "1c6a94ed",
   "metadata": {},
   "outputs": [],
   "source": [
    "word_counts = df_bow.sum()"
   ]
  },
  {
   "cell_type": "markdown",
   "id": "3a440a38",
   "metadata": {},
   "source": [
    "###### Reseting Indexes to Prepare to Recombine"
   ]
  },
  {
   "cell_type": "code",
   "execution_count": 32,
   "id": "5c9fb87b",
   "metadata": {},
   "outputs": [],
   "source": [
    "df.reset_index(drop=True, inplace=True)\n",
    "df_bow.reset_index(drop=True, inplace=True)"
   ]
  },
  {
   "cell_type": "markdown",
   "id": "4db7fa4c",
   "metadata": {},
   "source": [
    "###### Combining the DF's"
   ]
  },
  {
   "cell_type": "code",
   "execution_count": 33,
   "id": "ce072a05",
   "metadata": {},
   "outputs": [],
   "source": [
    "df_combined = pd.concat([df.drop('Description', axis=1), df_bow], axis=1)"
   ]
  },
  {
   "cell_type": "markdown",
   "id": "254767c1",
   "metadata": {},
   "source": [
    "###### Dropping Irrelevent Features"
   ]
  },
  {
   "cell_type": "code",
   "execution_count": 34,
   "id": "db8affbf",
   "metadata": {},
   "outputs": [],
   "source": [
    "df_combined.drop([\"INTERESTED\",\"FAVORITE\",\"SOURCE\",\"URL\", \"HOA/MONTH\",\"DAYS ON MARKET\",\"NEXT OPEN HOUSE START TIME\", \"NEXT OPEN HOUSE END TIME\"], axis=1 , inplace = True)"
   ]
  },
  {
   "cell_type": "code",
   "execution_count": 35,
   "id": "96263f49",
   "metadata": {},
   "outputs": [
    {
     "data": {
      "text/plain": [
       "SALE TYPE                0\n",
       "SOLD DATE              225\n",
       "PROPERTY TYPE            0\n",
       "ADDRESS                  0\n",
       "CITY                     0\n",
       "STATE OR PROVINCE        0\n",
       "ZIP OR POSTAL CODE       0\n",
       "PRICE                    0\n",
       "BEDS                    12\n",
       "BATHS                   12\n",
       "LOCATION               225\n",
       "SQUARE FEET              8\n",
       "LOT SIZE              1198\n",
       "YEAR BUILT              14\n",
       "$/SQUARE FEET            9\n",
       "STATUS                 225\n",
       "MLS#                   225\n",
       "LATITUDE                 0\n",
       "LONGITUDE                0\n",
       "dtype: int64"
      ]
     },
     "execution_count": 35,
     "metadata": {},
     "output_type": "execute_result"
    }
   ],
   "source": [
    "df_combined.iloc[:,:19].isna().sum()"
   ]
  },
  {
   "cell_type": "markdown",
   "id": "a0ea91d2",
   "metadata": {},
   "source": [
    "###### Filtering Out Multifamily Properties"
   ]
  },
  {
   "cell_type": "code",
   "execution_count": 36,
   "id": "714a9638",
   "metadata": {},
   "outputs": [],
   "source": [
    "property_types = [\"Single Family Residential\", \"Condo/Co-op\", \"Townhouse\"]\n",
    "df_filtered = df_combined[df_combined[\"PROPERTY TYPE\"].isin(property_types)]"
   ]
  },
  {
   "cell_type": "markdown",
   "id": "aa8e22e6",
   "metadata": {},
   "source": [
    "### NLP Preprocessing is Complete"
   ]
  },
  {
   "cell_type": "markdown",
   "id": "473880c6",
   "metadata": {},
   "source": [
    "###### Imputing Lotsizes "
   ]
  },
  {
   "cell_type": "code",
   "execution_count": 37,
   "id": "5beeeb33",
   "metadata": {},
   "outputs": [
    {
     "name": "stdout",
     "output_type": "stream",
     "text": [
      "Missing 'LOT SIZE' values after imputation: 1\n"
     ]
    }
   ],
   "source": [
    "#FOR SFH we're imputing based on the mean lot size to square footage ratio. Otherwise, we can assume lot size and square footage are roughly equal in attached product.\n",
    "sfh_average_ratio = df_filtered[df_filtered['PROPERTY TYPE'] == 'Single Family Residential']['SQUARE FEET'].mean() / df_filtered[df_filtered['PROPERTY TYPE'] == 'Single Family Residential']['LOT SIZE'].mean()\n",
    "\n",
    "for index, row in df_filtered.iterrows():\n",
    "    if pd.isna(row['LOT SIZE']):\n",
    "        if row['PROPERTY TYPE'] in ['Condo/Co-op', 'Townhouse']:\n",
    "            df_filtered.at[index, 'LOT SIZE'] = row['SQUARE FEET']\n",
    "        elif row['PROPERTY TYPE'] == 'Single Family Residential' and not pd.isna(row['SQUARE FEET']):\n",
    "            imputed_lot_size = row['SQUARE FEET'] / sfh_average_ratio\n",
    "            df_filtered.at[index, 'LOT SIZE'] = imputed_lot_size\n",
    "\n",
    "\n",
    "missing_lot_size_count = df_filtered['LOT SIZE'].isna().sum()\n",
    "print(f\"Missing 'LOT SIZE' values after imputation: {missing_lot_size_count}\")\n"
   ]
  },
  {
   "cell_type": "markdown",
   "id": "a5d0ed0c",
   "metadata": {},
   "source": [
    "###### Dropping any NA's in the BATHS Column"
   ]
  },
  {
   "cell_type": "code",
   "execution_count": 38,
   "id": "61af724d",
   "metadata": {},
   "outputs": [],
   "source": [
    "df_filtered = df_filtered.dropna(subset=[\"BATHS\"])"
   ]
  },
  {
   "cell_type": "code",
   "execution_count": 39,
   "id": "2036976b",
   "metadata": {},
   "outputs": [
    {
     "data": {
      "text/plain": [
       "SALE TYPE               0\n",
       "SOLD DATE             218\n",
       "PROPERTY TYPE           0\n",
       "ADDRESS                 0\n",
       "CITY                    0\n",
       "STATE OR PROVINCE       0\n",
       "ZIP OR POSTAL CODE      0\n",
       "PRICE                   0\n",
       "BEDS                    5\n",
       "BATHS                   0\n",
       "LOCATION              218\n",
       "SQUARE FEET             1\n",
       "LOT SIZE                1\n",
       "YEAR BUILT              7\n",
       "$/SQUARE FEET           2\n",
       "STATUS                218\n",
       "MLS#                  218\n",
       "LATITUDE                0\n",
       "LONGITUDE               0\n",
       "12_bath                 0\n",
       "dtype: int64"
      ]
     },
     "execution_count": 39,
     "metadata": {},
     "output_type": "execute_result"
    }
   ],
   "source": [
    "df_filtered.iloc[:, :20].isna().sum()"
   ]
  },
  {
   "cell_type": "markdown",
   "id": "f5d6c86a",
   "metadata": {},
   "source": [
    "###### Dropping BOW that include digits"
   ]
  },
  {
   "cell_type": "code",
   "execution_count": 40,
   "id": "35399acf",
   "metadata": {},
   "outputs": [],
   "source": [
    "columns_to_drop = [col for col in df_filtered.columns if col.isdigit()]\n",
    "df_filtered = df_filtered.drop(columns=columns_to_drop)\n"
   ]
  },
  {
   "cell_type": "markdown",
   "id": "255cbe92",
   "metadata": {},
   "source": [
    "###### Dropping $/Square Feet because it will provide info on the target variable"
   ]
  },
  {
   "cell_type": "code",
   "execution_count": 41,
   "id": "7e1f589b",
   "metadata": {},
   "outputs": [],
   "source": [
    "df_preprocessed = df_filtered.drop([\"$/SQUARE FEET\"], axis=1)"
   ]
  },
  {
   "cell_type": "markdown",
   "id": "9e9b60d4",
   "metadata": {},
   "source": [
    "###### Filtering to ensure all entries are from the City of Seattle"
   ]
  },
  {
   "cell_type": "code",
   "execution_count": 42,
   "id": "7dd2ade5",
   "metadata": {},
   "outputs": [],
   "source": [
    "df_preprocessed = df_preprocessed[df_preprocessed[\"CITY\"] == \"Seattle\"]"
   ]
  },
  {
   "cell_type": "markdown",
   "id": "174e3b72",
   "metadata": {},
   "source": [
    "###### Dropping Other Irrelevent Columns"
   ]
  },
  {
   "cell_type": "code",
   "execution_count": 43,
   "id": "853b1223",
   "metadata": {},
   "outputs": [],
   "source": [
    "df_preprocessed.drop([\"STATE OR PROVINCE\", \"MLS#\", \"LONGITUDE\", \"LATITUDE\", \"STATUS\",\"ADDRESS\",\"CITY\"], axis=1, inplace=True)"
   ]
  },
  {
   "cell_type": "markdown",
   "id": "661533fb",
   "metadata": {},
   "source": [
    "###### Filtering out obscure Locations/Gated Communities"
   ]
  },
  {
   "cell_type": "code",
   "execution_count": 44,
   "id": "fcfcb775",
   "metadata": {},
   "outputs": [],
   "source": [
    "\n",
    "value_counts = df_preprocessed['LOCATION'].value_counts()\n",
    "\n",
    "categories_to_keep = value_counts[value_counts > 6].index\n",
    "\n",
    "df_preprocessed = df_preprocessed[df_preprocessed['LOCATION'].isin(categories_to_keep)]\n"
   ]
  },
  {
   "cell_type": "markdown",
   "id": "84ac71c6",
   "metadata": {},
   "source": [
    "###### Creating A Quarter and Year Column"
   ]
  },
  {
   "cell_type": "code",
   "execution_count": 45,
   "id": "9e1e11d9",
   "metadata": {},
   "outputs": [],
   "source": [
    "df_preprocessed['SOLD DATE'] = pd.to_datetime(df_preprocessed['SOLD DATE'], format='%B-%d-%Y')\n",
    "\n",
    "df_preprocessed['Quarter'] = df_preprocessed['SOLD DATE'].dt.quarter\n",
    "df_preprocessed['Year'] = df_preprocessed['SOLD DATE'].dt.year"
   ]
  },
  {
   "cell_type": "markdown",
   "id": "dde9b3a1",
   "metadata": {},
   "source": [
    "###### Substituting the Age of the Property instead of Year Built"
   ]
  },
  {
   "cell_type": "code",
   "execution_count": 46,
   "id": "5d0d98e8",
   "metadata": {},
   "outputs": [],
   "source": [
    "df_preprocessed['Age'] = 2023 - df_preprocessed[\"YEAR BUILT\"]"
   ]
  },
  {
   "cell_type": "markdown",
   "id": "41b7777b",
   "metadata": {},
   "source": [
    "###### Reinsating the new columns at the beginning of the Data Frame"
   ]
  },
  {
   "cell_type": "code",
   "execution_count": 47,
   "id": "d7e82981",
   "metadata": {},
   "outputs": [],
   "source": [
    "columns = list(df_preprocessed.columns)\n",
    "columns.remove('Quarter')\n",
    "columns.remove('Year')\n",
    "columns.remove('Age')\n",
    "df_preprocessed = df_preprocessed[['Quarter', 'Year', 'Age'] + columns]"
   ]
  },
  {
   "cell_type": "markdown",
   "id": "2c358568",
   "metadata": {},
   "source": [
    "###### Dropping Year Built"
   ]
  },
  {
   "cell_type": "code",
   "execution_count": 48,
   "id": "ba2a0e55",
   "metadata": {},
   "outputs": [],
   "source": [
    "df_preprocessed.drop(\"YEAR BUILT\", axis=1, inplace=True)\n",
    "df_preprocessed.reset_index(drop=True, inplace=True)"
   ]
  },
  {
   "cell_type": "markdown",
   "id": "fe6565e5",
   "metadata": {},
   "source": [
    "## Time to Machine Learn"
   ]
  },
  {
   "cell_type": "code",
   "execution_count": 314,
   "id": "5c5b2d23",
   "metadata": {},
   "outputs": [],
   "source": [
    "import numpy as np\n",
    "from sklearn.model_selection import train_test_split\n",
    "from sklearn.preprocessing import StandardScaler, OneHotEncoder\n",
    "from sklearn.compose import ColumnTransformer\n",
    "from sklearn.pipeline import Pipeline\n",
    "import xgboost as xgb \n",
    "from sklearn.metrics import mean_absolute_error, mean_squared_error, r2_score\n",
    "from sklearn.model_selection import GridSearchCV\n",
    "from sklearn.ensemble import RandomForestRegressor\n",
    "from sklearn.tree import DecisionTreeRegressor\n",
    "from sklearn.impute import SimpleImputer\n",
    "from xgboost import XGBRegressor\n",
    "from sklearn.ensemble import StackingRegressor\n",
    "from sklearn.svm import SVR"
   ]
  },
  {
   "cell_type": "code",
   "execution_count": 249,
   "id": "eb2d0d9d",
   "metadata": {},
   "outputs": [
    {
     "data": {
      "text/plain": [
       "16200000.0"
      ]
     },
     "execution_count": 249,
     "metadata": {},
     "output_type": "execute_result"
    }
   ],
   "source": [
    "df_preprocessed[\"PRICE\"].max()"
   ]
  },
  {
   "cell_type": "code",
   "execution_count": 379,
   "id": "2b7191b7",
   "metadata": {},
   "outputs": [
    {
     "data": {
      "text/html": [
       "<div>\n",
       "<style scoped>\n",
       "    .dataframe tbody tr th:only-of-type {\n",
       "        vertical-align: middle;\n",
       "    }\n",
       "\n",
       "    .dataframe tbody tr th {\n",
       "        vertical-align: top;\n",
       "    }\n",
       "\n",
       "    .dataframe thead th {\n",
       "        text-align: right;\n",
       "    }\n",
       "</style>\n",
       "<table border=\"1\" class=\"dataframe\">\n",
       "  <thead>\n",
       "    <tr style=\"text-align: right;\">\n",
       "      <th></th>\n",
       "      <th>Quarter</th>\n",
       "      <th>Year</th>\n",
       "      <th>Age</th>\n",
       "      <th>SALE TYPE</th>\n",
       "      <th>SOLD DATE</th>\n",
       "      <th>PROPERTY TYPE</th>\n",
       "      <th>ZIP OR POSTAL CODE</th>\n",
       "      <th>PRICE</th>\n",
       "      <th>BEDS</th>\n",
       "      <th>BATHS</th>\n",
       "      <th>LOCATION</th>\n",
       "      <th>SQUARE FEET</th>\n",
       "      <th>LOT SIZE</th>\n",
       "    </tr>\n",
       "  </thead>\n",
       "  <tbody>\n",
       "    <tr>\n",
       "      <th>0</th>\n",
       "      <td>2</td>\n",
       "      <td>2023</td>\n",
       "      <td>83.0</td>\n",
       "      <td>PAST SALE</td>\n",
       "      <td>2023-05-30</td>\n",
       "      <td>Single Family Residential</td>\n",
       "      <td>98103.0</td>\n",
       "      <td>690000.0</td>\n",
       "      <td>2.0</td>\n",
       "      <td>1.0</td>\n",
       "      <td>Greenwood</td>\n",
       "      <td>730.0</td>\n",
       "      <td>5663.0</td>\n",
       "    </tr>\n",
       "    <tr>\n",
       "      <th>1</th>\n",
       "      <td>3</td>\n",
       "      <td>2023</td>\n",
       "      <td>99.0</td>\n",
       "      <td>PAST SALE</td>\n",
       "      <td>2023-09-22</td>\n",
       "      <td>Single Family Residential</td>\n",
       "      <td>98103.0</td>\n",
       "      <td>900000.0</td>\n",
       "      <td>2.0</td>\n",
       "      <td>1.5</td>\n",
       "      <td>Wallingford</td>\n",
       "      <td>1860.0</td>\n",
       "      <td>3333.0</td>\n",
       "    </tr>\n",
       "    <tr>\n",
       "      <th>2</th>\n",
       "      <td>4</td>\n",
       "      <td>2023</td>\n",
       "      <td>36.0</td>\n",
       "      <td>PAST SALE</td>\n",
       "      <td>2023-10-27</td>\n",
       "      <td>Condo/Co-op</td>\n",
       "      <td>98103.0</td>\n",
       "      <td>410000.0</td>\n",
       "      <td>2.0</td>\n",
       "      <td>2.0</td>\n",
       "      <td>Greenwood</td>\n",
       "      <td>843.0</td>\n",
       "      <td>843.0</td>\n",
       "    </tr>\n",
       "    <tr>\n",
       "      <th>3</th>\n",
       "      <td>3</td>\n",
       "      <td>2023</td>\n",
       "      <td>16.0</td>\n",
       "      <td>PAST SALE</td>\n",
       "      <td>2023-07-20</td>\n",
       "      <td>Condo/Co-op</td>\n",
       "      <td>98103.0</td>\n",
       "      <td>515000.0</td>\n",
       "      <td>1.0</td>\n",
       "      <td>1.0</td>\n",
       "      <td>Phinney Ridge</td>\n",
       "      <td>737.0</td>\n",
       "      <td>737.0</td>\n",
       "    </tr>\n",
       "    <tr>\n",
       "      <th>4</th>\n",
       "      <td>2</td>\n",
       "      <td>2023</td>\n",
       "      <td>25.0</td>\n",
       "      <td>PAST SALE</td>\n",
       "      <td>2023-05-26</td>\n",
       "      <td>Condo/Co-op</td>\n",
       "      <td>98103.0</td>\n",
       "      <td>398500.0</td>\n",
       "      <td>1.0</td>\n",
       "      <td>1.0</td>\n",
       "      <td>Greenwood</td>\n",
       "      <td>832.0</td>\n",
       "      <td>832.0</td>\n",
       "    </tr>\n",
       "    <tr>\n",
       "      <th>...</th>\n",
       "      <td>...</td>\n",
       "      <td>...</td>\n",
       "      <td>...</td>\n",
       "      <td>...</td>\n",
       "      <td>...</td>\n",
       "      <td>...</td>\n",
       "      <td>...</td>\n",
       "      <td>...</td>\n",
       "      <td>...</td>\n",
       "      <td>...</td>\n",
       "      <td>...</td>\n",
       "      <td>...</td>\n",
       "      <td>...</td>\n",
       "    </tr>\n",
       "    <tr>\n",
       "      <th>5163</th>\n",
       "      <td>4</td>\n",
       "      <td>2022</td>\n",
       "      <td>28.0</td>\n",
       "      <td>PAST SALE</td>\n",
       "      <td>2022-11-09</td>\n",
       "      <td>Condo/Co-op</td>\n",
       "      <td>98133.0</td>\n",
       "      <td>430000.0</td>\n",
       "      <td>2.0</td>\n",
       "      <td>2.0</td>\n",
       "      <td>Greenwood</td>\n",
       "      <td>903.0</td>\n",
       "      <td>903.0</td>\n",
       "    </tr>\n",
       "    <tr>\n",
       "      <th>5164</th>\n",
       "      <td>2</td>\n",
       "      <td>2023</td>\n",
       "      <td>0.0</td>\n",
       "      <td>PAST SALE</td>\n",
       "      <td>2023-04-20</td>\n",
       "      <td>Townhouse</td>\n",
       "      <td>98177.0</td>\n",
       "      <td>622500.0</td>\n",
       "      <td>2.0</td>\n",
       "      <td>2.0</td>\n",
       "      <td>Crown Hill</td>\n",
       "      <td>1320.0</td>\n",
       "      <td>946.0</td>\n",
       "    </tr>\n",
       "    <tr>\n",
       "      <th>5165</th>\n",
       "      <td>2</td>\n",
       "      <td>2023</td>\n",
       "      <td>6.0</td>\n",
       "      <td>PAST SALE</td>\n",
       "      <td>2023-05-04</td>\n",
       "      <td>Townhouse</td>\n",
       "      <td>98133.0</td>\n",
       "      <td>550000.0</td>\n",
       "      <td>2.0</td>\n",
       "      <td>2.0</td>\n",
       "      <td>Haller Lake</td>\n",
       "      <td>1160.0</td>\n",
       "      <td>703.0</td>\n",
       "    </tr>\n",
       "    <tr>\n",
       "      <th>5166</th>\n",
       "      <td>4</td>\n",
       "      <td>2022</td>\n",
       "      <td>1.0</td>\n",
       "      <td>PAST SALE</td>\n",
       "      <td>2022-12-06</td>\n",
       "      <td>Single Family Residential</td>\n",
       "      <td>98117.0</td>\n",
       "      <td>755000.0</td>\n",
       "      <td>2.0</td>\n",
       "      <td>2.0</td>\n",
       "      <td>Bitter Lake</td>\n",
       "      <td>1288.0</td>\n",
       "      <td>5365.0</td>\n",
       "    </tr>\n",
       "    <tr>\n",
       "      <th>5167</th>\n",
       "      <td>1</td>\n",
       "      <td>2023</td>\n",
       "      <td>23.0</td>\n",
       "      <td>PAST SALE</td>\n",
       "      <td>2023-02-28</td>\n",
       "      <td>Condo/Co-op</td>\n",
       "      <td>98133.0</td>\n",
       "      <td>277000.0</td>\n",
       "      <td>1.0</td>\n",
       "      <td>1.0</td>\n",
       "      <td>Seattle</td>\n",
       "      <td>626.0</td>\n",
       "      <td>626.0</td>\n",
       "    </tr>\n",
       "  </tbody>\n",
       "</table>\n",
       "<p>5137 rows × 13 columns</p>\n",
       "</div>"
      ],
      "text/plain": [
       "      Quarter  Year   Age  SALE TYPE  SOLD DATE              PROPERTY TYPE  \\\n",
       "0           2  2023  83.0  PAST SALE 2023-05-30  Single Family Residential   \n",
       "1           3  2023  99.0  PAST SALE 2023-09-22  Single Family Residential   \n",
       "2           4  2023  36.0  PAST SALE 2023-10-27                Condo/Co-op   \n",
       "3           3  2023  16.0  PAST SALE 2023-07-20                Condo/Co-op   \n",
       "4           2  2023  25.0  PAST SALE 2023-05-26                Condo/Co-op   \n",
       "...       ...   ...   ...        ...        ...                        ...   \n",
       "5163        4  2022  28.0  PAST SALE 2022-11-09                Condo/Co-op   \n",
       "5164        2  2023   0.0  PAST SALE 2023-04-20                  Townhouse   \n",
       "5165        2  2023   6.0  PAST SALE 2023-05-04                  Townhouse   \n",
       "5166        4  2022   1.0  PAST SALE 2022-12-06  Single Family Residential   \n",
       "5167        1  2023  23.0  PAST SALE 2023-02-28                Condo/Co-op   \n",
       "\n",
       "      ZIP OR POSTAL CODE     PRICE  BEDS  BATHS       LOCATION  SQUARE FEET  \\\n",
       "0                98103.0  690000.0   2.0    1.0      Greenwood        730.0   \n",
       "1                98103.0  900000.0   2.0    1.5    Wallingford       1860.0   \n",
       "2                98103.0  410000.0   2.0    2.0      Greenwood        843.0   \n",
       "3                98103.0  515000.0   1.0    1.0  Phinney Ridge        737.0   \n",
       "4                98103.0  398500.0   1.0    1.0      Greenwood        832.0   \n",
       "...                  ...       ...   ...    ...            ...          ...   \n",
       "5163             98133.0  430000.0   2.0    2.0      Greenwood        903.0   \n",
       "5164             98177.0  622500.0   2.0    2.0     Crown Hill       1320.0   \n",
       "5165             98133.0  550000.0   2.0    2.0    Haller Lake       1160.0   \n",
       "5166             98117.0  755000.0   2.0    2.0    Bitter Lake       1288.0   \n",
       "5167             98133.0  277000.0   1.0    1.0        Seattle        626.0   \n",
       "\n",
       "      LOT SIZE  \n",
       "0       5663.0  \n",
       "1       3333.0  \n",
       "2        843.0  \n",
       "3        737.0  \n",
       "4        832.0  \n",
       "...        ...  \n",
       "5163     903.0  \n",
       "5164     946.0  \n",
       "5165     703.0  \n",
       "5166    5365.0  \n",
       "5167     626.0  \n",
       "\n",
       "[5137 rows x 13 columns]"
      ]
     },
     "execution_count": 379,
     "metadata": {},
     "output_type": "execute_result"
    }
   ],
   "source": [
    "df_preprocessed.iloc[:,:13]"
   ]
  },
  {
   "cell_type": "code",
   "execution_count": 386,
   "id": "3dde8a94",
   "metadata": {},
   "outputs": [
    {
     "data": {
      "text/plain": [
       "0       98103.0\n",
       "1       98103.0\n",
       "2       98103.0\n",
       "3       98103.0\n",
       "4       98103.0\n",
       "         ...   \n",
       "6303    98133.0\n",
       "6304    98177.0\n",
       "6305    98133.0\n",
       "6306    98117.0\n",
       "6307    98133.0\n",
       "Name: ZIP OR POSTAL CODE, Length: 6308, dtype: float64"
      ]
     },
     "execution_count": 386,
     "metadata": {},
     "output_type": "execute_result"
    }
   ],
   "source": []
  },
  {
   "cell_type": "markdown",
   "id": "ded011fe",
   "metadata": {},
   "source": [
    "###### Filtering Out Large Outliers"
   ]
  },
  {
   "cell_type": "code",
   "execution_count": 2,
   "id": "9190714b",
   "metadata": {},
   "outputs": [
    {
     "ename": "NameError",
     "evalue": "name 'np' is not defined",
     "output_type": "error",
     "traceback": [
      "\u001b[1;31m---------------------------------------------------------------------------\u001b[0m",
      "\u001b[1;31mNameError\u001b[0m                                 Traceback (most recent call last)",
      "\u001b[1;32m<ipython-input-2-10dd89c6b032>\u001b[0m in \u001b[0;36m<module>\u001b[1;34m\u001b[0m\n\u001b[1;32m----> 1\u001b[1;33m \u001b[0mdf_preprocessed\u001b[0m\u001b[1;33m[\u001b[0m\u001b[1;34m'Z_Price'\u001b[0m\u001b[1;33m]\u001b[0m \u001b[1;33m=\u001b[0m \u001b[0mnp\u001b[0m\u001b[1;33m.\u001b[0m\u001b[0mabs\u001b[0m\u001b[1;33m(\u001b[0m\u001b[1;33m(\u001b[0m\u001b[0mdf_preprocessed\u001b[0m\u001b[1;33m[\u001b[0m\u001b[1;34m'PRICE'\u001b[0m\u001b[1;33m]\u001b[0m \u001b[1;33m-\u001b[0m \u001b[0mdf_preprocessed\u001b[0m\u001b[1;33m[\u001b[0m\u001b[1;34m'PRICE'\u001b[0m\u001b[1;33m]\u001b[0m\u001b[1;33m.\u001b[0m\u001b[0mmean\u001b[0m\u001b[1;33m(\u001b[0m\u001b[1;33m)\u001b[0m\u001b[1;33m)\u001b[0m \u001b[1;33m/\u001b[0m \u001b[0mdf_preprocessed\u001b[0m\u001b[1;33m[\u001b[0m\u001b[1;34m'PRICE'\u001b[0m\u001b[1;33m]\u001b[0m\u001b[1;33m.\u001b[0m\u001b[0mstd\u001b[0m\u001b[1;33m(\u001b[0m\u001b[1;33m)\u001b[0m\u001b[1;33m)\u001b[0m\u001b[1;33m\u001b[0m\u001b[1;33m\u001b[0m\u001b[0m\n\u001b[0m\u001b[0;32m      2\u001b[0m \u001b[0mdf_preprocessed\u001b[0m\u001b[1;33m[\u001b[0m\u001b[1;34m'Z_LotSize'\u001b[0m\u001b[1;33m]\u001b[0m \u001b[1;33m=\u001b[0m \u001b[0mnp\u001b[0m\u001b[1;33m.\u001b[0m\u001b[0mabs\u001b[0m\u001b[1;33m(\u001b[0m\u001b[1;33m(\u001b[0m\u001b[0mdf_preprocessed\u001b[0m\u001b[1;33m[\u001b[0m\u001b[1;34m'LOT SIZE'\u001b[0m\u001b[1;33m]\u001b[0m \u001b[1;33m-\u001b[0m \u001b[0mdf_preprocessed\u001b[0m\u001b[1;33m[\u001b[0m\u001b[1;34m'LOT SIZE'\u001b[0m\u001b[1;33m]\u001b[0m\u001b[1;33m.\u001b[0m\u001b[0mmean\u001b[0m\u001b[1;33m(\u001b[0m\u001b[1;33m)\u001b[0m\u001b[1;33m)\u001b[0m \u001b[1;33m/\u001b[0m \u001b[0mdf_preprocessed\u001b[0m\u001b[1;33m[\u001b[0m\u001b[1;34m'LOT SIZE'\u001b[0m\u001b[1;33m]\u001b[0m\u001b[1;33m.\u001b[0m\u001b[0mstd\u001b[0m\u001b[1;33m(\u001b[0m\u001b[1;33m)\u001b[0m\u001b[1;33m)\u001b[0m\u001b[1;33m\u001b[0m\u001b[1;33m\u001b[0m\u001b[0m\n\u001b[0;32m      3\u001b[0m \u001b[0mdf_preprocessed\u001b[0m \u001b[1;33m=\u001b[0m \u001b[0mdf_preprocessed\u001b[0m\u001b[1;33m[\u001b[0m\u001b[1;33m(\u001b[0m\u001b[0mdf_preprocessed\u001b[0m\u001b[1;33m[\u001b[0m\u001b[1;34m'Z_Price'\u001b[0m\u001b[1;33m]\u001b[0m \u001b[1;33m<\u001b[0m \u001b[1;36m7\u001b[0m\u001b[1;33m)\u001b[0m \u001b[1;33m&\u001b[0m \u001b[1;33m(\u001b[0m\u001b[0mdf_preprocessed\u001b[0m\u001b[1;33m[\u001b[0m\u001b[1;34m'Z_LotSize'\u001b[0m\u001b[1;33m]\u001b[0m \u001b[1;33m<\u001b[0m \u001b[1;36m4\u001b[0m\u001b[1;33m)\u001b[0m\u001b[1;33m]\u001b[0m\u001b[1;33m\u001b[0m\u001b[1;33m\u001b[0m\u001b[0m\n\u001b[0;32m      4\u001b[0m \u001b[0mdf_preprocessed\u001b[0m \u001b[1;33m=\u001b[0m \u001b[0mdf_preprocessed\u001b[0m\u001b[1;33m.\u001b[0m\u001b[0mdrop\u001b[0m\u001b[1;33m(\u001b[0m\u001b[0mcolumns\u001b[0m\u001b[1;33m=\u001b[0m\u001b[1;33m[\u001b[0m\u001b[1;34m'Z_Price'\u001b[0m\u001b[1;33m,\u001b[0m \u001b[1;34m'Z_LotSize'\u001b[0m\u001b[1;33m]\u001b[0m\u001b[1;33m)\u001b[0m\u001b[1;33m\u001b[0m\u001b[1;33m\u001b[0m\u001b[0m\n",
      "\u001b[1;31mNameError\u001b[0m: name 'np' is not defined"
     ]
    }
   ],
   "source": [
    "df_preprocessed['Z_Price'] = np.abs((df_preprocessed['PRICE'] - df_preprocessed['PRICE'].mean()) / df_preprocessed['PRICE'].std())\n",
    "df_preprocessed['Z_LotSize'] = np.abs((df_preprocessed['LOT SIZE'] - df_preprocessed['LOT SIZE'].mean()) / df_preprocessed['LOT SIZE'].std())\n",
    "df_preprocessed = df_preprocessed[(df_preprocessed['Z_Price'] < 7) & (df_preprocessed['Z_LotSize'] < 4)]\n",
    "df_preprocessed = df_preprocessed.drop(columns=['Z_Price', 'Z_LotSize'])"
   ]
  },
  {
   "cell_type": "markdown",
   "id": "27d02950",
   "metadata": {},
   "source": [
    "###### Looking at Final Dataset Stats Before Split"
   ]
  },
  {
   "cell_type": "code",
   "execution_count": 253,
   "id": "0b621a7c",
   "metadata": {},
   "outputs": [
    {
     "data": {
      "text/html": [
       "<div>\n",
       "<style scoped>\n",
       "    .dataframe tbody tr th:only-of-type {\n",
       "        vertical-align: middle;\n",
       "    }\n",
       "\n",
       "    .dataframe tbody tr th {\n",
       "        vertical-align: top;\n",
       "    }\n",
       "\n",
       "    .dataframe thead th {\n",
       "        text-align: right;\n",
       "    }\n",
       "</style>\n",
       "<table border=\"1\" class=\"dataframe\">\n",
       "  <thead>\n",
       "    <tr style=\"text-align: right;\">\n",
       "      <th></th>\n",
       "      <th>Quarter</th>\n",
       "      <th>Year</th>\n",
       "      <th>Age</th>\n",
       "      <th>SOLD DATE</th>\n",
       "      <th>ZIP OR POSTAL CODE</th>\n",
       "      <th>PRICE</th>\n",
       "      <th>BEDS</th>\n",
       "      <th>BATHS</th>\n",
       "      <th>SQUARE FEET</th>\n",
       "      <th>LOT SIZE</th>\n",
       "      <th>...</th>\n",
       "      <th>window</th>\n",
       "      <th>wonderful</th>\n",
       "      <th>wood_burn</th>\n",
       "      <th>wood_floor</th>\n",
       "      <th>work</th>\n",
       "      <th>work_home</th>\n",
       "      <th>yard</th>\n",
       "      <th>year</th>\n",
       "      <th>year_round</th>\n",
       "      <th>yet</th>\n",
       "    </tr>\n",
       "  </thead>\n",
       "  <tbody>\n",
       "    <tr>\n",
       "      <th>count</th>\n",
       "      <td>5137.000000</td>\n",
       "      <td>5137.000000</td>\n",
       "      <td>5137.000000</td>\n",
       "      <td>5137</td>\n",
       "      <td>5137.000000</td>\n",
       "      <td>5.137000e+03</td>\n",
       "      <td>5137.000000</td>\n",
       "      <td>5137.000000</td>\n",
       "      <td>5137.000000</td>\n",
       "      <td>5137.000000</td>\n",
       "      <td>...</td>\n",
       "      <td>5137.000000</td>\n",
       "      <td>5137.000000</td>\n",
       "      <td>5137.000000</td>\n",
       "      <td>5137.000000</td>\n",
       "      <td>5137.000000</td>\n",
       "      <td>5137.000000</td>\n",
       "      <td>5137.000000</td>\n",
       "      <td>5137.000000</td>\n",
       "      <td>5137.000000</td>\n",
       "      <td>5137.000000</td>\n",
       "    </tr>\n",
       "    <tr>\n",
       "      <th>mean</th>\n",
       "      <td>2.495815</td>\n",
       "      <td>2022.859256</td>\n",
       "      <td>48.726494</td>\n",
       "      <td>2023-05-12 19:40:25.462332160</td>\n",
       "      <td>98118.723185</td>\n",
       "      <td>9.583315e+05</td>\n",
       "      <td>2.805529</td>\n",
       "      <td>2.115632</td>\n",
       "      <td>1729.580300</td>\n",
       "      <td>4039.244255</td>\n",
       "      <td>...</td>\n",
       "      <td>0.097138</td>\n",
       "      <td>0.030368</td>\n",
       "      <td>0.036792</td>\n",
       "      <td>0.011875</td>\n",
       "      <td>0.024139</td>\n",
       "      <td>0.014211</td>\n",
       "      <td>0.071637</td>\n",
       "      <td>0.017131</td>\n",
       "      <td>0.027643</td>\n",
       "      <td>0.009539</td>\n",
       "    </tr>\n",
       "    <tr>\n",
       "      <th>min</th>\n",
       "      <td>1.000000</td>\n",
       "      <td>2022.000000</td>\n",
       "      <td>-2.000000</td>\n",
       "      <td>2022-10-31 00:00:00</td>\n",
       "      <td>98012.000000</td>\n",
       "      <td>2.025000e+05</td>\n",
       "      <td>0.000000</td>\n",
       "      <td>0.500000</td>\n",
       "      <td>268.000000</td>\n",
       "      <td>1.000000</td>\n",
       "      <td>...</td>\n",
       "      <td>0.000000</td>\n",
       "      <td>0.000000</td>\n",
       "      <td>0.000000</td>\n",
       "      <td>0.000000</td>\n",
       "      <td>0.000000</td>\n",
       "      <td>0.000000</td>\n",
       "      <td>0.000000</td>\n",
       "      <td>0.000000</td>\n",
       "      <td>0.000000</td>\n",
       "      <td>0.000000</td>\n",
       "    </tr>\n",
       "    <tr>\n",
       "      <th>25%</th>\n",
       "      <td>2.000000</td>\n",
       "      <td>2023.000000</td>\n",
       "      <td>7.000000</td>\n",
       "      <td>2023-02-28 00:00:00</td>\n",
       "      <td>98105.000000</td>\n",
       "      <td>6.250000e+05</td>\n",
       "      <td>2.000000</td>\n",
       "      <td>1.500000</td>\n",
       "      <td>1097.000000</td>\n",
       "      <td>1093.000000</td>\n",
       "      <td>...</td>\n",
       "      <td>0.000000</td>\n",
       "      <td>0.000000</td>\n",
       "      <td>0.000000</td>\n",
       "      <td>0.000000</td>\n",
       "      <td>0.000000</td>\n",
       "      <td>0.000000</td>\n",
       "      <td>0.000000</td>\n",
       "      <td>0.000000</td>\n",
       "      <td>0.000000</td>\n",
       "      <td>0.000000</td>\n",
       "    </tr>\n",
       "    <tr>\n",
       "      <th>50%</th>\n",
       "      <td>2.000000</td>\n",
       "      <td>2023.000000</td>\n",
       "      <td>44.000000</td>\n",
       "      <td>2023-05-19 00:00:00</td>\n",
       "      <td>98112.000000</td>\n",
       "      <td>8.200000e+05</td>\n",
       "      <td>3.000000</td>\n",
       "      <td>2.000000</td>\n",
       "      <td>1568.000000</td>\n",
       "      <td>3330.000000</td>\n",
       "      <td>...</td>\n",
       "      <td>0.000000</td>\n",
       "      <td>0.000000</td>\n",
       "      <td>0.000000</td>\n",
       "      <td>0.000000</td>\n",
       "      <td>0.000000</td>\n",
       "      <td>0.000000</td>\n",
       "      <td>0.000000</td>\n",
       "      <td>0.000000</td>\n",
       "      <td>0.000000</td>\n",
       "      <td>0.000000</td>\n",
       "    </tr>\n",
       "    <tr>\n",
       "      <th>75%</th>\n",
       "      <td>3.000000</td>\n",
       "      <td>2023.000000</td>\n",
       "      <td>82.000000</td>\n",
       "      <td>2023-08-02 00:00:00</td>\n",
       "      <td>98117.000000</td>\n",
       "      <td>1.149000e+06</td>\n",
       "      <td>3.000000</td>\n",
       "      <td>2.500000</td>\n",
       "      <td>2213.000000</td>\n",
       "      <td>5580.000000</td>\n",
       "      <td>...</td>\n",
       "      <td>0.000000</td>\n",
       "      <td>0.000000</td>\n",
       "      <td>0.000000</td>\n",
       "      <td>0.000000</td>\n",
       "      <td>0.000000</td>\n",
       "      <td>0.000000</td>\n",
       "      <td>0.000000</td>\n",
       "      <td>0.000000</td>\n",
       "      <td>0.000000</td>\n",
       "      <td>0.000000</td>\n",
       "    </tr>\n",
       "    <tr>\n",
       "      <th>max</th>\n",
       "      <td>4.000000</td>\n",
       "      <td>2023.000000</td>\n",
       "      <td>133.000000</td>\n",
       "      <td>2023-10-31 00:00:00</td>\n",
       "      <td>98199.000000</td>\n",
       "      <td>4.764000e+06</td>\n",
       "      <td>8.000000</td>\n",
       "      <td>7.500000</td>\n",
       "      <td>9600.000000</td>\n",
       "      <td>47354.000000</td>\n",
       "      <td>...</td>\n",
       "      <td>2.000000</td>\n",
       "      <td>2.000000</td>\n",
       "      <td>2.000000</td>\n",
       "      <td>2.000000</td>\n",
       "      <td>2.000000</td>\n",
       "      <td>2.000000</td>\n",
       "      <td>2.000000</td>\n",
       "      <td>2.000000</td>\n",
       "      <td>2.000000</td>\n",
       "      <td>2.000000</td>\n",
       "    </tr>\n",
       "    <tr>\n",
       "      <th>std</th>\n",
       "      <td>1.049603</td>\n",
       "      <td>0.347791</td>\n",
       "      <td>39.954927</td>\n",
       "      <td>NaN</td>\n",
       "      <td>22.511534</td>\n",
       "      <td>5.418514e+05</td>\n",
       "      <td>1.130738</td>\n",
       "      <td>0.829663</td>\n",
       "      <td>855.035205</td>\n",
       "      <td>4236.172292</td>\n",
       "      <td>...</td>\n",
       "      <td>0.302678</td>\n",
       "      <td>0.174985</td>\n",
       "      <td>0.190326</td>\n",
       "      <td>0.111869</td>\n",
       "      <td>0.159711</td>\n",
       "      <td>0.120003</td>\n",
       "      <td>0.268272</td>\n",
       "      <td>0.131263</td>\n",
       "      <td>0.165146</td>\n",
       "      <td>0.099191</td>\n",
       "    </tr>\n",
       "  </tbody>\n",
       "</table>\n",
       "<p>8 rows × 673 columns</p>\n",
       "</div>"
      ],
      "text/plain": [
       "           Quarter         Year          Age                      SOLD DATE  \\\n",
       "count  5137.000000  5137.000000  5137.000000                           5137   \n",
       "mean      2.495815  2022.859256    48.726494  2023-05-12 19:40:25.462332160   \n",
       "min       1.000000  2022.000000    -2.000000            2022-10-31 00:00:00   \n",
       "25%       2.000000  2023.000000     7.000000            2023-02-28 00:00:00   \n",
       "50%       2.000000  2023.000000    44.000000            2023-05-19 00:00:00   \n",
       "75%       3.000000  2023.000000    82.000000            2023-08-02 00:00:00   \n",
       "max       4.000000  2023.000000   133.000000            2023-10-31 00:00:00   \n",
       "std       1.049603     0.347791    39.954927                            NaN   \n",
       "\n",
       "       ZIP OR POSTAL CODE         PRICE         BEDS        BATHS  \\\n",
       "count         5137.000000  5.137000e+03  5137.000000  5137.000000   \n",
       "mean         98118.723185  9.583315e+05     2.805529     2.115632   \n",
       "min          98012.000000  2.025000e+05     0.000000     0.500000   \n",
       "25%          98105.000000  6.250000e+05     2.000000     1.500000   \n",
       "50%          98112.000000  8.200000e+05     3.000000     2.000000   \n",
       "75%          98117.000000  1.149000e+06     3.000000     2.500000   \n",
       "max          98199.000000  4.764000e+06     8.000000     7.500000   \n",
       "std             22.511534  5.418514e+05     1.130738     0.829663   \n",
       "\n",
       "       SQUARE FEET      LOT SIZE  ...       window    wonderful    wood_burn  \\\n",
       "count  5137.000000   5137.000000  ...  5137.000000  5137.000000  5137.000000   \n",
       "mean   1729.580300   4039.244255  ...     0.097138     0.030368     0.036792   \n",
       "min     268.000000      1.000000  ...     0.000000     0.000000     0.000000   \n",
       "25%    1097.000000   1093.000000  ...     0.000000     0.000000     0.000000   \n",
       "50%    1568.000000   3330.000000  ...     0.000000     0.000000     0.000000   \n",
       "75%    2213.000000   5580.000000  ...     0.000000     0.000000     0.000000   \n",
       "max    9600.000000  47354.000000  ...     2.000000     2.000000     2.000000   \n",
       "std     855.035205   4236.172292  ...     0.302678     0.174985     0.190326   \n",
       "\n",
       "        wood_floor         work    work_home         yard         year  \\\n",
       "count  5137.000000  5137.000000  5137.000000  5137.000000  5137.000000   \n",
       "mean      0.011875     0.024139     0.014211     0.071637     0.017131   \n",
       "min       0.000000     0.000000     0.000000     0.000000     0.000000   \n",
       "25%       0.000000     0.000000     0.000000     0.000000     0.000000   \n",
       "50%       0.000000     0.000000     0.000000     0.000000     0.000000   \n",
       "75%       0.000000     0.000000     0.000000     0.000000     0.000000   \n",
       "max       2.000000     2.000000     2.000000     2.000000     2.000000   \n",
       "std       0.111869     0.159711     0.120003     0.268272     0.131263   \n",
       "\n",
       "        year_round          yet  \n",
       "count  5137.000000  5137.000000  \n",
       "mean      0.027643     0.009539  \n",
       "min       0.000000     0.000000  \n",
       "25%       0.000000     0.000000  \n",
       "50%       0.000000     0.000000  \n",
       "75%       0.000000     0.000000  \n",
       "max       2.000000     2.000000  \n",
       "std       0.165146     0.099191  \n",
       "\n",
       "[8 rows x 673 columns]"
      ]
     },
     "execution_count": 253,
     "metadata": {},
     "output_type": "execute_result"
    }
   ],
   "source": [
    "df_preprocessed.describe()"
   ]
  },
  {
   "cell_type": "code",
   "execution_count": 50,
   "id": "f90108a6",
   "metadata": {},
   "outputs": [],
   "source": [
    "df_preprocessed.to_csv(\"Redfin Data/df_preprocessed.csv\", index=False)"
   ]
  },
  {
   "cell_type": "markdown",
   "id": "be36338d",
   "metadata": {},
   "source": [
    "###### Splitting Price (Target) from rest of DataFrame"
   ]
  },
  {
   "cell_type": "code",
   "execution_count": 254,
   "id": "166a48ea",
   "metadata": {},
   "outputs": [],
   "source": [
    "X = df_preprocessed.drop(\"PRICE\", axis=1)\n",
    "y = df_preprocessed[\"PRICE\"]"
   ]
  },
  {
   "cell_type": "markdown",
   "id": "07883b0b",
   "metadata": {},
   "source": [
    "###### Filtering 1st 12 columns (Non-BOW columns) to pass through transformers"
   ]
  },
  {
   "cell_type": "code",
   "execution_count": 255,
   "id": "ecc54fd3",
   "metadata": {},
   "outputs": [],
   "source": [
    "first_12_columns = X.iloc[:, :12]\n",
    "numeric_cols = first_12_columns.select_dtypes(include=['int64', 'float64']).columns\n",
    "categorical_cols = first_12_columns.select_dtypes(include=['object']).columns"
   ]
  },
  {
   "cell_type": "markdown",
   "id": "ae5940be",
   "metadata": {},
   "source": [
    "###### Creating the Transformers for each dtype"
   ]
  },
  {
   "cell_type": "code",
   "execution_count": 256,
   "id": "edfa852e",
   "metadata": {},
   "outputs": [],
   "source": [
    "numeric_transformer = Pipeline(steps=[\n",
    "    ('imputer', SimpleImputer(strategy='mean')),\n",
    "    ('scaler', StandardScaler()), \n",
    "])\n",
    "\n",
    "categorical_transformer = Pipeline(steps=[\n",
    "    ('onehot', OneHotEncoder(drop = \"first\"))\n",
    "])\n"
   ]
  },
  {
   "cell_type": "markdown",
   "id": "54df9843",
   "metadata": {},
   "source": [
    "###### BOW's doesn't need to be transformed "
   ]
  },
  {
   "cell_type": "code",
   "execution_count": 257,
   "id": "4f671ab0",
   "metadata": {},
   "outputs": [],
   "source": [
    "bow_cols = X.columns[12:]"
   ]
  },
  {
   "cell_type": "markdown",
   "id": "1761fb01",
   "metadata": {},
   "source": [
    "###### Creating Preprocessor"
   ]
  },
  {
   "cell_type": "code",
   "execution_count": 258,
   "id": "80a1e55f",
   "metadata": {},
   "outputs": [],
   "source": [
    "preprocessor = ColumnTransformer(\n",
    "    transformers=[\n",
    "        ('num', numeric_transformer, numeric_cols),\n",
    "        ('cat', categorical_transformer, categorical_cols),\n",
    "        ('bow', 'passthrough', bow_cols)\n",
    "    ]\n",
    ")"
   ]
  },
  {
   "cell_type": "markdown",
   "id": "89cde9bf",
   "metadata": {},
   "source": [
    "###### Test Train Split"
   ]
  },
  {
   "cell_type": "code",
   "execution_count": 259,
   "id": "d2c1d707",
   "metadata": {},
   "outputs": [],
   "source": [
    "X_train, X_test, y_train, y_test = train_test_split(X, y, test_size=0.20, random_state=42)"
   ]
  },
  {
   "cell_type": "markdown",
   "id": "77b1bc67",
   "metadata": {},
   "source": [
    "#### Intiating 1st Simple Baseline Model: Decision Tree Classifier (No Tuning)"
   ]
  },
  {
   "cell_type": "code",
   "execution_count": 260,
   "id": "4cdfbc13",
   "metadata": {},
   "outputs": [],
   "source": [
    "pipeline1 = Pipeline(steps=[\n",
    "    ('preprocessor', preprocessor),\n",
    "    (\"classifier\", DecisionTreeRegressor())\n",
    "])\n"
   ]
  },
  {
   "cell_type": "markdown",
   "id": "b204b9cd",
   "metadata": {},
   "source": [
    "###### Fitting the Pipeline"
   ]
  },
  {
   "cell_type": "code",
   "execution_count": 261,
   "id": "28bff147",
   "metadata": {},
   "outputs": [
    {
     "data": {
      "text/html": [
       "<style>#sk-container-id-11 {color: black;}#sk-container-id-11 pre{padding: 0;}#sk-container-id-11 div.sk-toggleable {background-color: white;}#sk-container-id-11 label.sk-toggleable__label {cursor: pointer;display: block;width: 100%;margin-bottom: 0;padding: 0.3em;box-sizing: border-box;text-align: center;}#sk-container-id-11 label.sk-toggleable__label-arrow:before {content: \"▸\";float: left;margin-right: 0.25em;color: #696969;}#sk-container-id-11 label.sk-toggleable__label-arrow:hover:before {color: black;}#sk-container-id-11 div.sk-estimator:hover label.sk-toggleable__label-arrow:before {color: black;}#sk-container-id-11 div.sk-toggleable__content {max-height: 0;max-width: 0;overflow: hidden;text-align: left;background-color: #f0f8ff;}#sk-container-id-11 div.sk-toggleable__content pre {margin: 0.2em;color: black;border-radius: 0.25em;background-color: #f0f8ff;}#sk-container-id-11 input.sk-toggleable__control:checked~div.sk-toggleable__content {max-height: 200px;max-width: 100%;overflow: auto;}#sk-container-id-11 input.sk-toggleable__control:checked~label.sk-toggleable__label-arrow:before {content: \"▾\";}#sk-container-id-11 div.sk-estimator input.sk-toggleable__control:checked~label.sk-toggleable__label {background-color: #d4ebff;}#sk-container-id-11 div.sk-label input.sk-toggleable__control:checked~label.sk-toggleable__label {background-color: #d4ebff;}#sk-container-id-11 input.sk-hidden--visually {border: 0;clip: rect(1px 1px 1px 1px);clip: rect(1px, 1px, 1px, 1px);height: 1px;margin: -1px;overflow: hidden;padding: 0;position: absolute;width: 1px;}#sk-container-id-11 div.sk-estimator {font-family: monospace;background-color: #f0f8ff;border: 1px dotted black;border-radius: 0.25em;box-sizing: border-box;margin-bottom: 0.5em;}#sk-container-id-11 div.sk-estimator:hover {background-color: #d4ebff;}#sk-container-id-11 div.sk-parallel-item::after {content: \"\";width: 100%;border-bottom: 1px solid gray;flex-grow: 1;}#sk-container-id-11 div.sk-label:hover label.sk-toggleable__label {background-color: #d4ebff;}#sk-container-id-11 div.sk-serial::before {content: \"\";position: absolute;border-left: 1px solid gray;box-sizing: border-box;top: 0;bottom: 0;left: 50%;z-index: 0;}#sk-container-id-11 div.sk-serial {display: flex;flex-direction: column;align-items: center;background-color: white;padding-right: 0.2em;padding-left: 0.2em;position: relative;}#sk-container-id-11 div.sk-item {position: relative;z-index: 1;}#sk-container-id-11 div.sk-parallel {display: flex;align-items: stretch;justify-content: center;background-color: white;position: relative;}#sk-container-id-11 div.sk-item::before, #sk-container-id-11 div.sk-parallel-item::before {content: \"\";position: absolute;border-left: 1px solid gray;box-sizing: border-box;top: 0;bottom: 0;left: 50%;z-index: -1;}#sk-container-id-11 div.sk-parallel-item {display: flex;flex-direction: column;z-index: 1;position: relative;background-color: white;}#sk-container-id-11 div.sk-parallel-item:first-child::after {align-self: flex-end;width: 50%;}#sk-container-id-11 div.sk-parallel-item:last-child::after {align-self: flex-start;width: 50%;}#sk-container-id-11 div.sk-parallel-item:only-child::after {width: 0;}#sk-container-id-11 div.sk-dashed-wrapped {border: 1px dashed gray;margin: 0 0.4em 0.5em 0.4em;box-sizing: border-box;padding-bottom: 0.4em;background-color: white;}#sk-container-id-11 div.sk-label label {font-family: monospace;font-weight: bold;display: inline-block;line-height: 1.2em;}#sk-container-id-11 div.sk-label-container {text-align: center;}#sk-container-id-11 div.sk-container {/* jupyter's `normalize.less` sets `[hidden] { display: none; }` but bootstrap.min.css set `[hidden] { display: none !important; }` so we also need the `!important` here to be able to override the default hidden behavior on the sphinx rendered scikit-learn.org. See: https://github.com/scikit-learn/scikit-learn/issues/21755 */display: inline-block !important;position: relative;}#sk-container-id-11 div.sk-text-repr-fallback {display: none;}</style><div id=\"sk-container-id-11\" class=\"sk-top-container\"><div class=\"sk-text-repr-fallback\"><pre>Pipeline(steps=[(&#x27;preprocessor&#x27;,\n",
       "                 ColumnTransformer(transformers=[(&#x27;num&#x27;,\n",
       "                                                  Pipeline(steps=[(&#x27;imputer&#x27;,\n",
       "                                                                   SimpleImputer()),\n",
       "                                                                  (&#x27;scaler&#x27;,\n",
       "                                                                   StandardScaler())]),\n",
       "                                                  Index([&#x27;Age&#x27;, &#x27;ZIP OR POSTAL CODE&#x27;, &#x27;BEDS&#x27;, &#x27;BATHS&#x27;, &#x27;SQUARE FEET&#x27;,\n",
       "       &#x27;LOT SIZE&#x27;],\n",
       "      dtype=&#x27;object&#x27;)),\n",
       "                                                 (&#x27;cat&#x27;,\n",
       "                                                  Pipeline(steps=[(&#x27;onehot&#x27;,\n",
       "                                                                   OneHotEncoder(drop=&#x27;first&#x27;))]),\n",
       "                                                  Index([&#x27;SALE TYPE&#x27;, &#x27;PROPERTY TYPE&#x27;, &#x27;LOCATION&#x27;], dtype=&#x27;object&#x27;)),\n",
       "                                                 (&#x27;bow&#x27;, &#x27;passthrough&#x27;,\n",
       "                                                  Index([&#x27;12_bath&#x27;, &#x27;175_bath&#x27;, &#x27;1_bath&#x27;, &#x27;1_bedroom&#x27;, &#x27;1_car&#x27;, &#x27;2_bath&#x27;,\n",
       "       &#x27;2_bed&#x27;, &#x27;2_bedroom&#x27;, &#x27;2_car&#x27;, &#x27;2nd_floor&#x27;,\n",
       "       ...\n",
       "       &#x27;window&#x27;, &#x27;wonderful&#x27;, &#x27;wood_burn&#x27;, &#x27;wood_floor&#x27;, &#x27;work&#x27;, &#x27;work_home&#x27;,\n",
       "       &#x27;yard&#x27;, &#x27;year&#x27;, &#x27;year_round&#x27;, &#x27;yet&#x27;],\n",
       "      dtype=&#x27;object&#x27;, length=663))])),\n",
       "                (&#x27;classifier&#x27;, DecisionTreeRegressor())])</pre><b>In a Jupyter environment, please rerun this cell to show the HTML representation or trust the notebook. <br />On GitHub, the HTML representation is unable to render, please try loading this page with nbviewer.org.</b></div><div class=\"sk-container\" hidden><div class=\"sk-item sk-dashed-wrapped\"><div class=\"sk-label-container\"><div class=\"sk-label sk-toggleable\"><input class=\"sk-toggleable__control sk-hidden--visually\" id=\"sk-estimator-id-58\" type=\"checkbox\" ><label for=\"sk-estimator-id-58\" class=\"sk-toggleable__label sk-toggleable__label-arrow\">Pipeline</label><div class=\"sk-toggleable__content\"><pre>Pipeline(steps=[(&#x27;preprocessor&#x27;,\n",
       "                 ColumnTransformer(transformers=[(&#x27;num&#x27;,\n",
       "                                                  Pipeline(steps=[(&#x27;imputer&#x27;,\n",
       "                                                                   SimpleImputer()),\n",
       "                                                                  (&#x27;scaler&#x27;,\n",
       "                                                                   StandardScaler())]),\n",
       "                                                  Index([&#x27;Age&#x27;, &#x27;ZIP OR POSTAL CODE&#x27;, &#x27;BEDS&#x27;, &#x27;BATHS&#x27;, &#x27;SQUARE FEET&#x27;,\n",
       "       &#x27;LOT SIZE&#x27;],\n",
       "      dtype=&#x27;object&#x27;)),\n",
       "                                                 (&#x27;cat&#x27;,\n",
       "                                                  Pipeline(steps=[(&#x27;onehot&#x27;,\n",
       "                                                                   OneHotEncoder(drop=&#x27;first&#x27;))]),\n",
       "                                                  Index([&#x27;SALE TYPE&#x27;, &#x27;PROPERTY TYPE&#x27;, &#x27;LOCATION&#x27;], dtype=&#x27;object&#x27;)),\n",
       "                                                 (&#x27;bow&#x27;, &#x27;passthrough&#x27;,\n",
       "                                                  Index([&#x27;12_bath&#x27;, &#x27;175_bath&#x27;, &#x27;1_bath&#x27;, &#x27;1_bedroom&#x27;, &#x27;1_car&#x27;, &#x27;2_bath&#x27;,\n",
       "       &#x27;2_bed&#x27;, &#x27;2_bedroom&#x27;, &#x27;2_car&#x27;, &#x27;2nd_floor&#x27;,\n",
       "       ...\n",
       "       &#x27;window&#x27;, &#x27;wonderful&#x27;, &#x27;wood_burn&#x27;, &#x27;wood_floor&#x27;, &#x27;work&#x27;, &#x27;work_home&#x27;,\n",
       "       &#x27;yard&#x27;, &#x27;year&#x27;, &#x27;year_round&#x27;, &#x27;yet&#x27;],\n",
       "      dtype=&#x27;object&#x27;, length=663))])),\n",
       "                (&#x27;classifier&#x27;, DecisionTreeRegressor())])</pre></div></div></div><div class=\"sk-serial\"><div class=\"sk-item sk-dashed-wrapped\"><div class=\"sk-label-container\"><div class=\"sk-label sk-toggleable\"><input class=\"sk-toggleable__control sk-hidden--visually\" id=\"sk-estimator-id-59\" type=\"checkbox\" ><label for=\"sk-estimator-id-59\" class=\"sk-toggleable__label sk-toggleable__label-arrow\">preprocessor: ColumnTransformer</label><div class=\"sk-toggleable__content\"><pre>ColumnTransformer(transformers=[(&#x27;num&#x27;,\n",
       "                                 Pipeline(steps=[(&#x27;imputer&#x27;, SimpleImputer()),\n",
       "                                                 (&#x27;scaler&#x27;, StandardScaler())]),\n",
       "                                 Index([&#x27;Age&#x27;, &#x27;ZIP OR POSTAL CODE&#x27;, &#x27;BEDS&#x27;, &#x27;BATHS&#x27;, &#x27;SQUARE FEET&#x27;,\n",
       "       &#x27;LOT SIZE&#x27;],\n",
       "      dtype=&#x27;object&#x27;)),\n",
       "                                (&#x27;cat&#x27;,\n",
       "                                 Pipeline(steps=[(&#x27;onehot&#x27;,\n",
       "                                                  OneHotEncoder(drop=&#x27;first&#x27;))]),\n",
       "                                 Index([&#x27;SALE TYPE&#x27;, &#x27;PROPERTY TYPE&#x27;, &#x27;LOCATION&#x27;], dtype=&#x27;object&#x27;)),\n",
       "                                (&#x27;bow&#x27;, &#x27;passthrough&#x27;,\n",
       "                                 Index([&#x27;12_bath&#x27;, &#x27;175_bath&#x27;, &#x27;1_bath&#x27;, &#x27;1_bedroom&#x27;, &#x27;1_car&#x27;, &#x27;2_bath&#x27;,\n",
       "       &#x27;2_bed&#x27;, &#x27;2_bedroom&#x27;, &#x27;2_car&#x27;, &#x27;2nd_floor&#x27;,\n",
       "       ...\n",
       "       &#x27;window&#x27;, &#x27;wonderful&#x27;, &#x27;wood_burn&#x27;, &#x27;wood_floor&#x27;, &#x27;work&#x27;, &#x27;work_home&#x27;,\n",
       "       &#x27;yard&#x27;, &#x27;year&#x27;, &#x27;year_round&#x27;, &#x27;yet&#x27;],\n",
       "      dtype=&#x27;object&#x27;, length=663))])</pre></div></div></div><div class=\"sk-parallel\"><div class=\"sk-parallel-item\"><div class=\"sk-item\"><div class=\"sk-label-container\"><div class=\"sk-label sk-toggleable\"><input class=\"sk-toggleable__control sk-hidden--visually\" id=\"sk-estimator-id-60\" type=\"checkbox\" ><label for=\"sk-estimator-id-60\" class=\"sk-toggleable__label sk-toggleable__label-arrow\">num</label><div class=\"sk-toggleable__content\"><pre>Index([&#x27;Age&#x27;, &#x27;ZIP OR POSTAL CODE&#x27;, &#x27;BEDS&#x27;, &#x27;BATHS&#x27;, &#x27;SQUARE FEET&#x27;,\n",
       "       &#x27;LOT SIZE&#x27;],\n",
       "      dtype=&#x27;object&#x27;)</pre></div></div></div><div class=\"sk-serial\"><div class=\"sk-item\"><div class=\"sk-serial\"><div class=\"sk-item\"><div class=\"sk-estimator sk-toggleable\"><input class=\"sk-toggleable__control sk-hidden--visually\" id=\"sk-estimator-id-61\" type=\"checkbox\" ><label for=\"sk-estimator-id-61\" class=\"sk-toggleable__label sk-toggleable__label-arrow\">SimpleImputer</label><div class=\"sk-toggleable__content\"><pre>SimpleImputer()</pre></div></div></div><div class=\"sk-item\"><div class=\"sk-estimator sk-toggleable\"><input class=\"sk-toggleable__control sk-hidden--visually\" id=\"sk-estimator-id-62\" type=\"checkbox\" ><label for=\"sk-estimator-id-62\" class=\"sk-toggleable__label sk-toggleable__label-arrow\">StandardScaler</label><div class=\"sk-toggleable__content\"><pre>StandardScaler()</pre></div></div></div></div></div></div></div></div><div class=\"sk-parallel-item\"><div class=\"sk-item\"><div class=\"sk-label-container\"><div class=\"sk-label sk-toggleable\"><input class=\"sk-toggleable__control sk-hidden--visually\" id=\"sk-estimator-id-63\" type=\"checkbox\" ><label for=\"sk-estimator-id-63\" class=\"sk-toggleable__label sk-toggleable__label-arrow\">cat</label><div class=\"sk-toggleable__content\"><pre>Index([&#x27;SALE TYPE&#x27;, &#x27;PROPERTY TYPE&#x27;, &#x27;LOCATION&#x27;], dtype=&#x27;object&#x27;)</pre></div></div></div><div class=\"sk-serial\"><div class=\"sk-item\"><div class=\"sk-serial\"><div class=\"sk-item\"><div class=\"sk-estimator sk-toggleable\"><input class=\"sk-toggleable__control sk-hidden--visually\" id=\"sk-estimator-id-64\" type=\"checkbox\" ><label for=\"sk-estimator-id-64\" class=\"sk-toggleable__label sk-toggleable__label-arrow\">OneHotEncoder</label><div class=\"sk-toggleable__content\"><pre>OneHotEncoder(drop=&#x27;first&#x27;)</pre></div></div></div></div></div></div></div></div><div class=\"sk-parallel-item\"><div class=\"sk-item\"><div class=\"sk-label-container\"><div class=\"sk-label sk-toggleable\"><input class=\"sk-toggleable__control sk-hidden--visually\" id=\"sk-estimator-id-65\" type=\"checkbox\" ><label for=\"sk-estimator-id-65\" class=\"sk-toggleable__label sk-toggleable__label-arrow\">bow</label><div class=\"sk-toggleable__content\"><pre>Index([&#x27;12_bath&#x27;, &#x27;175_bath&#x27;, &#x27;1_bath&#x27;, &#x27;1_bedroom&#x27;, &#x27;1_car&#x27;, &#x27;2_bath&#x27;,\n",
       "       &#x27;2_bed&#x27;, &#x27;2_bedroom&#x27;, &#x27;2_car&#x27;, &#x27;2nd_floor&#x27;,\n",
       "       ...\n",
       "       &#x27;window&#x27;, &#x27;wonderful&#x27;, &#x27;wood_burn&#x27;, &#x27;wood_floor&#x27;, &#x27;work&#x27;, &#x27;work_home&#x27;,\n",
       "       &#x27;yard&#x27;, &#x27;year&#x27;, &#x27;year_round&#x27;, &#x27;yet&#x27;],\n",
       "      dtype=&#x27;object&#x27;, length=663)</pre></div></div></div><div class=\"sk-serial\"><div class=\"sk-item\"><div class=\"sk-estimator sk-toggleable\"><input class=\"sk-toggleable__control sk-hidden--visually\" id=\"sk-estimator-id-66\" type=\"checkbox\" ><label for=\"sk-estimator-id-66\" class=\"sk-toggleable__label sk-toggleable__label-arrow\">passthrough</label><div class=\"sk-toggleable__content\"><pre>passthrough</pre></div></div></div></div></div></div></div></div><div class=\"sk-item\"><div class=\"sk-estimator sk-toggleable\"><input class=\"sk-toggleable__control sk-hidden--visually\" id=\"sk-estimator-id-67\" type=\"checkbox\" ><label for=\"sk-estimator-id-67\" class=\"sk-toggleable__label sk-toggleable__label-arrow\">DecisionTreeRegressor</label><div class=\"sk-toggleable__content\"><pre>DecisionTreeRegressor()</pre></div></div></div></div></div></div></div>"
      ],
      "text/plain": [
       "Pipeline(steps=[('preprocessor',\n",
       "                 ColumnTransformer(transformers=[('num',\n",
       "                                                  Pipeline(steps=[('imputer',\n",
       "                                                                   SimpleImputer()),\n",
       "                                                                  ('scaler',\n",
       "                                                                   StandardScaler())]),\n",
       "                                                  Index(['Age', 'ZIP OR POSTAL CODE', 'BEDS', 'BATHS', 'SQUARE FEET',\n",
       "       'LOT SIZE'],\n",
       "      dtype='object')),\n",
       "                                                 ('cat',\n",
       "                                                  Pipeline(steps=[('onehot',\n",
       "                                                                   OneHotEncoder(drop='first'))]),\n",
       "                                                  Index(['SALE TYPE', 'PROPERTY TYPE', 'LOCATION'], dtype='object')),\n",
       "                                                 ('bow', 'passthrough',\n",
       "                                                  Index(['12_bath', '175_bath', '1_bath', '1_bedroom', '1_car', '2_bath',\n",
       "       '2_bed', '2_bedroom', '2_car', '2nd_floor',\n",
       "       ...\n",
       "       'window', 'wonderful', 'wood_burn', 'wood_floor', 'work', 'work_home',\n",
       "       'yard', 'year', 'year_round', 'yet'],\n",
       "      dtype='object', length=663))])),\n",
       "                ('classifier', DecisionTreeRegressor())])"
      ]
     },
     "execution_count": 261,
     "metadata": {},
     "output_type": "execute_result"
    }
   ],
   "source": [
    "pipeline1.fit(X_train,y_train)"
   ]
  },
  {
   "cell_type": "markdown",
   "id": "beef4116",
   "metadata": {},
   "source": [
    "###### Predicting on the Test "
   ]
  },
  {
   "cell_type": "code",
   "execution_count": 262,
   "id": "c768fd28",
   "metadata": {},
   "outputs": [],
   "source": [
    "y_pred1 = pipeline1.predict(X_test)"
   ]
  },
  {
   "cell_type": "markdown",
   "id": "b220f1e4",
   "metadata": {},
   "source": [
    "###### Evaluating Performance"
   ]
  },
  {
   "cell_type": "code",
   "execution_count": 263,
   "id": "2133a3ff",
   "metadata": {
    "scrolled": true
   },
   "outputs": [
    {
     "name": "stdout",
     "output_type": "stream",
     "text": [
      "Mean Absolute Error: 178579.3385214008\n",
      "Mean Squared Error: 97465759371.27043\n",
      "r2: 0.6767781066762495\n"
     ]
    }
   ],
   "source": [
    "\n",
    "mae1 = mean_absolute_error(y_test, y_pred1)\n",
    "mse1 = mean_squared_error(y_test, y_pred1)\n",
    "r21 = r2_score(y_test, y_pred1)\n",
    "\n",
    "print(f\"Mean Absolute Error: {mae1}\")\n",
    "print(f\"Mean Squared Error: {mse1}\")\n",
    "print(f\"r2: {r21}\")"
   ]
  },
  {
   "cell_type": "markdown",
   "id": "34aa07e2",
   "metadata": {},
   "source": [
    "###### Getting Mean Absolute Error Percentage"
   ]
  },
  {
   "cell_type": "code",
   "execution_count": 264,
   "id": "1f9bc92a",
   "metadata": {},
   "outputs": [],
   "source": [
    "y_testnp, y_prednp = np.array(y_test), np.array(y_pred1)"
   ]
  },
  {
   "cell_type": "code",
   "execution_count": 265,
   "id": "5adf0f0c",
   "metadata": {},
   "outputs": [],
   "source": [
    "mape = np.mean(np.abs((y_testnp - y_prednp) / y_testnp)) * 100"
   ]
  },
  {
   "cell_type": "code",
   "execution_count": 266,
   "id": "32c20354",
   "metadata": {},
   "outputs": [
    {
     "name": "stdout",
     "output_type": "stream",
     "text": [
      "Mean Absolute Percentage Error%: 17.938636655509303\n"
     ]
    }
   ],
   "source": [
    "print(f\"Mean Absolute Percentage Error%: {mape}\")"
   ]
  },
  {
   "cell_type": "markdown",
   "id": "e65afe9f",
   "metadata": {},
   "source": [
    "###### Getting Median Absolute Percentage Error"
   ]
  },
  {
   "cell_type": "code",
   "execution_count": 291,
   "id": "ffd6f5de",
   "metadata": {},
   "outputs": [],
   "source": [
    "absolute_percentage_errors2 = np.abs((y_test - y_pred1) / y_test) * 100"
   ]
  },
  {
   "cell_type": "code",
   "execution_count": 292,
   "id": "e703fa34",
   "metadata": {},
   "outputs": [],
   "source": [
    "median_percentage_error2 = np.median(absolute_percentage_errors2)"
   ]
  },
  {
   "cell_type": "code",
   "execution_count": 294,
   "id": "5e624e85",
   "metadata": {},
   "outputs": [
    {
     "name": "stdout",
     "output_type": "stream",
     "text": [
      "Median Absolute Percentage Error: 11.70%\n"
     ]
    }
   ],
   "source": [
    "print(f\"Median Absolute Percentage Error: {median_percentage_error2:.2f}%\")"
   ]
  },
  {
   "cell_type": "markdown",
   "id": "5b095dbe",
   "metadata": {},
   "source": [
    "###### Model Prediction Values vs. Ground Truth Values"
   ]
  },
  {
   "cell_type": "code",
   "execution_count": 267,
   "id": "08f7bf25",
   "metadata": {},
   "outputs": [
    {
     "data": {
      "image/png": "[encoded data removed]",
      "text/plain": [
       "<Figure size 432x288 with 1 Axes>"
      ]
     },
     "metadata": {
      "needs_background": "light"
     },
     "output_type": "display_data"
    }
   ],
   "source": [
    "plt.scatter(y_test, y_pred1, alpha=0.2)\n",
    "plt.xlabel(\"Actual Values\")\n",
    "plt.ylabel(\"Predicted Values\")\n",
    "plt.title(\"Actual vs Predicted Values\")\n",
    "\n",
    "plt.show()"
   ]
  },
  {
   "cell_type": "markdown",
   "id": "fc52959f",
   "metadata": {},
   "source": [
    "###### Residual Values"
   ]
  },
  {
   "cell_type": "code",
   "execution_count": 268,
   "id": "3644b935",
   "metadata": {
    "scrolled": true
   },
   "outputs": [
    {
     "data": {
      "image/png": "[encoded data removed]",
      "text/plain": [
       "<Figure size 432x288 with 1 Axes>"
      ]
     },
     "metadata": {
      "needs_background": "light"
     },
     "output_type": "display_data"
    }
   ],
   "source": [
    "residuals = y_test - y_pred1\n",
    "plt.scatter(y_pred1, residuals, alpha =0.2)\n",
    "plt.xlabel(\"Predicted Values\")\n",
    "plt.ylabel(\"Residuals (in Millions)\")\n",
    "plt.title(\"Residuals vs Predicted Values\")\n",
    "plt.axhline(y=0, color='r', linestyle='-')\n",
    "plt.show()\n"
   ]
  },
  {
   "cell_type": "markdown",
   "id": "fadbdbde",
   "metadata": {},
   "source": [
    "###### Model Evaluation"
   ]
  },
  {
   "cell_type": "markdown",
   "id": "3a05fd5e",
   "metadata": {},
   "source": [
    "- The Model is relatively accurate among the lower price points under the 1mm price point\n",
    "- The Model displays a tendency to underestimate prices above the 3 million dollar point \n",
    "- The Model is off by a mean of 18.5%, which is a pretty substantial sum"
   ]
  },
  {
   "cell_type": "markdown",
   "id": "52b98983",
   "metadata": {},
   "source": [
    "\n",
    "#### Model #2 Random Forest Regressor (With Hyperparameter Tuning)"
   ]
  },
  {
   "cell_type": "code",
   "execution_count": 283,
   "id": "be99e498",
   "metadata": {},
   "outputs": [
    {
     "name": "stdout",
     "output_type": "stream",
     "text": [
      "Fitting 5 folds for each of 144 candidates, totalling 720 fits\n",
      "Best Hyperparameters: {'regressor__max_depth': None, 'regressor__min_samples_leaf': 1, 'regressor__min_samples_split': 2, 'regressor__n_estimators': 300}\n"
     ]
    }
   ],
   "source": [
    "\n",
    "\n",
    "pipeline2 = Pipeline([\n",
    "    ('preprocessing', preprocessor),\n",
    "    ('regressor', RandomForestRegressor(bootstrap=True, random_state =42))  \n",
    "])\n",
    "\n",
    "\n",
    "param_grid = {\n",
    "    'regressor__n_estimators': [100, 200, 300, 500],\n",
    "    'regressor__max_depth': [None, 10, 20, 30],\n",
    "    'regressor__min_samples_split': [2, 5, 10],\n",
    "    'regressor__min_samples_leaf': [1, 2, 4]\n",
    "}\n",
    "\n",
    "grid_search = GridSearchCV(estimator=pipeline2, param_grid=param_grid, cv=5, scoring='neg_mean_absolute_error', n_jobs=-1, verbose = 10)\n",
    "\n",
    "\n",
    "grid_search.fit(X_train, y_train)\n",
    "\n",
    "best_params = grid_search.best_params_\n",
    "best_model = grid_search.best_estimator_\n",
    "\n",
    "print(\"Best Hyperparameters:\", best_params)\n",
    "y_pred = best_model.predict(X_test)\n"
   ]
  },
  {
   "cell_type": "code",
   "execution_count": 284,
   "id": "80682efe",
   "metadata": {},
   "outputs": [
    {
     "name": "stdout",
     "output_type": "stream",
     "text": [
      "Mean Absolute Error: 139479.18241245483\n",
      "Mean Squared Error: 55794246230.9817\n",
      "r2: 0.8149717190972277\n"
     ]
    }
   ],
   "source": [
    "mae = mean_absolute_error(y_test, y_pred)\n",
    "mse = mean_squared_error(y_test, y_pred)\n",
    "r2= r2_score(y_test, y_pred)\n",
    "print(f\"Mean Absolute Error: {mae}\")\n",
    "print(f\"Mean Squared Error: {mse}\")\n",
    "print(f\"r2: {r2}\")"
   ]
  },
  {
   "cell_type": "markdown",
   "id": "c06dd7ab",
   "metadata": {},
   "source": [
    "###### Getting Mean Absolute Percentage Error"
   ]
  },
  {
   "cell_type": "code",
   "execution_count": 285,
   "id": "e27e7310",
   "metadata": {},
   "outputs": [],
   "source": [
    "y_testnp1, y_prednp1 = np.array(y_test), np.array(y_pred)"
   ]
  },
  {
   "cell_type": "code",
   "execution_count": 286,
   "id": "449ffd7e",
   "metadata": {},
   "outputs": [],
   "source": [
    "mape2 = np.mean(np.abs((y_testnp1 - y_prednp1) / y_testnp1)) * 100"
   ]
  },
  {
   "cell_type": "markdown",
   "id": "23bac26e",
   "metadata": {},
   "source": [
    "###### Mean Absolute Percentage Error"
   ]
  },
  {
   "cell_type": "code",
   "execution_count": 287,
   "id": "388363da",
   "metadata": {},
   "outputs": [
    {
     "name": "stdout",
     "output_type": "stream",
     "text": [
      "Mean Absolute Percentage Error: 14.46%\n"
     ]
    }
   ],
   "source": [
    "print(f\"Mean Absolute Percentage Error: {mape2:.2f}%\")"
   ]
  },
  {
   "cell_type": "markdown",
   "id": "3133e171",
   "metadata": {},
   "source": [
    "##### Getting Median Absolute Percentage Error"
   ]
  },
  {
   "cell_type": "code",
   "execution_count": 288,
   "id": "18a48a43",
   "metadata": {},
   "outputs": [],
   "source": [
    "absolute_percentage_errors = np.abs((y_test - y_pred) / y_test) * 100"
   ]
  },
  {
   "cell_type": "code",
   "execution_count": 289,
   "id": "214db725",
   "metadata": {},
   "outputs": [],
   "source": [
    "median_percentage_error = np.median(absolute_percentage_errors)"
   ]
  },
  {
   "cell_type": "code",
   "execution_count": 290,
   "id": "7e5c116c",
   "metadata": {},
   "outputs": [
    {
     "name": "stdout",
     "output_type": "stream",
     "text": [
      "Median Absolute Percentage Error: 9.18%\n"
     ]
    }
   ],
   "source": [
    "print(f\"Median Absolute Percentage Error: {median_percentage_error:.2f}%\")"
   ]
  },
  {
   "cell_type": "markdown",
   "id": "33928727",
   "metadata": {},
   "source": [
    "###### Model Prediction Values vs. Ground Truth Values"
   ]
  },
  {
   "cell_type": "code",
   "execution_count": 304,
   "id": "feafdae8",
   "metadata": {},
   "outputs": [
    {
     "data": {
      "image/png": "[encoded data removed]",
      "text/plain": [
       "<Figure size 432x288 with 1 Axes>"
      ]
     },
     "metadata": {
      "needs_background": "light"
     },
     "output_type": "display_data"
    }
   ],
   "source": [
    "plt.scatter(y_test, y_pred, alpha =0.2)\n",
    "plt.xlabel(\"Actual Values\")\n",
    "plt.ylabel(\"Predicted Values\")\n",
    "plt.title(\"Actual vs Predicted Values\")\n",
    "\n",
    "plt.show()"
   ]
  },
  {
   "cell_type": "code",
   "execution_count": 305,
   "id": "bd735cb8",
   "metadata": {},
   "outputs": [
    {
     "data": {
      "image/png": "[encoded data removed]",
      "text/plain": [
       "<Figure size 432x288 with 1 Axes>"
      ]
     },
     "metadata": {
      "needs_background": "light"
     },
     "output_type": "display_data"
    }
   ],
   "source": [
    "residual2 = y_test - y_pred\n",
    "plt.scatter(y_pred, residual2, alpha=0.2)\n",
    "plt.xlabel(\"Predicted Values\")\n",
    "plt.ylabel(\"Residuals (in Millions)\")\n",
    "plt.title(\"Residuals vs Predicted Values\")\n",
    "plt.axhline(y=0, color='r', linestyle='-')\n",
    "plt.show()\n"
   ]
  },
  {
   "cell_type": "markdown",
   "id": "126d878f",
   "metadata": {},
   "source": [
    "###### Model Evaluation"
   ]
  },
  {
   "cell_type": "markdown",
   "id": "0ae0f63e",
   "metadata": {},
   "source": [
    "- This random forest regressor model is much more accurate; it's mean error is 40k less than the basic decision tree regressor \n",
    "- It again displays relatively good accuracy below the 1.5 mm price point, although some of this is just a result of the higher absolute price point\n",
    "- The model predicts prices with a mean-error of approximately 14.5% which is a large improvement from the simple model \n",
    "- The model predices prices with a median error of approximately 9.2% which is a somewhat more modest improvement from the simple model"
   ]
  },
  {
   "cell_type": "markdown",
   "id": "e6cc6ef6",
   "metadata": {},
   "source": [
    "#### Model #3 XGBoost Regressor (Hyperparameter Tuned)"
   ]
  },
  {
   "cell_type": "code",
   "execution_count": 269,
   "id": "5dce74e9",
   "metadata": {},
   "outputs": [
    {
     "name": "stdout",
     "output_type": "stream",
     "text": [
      "Fitting 3 folds for each of 162 candidates, totalling 486 fits\n"
     ]
    }
   ],
   "source": [
    "from xgboost import XGBRegressor\n",
    "from sklearn.pipeline import Pipeline\n",
    "from sklearn.model_selection import GridSearchCV\n",
    "pipeline3 = Pipeline([\n",
    "    ('preprocessing', preprocessor),\n",
    "    ('regressor', XGBRegressor(random_state=42)) \n",
    "])\n",
    "param_grid = {\n",
    "    'regressor__n_estimators': [300, 500],\n",
    "    'regressor__max_depth': [10],\n",
    "    'regressor__learning_rate': [0.01, 0.05, 0.1],\n",
    "    'regressor__min_child_weight': [1, 2, 4],\n",
    "    'regressor__subsample': [0.6, 0.8, 1.0],\n",
    "    'regressor__colsample_bytree': [0.6, 0.8, 1.0]\n",
    "\n",
    "}\n",
    "grid_search1 = GridSearchCV(estimator=pipeline3,\n",
    "                           param_grid=param_grid,\n",
    "                           cv=3,\n",
    "                           scoring='neg_mean_absolute_error', \n",
    "                           n_jobs=-1,\n",
    "                           verbose=10)\n",
    "grid_search1.fit(X_train, y_train)\n",
    "best_params1 = grid_search1.best_params_\n",
    "best_model1 = grid_search1.best_estimator_"
   ]
  },
  {
   "cell_type": "code",
   "execution_count": 270,
   "id": "c372079f",
   "metadata": {},
   "outputs": [],
   "source": [
    "y_pred2 = best_model1.predict(X_test)"
   ]
  },
  {
   "cell_type": "code",
   "execution_count": 271,
   "id": "0164dd4b",
   "metadata": {},
   "outputs": [
    {
     "name": "stdout",
     "output_type": "stream",
     "text": [
      "Mean Absolute Error: 119013.16447288424\n",
      "Mean Squared Error: 39570895633.98357\n",
      "r2: 0.8687725834196618\n"
     ]
    }
   ],
   "source": [
    "mae2 = mean_absolute_error(y_test, y_pred2)\n",
    "mse2 = mean_squared_error(y_test, y_pred2)\n",
    "r22= r2_score(y_test, y_pred2)\n",
    "\n",
    "print(f\"Mean Absolute Error: {mae2}\")\n",
    "print(f\"Mean Squared Error: {mse2}\")\n",
    "print(f\"r2: {r22}\")"
   ]
  },
  {
   "cell_type": "code",
   "execution_count": 272,
   "id": "08161cae",
   "metadata": {},
   "outputs": [],
   "source": [
    "y_testnp2, y_prednp2 = np.array(y_test), np.array(y_pred2)"
   ]
  },
  {
   "cell_type": "code",
   "execution_count": 273,
   "id": "f5d67139",
   "metadata": {},
   "outputs": [],
   "source": [
    "mape3 = np.mean(np.abs((y_testnp2 - y_prednp2) / y_testnp2)) * 100"
   ]
  },
  {
   "cell_type": "code",
   "execution_count": 274,
   "id": "225385ec",
   "metadata": {},
   "outputs": [
    {
     "name": "stdout",
     "output_type": "stream",
     "text": [
      "Mean Absolute Percentage Error%: 12.64%\n"
     ]
    }
   ],
   "source": [
    "print(f\"Mean Absolute Percentage Error%: {mape3:.2f}%\")"
   ]
  },
  {
   "cell_type": "markdown",
   "id": "6aef2312",
   "metadata": {},
   "source": [
    "###### Getting Median Absolute Error Percentages"
   ]
  },
  {
   "cell_type": "code",
   "execution_count": 275,
   "id": "07d8f92d",
   "metadata": {},
   "outputs": [],
   "source": [
    "absolute_percentage_errors2 = np.abs((y_test - y_pred2) / y_test) * 100"
   ]
  },
  {
   "cell_type": "code",
   "execution_count": 276,
   "id": "da3d0507",
   "metadata": {},
   "outputs": [],
   "source": [
    "median_percentage_error2 = np.median(absolute_percentage_errors2)"
   ]
  },
  {
   "cell_type": "markdown",
   "id": "3b88e128",
   "metadata": {},
   "source": [
    "###### Median Absolute Percentage Error "
   ]
  },
  {
   "cell_type": "code",
   "execution_count": 277,
   "id": "7ac9c8cb",
   "metadata": {},
   "outputs": [
    {
     "name": "stdout",
     "output_type": "stream",
     "text": [
      "Median Absolute Percentage Error: 8.19%\n"
     ]
    }
   ],
   "source": [
    "print(f\"Median Absolute Percentage Error: {median_percentage_error2:.2f}%\")"
   ]
  },
  {
   "cell_type": "markdown",
   "id": "1abc4077",
   "metadata": {},
   "source": [
    "###### Model Prediction Values vs. Ground Truth Values"
   ]
  },
  {
   "cell_type": "code",
   "execution_count": 278,
   "id": "000e498d",
   "metadata": {},
   "outputs": [
    {
     "data": {
      "image/png": "[encoded data removed]",
      "text/plain": [
       "<Figure size 432x288 with 1 Axes>"
      ]
     },
     "metadata": {
      "needs_background": "light"
     },
     "output_type": "display_data"
    }
   ],
   "source": [
    "plt.scatter(y_test, y_pred2, alpha=0.2)\n",
    "plt.xlabel(\"Actual Values\")\n",
    "plt.ylabel(\"Predicted Values\")\n",
    "plt.title(\"Actual vs Predicted Values\")\n",
    "\n",
    "plt.show()"
   ]
  },
  {
   "cell_type": "markdown",
   "id": "2d684fd5",
   "metadata": {},
   "source": [
    "###### Residuals"
   ]
  },
  {
   "cell_type": "code",
   "execution_count": 279,
   "id": "544d3e5f",
   "metadata": {},
   "outputs": [
    {
     "data": {
      "image/png": "[encoded data removed]",
      "text/plain": [
       "<Figure size 432x288 with 1 Axes>"
      ]
     },
     "metadata": {
      "needs_background": "light"
     },
     "output_type": "display_data"
    }
   ],
   "source": [
    "residual3 = y_test - y_pred2\n",
    "plt.scatter(y_pred, residual3, alpha=0.2)\n",
    "plt.xlabel(\"Predicted Values (in Millions)\")\n",
    "plt.ylabel(\"Residuals (in Millions)\")\n",
    "plt.title(\"Residuals vs Predicted Values\")\n",
    "plt.axhline(y=0, color='r', linestyle='-')\n",
    "plt.show()\n"
   ]
  },
  {
   "cell_type": "markdown",
   "id": "fa74bce4",
   "metadata": {},
   "source": [
    "###### Feature Importances"
   ]
  },
  {
   "cell_type": "markdown",
   "id": "61a23d0a",
   "metadata": {},
   "source": [
    "###### Extracting Model from Pipeline"
   ]
  },
  {
   "cell_type": "code",
   "execution_count": 280,
   "id": "349bb108",
   "metadata": {},
   "outputs": [],
   "source": [
    "best_model_model1 = best_model1.named_steps[\"regressor\"]\n",
    "importances = best_model_model1.feature_importances_"
   ]
  },
  {
   "cell_type": "markdown",
   "id": "171ced12",
   "metadata": {},
   "source": [
    "###### Creating Sorted Importances for Visualization"
   ]
  },
  {
   "cell_type": "code",
   "execution_count": 281,
   "id": "6cf7cd24",
   "metadata": {},
   "outputs": [],
   "source": [
    "feature_names = X_train.columns\n",
    "feature_importances = dict(zip(feature_names, importances))\n",
    "sorted_importances = sorted(feature_importances.items(), key=lambda x: x[1], reverse=True)"
   ]
  },
  {
   "cell_type": "markdown",
   "id": "5cb05e80",
   "metadata": {},
   "source": [
    "###### Visualizing Top 30 Features"
   ]
  },
  {
   "cell_type": "code",
   "execution_count": 365,
   "id": "c82152f5",
   "metadata": {},
   "outputs": [
    {
     "data": {
      "image/png": "[encoded data removed]",
      "text/plain": [
       "<Figure size 720x576 with 1 Axes>"
      ]
     },
     "metadata": {
      "needs_background": "light"
     },
     "output_type": "display_data"
    }
   ],
   "source": [
    "features, scores = zip(*sorted_importances)\n",
    "plt.figure(figsize=(10, 8))\n",
    "plt.barh(features[0:30], scores[0:30])\n",
    "plt.xlabel('Importance')\n",
    "plt.ylabel('Feature')\n",
    "plt.title('Top 30 Feature Importances')\n",
    "plt.gca().invert_yaxis() \n",
    "plt.show()\n"
   ]
  },
  {
   "cell_type": "markdown",
   "id": "21cc5e1b",
   "metadata": {},
   "source": [
    "###### Model Evaluation"
   ]
  },
  {
   "cell_type": "markdown",
   "id": "0156d73b",
   "metadata": {},
   "source": [
    "- This XGBoost Regressor Model represents a substantial upgrade over the last 2 models with a mean absolute error of 119k\n",
    "- This XGBoost Model shows the same error tendencies as the above random forest model with much more consistently \n",
    "  accurate predictions under $1mm\n",
    "- The model has a mean absolute error percentage of just 12.64%, representing a modest improvement from the Random Forest Regressor  \n",
    "- The model has a median absolute error percentage of just 8.2%, representing a modest improvement from the Random Forest Regressor"
   ]
  },
  {
   "cell_type": "markdown",
   "id": "07f1f3b8",
   "metadata": {},
   "source": [
    "###### Feature Importance Discussion"
   ]
  },
  {
   "cell_type": "markdown",
   "id": "9d570534",
   "metadata": {},
   "source": [
    "- Relevent Home Features: \n",
    "    - Walk-in-Pantry\n",
    "    - Bonus Room \n",
    "    - Storage\n",
    "    - Attached Garage\n",
    "    - Mountains\n",
    "    - Vaulted Ceilings\n",
    "    - Adjacent to Restaurants & Shopping\n",
    "    - Courtyard\n",
    "- Most Relevent Home Variables\n",
    "    - Bedrooms\n",
    "    - Sale Type\n",
    "    - Sold Date\n",
    "    - Zipcode/Postal Code\n",
    "    - Beds \n",
    "    - Year of Sale\n",
    "    \n",
    "- Conclusion: \n",
    "    - The utility of XGBoost feature importances is limited insofar as there is limited intepretability to how each feature specifically contributes to the target price variable. Certainly, we understand they are important to the prediction. However, it's less clear how they impact the target price variable. Therefore, these are important features but they must be contextualized with domain knowledge to provide real value"
   ]
  },
  {
   "cell_type": "markdown",
   "id": "82ccfaae",
   "metadata": {},
   "source": [
    "###### Model #4 SVR Regressor (Hyperparameter Tuned)"
   ]
  },
  {
   "cell_type": "code",
   "execution_count": 315,
   "id": "9a152f0e",
   "metadata": {},
   "outputs": [
    {
     "name": "stdout",
     "output_type": "stream",
     "text": [
      "Fitting 5 folds for each of 700 candidates, totalling 3500 fits\n",
      "Best Hyperparameters: {'regressor__max_depth': None, 'regressor__min_samples_leaf': 1, 'regressor__min_samples_split': 2, 'regressor__n_estimators': 300}\n"
     ]
    }
   ],
   "source": [
    "pipeline4 = Pipeline([\n",
    "    ('preprocessing', preprocessor),\n",
    "    ('svr', SVR())\n",
    "])\n",
    "\n",
    "param_grid4 = {\n",
    "    'svr__C': [0.1, 1, 10, 100, 1000],\n",
    "    'svr__gamma': ['scale', 'auto', 0.001, 0.01, 0.1, 1, 10],\n",
    "    'svr__epsilon': [0.01, 0.1, 0.5, 1, 2],\n",
    "    'svr__kernel': ['linear', 'poly', 'rbf', 'sigmoid']\n",
    "}\n",
    "grid_search3 = GridSearchCV(estimator=pipeline4,\n",
    "                           param_grid=param_grid4,\n",
    "                           cv=5,  \n",
    "                           scoring='neg_mean_absolute_error',\n",
    "                           n_jobs=-1,  \n",
    "                           verbose=10)\n",
    "\n",
    "grid_search3.fit(X_train, y_train)\n",
    "\n",
    "best_params2 = grid_search3.best_params_\n",
    "best_model2 = grid_search3.best_estimator_\n",
    "\n",
    "print(\"Best Hyperparameters:\", best_params)"
   ]
  },
  {
   "cell_type": "code",
   "execution_count": 368,
   "id": "061aa3b4",
   "metadata": {},
   "outputs": [
    {
     "name": "stdout",
     "output_type": "stream",
     "text": [
      "{'svr__C': 1000, 'svr__epsilon': 2, 'svr__gamma': 'scale', 'svr__kernel': 'linear'}\n"
     ]
    }
   ],
   "source": [
    "print(best_params2)"
   ]
  },
  {
   "cell_type": "code",
   "execution_count": 316,
   "id": "c6905589",
   "metadata": {},
   "outputs": [],
   "source": [
    "y_pred5 = best_model2.predict(X_test)"
   ]
  },
  {
   "cell_type": "code",
   "execution_count": 317,
   "id": "4882f8d0",
   "metadata": {},
   "outputs": [
    {
     "name": "stdout",
     "output_type": "stream",
     "text": [
      "Mean Absolute Error: 175489.8944100629\n",
      "Mean Squared Error: 93114765332.25554\n",
      "r2: 0.6912071383711001\n"
     ]
    }
   ],
   "source": [
    "mae9 = mean_absolute_error(y_test, y_pred5)\n",
    "mse9 = mean_squared_error(y_test, y_pred5)\n",
    "r29 = r2_score(y_test, y_pred5)\n",
    "\n",
    "print(f\"Mean Absolute Error: {mae9}\")\n",
    "print(f\"Mean Squared Error: {mse9}\")\n",
    "print(f\"r2: {r29}\")"
   ]
  },
  {
   "cell_type": "markdown",
   "id": "fa59773b",
   "metadata": {},
   "source": [
    "###### Getting Mean Absolute Percentage Error"
   ]
  },
  {
   "cell_type": "code",
   "execution_count": 318,
   "id": "49712728",
   "metadata": {},
   "outputs": [],
   "source": [
    "y_testnp3, y_prednp3 = np.array(y_test), np.array(y_pred5)"
   ]
  },
  {
   "cell_type": "code",
   "execution_count": 319,
   "id": "46398a32",
   "metadata": {},
   "outputs": [],
   "source": [
    "mape3 = np.mean(np.abs((y_testnp3 - y_prednp3) / y_testnp3)) * 100"
   ]
  },
  {
   "cell_type": "code",
   "execution_count": 320,
   "id": "80c72550",
   "metadata": {},
   "outputs": [
    {
     "name": "stdout",
     "output_type": "stream",
     "text": [
      "Mean Absolute Percentage Error%: 17.30%\n"
     ]
    }
   ],
   "source": [
    "print(f\"Mean Absolute Percentage Error%: {mape3:.2f}%\")"
   ]
  },
  {
   "cell_type": "markdown",
   "id": "30f1ed80",
   "metadata": {},
   "source": [
    "###### Getting Median Absolute Percentage Error "
   ]
  },
  {
   "cell_type": "code",
   "execution_count": 323,
   "id": "63525e4f",
   "metadata": {},
   "outputs": [],
   "source": [
    "absolute_percentage_errors3 = np.abs((y_test - y_pred5) / y_test) * 100"
   ]
  },
  {
   "cell_type": "code",
   "execution_count": 324,
   "id": "0eda3d29",
   "metadata": {},
   "outputs": [],
   "source": [
    "median_percentage_error3 = np.median(absolute_percentage_errors2)"
   ]
  },
  {
   "cell_type": "code",
   "execution_count": 325,
   "id": "156a0973",
   "metadata": {},
   "outputs": [
    {
     "name": "stdout",
     "output_type": "stream",
     "text": [
      "Median Absolute Percentage Error: 12.71%\n"
     ]
    }
   ],
   "source": [
    "print(f\"Median Absolute Percentage Error: {median_percentage_error3:.2f}%\")"
   ]
  },
  {
   "cell_type": "markdown",
   "id": "daed4726",
   "metadata": {},
   "source": [
    "###### Model Prediction Values vs. Ground Truth Values"
   ]
  },
  {
   "cell_type": "code",
   "execution_count": 361,
   "id": "59fea1d9",
   "metadata": {},
   "outputs": [
    {
     "data": {
      "image/png": "[encoded data removed]",
      "text/plain": [
       "<Figure size 432x288 with 1 Axes>"
      ]
     },
     "metadata": {
      "needs_background": "light"
     },
     "output_type": "display_data"
    }
   ],
   "source": [
    "plt.scatter(y_test, y_pred5, alpha=0.2)\n",
    "plt.xlabel(\"Actual Values\")\n",
    "plt.ylabel(\"Predicted Values\")\n",
    "plt.title(\"Actual vs Predicted Values\")\n",
    "\n",
    "plt.show()"
   ]
  },
  {
   "cell_type": "markdown",
   "id": "655e1c87",
   "metadata": {},
   "source": [
    "###### Residuals vs Predicted Values"
   ]
  },
  {
   "cell_type": "code",
   "execution_count": 362,
   "id": "03157132",
   "metadata": {},
   "outputs": [
    {
     "data": {
      "image/png": "[encoded data removed]",
      "text/plain": [
       "<Figure size 432x288 with 1 Axes>"
      ]
     },
     "metadata": {
      "needs_background": "light"
     },
     "output_type": "display_data"
    }
   ],
   "source": [
    "residual5 = y_test - y_pred5\n",
    "plt.scatter(y_pred5, residual5, alpha=0.2)\n",
    "plt.xlabel(\"Predicted Values (in Millions)\")\n",
    "plt.ylabel(\"Residuals (in Millions)\")\n",
    "plt.title(\"Residuals vs Predicted Values\")\n",
    "plt.axhline(y=0, color='r', linestyle='-')\n",
    "plt.show()\n"
   ]
  },
  {
   "cell_type": "markdown",
   "id": "7957f2f1",
   "metadata": {},
   "source": [
    "###### Model Evaluation"
   ]
  },
  {
   "cell_type": "markdown",
   "id": "5badd6ab",
   "metadata": {},
   "source": [
    "- This Support Vector Regressor Model represents a substantial regression compared to the other tuned models \n",
    "- With a mean absolute error of 175k, it is more in line with the un-tuned Decision Tree Regressor\n",
    "- The model has a mean absolute error percentage of 17.30%, representing a very slight improvement from the Untuned Decision Tree Regressor\n",
    "- The model has a median absolute error percentage of 12.71%, representing a slight regression from the Untuned Decision Tree Regressor\n",
    "- Very poor model performance, and therefore, will be excluded from the Stacking Classifier Below"
   ]
  },
  {
   "cell_type": "markdown",
   "id": "8e83e5b3",
   "metadata": {},
   "source": [
    "###### Model #5: Stacking Classifier: Random Forest and XGBoost with Linear Regression Metamodel"
   ]
  },
  {
   "cell_type": "code",
   "execution_count": 299,
   "id": "6297330e",
   "metadata": {},
   "outputs": [],
   "source": [
    "estimators = [\n",
    "    ('xgbr',best_model1), \n",
    "     ('rfr', best_model),\n",
    "]"
   ]
  },
  {
   "cell_type": "code",
   "execution_count": 310,
   "id": "f4cdaa87",
   "metadata": {},
   "outputs": [],
   "source": [
    "from sklearn.linear_model import LinearRegression\n",
    "stack = StackingRegressor(\n",
    "    estimators=estimators, final_estimator=LinearRegression())"
   ]
  },
  {
   "cell_type": "code",
   "execution_count": 311,
   "id": "6f1ee9ae",
   "metadata": {},
   "outputs": [
    {
     "data": {
      "text/html": [
       "<style>#sk-container-id-13 {color: black;}#sk-container-id-13 pre{padding: 0;}#sk-container-id-13 div.sk-toggleable {background-color: white;}#sk-container-id-13 label.sk-toggleable__label {cursor: pointer;display: block;width: 100%;margin-bottom: 0;padding: 0.3em;box-sizing: border-box;text-align: center;}#sk-container-id-13 label.sk-toggleable__label-arrow:before {content: \"▸\";float: left;margin-right: 0.25em;color: #696969;}#sk-container-id-13 label.sk-toggleable__label-arrow:hover:before {color: black;}#sk-container-id-13 div.sk-estimator:hover label.sk-toggleable__label-arrow:before {color: black;}#sk-container-id-13 div.sk-toggleable__content {max-height: 0;max-width: 0;overflow: hidden;text-align: left;background-color: #f0f8ff;}#sk-container-id-13 div.sk-toggleable__content pre {margin: 0.2em;color: black;border-radius: 0.25em;background-color: #f0f8ff;}#sk-container-id-13 input.sk-toggleable__control:checked~div.sk-toggleable__content {max-height: 200px;max-width: 100%;overflow: auto;}#sk-container-id-13 input.sk-toggleable__control:checked~label.sk-toggleable__label-arrow:before {content: \"▾\";}#sk-container-id-13 div.sk-estimator input.sk-toggleable__control:checked~label.sk-toggleable__label {background-color: #d4ebff;}#sk-container-id-13 div.sk-label input.sk-toggleable__control:checked~label.sk-toggleable__label {background-color: #d4ebff;}#sk-container-id-13 input.sk-hidden--visually {border: 0;clip: rect(1px 1px 1px 1px);clip: rect(1px, 1px, 1px, 1px);height: 1px;margin: -1px;overflow: hidden;padding: 0;position: absolute;width: 1px;}#sk-container-id-13 div.sk-estimator {font-family: monospace;background-color: #f0f8ff;border: 1px dotted black;border-radius: 0.25em;box-sizing: border-box;margin-bottom: 0.5em;}#sk-container-id-13 div.sk-estimator:hover {background-color: #d4ebff;}#sk-container-id-13 div.sk-parallel-item::after {content: \"\";width: 100%;border-bottom: 1px solid gray;flex-grow: 1;}#sk-container-id-13 div.sk-label:hover label.sk-toggleable__label {background-color: #d4ebff;}#sk-container-id-13 div.sk-serial::before {content: \"\";position: absolute;border-left: 1px solid gray;box-sizing: border-box;top: 0;bottom: 0;left: 50%;z-index: 0;}#sk-container-id-13 div.sk-serial {display: flex;flex-direction: column;align-items: center;background-color: white;padding-right: 0.2em;padding-left: 0.2em;position: relative;}#sk-container-id-13 div.sk-item {position: relative;z-index: 1;}#sk-container-id-13 div.sk-parallel {display: flex;align-items: stretch;justify-content: center;background-color: white;position: relative;}#sk-container-id-13 div.sk-item::before, #sk-container-id-13 div.sk-parallel-item::before {content: \"\";position: absolute;border-left: 1px solid gray;box-sizing: border-box;top: 0;bottom: 0;left: 50%;z-index: -1;}#sk-container-id-13 div.sk-parallel-item {display: flex;flex-direction: column;z-index: 1;position: relative;background-color: white;}#sk-container-id-13 div.sk-parallel-item:first-child::after {align-self: flex-end;width: 50%;}#sk-container-id-13 div.sk-parallel-item:last-child::after {align-self: flex-start;width: 50%;}#sk-container-id-13 div.sk-parallel-item:only-child::after {width: 0;}#sk-container-id-13 div.sk-dashed-wrapped {border: 1px dashed gray;margin: 0 0.4em 0.5em 0.4em;box-sizing: border-box;padding-bottom: 0.4em;background-color: white;}#sk-container-id-13 div.sk-label label {font-family: monospace;font-weight: bold;display: inline-block;line-height: 1.2em;}#sk-container-id-13 div.sk-label-container {text-align: center;}#sk-container-id-13 div.sk-container {/* jupyter's `normalize.less` sets `[hidden] { display: none; }` but bootstrap.min.css set `[hidden] { display: none !important; }` so we also need the `!important` here to be able to override the default hidden behavior on the sphinx rendered scikit-learn.org. See: https://github.com/scikit-learn/scikit-learn/issues/21755 */display: inline-block !important;position: relative;}#sk-container-id-13 div.sk-text-repr-fallback {display: none;}</style><div id=\"sk-container-id-13\" class=\"sk-top-container\"><div class=\"sk-text-repr-fallback\"><pre>StackingRegressor(estimators=[(&#x27;xgbr&#x27;,\n",
       "                               Pipeline(steps=[(&#x27;preprocessing&#x27;,\n",
       "                                                ColumnTransformer(transformers=[(&#x27;num&#x27;,\n",
       "                                                                                 Pipeline(steps=[(&#x27;imputer&#x27;,\n",
       "                                                                                                  SimpleImputer()),\n",
       "                                                                                                 (&#x27;scaler&#x27;,\n",
       "                                                                                                  StandardScaler())]),\n",
       "                                                                                 Index([&#x27;Age&#x27;, &#x27;ZIP OR POSTAL CODE&#x27;, &#x27;BEDS&#x27;, &#x27;BATHS&#x27;, &#x27;SQUARE FEET&#x27;,\n",
       "       &#x27;LOT SIZE&#x27;],\n",
       "      dtype=&#x27;object&#x27;)),\n",
       "                                                                                (&#x27;cat&#x27;,\n",
       "                                                                                 Pipeline(steps=[(&#x27;onehot&#x27;,\n",
       "                                                                                                  OneHotEncoder(drop=&#x27;first&#x27;))]),\n",
       "                                                                                 Index([&#x27;SALE TYP...\n",
       "                                                                                 &#x27;passthrough&#x27;,\n",
       "                                                                                 Index([&#x27;12_bath&#x27;, &#x27;175_bath&#x27;, &#x27;1_bath&#x27;, &#x27;1_bedroom&#x27;, &#x27;1_car&#x27;, &#x27;2_bath&#x27;,\n",
       "       &#x27;2_bed&#x27;, &#x27;2_bedroom&#x27;, &#x27;2_car&#x27;, &#x27;2nd_floor&#x27;,\n",
       "       ...\n",
       "       &#x27;window&#x27;, &#x27;wonderful&#x27;, &#x27;wood_burn&#x27;, &#x27;wood_floor&#x27;, &#x27;work&#x27;, &#x27;work_home&#x27;,\n",
       "       &#x27;yard&#x27;, &#x27;year&#x27;, &#x27;year_round&#x27;, &#x27;yet&#x27;],\n",
       "      dtype=&#x27;object&#x27;, length=663))])),\n",
       "                                               (&#x27;regressor&#x27;,\n",
       "                                                RandomForestRegressor(n_estimators=300,\n",
       "                                                                      random_state=42))]))],\n",
       "                  final_estimator=LinearRegression())</pre><b>In a Jupyter environment, please rerun this cell to show the HTML representation or trust the notebook. <br />On GitHub, the HTML representation is unable to render, please try loading this page with nbviewer.org.</b></div><div class=\"sk-container\" hidden><div class=\"sk-item sk-dashed-wrapped\"><div class=\"sk-label-container\"><div class=\"sk-label sk-toggleable\"><input class=\"sk-toggleable__control sk-hidden--visually\" id=\"sk-estimator-id-88\" type=\"checkbox\" ><label for=\"sk-estimator-id-88\" class=\"sk-toggleable__label sk-toggleable__label-arrow\">StackingRegressor</label><div class=\"sk-toggleable__content\"><pre>StackingRegressor(estimators=[(&#x27;xgbr&#x27;,\n",
       "                               Pipeline(steps=[(&#x27;preprocessing&#x27;,\n",
       "                                                ColumnTransformer(transformers=[(&#x27;num&#x27;,\n",
       "                                                                                 Pipeline(steps=[(&#x27;imputer&#x27;,\n",
       "                                                                                                  SimpleImputer()),\n",
       "                                                                                                 (&#x27;scaler&#x27;,\n",
       "                                                                                                  StandardScaler())]),\n",
       "                                                                                 Index([&#x27;Age&#x27;, &#x27;ZIP OR POSTAL CODE&#x27;, &#x27;BEDS&#x27;, &#x27;BATHS&#x27;, &#x27;SQUARE FEET&#x27;,\n",
       "       &#x27;LOT SIZE&#x27;],\n",
       "      dtype=&#x27;object&#x27;)),\n",
       "                                                                                (&#x27;cat&#x27;,\n",
       "                                                                                 Pipeline(steps=[(&#x27;onehot&#x27;,\n",
       "                                                                                                  OneHotEncoder(drop=&#x27;first&#x27;))]),\n",
       "                                                                                 Index([&#x27;SALE TYP...\n",
       "                                                                                 &#x27;passthrough&#x27;,\n",
       "                                                                                 Index([&#x27;12_bath&#x27;, &#x27;175_bath&#x27;, &#x27;1_bath&#x27;, &#x27;1_bedroom&#x27;, &#x27;1_car&#x27;, &#x27;2_bath&#x27;,\n",
       "       &#x27;2_bed&#x27;, &#x27;2_bedroom&#x27;, &#x27;2_car&#x27;, &#x27;2nd_floor&#x27;,\n",
       "       ...\n",
       "       &#x27;window&#x27;, &#x27;wonderful&#x27;, &#x27;wood_burn&#x27;, &#x27;wood_floor&#x27;, &#x27;work&#x27;, &#x27;work_home&#x27;,\n",
       "       &#x27;yard&#x27;, &#x27;year&#x27;, &#x27;year_round&#x27;, &#x27;yet&#x27;],\n",
       "      dtype=&#x27;object&#x27;, length=663))])),\n",
       "                                               (&#x27;regressor&#x27;,\n",
       "                                                RandomForestRegressor(n_estimators=300,\n",
       "                                                                      random_state=42))]))],\n",
       "                  final_estimator=LinearRegression())</pre></div></div></div><div class=\"sk-serial\"><div class=\"sk-item\"><div class=\"sk-parallel\"><div class=\"sk-parallel-item\"><div class=\"sk-item\"><div class=\"sk-label-container\"><div class=\"sk-label sk-toggleable\"><label>xgbr</label></div></div><div class=\"sk-serial\"><div class=\"sk-item\"><div class=\"sk-serial\"><div class=\"sk-item sk-dashed-wrapped\"><div class=\"sk-label-container\"><div class=\"sk-label sk-toggleable\"><input class=\"sk-toggleable__control sk-hidden--visually\" id=\"sk-estimator-id-89\" type=\"checkbox\" ><label for=\"sk-estimator-id-89\" class=\"sk-toggleable__label sk-toggleable__label-arrow\">preprocessing: ColumnTransformer</label><div class=\"sk-toggleable__content\"><pre>ColumnTransformer(transformers=[(&#x27;num&#x27;,\n",
       "                                 Pipeline(steps=[(&#x27;imputer&#x27;, SimpleImputer()),\n",
       "                                                 (&#x27;scaler&#x27;, StandardScaler())]),\n",
       "                                 Index([&#x27;Age&#x27;, &#x27;ZIP OR POSTAL CODE&#x27;, &#x27;BEDS&#x27;, &#x27;BATHS&#x27;, &#x27;SQUARE FEET&#x27;,\n",
       "       &#x27;LOT SIZE&#x27;],\n",
       "      dtype=&#x27;object&#x27;)),\n",
       "                                (&#x27;cat&#x27;,\n",
       "                                 Pipeline(steps=[(&#x27;onehot&#x27;,\n",
       "                                                  OneHotEncoder(drop=&#x27;first&#x27;))]),\n",
       "                                 Index([&#x27;SALE TYPE&#x27;, &#x27;PROPERTY TYPE&#x27;, &#x27;LOCATION&#x27;], dtype=&#x27;object&#x27;)),\n",
       "                                (&#x27;bow&#x27;, &#x27;passthrough&#x27;,\n",
       "                                 Index([&#x27;12_bath&#x27;, &#x27;175_bath&#x27;, &#x27;1_bath&#x27;, &#x27;1_bedroom&#x27;, &#x27;1_car&#x27;, &#x27;2_bath&#x27;,\n",
       "       &#x27;2_bed&#x27;, &#x27;2_bedroom&#x27;, &#x27;2_car&#x27;, &#x27;2nd_floor&#x27;,\n",
       "       ...\n",
       "       &#x27;window&#x27;, &#x27;wonderful&#x27;, &#x27;wood_burn&#x27;, &#x27;wood_floor&#x27;, &#x27;work&#x27;, &#x27;work_home&#x27;,\n",
       "       &#x27;yard&#x27;, &#x27;year&#x27;, &#x27;year_round&#x27;, &#x27;yet&#x27;],\n",
       "      dtype=&#x27;object&#x27;, length=663))])</pre></div></div></div><div class=\"sk-parallel\"><div class=\"sk-parallel-item\"><div class=\"sk-item\"><div class=\"sk-label-container\"><div class=\"sk-label sk-toggleable\"><input class=\"sk-toggleable__control sk-hidden--visually\" id=\"sk-estimator-id-90\" type=\"checkbox\" ><label for=\"sk-estimator-id-90\" class=\"sk-toggleable__label sk-toggleable__label-arrow\">num</label><div class=\"sk-toggleable__content\"><pre>Index([&#x27;Age&#x27;, &#x27;ZIP OR POSTAL CODE&#x27;, &#x27;BEDS&#x27;, &#x27;BATHS&#x27;, &#x27;SQUARE FEET&#x27;,\n",
       "       &#x27;LOT SIZE&#x27;],\n",
       "      dtype=&#x27;object&#x27;)</pre></div></div></div><div class=\"sk-serial\"><div class=\"sk-item\"><div class=\"sk-serial\"><div class=\"sk-item\"><div class=\"sk-estimator sk-toggleable\"><input class=\"sk-toggleable__control sk-hidden--visually\" id=\"sk-estimator-id-91\" type=\"checkbox\" ><label for=\"sk-estimator-id-91\" class=\"sk-toggleable__label sk-toggleable__label-arrow\">SimpleImputer</label><div class=\"sk-toggleable__content\"><pre>SimpleImputer()</pre></div></div></div><div class=\"sk-item\"><div class=\"sk-estimator sk-toggleable\"><input class=\"sk-toggleable__control sk-hidden--visually\" id=\"sk-estimator-id-92\" type=\"checkbox\" ><label for=\"sk-estimator-id-92\" class=\"sk-toggleable__label sk-toggleable__label-arrow\">StandardScaler</label><div class=\"sk-toggleable__content\"><pre>StandardScaler()</pre></div></div></div></div></div></div></div></div><div class=\"sk-parallel-item\"><div class=\"sk-item\"><div class=\"sk-label-container\"><div class=\"sk-label sk-toggleable\"><input class=\"sk-toggleable__control sk-hidden--visually\" id=\"sk-estimator-id-93\" type=\"checkbox\" ><label for=\"sk-estimator-id-93\" class=\"sk-toggleable__label sk-toggleable__label-arrow\">cat</label><div class=\"sk-toggleable__content\"><pre>Index([&#x27;SALE TYPE&#x27;, &#x27;PROPERTY TYPE&#x27;, &#x27;LOCATION&#x27;], dtype=&#x27;object&#x27;)</pre></div></div></div><div class=\"sk-serial\"><div class=\"sk-item\"><div class=\"sk-serial\"><div class=\"sk-item\"><div class=\"sk-estimator sk-toggleable\"><input class=\"sk-toggleable__control sk-hidden--visually\" id=\"sk-estimator-id-94\" type=\"checkbox\" ><label for=\"sk-estimator-id-94\" class=\"sk-toggleable__label sk-toggleable__label-arrow\">OneHotEncoder</label><div class=\"sk-toggleable__content\"><pre>OneHotEncoder(drop=&#x27;first&#x27;)</pre></div></div></div></div></div></div></div></div><div class=\"sk-parallel-item\"><div class=\"sk-item\"><div class=\"sk-label-container\"><div class=\"sk-label sk-toggleable\"><input class=\"sk-toggleable__control sk-hidden--visually\" id=\"sk-estimator-id-95\" type=\"checkbox\" ><label for=\"sk-estimator-id-95\" class=\"sk-toggleable__label sk-toggleable__label-arrow\">bow</label><div class=\"sk-toggleable__content\"><pre>Index([&#x27;12_bath&#x27;, &#x27;175_bath&#x27;, &#x27;1_bath&#x27;, &#x27;1_bedroom&#x27;, &#x27;1_car&#x27;, &#x27;2_bath&#x27;,\n",
       "       &#x27;2_bed&#x27;, &#x27;2_bedroom&#x27;, &#x27;2_car&#x27;, &#x27;2nd_floor&#x27;,\n",
       "       ...\n",
       "       &#x27;window&#x27;, &#x27;wonderful&#x27;, &#x27;wood_burn&#x27;, &#x27;wood_floor&#x27;, &#x27;work&#x27;, &#x27;work_home&#x27;,\n",
       "       &#x27;yard&#x27;, &#x27;year&#x27;, &#x27;year_round&#x27;, &#x27;yet&#x27;],\n",
       "      dtype=&#x27;object&#x27;, length=663)</pre></div></div></div><div class=\"sk-serial\"><div class=\"sk-item\"><div class=\"sk-estimator sk-toggleable\"><input class=\"sk-toggleable__control sk-hidden--visually\" id=\"sk-estimator-id-96\" type=\"checkbox\" ><label for=\"sk-estimator-id-96\" class=\"sk-toggleable__label sk-toggleable__label-arrow\">passthrough</label><div class=\"sk-toggleable__content\"><pre>passthrough</pre></div></div></div></div></div></div></div></div><div class=\"sk-item\"><div class=\"sk-estimator sk-toggleable\"><input class=\"sk-toggleable__control sk-hidden--visually\" id=\"sk-estimator-id-97\" type=\"checkbox\" ><label for=\"sk-estimator-id-97\" class=\"sk-toggleable__label sk-toggleable__label-arrow\">XGBRegressor</label><div class=\"sk-toggleable__content\"><pre>XGBRegressor(base_score=0.5, booster=&#x27;gbtree&#x27;, colsample_bylevel=1,\n",
       "             colsample_bynode=1, colsample_bytree=0.6, gamma=0, gpu_id=-1,\n",
       "             importance_type=&#x27;gain&#x27;, interaction_constraints=&#x27;&#x27;,\n",
       "             learning_rate=0.05, max_delta_step=0, max_depth=10,\n",
       "             min_child_weight=4, missing=nan, monotone_constraints=&#x27;()&#x27;,\n",
       "             n_estimators=500, n_jobs=0, num_parallel_tree=1, random_state=42,\n",
       "             reg_alpha=0, reg_lambda=1, scale_pos_weight=1, subsample=1.0,\n",
       "             tree_method=&#x27;exact&#x27;, validate_parameters=1, verbosity=None)</pre></div></div></div></div></div></div></div></div><div class=\"sk-parallel-item\"><div class=\"sk-item\"><div class=\"sk-label-container\"><div class=\"sk-label sk-toggleable\"><label>rfr</label></div></div><div class=\"sk-serial\"><div class=\"sk-item\"><div class=\"sk-serial\"><div class=\"sk-item sk-dashed-wrapped\"><div class=\"sk-label-container\"><div class=\"sk-label sk-toggleable\"><input class=\"sk-toggleable__control sk-hidden--visually\" id=\"sk-estimator-id-98\" type=\"checkbox\" ><label for=\"sk-estimator-id-98\" class=\"sk-toggleable__label sk-toggleable__label-arrow\">preprocessing: ColumnTransformer</label><div class=\"sk-toggleable__content\"><pre>ColumnTransformer(transformers=[(&#x27;num&#x27;,\n",
       "                                 Pipeline(steps=[(&#x27;imputer&#x27;, SimpleImputer()),\n",
       "                                                 (&#x27;scaler&#x27;, StandardScaler())]),\n",
       "                                 Index([&#x27;Age&#x27;, &#x27;ZIP OR POSTAL CODE&#x27;, &#x27;BEDS&#x27;, &#x27;BATHS&#x27;, &#x27;SQUARE FEET&#x27;,\n",
       "       &#x27;LOT SIZE&#x27;],\n",
       "      dtype=&#x27;object&#x27;)),\n",
       "                                (&#x27;cat&#x27;,\n",
       "                                 Pipeline(steps=[(&#x27;onehot&#x27;,\n",
       "                                                  OneHotEncoder(drop=&#x27;first&#x27;))]),\n",
       "                                 Index([&#x27;SALE TYPE&#x27;, &#x27;PROPERTY TYPE&#x27;, &#x27;LOCATION&#x27;], dtype=&#x27;object&#x27;)),\n",
       "                                (&#x27;bow&#x27;, &#x27;passthrough&#x27;,\n",
       "                                 Index([&#x27;12_bath&#x27;, &#x27;175_bath&#x27;, &#x27;1_bath&#x27;, &#x27;1_bedroom&#x27;, &#x27;1_car&#x27;, &#x27;2_bath&#x27;,\n",
       "       &#x27;2_bed&#x27;, &#x27;2_bedroom&#x27;, &#x27;2_car&#x27;, &#x27;2nd_floor&#x27;,\n",
       "       ...\n",
       "       &#x27;window&#x27;, &#x27;wonderful&#x27;, &#x27;wood_burn&#x27;, &#x27;wood_floor&#x27;, &#x27;work&#x27;, &#x27;work_home&#x27;,\n",
       "       &#x27;yard&#x27;, &#x27;year&#x27;, &#x27;year_round&#x27;, &#x27;yet&#x27;],\n",
       "      dtype=&#x27;object&#x27;, length=663))])</pre></div></div></div><div class=\"sk-parallel\"><div class=\"sk-parallel-item\"><div class=\"sk-item\"><div class=\"sk-label-container\"><div class=\"sk-label sk-toggleable\"><input class=\"sk-toggleable__control sk-hidden--visually\" id=\"sk-estimator-id-99\" type=\"checkbox\" ><label for=\"sk-estimator-id-99\" class=\"sk-toggleable__label sk-toggleable__label-arrow\">num</label><div class=\"sk-toggleable__content\"><pre>Index([&#x27;Age&#x27;, &#x27;ZIP OR POSTAL CODE&#x27;, &#x27;BEDS&#x27;, &#x27;BATHS&#x27;, &#x27;SQUARE FEET&#x27;,\n",
       "       &#x27;LOT SIZE&#x27;],\n",
       "      dtype=&#x27;object&#x27;)</pre></div></div></div><div class=\"sk-serial\"><div class=\"sk-item\"><div class=\"sk-serial\"><div class=\"sk-item\"><div class=\"sk-estimator sk-toggleable\"><input class=\"sk-toggleable__control sk-hidden--visually\" id=\"sk-estimator-id-100\" type=\"checkbox\" ><label for=\"sk-estimator-id-100\" class=\"sk-toggleable__label sk-toggleable__label-arrow\">SimpleImputer</label><div class=\"sk-toggleable__content\"><pre>SimpleImputer()</pre></div></div></div><div class=\"sk-item\"><div class=\"sk-estimator sk-toggleable\"><input class=\"sk-toggleable__control sk-hidden--visually\" id=\"sk-estimator-id-101\" type=\"checkbox\" ><label for=\"sk-estimator-id-101\" class=\"sk-toggleable__label sk-toggleable__label-arrow\">StandardScaler</label><div class=\"sk-toggleable__content\"><pre>StandardScaler()</pre></div></div></div></div></div></div></div></div><div class=\"sk-parallel-item\"><div class=\"sk-item\"><div class=\"sk-label-container\"><div class=\"sk-label sk-toggleable\"><input class=\"sk-toggleable__control sk-hidden--visually\" id=\"sk-estimator-id-102\" type=\"checkbox\" ><label for=\"sk-estimator-id-102\" class=\"sk-toggleable__label sk-toggleable__label-arrow\">cat</label><div class=\"sk-toggleable__content\"><pre>Index([&#x27;SALE TYPE&#x27;, &#x27;PROPERTY TYPE&#x27;, &#x27;LOCATION&#x27;], dtype=&#x27;object&#x27;)</pre></div></div></div><div class=\"sk-serial\"><div class=\"sk-item\"><div class=\"sk-serial\"><div class=\"sk-item\"><div class=\"sk-estimator sk-toggleable\"><input class=\"sk-toggleable__control sk-hidden--visually\" id=\"sk-estimator-id-103\" type=\"checkbox\" ><label for=\"sk-estimator-id-103\" class=\"sk-toggleable__label sk-toggleable__label-arrow\">OneHotEncoder</label><div class=\"sk-toggleable__content\"><pre>OneHotEncoder(drop=&#x27;first&#x27;)</pre></div></div></div></div></div></div></div></div><div class=\"sk-parallel-item\"><div class=\"sk-item\"><div class=\"sk-label-container\"><div class=\"sk-label sk-toggleable\"><input class=\"sk-toggleable__control sk-hidden--visually\" id=\"sk-estimator-id-104\" type=\"checkbox\" ><label for=\"sk-estimator-id-104\" class=\"sk-toggleable__label sk-toggleable__label-arrow\">bow</label><div class=\"sk-toggleable__content\"><pre>Index([&#x27;12_bath&#x27;, &#x27;175_bath&#x27;, &#x27;1_bath&#x27;, &#x27;1_bedroom&#x27;, &#x27;1_car&#x27;, &#x27;2_bath&#x27;,\n",
       "       &#x27;2_bed&#x27;, &#x27;2_bedroom&#x27;, &#x27;2_car&#x27;, &#x27;2nd_floor&#x27;,\n",
       "       ...\n",
       "       &#x27;window&#x27;, &#x27;wonderful&#x27;, &#x27;wood_burn&#x27;, &#x27;wood_floor&#x27;, &#x27;work&#x27;, &#x27;work_home&#x27;,\n",
       "       &#x27;yard&#x27;, &#x27;year&#x27;, &#x27;year_round&#x27;, &#x27;yet&#x27;],\n",
       "      dtype=&#x27;object&#x27;, length=663)</pre></div></div></div><div class=\"sk-serial\"><div class=\"sk-item\"><div class=\"sk-estimator sk-toggleable\"><input class=\"sk-toggleable__control sk-hidden--visually\" id=\"sk-estimator-id-105\" type=\"checkbox\" ><label for=\"sk-estimator-id-105\" class=\"sk-toggleable__label sk-toggleable__label-arrow\">passthrough</label><div class=\"sk-toggleable__content\"><pre>passthrough</pre></div></div></div></div></div></div></div></div><div class=\"sk-item\"><div class=\"sk-estimator sk-toggleable\"><input class=\"sk-toggleable__control sk-hidden--visually\" id=\"sk-estimator-id-106\" type=\"checkbox\" ><label for=\"sk-estimator-id-106\" class=\"sk-toggleable__label sk-toggleable__label-arrow\">RandomForestRegressor</label><div class=\"sk-toggleable__content\"><pre>RandomForestRegressor(n_estimators=300, random_state=42)</pre></div></div></div></div></div></div></div></div></div></div><div class=\"sk-item\"><div class=\"sk-parallel\"><div class=\"sk-parallel-item\"><div class=\"sk-item\"><div class=\"sk-label-container\"><div class=\"sk-label sk-toggleable\"><label>final_estimator</label></div></div><div class=\"sk-serial\"><div class=\"sk-item\"><div class=\"sk-estimator sk-toggleable\"><input class=\"sk-toggleable__control sk-hidden--visually\" id=\"sk-estimator-id-107\" type=\"checkbox\" ><label for=\"sk-estimator-id-107\" class=\"sk-toggleable__label sk-toggleable__label-arrow\">LinearRegression</label><div class=\"sk-toggleable__content\"><pre>LinearRegression()</pre></div></div></div></div></div></div></div></div></div></div></div></div>"
      ],
      "text/plain": [
       "StackingRegressor(estimators=[('xgbr',\n",
       "                               Pipeline(steps=[('preprocessing',\n",
       "                                                ColumnTransformer(transformers=[('num',\n",
       "                                                                                 Pipeline(steps=[('imputer',\n",
       "                                                                                                  SimpleImputer()),\n",
       "                                                                                                 ('scaler',\n",
       "                                                                                                  StandardScaler())]),\n",
       "                                                                                 Index(['Age', 'ZIP OR POSTAL CODE', 'BEDS', 'BATHS', 'SQUARE FEET',\n",
       "       'LOT SIZE'],\n",
       "      dtype='object')),\n",
       "                                                                                ('cat',\n",
       "                                                                                 Pipeline(steps=[('onehot',\n",
       "                                                                                                  OneHotEncoder(drop='first'))]),\n",
       "                                                                                 Index(['SALE TYP...\n",
       "                                                                                 'passthrough',\n",
       "                                                                                 Index(['12_bath', '175_bath', '1_bath', '1_bedroom', '1_car', '2_bath',\n",
       "       '2_bed', '2_bedroom', '2_car', '2nd_floor',\n",
       "       ...\n",
       "       'window', 'wonderful', 'wood_burn', 'wood_floor', 'work', 'work_home',\n",
       "       'yard', 'year', 'year_round', 'yet'],\n",
       "      dtype='object', length=663))])),\n",
       "                                               ('regressor',\n",
       "                                                RandomForestRegressor(n_estimators=300,\n",
       "                                                                      random_state=42))]))],\n",
       "                  final_estimator=LinearRegression())"
      ]
     },
     "execution_count": 311,
     "metadata": {},
     "output_type": "execute_result"
    }
   ],
   "source": [
    "stack.fit(X_train, y_train)"
   ]
  },
  {
   "cell_type": "markdown",
   "id": "a1ddc395",
   "metadata": {},
   "source": [
    "###### Predict on Test "
   ]
  },
  {
   "cell_type": "code",
   "execution_count": 312,
   "id": "05ffcf3b",
   "metadata": {},
   "outputs": [],
   "source": [
    "ypred6 = stack.predict(X_test)"
   ]
  },
  {
   "cell_type": "markdown",
   "id": "e0cbeb42",
   "metadata": {},
   "source": [
    "###### Model Evaluation"
   ]
  },
  {
   "cell_type": "code",
   "execution_count": 313,
   "id": "3721d2b9",
   "metadata": {},
   "outputs": [
    {
     "name": "stdout",
     "output_type": "stream",
     "text": [
      "Mean Absolute Error: 118912.01031772971\n",
      "Mean Squared Error: 39098037781.0808\n",
      "r2: 0.8703407034597063\n"
     ]
    }
   ],
   "source": [
    "mae6 = mean_absolute_error(y_test, ypred6)\n",
    "mse6 = mean_squared_error(y_test, ypred6)\n",
    "r26= r2_score(y_test, ypred6)\n",
    "print(f\"Mean Absolute Error: {mae6}\")\n",
    "print(f\"Mean Squared Error: {mse6}\")\n",
    "print(f\"r2: {r26}\")"
   ]
  },
  {
   "cell_type": "markdown",
   "id": "5f5d5a47",
   "metadata": {},
   "source": [
    "###### Getting Mean Absolute Error Percentage"
   ]
  },
  {
   "cell_type": "code",
   "execution_count": 327,
   "id": "aa211585",
   "metadata": {},
   "outputs": [],
   "source": [
    "y_testnp4, y_prednp4 = np.array(y_test), np.array(ypred6)"
   ]
  },
  {
   "cell_type": "code",
   "execution_count": 331,
   "id": "fde26fa9",
   "metadata": {},
   "outputs": [],
   "source": [
    "mape5 = np.mean(np.abs((y_testnp4 - y_prednp4) / y_testnp4)) * 100"
   ]
  },
  {
   "cell_type": "code",
   "execution_count": 332,
   "id": "0b51a22e",
   "metadata": {
    "scrolled": true
   },
   "outputs": [
    {
     "name": "stdout",
     "output_type": "stream",
     "text": [
      "Mean Absolute Percentage Error%: 12.55%\n"
     ]
    }
   ],
   "source": [
    "print(f\"Mean Absolute Percentage Error%: {mape5:.2f}%\")"
   ]
  },
  {
   "cell_type": "code",
   "execution_count": 335,
   "id": "6cddbf49",
   "metadata": {},
   "outputs": [],
   "source": [
    "absolute_percentage_errors5 = np.abs((y_test - ypred6) / y_test) * 100"
   ]
  },
  {
   "cell_type": "code",
   "execution_count": 336,
   "id": "af027503",
   "metadata": {},
   "outputs": [],
   "source": [
    "median_percentage_error5 = np.median(absolute_percentage_errors5)"
   ]
  },
  {
   "cell_type": "code",
   "execution_count": 337,
   "id": "800928f6",
   "metadata": {},
   "outputs": [
    {
     "name": "stdout",
     "output_type": "stream",
     "text": [
      "Median Absolute Percentage Error: 8.26%\n"
     ]
    }
   ],
   "source": [
    "print(f\"Median Absolute Percentage Error: {median_percentage_error5:.2f}%\")"
   ]
  },
  {
   "cell_type": "markdown",
   "id": "c06515a3",
   "metadata": {},
   "source": [
    "###### Model Prediction Values vs. Ground Truth Values"
   ]
  },
  {
   "cell_type": "code",
   "execution_count": 354,
   "id": "ee347623",
   "metadata": {},
   "outputs": [
    {
     "data": {
      "image/png": "[encoded data removed]",
      "text/plain": [
       "<Figure size 432x288 with 1 Axes>"
      ]
     },
     "metadata": {
      "needs_background": "light"
     },
     "output_type": "display_data"
    }
   ],
   "source": [
    "plt.scatter(y_test, ypred6, alpha=0.2)\n",
    "plt.xlabel(\"Actual Values\")\n",
    "plt.ylabel(\"Predicted Values\")\n",
    "plt.title(\"Actual vs Predicted Values\")\n",
    "\n",
    "plt.show()"
   ]
  },
  {
   "cell_type": "markdown",
   "id": "9db8931a",
   "metadata": {},
   "source": [
    "###### Residuals vs. Predicted Values"
   ]
  },
  {
   "cell_type": "code",
   "execution_count": 359,
   "id": "b574d574",
   "metadata": {},
   "outputs": [
    {
     "data": {
      "image/png": "[encoded data removed]",
      "text/plain": [
       "<Figure size 432x288 with 1 Axes>"
      ]
     },
     "metadata": {
      "needs_background": "light"
     },
     "output_type": "display_data"
    }
   ],
   "source": [
    "residual6 = y_test - ypred6\n",
    "plt.scatter(ypred6, residual6, alpha=0.2)\n",
    "plt.xlabel(\"Predicted Values (in Millions)\")\n",
    "plt.ylabel(\"Residuals (in Millions)\")\n",
    "plt.title(\"Residuals vs Predicted Values\")\n",
    "plt.axhline(y=0, color='r', linestyle='-')\n",
    "plt.show()\n"
   ]
  },
  {
   "cell_type": "markdown",
   "id": "0054400a",
   "metadata": {},
   "source": [
    "###### Model Evaluation"
   ]
  },
  {
   "cell_type": "markdown",
   "id": "5af9e5e2",
   "metadata": {},
   "source": [
    "- The Stacking Regressor Model performs in-line with the hyperparameter tuned XGBoost model.\n",
    "- With a mean absolute error of 118k, it represents a slight but negligible improvement over the XGBoost\n",
    "- The model has a mean absolute error percentage of just 12.55%, representing a miniscule improvement from the XBoost Regressor\n",
    "- The model has a median absolute error percentage of just 8.25%, representing a miniscule regression from the XGBoost Regressor\n",
    "- The Stacking Classifier, though performing in line with the XGBoost model, sacrifices model interpretability and therefore the XGBoost Regressor \n",
    "is selected as the superior model among all permutations tested."
   ]
  },
  {
   "cell_type": "markdown",
   "id": "363567f7",
   "metadata": {},
   "source": [
    "### Overall Conclusion:\n",
    "- The XGBoost Hyper-parameter tuned model performed the best while still providing some level of interpretability, whereas, the stacked regressor performed similarly provides no model intepretability\n",
    "- The Project best model, as expected, significantly underperformed industry standard models with access to much larger reservoirs of information as well as historic pricing and 100's of millions of sales.\n",
    "- The Project best model acheived a median absolute error percentage of 8.19% \n",
    "- Zillow's Zestimate, on the other hand, acheives significantly better performance of 2.11% in the Seattle Metro. \n",
    "\n",
    "### Next Steps and Possible Improvements \n",
    "- A larger dataset, including more historic sales, would likely have increased the project best model performance. \n",
    "- Additionally, Scraping additional features from the Redfin website may have provided more numeric and categorical features to improve model performance\n",
    "- Topic Modeling, Such as Latent Dichlemet Analysis, could provide more salient NLP features and improved model performance. \n",
    "- Expirimenting with NLP methods beyond a simple bigram Bag-of-Words approach might yield more precise predictions"
   ]
  },
  {
   "cell_type": "code",
   "execution_count": null,
   "id": "eec88a48",
   "metadata": {},
   "outputs": [],
   "source": []
  }
 ],
 "metadata": {
  "kernelspec": {
   "display_name": "Python (learn-env)",
   "language": "python",
   "name": "learn-env"
  },
  "language_info": {
   "codemirror_mode": {
    "name": "ipython",
    "version": 3
   },
   "file_extension": ".py",
   "mimetype": "text/x-python",
   "name": "python",
   "nbconvert_exporter": "python",
   "pygments_lexer": "ipython3",
   "version": "3.8.5"
  }
 },
 "nbformat": 4,
 "nbformat_minor": 5
}
