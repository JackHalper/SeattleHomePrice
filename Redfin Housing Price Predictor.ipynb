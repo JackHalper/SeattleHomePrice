{
 "cells": [
  {
   "cell_type": "markdown",
   "id": "f0848e63",
   "metadata": {},
   "source": [
    "# Redfin Listing Price Predictor"
   ]
  },
  {
   "cell_type": "markdown",
   "id": "bd5359e3",
   "metadata": {},
   "source": [
    "## Instructions"
   ]
  },
  {
   "cell_type": "markdown",
   "id": "bc3a68fe",
   "metadata": {},
   "source": [
    "Go To Redfin.com and find the listed property you want to predict \n",
    "- 1. Navigate to Cell in the Toolbar\n",
    "- 2. Select Run All\n",
    "- 3. Input House Information \n",
    "- 4. Copy and Paste House Description \n",
    "- 5. Input House Listing Price \n",
    "- 6. Scroll to the Bottom to Get Predictions\n",
    "\n",
    "- PROPERTY TYPE INPUT OPTIONS (CASE SENSITIVE) \n",
    "    - Single Family Residential\n",
    "    - Condo/Co-op\t\n",
    "    - Townhouse"
   ]
  },
  {
   "cell_type": "code",
   "execution_count": 1,
   "id": "80291062",
   "metadata": {
    "slideshow": {
     "slide_type": "skip"
    }
   },
   "outputs": [],
   "source": [
    "import pandas as pd\n",
    "import nltk\n",
    "from nltk.corpus import stopwords\n",
    "from nltk.stem import WordNetLemmatizer\n",
    "from nltk.tokenize import word_tokenize\n",
    "from sklearn.feature_extraction.text import CountVectorizer, TfidfVectorizer\n",
    "import seaborn as sns\n",
    "import matplotlib.pyplot as plt\n",
    "import numpy as np\n",
    "import spacy \n",
    "import re\n",
    "from gensim.models.phrases import Phraser, Phrases\n",
    "import pickle\n",
    "from datetime import datetime\n",
    "import time"
   ]
  },
  {
   "cell_type": "code",
   "execution_count": 2,
   "id": "3a71f834",
   "metadata": {
    "slideshow": {
     "slide_type": "fragment"
    }
   },
   "outputs": [
    {
     "name": "stdout",
     "output_type": "stream",
     "text": [
      "Enter YEAR BUILT: 2011\n",
      "Enter PROPERTY TYPE: Townhouse\n",
      "Enter ZIP OR POSTAL CODE: 98136\n",
      "Enter BEDS: 3\n",
      "Enter BATHS: 2.5\n",
      "Enter LOCATION: Seaview\n",
      "Enter SQUARE FEET: 1500\n",
      "Enter LOT SIZE: 750\n",
      "Enter Description: Welcome home! This contemporary 3 Bed 2.25 Bath Townhome, located in the heart of West Seattle, features elegant designer finishes & thoughtful floor plan. Spacious Kitchen boasts plank cabinets, Ceasar stone counters, stainless steel appliances, & connects to charming patio for summer BBQ's. Built green in 2011 with Solar Panels, this home blends eco-friendly design with modern aesthetics. The primary suite includes your own private retreat deck with sunset views & a humongous walk-in closet. Incredible proximity to Morgan Junction Restaurants & Bars, a block from Starbucks, the serenity of Lincoln Park & Alki Beach, Westwood Village shopping, & easy commute to downtown Seattle... this is the one!\n",
      "Enter Price720000\n"
     ]
    }
   ],
   "source": [
    "current_year = datetime.now().year\n",
    "current_month = datetime.now().month\n",
    "current_quarter = (current_month - 1) // 3 + 1  # Calculate the quarter based on the current month\n",
    "current_date = datetime.now().date()\n",
    "\n",
    "columns = [\n",
    "    \"Year\",\n",
    "    \"Quarter\",\n",
    "    \"YEAR BUILT\",\n",
    "    \"SALE TYPE\",\n",
    "    \"SOLD DATE\",\n",
    "    \"PROPERTY TYPE\",\n",
    "    \"ZIP OR POSTAL CODE\",\n",
    "    \"BEDS\",\n",
    "    \"BATHS\",\n",
    "    \"LOCATION\",\n",
    "    \"SQUARE FEET\",\n",
    "    \"LOT SIZE\", \n",
    "    \"Description\"\n",
    "]\n",
    "\n",
    "df = pd.DataFrame(columns=columns)\n",
    "for column in columns:\n",
    "    if column == \"Year\":\n",
    "        user_input = current_year\n",
    "    elif column == \"Quarter\":\n",
    "        user_input = current_quarter\n",
    "    elif column == \"SOLD DATE\":\n",
    "        user_input = current_date \n",
    "    elif column == \"SALE TYPE\":\n",
    "        user_input = \"PAST SALE\"  \n",
    "    else:\n",
    "        user_input = input(f\"Enter {column}: \")\n",
    "    df.at[0, column] = user_input\n",
    "price = input(f\"Enter Price\")\n"
   ]
  },
  {
   "cell_type": "code",
   "execution_count": null,
   "id": "3be2dfce",
   "metadata": {},
   "outputs": [],
   "source": []
  },
  {
   "cell_type": "code",
   "execution_count": 3,
   "id": "f830cf39",
   "metadata": {
    "slideshow": {
     "slide_type": "skip"
    }
   },
   "outputs": [],
   "source": [
    "df[\"Age\"] = 2023 - df[\"YEAR BUILT\"].astype(\"int\")\n",
    "df[\"Year\"] = df[\"Year\"].astype(\"int\")\n",
    "df[\"ZIP OR POSTAL CODE\"] = df[\"ZIP OR POSTAL CODE\"].astype(\"int\")\n",
    "df[\"BEDS\"] = df[\"BEDS\"].astype(\"float\")\n",
    "df[\"BATHS\"] = df[\"BATHS\"].astype(\"float\")\n",
    "df[\"SQUARE FEET\"] = df[\"SQUARE FEET\"].astype(\"int\")\n",
    "df[\"LOT SIZE\"] = df[\"LOT SIZE\"].astype(\"int\")\n",
    "df[\"Quarter\"] = df[\"Quarter\"].astype(\"int\")\n",
    "df[\"SOLD DATE\"] = pd.to_datetime(df[\"SOLD DATE\"])\n",
    "df[\"ZIP OR POSTAL CODE\"] = df[\"ZIP OR POSTAL CODE\"].astype(\"int\")"
   ]
  },
  {
   "cell_type": "code",
   "execution_count": 4,
   "id": "31885335",
   "metadata": {
    "slideshow": {
     "slide_type": "skip"
    }
   },
   "outputs": [
    {
     "data": {
      "text/html": [
       "<div>\n",
       "<style scoped>\n",
       "    .dataframe tbody tr th:only-of-type {\n",
       "        vertical-align: middle;\n",
       "    }\n",
       "\n",
       "    .dataframe tbody tr th {\n",
       "        vertical-align: top;\n",
       "    }\n",
       "\n",
       "    .dataframe thead th {\n",
       "        text-align: right;\n",
       "    }\n",
       "</style>\n",
       "<table border=\"1\" class=\"dataframe\">\n",
       "  <thead>\n",
       "    <tr style=\"text-align: right;\">\n",
       "      <th></th>\n",
       "      <th>Year</th>\n",
       "      <th>Quarter</th>\n",
       "      <th>SALE TYPE</th>\n",
       "      <th>SOLD DATE</th>\n",
       "      <th>PROPERTY TYPE</th>\n",
       "      <th>ZIP OR POSTAL CODE</th>\n",
       "      <th>BEDS</th>\n",
       "      <th>BATHS</th>\n",
       "      <th>LOCATION</th>\n",
       "      <th>SQUARE FEET</th>\n",
       "      <th>LOT SIZE</th>\n",
       "      <th>Description</th>\n",
       "      <th>Age</th>\n",
       "    </tr>\n",
       "  </thead>\n",
       "  <tbody>\n",
       "    <tr>\n",
       "      <th>0</th>\n",
       "      <td>2023</td>\n",
       "      <td>4</td>\n",
       "      <td>PAST SALE</td>\n",
       "      <td>2023-11-16</td>\n",
       "      <td>Townhouse</td>\n",
       "      <td>98136</td>\n",
       "      <td>3.0</td>\n",
       "      <td>2.5</td>\n",
       "      <td>Seaview</td>\n",
       "      <td>1500</td>\n",
       "      <td>750</td>\n",
       "      <td>Welcome home! This contemporary 3 Bed 2.25 Bat...</td>\n",
       "      <td>12</td>\n",
       "    </tr>\n",
       "  </tbody>\n",
       "</table>\n",
       "</div>"
      ],
      "text/plain": [
       "   Year  Quarter  SALE TYPE  SOLD DATE PROPERTY TYPE  ZIP OR POSTAL CODE  \\\n",
       "0  2023        4  PAST SALE 2023-11-16     Townhouse               98136   \n",
       "\n",
       "   BEDS  BATHS LOCATION  SQUARE FEET  LOT SIZE  \\\n",
       "0   3.0    2.5  Seaview         1500       750   \n",
       "\n",
       "                                         Description  Age  \n",
       "0  Welcome home! This contemporary 3 Bed 2.25 Bat...   12  "
      ]
     },
     "execution_count": 4,
     "metadata": {},
     "output_type": "execute_result"
    }
   ],
   "source": [
    "df.drop(\"YEAR BUILT\", axis =1)"
   ]
  },
  {
   "cell_type": "code",
   "execution_count": 5,
   "id": "a6c1e514",
   "metadata": {
    "slideshow": {
     "slide_type": "skip"
    }
   },
   "outputs": [],
   "source": [
    "df [\"Description\"] = df[\"Description\"].str.lower()"
   ]
  },
  {
   "cell_type": "code",
   "execution_count": 6,
   "id": "b14c5956",
   "metadata": {
    "slideshow": {
     "slide_type": "skip"
    }
   },
   "outputs": [],
   "source": [
    "nlp = spacy.load('en_core_web_sm')\n",
    "def lemmatize(text): \n",
    "    doc = nlp(text)\n",
    "    lemmatized_text = \" \".join([token.lemma_ for token in doc])\n",
    "    return lemmatized_text"
   ]
  },
  {
   "cell_type": "code",
   "execution_count": 7,
   "id": "58d12430",
   "metadata": {
    "slideshow": {
     "slide_type": "skip"
    }
   },
   "outputs": [],
   "source": [
    "df[\"Description\"] = df[\"Description\"].apply(lemmatize)"
   ]
  },
  {
   "cell_type": "code",
   "execution_count": 8,
   "id": "ba1fc646",
   "metadata": {
    "slideshow": {
     "slide_type": "skip"
    }
   },
   "outputs": [],
   "source": [
    "stop_words = set(stopwords.words('english'))"
   ]
  },
  {
   "cell_type": "code",
   "execution_count": 9,
   "id": "923f245c",
   "metadata": {
    "slideshow": {
     "slide_type": "skip"
    }
   },
   "outputs": [],
   "source": [
    "df[\"Description\"] = df[\"Description\"].apply(word_tokenize)"
   ]
  },
  {
   "cell_type": "code",
   "execution_count": 10,
   "id": "a8c01702",
   "metadata": {
    "slideshow": {
     "slide_type": "skip"
    }
   },
   "outputs": [],
   "source": [
    "clean_words = []\n",
    "for tokenized_description in df[\"Description\"]:\n",
    "    cleaned_tokens = [token for token in tokenized_description if token not in stop_words]\n",
    "    clean_words.append(cleaned_tokens)"
   ]
  },
  {
   "cell_type": "code",
   "execution_count": 11,
   "id": "ece9c757",
   "metadata": {
    "slideshow": {
     "slide_type": "skip"
    }
   },
   "outputs": [],
   "source": [
    "df[\"Description\"] = clean_words"
   ]
  },
  {
   "cell_type": "code",
   "execution_count": 12,
   "id": "298f7854",
   "metadata": {
    "slideshow": {
     "slide_type": "skip"
    }
   },
   "outputs": [],
   "source": [
    "def clean_tokens(tokens):\n",
    "    cleaned_tokens = []\n",
    "    for token in tokens:\n",
    "        cleaned_token = re.sub(r'[^a-zA-Z0-9]', '', token)\n",
    "        if cleaned_token:\n",
    "            cleaned_tokens.append(cleaned_token)\n",
    "    return cleaned_tokens\n",
    "\n"
   ]
  },
  {
   "cell_type": "code",
   "execution_count": 13,
   "id": "7467cfe6",
   "metadata": {
    "slideshow": {
     "slide_type": "skip"
    }
   },
   "outputs": [],
   "source": [
    "df[\"Description\"] = df[\"Description\"].apply(clean_tokens)"
   ]
  },
  {
   "cell_type": "code",
   "execution_count": 14,
   "id": "7c66a0b1",
   "metadata": {
    "slideshow": {
     "slide_type": "skip"
    }
   },
   "outputs": [],
   "source": [
    "with open('Pickled Models/bigram_model.pkl', 'rb') as f:\n",
    "    bigram = pickle.load(f)"
   ]
  },
  {
   "cell_type": "code",
   "execution_count": 15,
   "id": "6db413ac",
   "metadata": {
    "slideshow": {
     "slide_type": "skip"
    }
   },
   "outputs": [],
   "source": [
    "df['Description'] = df['Description'].apply(lambda tokens: ' '.join(bigram[tokens]))"
   ]
  },
  {
   "cell_type": "code",
   "execution_count": 16,
   "id": "a0bd6dfe",
   "metadata": {
    "slideshow": {
     "slide_type": "skip"
    }
   },
   "outputs": [],
   "source": [
    "with open('Pickled Models/vectorizer.pkl', 'rb') as c:\n",
    "    vectorizer = pickle.load(c)"
   ]
  },
  {
   "cell_type": "code",
   "execution_count": 17,
   "id": "186f91c2",
   "metadata": {
    "slideshow": {
     "slide_type": "skip"
    }
   },
   "outputs": [],
   "source": [
    "transformed_df = vectorizer.transform(df[\"Description\"])"
   ]
  },
  {
   "cell_type": "code",
   "execution_count": 18,
   "id": "a682320c",
   "metadata": {
    "slideshow": {
     "slide_type": "skip"
    }
   },
   "outputs": [],
   "source": [
    "df_bow = pd.DataFrame(transformed_df.toarray(), columns=vectorizer.get_feature_names_out())"
   ]
  },
  {
   "cell_type": "code",
   "execution_count": 19,
   "id": "97303be7",
   "metadata": {
    "slideshow": {
     "slide_type": "skip"
    }
   },
   "outputs": [],
   "source": [
    "df.reset_index(drop=True, inplace=True)\n",
    "df_bow.reset_index(drop=True, inplace=True)"
   ]
  },
  {
   "cell_type": "code",
   "execution_count": 20,
   "id": "7b6718ba",
   "metadata": {
    "slideshow": {
     "slide_type": "skip"
    }
   },
   "outputs": [],
   "source": [
    "df_combined = pd.concat([df.drop('Description', axis=1), df_bow], axis=1)"
   ]
  },
  {
   "cell_type": "code",
   "execution_count": 21,
   "id": "97a7a66f",
   "metadata": {
    "slideshow": {
     "slide_type": "skip"
    }
   },
   "outputs": [],
   "source": [
    "df_combined = pd.concat([df.drop('Description', axis=1), df_bow], axis=1)"
   ]
  },
  {
   "cell_type": "code",
   "execution_count": 22,
   "id": "1d50d07c",
   "metadata": {
    "slideshow": {
     "slide_type": "skip"
    }
   },
   "outputs": [],
   "source": [
    "with open('Pickled Models/XGBPipeline.pkl', 'rb') as z:\n",
    "    bestmodel = pickle.load(z)"
   ]
  },
  {
   "cell_type": "code",
   "execution_count": 23,
   "id": "4789803c",
   "metadata": {
    "slideshow": {
     "slide_type": "skip"
    }
   },
   "outputs": [],
   "source": [
    "prediction = bestmodel.predict(df_combined)"
   ]
  },
  {
   "cell_type": "code",
   "execution_count": 24,
   "id": "d190d9ce",
   "metadata": {},
   "outputs": [],
   "source": [
    "price = int(price)"
   ]
  },
  {
   "cell_type": "code",
   "execution_count": 25,
   "id": "94b0e097",
   "metadata": {},
   "outputs": [
    {
     "data": {
      "text/plain": [
       "729865.9"
      ]
     },
     "execution_count": 25,
     "metadata": {},
     "output_type": "execute_result"
    }
   ],
   "source": [
    "prediction[0]"
   ]
  },
  {
   "cell_type": "code",
   "execution_count": 26,
   "id": "3fe2ec47",
   "metadata": {},
   "outputs": [],
   "source": [
    "percentage_error = ((price - prediction[0]) / price) * 100"
   ]
  },
  {
   "cell_type": "code",
   "execution_count": 27,
   "id": "def9a771",
   "metadata": {
    "slideshow": {
     "slide_type": "slide"
    }
   },
   "outputs": [
    {
     "name": "stdout",
     "output_type": "stream",
     "text": [
      "Predicted Sale Price: $729866\n",
      "Listing vs. Predicted Sale Price Error: $9866\n",
      "Percentage Error: -1.37%\n"
     ]
    }
   ],
   "source": [
    "print(f\"Predicted Sale Price: ${prediction[0]:.0f}\")\n",
    "print(f\"Listing vs. Predicted Sale Price Error: ${prediction[0] - price:.0f}\")\n",
    "print(f\"Percentage Error: {percentage_error:.2f}%\")"
   ]
  }
 ],
 "metadata": {
  "celltoolbar": "Slideshow",
  "kernelspec": {
   "display_name": "Python (learn-env)",
   "language": "python",
   "name": "learn-env"
  },
  "language_info": {
   "codemirror_mode": {
    "name": "ipython",
    "version": 3
   },
   "file_extension": ".py",
   "mimetype": "text/x-python",
   "name": "python",
   "nbconvert_exporter": "python",
   "pygments_lexer": "ipython3",
   "version": "3.8.5"
  }
 },
 "nbformat": 4,
 "nbformat_minor": 5
}
