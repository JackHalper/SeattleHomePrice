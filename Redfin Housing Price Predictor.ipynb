{
 "cells": [
  {
   "cell_type": "markdown",
   "id": "c820dde8",
   "metadata": {},
   "source": [
    "# Redfin Listing Price Predictor"
   ]
  },
  {
   "cell_type": "markdown",
   "id": "577b1f9b",
   "metadata": {},
   "source": [
    "## Instructions"
   ]
  },
  {
   "cell_type": "markdown",
   "id": "d906a469",
   "metadata": {},
   "source": [
    "Go To Redfin.com and find the listed property you want to predict \n",
    "- 1. Navigate to Cell in the Toolbar\n",
    "- 2. Select Run All\n",
    "- 3. Input House Information \n",
    "- 4. Copy and Paste House Description \n",
    "- 5. Input House Listing Price \n",
    "- 6. Scroll to the Bottom to Get Predictions\n",
    "\n",
    "- PROPERTY TYPE INPUT OPTIONS (CASE SENSITIVE) \n",
    "    - Single Family Residential\n",
    "    - Condo/Co-op\t\n",
    "    - Townhouse"
   ]
  },
  {
   "cell_type": "code",
   "execution_count": 32,
   "id": "a280fcf3",
   "metadata": {
    "slideshow": {
     "slide_type": "skip"
    }
   },
   "outputs": [],
   "source": [
    "import pandas as pd\n",
    "import nltk\n",
    "from nltk.corpus import stopwords\n",
    "from nltk.stem import WordNetLemmatizer\n",
    "from nltk.tokenize import word_tokenize\n",
    "from sklearn.feature_extraction.text import CountVectorizer, TfidfVectorizer\n",
    "import seaborn as sns\n",
    "import matplotlib.pyplot as plt\n",
    "import numpy as np\n",
    "import spacy \n",
    "import re\n",
    "from gensim.models.phrases import Phraser, Phrases\n",
    "import pickle\n",
    "from datetime import datetime\n",
    "import time"
   ]
  },
  {
   "cell_type": "code",
   "execution_count": 33,
   "id": "eb18e92d",
   "metadata": {
    "slideshow": {
     "slide_type": "fragment"
    }
   },
   "outputs": [
    {
     "name": "stdout",
     "output_type": "stream",
     "text": [
      "Enter YEAR BUILT: 1982\n",
      "Enter PROPERTY TYPE: Townhouse\n",
      "Enter ZIP OR POSTAL CODE: 98199\n",
      "Enter BEDS: 3\n",
      "Enter BATHS: 3\n",
      "Enter LOCATION: Magnolia\n",
      "Enter SQUARE FEET: 4900\n",
      "Enter LOT SIZE: 5000\n",
      "Enter Description: Luxury living in Magnolia's coveted West hill with breathtaking panoramic views of Puget Sound & the Olympics from 3 levels. Natural light streams through the many windows highlighting the open floorplan & well-designed flow of the home. Whether you're hosting in one of many outdoor spaces or nestling by one of four fireplaces, this residence embodies opulent comfort & scenic splendor. Spacious kitchen, gleaming hardwoods, a 2nd living room & main-floor office. Upstairs are 3 bedrooms, including an expansive Primary Suite w/ 5-piece bath, a grand room w/ vaulted ceilings & AC for comfort. Top-of-the-world vistas and awe-inspiring sunsets from the roof deck. Downstairs a versatile rec/media room w/ wet bar. 3-car garage. Unbeatable location!\n",
      "Enter Price2850000\n"
     ]
    }
   ],
   "source": [
    "current_year = datetime.now().year\n",
    "current_month = datetime.now().month\n",
    "current_quarter = (current_month - 1) // 3 + 1  # Calculate the quarter based on the current month\n",
    "current_date = datetime.now().date()\n",
    "\n",
    "columns = [\n",
    "    \"Year\",\n",
    "    \"Quarter\",\n",
    "    \"YEAR BUILT\",\n",
    "    \"SALE TYPE\",\n",
    "    \"SOLD DATE\",\n",
    "    \"PROPERTY TYPE\",\n",
    "    \"ZIP OR POSTAL CODE\",\n",
    "    \"BEDS\",\n",
    "    \"BATHS\",\n",
    "    \"LOCATION\",\n",
    "    \"SQUARE FEET\",\n",
    "    \"LOT SIZE\", \n",
    "    \"Description\"\n",
    "]\n",
    "\n",
    "df = pd.DataFrame(columns=columns)\n",
    "for column in columns:\n",
    "    if column == \"Year\":\n",
    "        user_input = current_year\n",
    "    elif column == \"Quarter\":\n",
    "        user_input = current_quarter\n",
    "    elif column == \"SOLD DATE\":\n",
    "        user_input = current_date \n",
    "    elif column == \"SALE TYPE\":\n",
    "        user_input = \"PAST SALE\"  \n",
    "    else:\n",
    "        user_input = input(f\"Enter {column}: \")\n",
    "    df.at[0, column] = user_input\n",
    "price = input(f\"Enter Price\")\n"
   ]
  },
  {
   "cell_type": "code",
   "execution_count": 34,
   "id": "1e0188da",
   "metadata": {
    "slideshow": {
     "slide_type": "skip"
    }
   },
   "outputs": [],
   "source": [
    "df[\"Age\"] = 2023 - df[\"YEAR BUILT\"].astype(\"int\")\n",
    "df[\"Year\"] = df[\"Year\"].astype(\"int\")\n",
    "df[\"ZIP OR POSTAL CODE\"] = df[\"ZIP OR POSTAL CODE\"].astype(\"int\")\n",
    "df[\"BEDS\"] = df[\"BEDS\"].astype(\"float\")\n",
    "df[\"BATHS\"] = df[\"BATHS\"].astype(\"float\")\n",
    "df[\"SQUARE FEET\"] = df[\"SQUARE FEET\"].astype(\"int\")\n",
    "df[\"LOT SIZE\"] = df[\"LOT SIZE\"].astype(\"int\")\n",
    "df[\"Quarter\"] = df[\"Quarter\"].astype(\"int\")\n",
    "df[\"SOLD DATE\"] = pd.to_datetime(df[\"SOLD DATE\"])\n",
    "df[\"ZIP OR POSTAL CODE\"] = df[\"ZIP OR POSTAL CODE\"].astype(\"int\")"
   ]
  },
  {
   "cell_type": "code",
   "execution_count": 35,
   "id": "24a92d1b",
   "metadata": {
    "slideshow": {
     "slide_type": "skip"
    }
   },
   "outputs": [
    {
     "data": {
      "text/html": [
       "<div>\n",
       "<style scoped>\n",
       "    .dataframe tbody tr th:only-of-type {\n",
       "        vertical-align: middle;\n",
       "    }\n",
       "\n",
       "    .dataframe tbody tr th {\n",
       "        vertical-align: top;\n",
       "    }\n",
       "\n",
       "    .dataframe thead th {\n",
       "        text-align: right;\n",
       "    }\n",
       "</style>\n",
       "<table border=\"1\" class=\"dataframe\">\n",
       "  <thead>\n",
       "    <tr style=\"text-align: right;\">\n",
       "      <th></th>\n",
       "      <th>Year</th>\n",
       "      <th>Quarter</th>\n",
       "      <th>SALE TYPE</th>\n",
       "      <th>SOLD DATE</th>\n",
       "      <th>PROPERTY TYPE</th>\n",
       "      <th>ZIP OR POSTAL CODE</th>\n",
       "      <th>BEDS</th>\n",
       "      <th>BATHS</th>\n",
       "      <th>LOCATION</th>\n",
       "      <th>SQUARE FEET</th>\n",
       "      <th>LOT SIZE</th>\n",
       "      <th>Description</th>\n",
       "      <th>Age</th>\n",
       "    </tr>\n",
       "  </thead>\n",
       "  <tbody>\n",
       "    <tr>\n",
       "      <th>0</th>\n",
       "      <td>2023</td>\n",
       "      <td>4</td>\n",
       "      <td>PAST SALE</td>\n",
       "      <td>2023-11-15</td>\n",
       "      <td>Townhouse</td>\n",
       "      <td>98199</td>\n",
       "      <td>3.0</td>\n",
       "      <td>3.0</td>\n",
       "      <td>Magnolia</td>\n",
       "      <td>4900</td>\n",
       "      <td>5000</td>\n",
       "      <td>Luxury living in Magnolia's coveted West hill ...</td>\n",
       "      <td>41</td>\n",
       "    </tr>\n",
       "  </tbody>\n",
       "</table>\n",
       "</div>"
      ],
      "text/plain": [
       "   Year  Quarter  SALE TYPE  SOLD DATE PROPERTY TYPE  ZIP OR POSTAL CODE  \\\n",
       "0  2023        4  PAST SALE 2023-11-15     Townhouse               98199   \n",
       "\n",
       "   BEDS  BATHS  LOCATION  SQUARE FEET  LOT SIZE  \\\n",
       "0   3.0    3.0  Magnolia         4900      5000   \n",
       "\n",
       "                                         Description  Age  \n",
       "0  Luxury living in Magnolia's coveted West hill ...   41  "
      ]
     },
     "execution_count": 35,
     "metadata": {},
     "output_type": "execute_result"
    }
   ],
   "source": [
    "df.drop(\"YEAR BUILT\", axis =1)"
   ]
  },
  {
   "cell_type": "code",
   "execution_count": 36,
   "id": "dbadf6c5",
   "metadata": {
    "slideshow": {
     "slide_type": "skip"
    }
   },
   "outputs": [],
   "source": [
    "df [\"Description\"] = df[\"Description\"].str.lower()"
   ]
  },
  {
   "cell_type": "code",
   "execution_count": 37,
   "id": "3668d008",
   "metadata": {
    "slideshow": {
     "slide_type": "skip"
    }
   },
   "outputs": [],
   "source": [
    "nlp = spacy.load('en_core_web_sm')\n",
    "def lemmatize(text): \n",
    "    doc = nlp(text)\n",
    "    lemmatized_text = \" \".join([token.lemma_ for token in doc])\n",
    "    return lemmatized_text"
   ]
  },
  {
   "cell_type": "code",
   "execution_count": 38,
   "id": "a8f7c86d",
   "metadata": {
    "slideshow": {
     "slide_type": "skip"
    }
   },
   "outputs": [],
   "source": [
    "df[\"Description\"] = df[\"Description\"].apply(lemmatize)"
   ]
  },
  {
   "cell_type": "code",
   "execution_count": 39,
   "id": "485d1433",
   "metadata": {
    "slideshow": {
     "slide_type": "skip"
    }
   },
   "outputs": [],
   "source": [
    "stop_words = set(stopwords.words('english'))"
   ]
  },
  {
   "cell_type": "code",
   "execution_count": 40,
   "id": "4282c292",
   "metadata": {
    "slideshow": {
     "slide_type": "skip"
    }
   },
   "outputs": [],
   "source": [
    "df[\"Description\"] = df[\"Description\"].apply(word_tokenize)"
   ]
  },
  {
   "cell_type": "code",
   "execution_count": 41,
   "id": "1fbdbcec",
   "metadata": {
    "slideshow": {
     "slide_type": "skip"
    }
   },
   "outputs": [],
   "source": [
    "clean_words = []\n",
    "for tokenized_description in df[\"Description\"]:\n",
    "    cleaned_tokens = [token for token in tokenized_description if token not in stop_words]\n",
    "    clean_words.append(cleaned_tokens)"
   ]
  },
  {
   "cell_type": "code",
   "execution_count": 42,
   "id": "8f3927dd",
   "metadata": {
    "slideshow": {
     "slide_type": "skip"
    }
   },
   "outputs": [],
   "source": [
    "df[\"Description\"] = clean_words"
   ]
  },
  {
   "cell_type": "code",
   "execution_count": 43,
   "id": "fb1b819e",
   "metadata": {
    "slideshow": {
     "slide_type": "skip"
    }
   },
   "outputs": [],
   "source": [
    "def clean_tokens(tokens):\n",
    "    cleaned_tokens = []\n",
    "    for token in tokens:\n",
    "        cleaned_token = re.sub(r'[^a-zA-Z0-9]', '', token)\n",
    "        if cleaned_token:\n",
    "            cleaned_tokens.append(cleaned_token)\n",
    "    return cleaned_tokens\n",
    "\n"
   ]
  },
  {
   "cell_type": "code",
   "execution_count": 44,
   "id": "f2285308",
   "metadata": {
    "slideshow": {
     "slide_type": "skip"
    }
   },
   "outputs": [],
   "source": [
    "df[\"Description\"] = df[\"Description\"].apply(clean_tokens)"
   ]
  },
  {
   "cell_type": "code",
   "execution_count": 45,
   "id": "ef4b979c",
   "metadata": {
    "slideshow": {
     "slide_type": "skip"
    }
   },
   "outputs": [],
   "source": [
    "with open('Pickled Models/bigram_model.pkl', 'rb') as f:\n",
    "    bigram = pickle.load(f)"
   ]
  },
  {
   "cell_type": "code",
   "execution_count": 46,
   "id": "ad56eb09",
   "metadata": {
    "slideshow": {
     "slide_type": "skip"
    }
   },
   "outputs": [],
   "source": [
    "df['Description'] = df['Description'].apply(lambda tokens: ' '.join(bigram[tokens]))"
   ]
  },
  {
   "cell_type": "code",
   "execution_count": 47,
   "id": "92441f48",
   "metadata": {
    "slideshow": {
     "slide_type": "skip"
    }
   },
   "outputs": [],
   "source": [
    "with open('Pickled Models/vectorizer.pkl', 'rb') as c:\n",
    "    vectorizer = pickle.load(c)"
   ]
  },
  {
   "cell_type": "code",
   "execution_count": 48,
   "id": "7d1aacd1",
   "metadata": {
    "slideshow": {
     "slide_type": "skip"
    }
   },
   "outputs": [],
   "source": [
    "transformed_df = vectorizer.transform(df[\"Description\"])"
   ]
  },
  {
   "cell_type": "code",
   "execution_count": 49,
   "id": "fd8511ee",
   "metadata": {
    "slideshow": {
     "slide_type": "skip"
    }
   },
   "outputs": [],
   "source": [
    "df_bow = pd.DataFrame(transformed_df.toarray(), columns=vectorizer.get_feature_names_out())"
   ]
  },
  {
   "cell_type": "code",
   "execution_count": 50,
   "id": "81cb8c6a",
   "metadata": {
    "slideshow": {
     "slide_type": "skip"
    }
   },
   "outputs": [],
   "source": [
    "df.reset_index(drop=True, inplace=True)\n",
    "df_bow.reset_index(drop=True, inplace=True)"
   ]
  },
  {
   "cell_type": "code",
   "execution_count": 51,
   "id": "cdccab79",
   "metadata": {
    "slideshow": {
     "slide_type": "skip"
    }
   },
   "outputs": [],
   "source": [
    "df_combined = pd.concat([df.drop('Description', axis=1), df_bow], axis=1)"
   ]
  },
  {
   "cell_type": "code",
   "execution_count": 52,
   "id": "6d7bbfcf",
   "metadata": {
    "slideshow": {
     "slide_type": "skip"
    }
   },
   "outputs": [],
   "source": [
    "df_combined = pd.concat([df.drop('Description', axis=1), df_bow], axis=1)"
   ]
  },
  {
   "cell_type": "code",
   "execution_count": 53,
   "id": "9567ab0f",
   "metadata": {
    "slideshow": {
     "slide_type": "skip"
    }
   },
   "outputs": [],
   "source": [
    "with open('Pickled Models/XGBPipeline.pkl', 'rb') as z:\n",
    "    bestmodel = pickle.load(z)"
   ]
  },
  {
   "cell_type": "code",
   "execution_count": 54,
   "id": "480ba68f",
   "metadata": {
    "slideshow": {
     "slide_type": "skip"
    }
   },
   "outputs": [],
   "source": [
    "prediction = bestmodel.predict(df_combined)"
   ]
  },
  {
   "cell_type": "code",
   "execution_count": 55,
   "id": "28942ccd",
   "metadata": {},
   "outputs": [],
   "source": [
    "price = int(price)"
   ]
  },
  {
   "cell_type": "code",
   "execution_count": 56,
   "id": "6f94a823",
   "metadata": {},
   "outputs": [
    {
     "data": {
      "text/plain": [
       "2094230.0"
      ]
     },
     "execution_count": 56,
     "metadata": {},
     "output_type": "execute_result"
    }
   ],
   "source": [
    "prediction[0]"
   ]
  },
  {
   "cell_type": "code",
   "execution_count": 57,
   "id": "21159c87",
   "metadata": {},
   "outputs": [],
   "source": [
    "percentage_error = ((price - prediction[0]) / price) * 100"
   ]
  },
  {
   "cell_type": "code",
   "execution_count": 58,
   "id": "12e5fc52",
   "metadata": {
    "slideshow": {
     "slide_type": "slide"
    }
   },
   "outputs": [
    {
     "name": "stdout",
     "output_type": "stream",
     "text": [
      "Predicted Sale Price: $2094230\n",
      "Listing vs. Predicted Sale Price Error: $-755770\n",
      "Percentage Error: 26.52%\n"
     ]
    }
   ],
   "source": [
    "print(f\"Predicted Sale Price: ${prediction[0]:.0f}\")\n",
    "print(f\"Listing vs. Predicted Sale Price Error: ${prediction[0] - price:.0f}\")\n",
    "print(f\"Percentage Error: {percentage_error:.2f}%\")"
   ]
  }
 ],
 "metadata": {
  "celltoolbar": "Slideshow",
  "kernelspec": {
   "display_name": "Python (learn-env)",
   "language": "python",
   "name": "learn-env"
  },
  "language_info": {
   "codemirror_mode": {
    "name": "ipython",
    "version": 3
   },
   "file_extension": ".py",
   "mimetype": "text/x-python",
   "name": "python",
   "nbconvert_exporter": "python",
   "pygments_lexer": "ipython3",
   "version": "3.8.5"
  }
 },
 "nbformat": 4,
 "nbformat_minor": 5
}
