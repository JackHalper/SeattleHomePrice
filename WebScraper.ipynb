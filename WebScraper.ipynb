{
 "cells": [
  {
   "cell_type": "markdown",
   "metadata": {},
   "source": [
    "# DataScraping Notebook"
   ]
  },
  {
   "cell_type": "markdown",
   "metadata": {},
   "source": [
    "### Import Relevent Modules for DataScraping"
   ]
  },
  {
   "cell_type": "code",
   "execution_count": 1,
   "metadata": {},
   "outputs": [],
   "source": [
    "import pandas as pd\n",
    "import requests\n",
    "from bs4 import BeautifulSoup\n",
    "from selenium import webdriver\n",
    "from selenium.webdriver.common.by import By\n",
    "from selenium.webdriver.firefox.options import Options\n",
    "from bs4 import BeautifulSoup\n",
    "from selenium.webdriver.common.action_chains import ActionChains\n",
    "import time\n",
    "from fake_useragent import UserAgent"
   ]
  },
  {
   "cell_type": "code",
   "execution_count": null,
   "metadata": {},
   "outputs": [],
   "source": [
    "Webscraping Functio"
   ]
  },
  {
   "cell_type": "code",
   "execution_count": 2,
   "metadata": {},
   "outputs": [],
   "source": [
    "def scrape_and_export_descriptions(input_csv, output_csv):\n",
    "    # Load the input CSV\n",
    "    data = pd.read_csv(input_csv)\n",
    "   \n",
    "    # Rename the column\n",
    "    data = data.rename(columns={'URL (SEE https://www.redfin.com/buy-a-home/comparative-market-analysis FOR INFO ON PRICING)': 'URL'})\n",
    "   \n",
    "    # Function to expand and extract text\n",
    "    def expand_and_extract_text(url):\n",
    "        \n",
    "        chrome_options = Options()\n",
    "        #Intialize\n",
    "        driver = webdriver.Chrome(options=chrome_options)\n",
    "\n",
    "        try:\n",
    "            # Navigate to the URL\n",
    "            driver.get(url)\n",
    "           \n",
    "            # Print the URL being processed\n",
    "            print(f\"Processing URL: {url}\")\n",
    "\n",
    "            # Scroll down by 600 pixels\n",
    "            driver.execute_script(\"window.scrollBy(0, 600);\")\n",
    "\n",
    "            # Click the Show More Button to Expand Description\n",
    "            button = driver.find_element(By.XPATH, '//*[@id=\"marketingRemarks-preview\"]/div[2]/div/button')\n",
    "\n",
    "            # Click the button\n",
    "            button.click()\n",
    "\n",
    "            # Wait for .5 seconds to allow the content to expand \n",
    "            time.sleep(.5)\n",
    "\n",
    "            # Get the page source\n",
    "            page_source = driver.page_source\n",
    "\n",
    "            # Parse the page with BeautifulSoup\n",
    "            soup = BeautifulSoup(page_source, 'html.parser')\n",
    "\n",
    "            # Extract the text content using BeautifulSoup\n",
    "            text_content = soup.find('div', {'class': 'house-info', 'id': 'house-info', 'data-rf-test-id': 'house-info'}).get_text()\n",
    "\n",
    "            return text_content\n",
    "\n",
    "        except Exception as e:\n",
    "            print(f\"Error processing URL: {url}\")\n",
    "            print(e)\n",
    "\n",
    "        finally:\n",
    "            # Close the web driver\n",
    "            driver.quit()\n",
    "\n",
    "  \n",
    "    data['Description'] = data['URL'].apply(expand_and_extract_text)\n",
    "\n",
    "\n",
    "    data.to_csv(output_csv, index=False)"
   ]
  }
 ],
 "metadata": {
  "kernelspec": {
   "display_name": "Python (learn-env)",
   "language": "python",
   "name": "learn-env"
  },
  "language_info": {
   "codemirror_mode": {
    "name": "ipython",
    "version": 3
   },
   "file_extension": ".py",
   "mimetype": "text/x-python",
   "name": "python",
   "nbconvert_exporter": "python",
   "pygments_lexer": "ipython3",
   "version": "3.8.5"
  }
 },
 "nbformat": 4,
 "nbformat_minor": 4
}
