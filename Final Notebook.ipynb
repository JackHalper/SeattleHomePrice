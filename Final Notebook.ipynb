{
 "cells": [
  {
   "cell_type": "markdown",
   "id": "f937cad8",
   "metadata": {},
   "source": [
    "# Final Notebook"
   ]
  },
  {
   "cell_type": "markdown",
   "id": "d895d834",
   "metadata": {},
   "source": [
    "## Introduction"
   ]
  },
  {
   "cell_type": "markdown",
   "id": "03767234",
   "metadata": {},
   "source": [
    "### Importing Relevent Modules"
   ]
  },
  {
   "cell_type": "markdown",
   "id": "9d1fec54",
   "metadata": {},
   "source": [
    "###### Import NLP/Standard Packages"
   ]
  },
  {
   "cell_type": "code",
   "execution_count": 90,
   "id": "b35e9383",
   "metadata": {},
   "outputs": [],
   "source": [
    "import pandas as pd\n",
    "import nltk\n",
    "from nltk.corpus import stopwords\n",
    "from nltk.stem import WordNetLemmatizer\n",
    "from nltk.tokenize import word_tokenize\n",
    "from sklearn.feature_extraction.text import CountVectorizer, TfidfVectorizer\n",
    "import seaborn as sns\n",
    "import matplotlib.pyplot as plt\n",
    "import numpy as np\n",
    "import spacy \n",
    "import re\n",
    "from wordcloud import WordCloud\n",
    "import PIL\n",
    "import stylecloud"
   ]
  },
  {
   "cell_type": "markdown",
   "id": "f19e110b",
   "metadata": {},
   "source": [
    "###### Import Scraped Combined Data "
   ]
  },
  {
   "cell_type": "code",
   "execution_count": 91,
   "id": "b1acd8b6",
   "metadata": {},
   "outputs": [],
   "source": [
    "df = pd.read_csv(\"Redfin Data\\Redfin_Combined.csv\")"
   ]
  },
  {
   "cell_type": "markdown",
   "id": "43002a6b",
   "metadata": {},
   "source": [
    "###### Dropping Properties Where Webscraping Failed"
   ]
  },
  {
   "cell_type": "code",
   "execution_count": 92,
   "id": "b7751312",
   "metadata": {},
   "outputs": [],
   "source": [
    "df = df[df[\"Description\"] != \"Skipped after 4 retries\"]"
   ]
  },
  {
   "cell_type": "code",
   "execution_count": 93,
   "id": "b2aa1923",
   "metadata": {},
   "outputs": [],
   "source": [
    "df = df[df[\"Description\"] != \"NA\"]"
   ]
  },
  {
   "cell_type": "code",
   "execution_count": 94,
   "id": "41c22a5d",
   "metadata": {},
   "outputs": [],
   "source": [
    "df.dropna(subset=[\"Description\"], inplace=True)"
   ]
  },
  {
   "cell_type": "markdown",
   "id": "5126eff4",
   "metadata": {},
   "source": [
    "######  Checking Columns"
   ]
  },
  {
   "cell_type": "code",
   "execution_count": 95,
   "id": "308f4801",
   "metadata": {},
   "outputs": [
    {
     "data": {
      "text/plain": [
       "Index(['SALE TYPE', 'SOLD DATE', 'PROPERTY TYPE', 'ADDRESS', 'CITY',\n",
       "       'STATE OR PROVINCE', 'ZIP OR POSTAL CODE', 'PRICE', 'BEDS', 'BATHS',\n",
       "       'LOCATION', 'SQUARE FEET', 'LOT SIZE', 'YEAR BUILT', 'DAYS ON MARKET',\n",
       "       '$/SQUARE FEET', 'HOA/MONTH', 'STATUS', 'NEXT OPEN HOUSE START TIME',\n",
       "       'NEXT OPEN HOUSE END TIME', 'URL', 'SOURCE', 'MLS#', 'FAVORITE',\n",
       "       'INTERESTED', 'LATITUDE', 'LONGITUDE', 'Description'],\n",
       "      dtype='object')"
      ]
     },
     "execution_count": 95,
     "metadata": {},
     "output_type": "execute_result"
    }
   ],
   "source": [
    "df.columns"
   ]
  },
  {
   "cell_type": "code",
   "execution_count": 96,
   "id": "8904fcf0",
   "metadata": {},
   "outputs": [
    {
     "data": {
      "text/html": [
       "<div>\n",
       "<style scoped>\n",
       "    .dataframe tbody tr th:only-of-type {\n",
       "        vertical-align: middle;\n",
       "    }\n",
       "\n",
       "    .dataframe tbody tr th {\n",
       "        vertical-align: top;\n",
       "    }\n",
       "\n",
       "    .dataframe thead th {\n",
       "        text-align: right;\n",
       "    }\n",
       "</style>\n",
       "<table border=\"1\" class=\"dataframe\">\n",
       "  <thead>\n",
       "    <tr style=\"text-align: right;\">\n",
       "      <th></th>\n",
       "      <th>SALE TYPE</th>\n",
       "      <th>SOLD DATE</th>\n",
       "      <th>PROPERTY TYPE</th>\n",
       "      <th>ADDRESS</th>\n",
       "      <th>CITY</th>\n",
       "      <th>STATE OR PROVINCE</th>\n",
       "      <th>ZIP OR POSTAL CODE</th>\n",
       "      <th>PRICE</th>\n",
       "      <th>BEDS</th>\n",
       "      <th>BATHS</th>\n",
       "      <th>...</th>\n",
       "      <th>NEXT OPEN HOUSE START TIME</th>\n",
       "      <th>NEXT OPEN HOUSE END TIME</th>\n",
       "      <th>URL</th>\n",
       "      <th>SOURCE</th>\n",
       "      <th>MLS#</th>\n",
       "      <th>FAVORITE</th>\n",
       "      <th>INTERESTED</th>\n",
       "      <th>LATITUDE</th>\n",
       "      <th>LONGITUDE</th>\n",
       "      <th>Description</th>\n",
       "    </tr>\n",
       "  </thead>\n",
       "  <tbody>\n",
       "    <tr>\n",
       "      <th>0</th>\n",
       "      <td>PAST SALE</td>\n",
       "      <td>May-30-2023</td>\n",
       "      <td>Single Family Residential</td>\n",
       "      <td>9238 Evanston Ave N</td>\n",
       "      <td>Seattle</td>\n",
       "      <td>WA</td>\n",
       "      <td>98103.0</td>\n",
       "      <td>690000.0</td>\n",
       "      <td>2.0</td>\n",
       "      <td>1.0</td>\n",
       "      <td>...</td>\n",
       "      <td>NaN</td>\n",
       "      <td>NaN</td>\n",
       "      <td>https://www.redfin.com/WA/Seattle/9238-Evansto...</td>\n",
       "      <td>NWMLS as Distributed by MLS Grid</td>\n",
       "      <td>2065664.0</td>\n",
       "      <td>N</td>\n",
       "      <td>Y</td>\n",
       "      <td>47.697164</td>\n",
       "      <td>-122.351014</td>\n",
       "      <td>INVESTORS &amp; homebuyers- Check out this FULLY u...</td>\n",
       "    </tr>\n",
       "    <tr>\n",
       "      <th>1</th>\n",
       "      <td>PAST SALE</td>\n",
       "      <td>September-22-2023</td>\n",
       "      <td>Single Family Residential</td>\n",
       "      <td>1412 N 46th St</td>\n",
       "      <td>Seattle</td>\n",
       "      <td>WA</td>\n",
       "      <td>98103.0</td>\n",
       "      <td>900000.0</td>\n",
       "      <td>2.0</td>\n",
       "      <td>1.5</td>\n",
       "      <td>...</td>\n",
       "      <td>NaN</td>\n",
       "      <td>NaN</td>\n",
       "      <td>https://www.redfin.com/WA/Seattle/1412-N-46th-...</td>\n",
       "      <td>NWMLS as Distributed by MLS Grid</td>\n",
       "      <td>2150815.0</td>\n",
       "      <td>N</td>\n",
       "      <td>Y</td>\n",
       "      <td>47.662339</td>\n",
       "      <td>-122.339990</td>\n",
       "      <td>Charming &amp; undeniably special, you'll fall in ...</td>\n",
       "    </tr>\n",
       "    <tr>\n",
       "      <th>2</th>\n",
       "      <td>PAST SALE</td>\n",
       "      <td>October-27-2023</td>\n",
       "      <td>Condo/Co-op</td>\n",
       "      <td>731 N 94th St #4</td>\n",
       "      <td>Seattle</td>\n",
       "      <td>WA</td>\n",
       "      <td>98103.0</td>\n",
       "      <td>410000.0</td>\n",
       "      <td>2.0</td>\n",
       "      <td>2.0</td>\n",
       "      <td>...</td>\n",
       "      <td>NaN</td>\n",
       "      <td>NaN</td>\n",
       "      <td>https://www.redfin.com/WA/Seattle/731-N-94th-S...</td>\n",
       "      <td>NWMLS as Distributed by MLS Grid</td>\n",
       "      <td>2167654.0</td>\n",
       "      <td>N</td>\n",
       "      <td>Y</td>\n",
       "      <td>47.696649</td>\n",
       "      <td>-122.348650</td>\n",
       "      <td>Welcome home to this move-in ready, recently u...</td>\n",
       "    </tr>\n",
       "    <tr>\n",
       "      <th>3</th>\n",
       "      <td>PAST SALE</td>\n",
       "      <td>July-20-2023</td>\n",
       "      <td>Condo/Co-op</td>\n",
       "      <td>6801 Greenwood Ave N #105</td>\n",
       "      <td>Seattle</td>\n",
       "      <td>WA</td>\n",
       "      <td>98103.0</td>\n",
       "      <td>515000.0</td>\n",
       "      <td>1.0</td>\n",
       "      <td>1.0</td>\n",
       "      <td>...</td>\n",
       "      <td>NaN</td>\n",
       "      <td>NaN</td>\n",
       "      <td>https://www.redfin.com/WA/Seattle/6801-Greenwo...</td>\n",
       "      <td>NWMLS as Distributed by MLS Grid</td>\n",
       "      <td>2127918.0</td>\n",
       "      <td>N</td>\n",
       "      <td>Y</td>\n",
       "      <td>47.678871</td>\n",
       "      <td>-122.355649</td>\n",
       "      <td>Rare opportunity for a bright &amp; airy condo w/ ...</td>\n",
       "    </tr>\n",
       "    <tr>\n",
       "      <th>4</th>\n",
       "      <td>PAST SALE</td>\n",
       "      <td>May-26-2023</td>\n",
       "      <td>Condo/Co-op</td>\n",
       "      <td>8760 Greenwood Ave N Unit N405</td>\n",
       "      <td>Seattle</td>\n",
       "      <td>WA</td>\n",
       "      <td>98103.0</td>\n",
       "      <td>398500.0</td>\n",
       "      <td>1.0</td>\n",
       "      <td>1.0</td>\n",
       "      <td>...</td>\n",
       "      <td>NaN</td>\n",
       "      <td>NaN</td>\n",
       "      <td>https://www.redfin.com/WA/Seattle/8760-Greenwo...</td>\n",
       "      <td>NWMLS as Distributed by MLS Grid</td>\n",
       "      <td>2062567.0</td>\n",
       "      <td>N</td>\n",
       "      <td>Y</td>\n",
       "      <td>47.694002</td>\n",
       "      <td>-122.355046</td>\n",
       "      <td>Light, bright, &amp; centrally located - this beau...</td>\n",
       "    </tr>\n",
       "    <tr>\n",
       "      <th>...</th>\n",
       "      <td>...</td>\n",
       "      <td>...</td>\n",
       "      <td>...</td>\n",
       "      <td>...</td>\n",
       "      <td>...</td>\n",
       "      <td>...</td>\n",
       "      <td>...</td>\n",
       "      <td>...</td>\n",
       "      <td>...</td>\n",
       "      <td>...</td>\n",
       "      <td>...</td>\n",
       "      <td>...</td>\n",
       "      <td>...</td>\n",
       "      <td>...</td>\n",
       "      <td>...</td>\n",
       "      <td>...</td>\n",
       "      <td>...</td>\n",
       "      <td>...</td>\n",
       "      <td>...</td>\n",
       "      <td>...</td>\n",
       "      <td>...</td>\n",
       "    </tr>\n",
       "    <tr>\n",
       "      <th>7056</th>\n",
       "      <td>PAST SALE</td>\n",
       "      <td>November-9-2022</td>\n",
       "      <td>Condo/Co-op</td>\n",
       "      <td>14029 Greenwood Ave N Unit B</td>\n",
       "      <td>Seattle</td>\n",
       "      <td>WA</td>\n",
       "      <td>98133.0</td>\n",
       "      <td>430000.0</td>\n",
       "      <td>2.0</td>\n",
       "      <td>2.0</td>\n",
       "      <td>...</td>\n",
       "      <td>NaN</td>\n",
       "      <td>NaN</td>\n",
       "      <td>https://www.redfin.com/WA/Seattle/14029-Greenw...</td>\n",
       "      <td>NWMLS as Distributed by MLS Grid</td>\n",
       "      <td>1990579.0</td>\n",
       "      <td>N</td>\n",
       "      <td>Y</td>\n",
       "      <td>47.731340</td>\n",
       "      <td>-122.356059</td>\n",
       "      <td>Seller offering $8K credit to buyer for intere...</td>\n",
       "    </tr>\n",
       "    <tr>\n",
       "      <th>7057</th>\n",
       "      <td>PAST SALE</td>\n",
       "      <td>April-20-2023</td>\n",
       "      <td>Townhouse</td>\n",
       "      <td>10170 Holman Rd NW Unit C</td>\n",
       "      <td>Seattle</td>\n",
       "      <td>WA</td>\n",
       "      <td>98177.0</td>\n",
       "      <td>622500.0</td>\n",
       "      <td>2.0</td>\n",
       "      <td>2.0</td>\n",
       "      <td>...</td>\n",
       "      <td>NaN</td>\n",
       "      <td>NaN</td>\n",
       "      <td>https://www.redfin.com/WA/Seattle/10170-Holman...</td>\n",
       "      <td>NWMLS as Distributed by MLS Grid</td>\n",
       "      <td>2038206.0</td>\n",
       "      <td>N</td>\n",
       "      <td>Y</td>\n",
       "      <td>47.703461</td>\n",
       "      <td>-122.358204</td>\n",
       "      <td>New Pricing! Stunning new construction in Crow...</td>\n",
       "    </tr>\n",
       "    <tr>\n",
       "      <th>7058</th>\n",
       "      <td>PAST SALE</td>\n",
       "      <td>May-4-2023</td>\n",
       "      <td>Townhouse</td>\n",
       "      <td>14302 Midvale Ave N</td>\n",
       "      <td>Seattle</td>\n",
       "      <td>WA</td>\n",
       "      <td>98133.0</td>\n",
       "      <td>550000.0</td>\n",
       "      <td>2.0</td>\n",
       "      <td>2.0</td>\n",
       "      <td>...</td>\n",
       "      <td>NaN</td>\n",
       "      <td>NaN</td>\n",
       "      <td>https://www.redfin.com/WA/Seattle/14302-Midval...</td>\n",
       "      <td>NWMLS as Distributed by MLS Grid</td>\n",
       "      <td>2042405.0</td>\n",
       "      <td>N</td>\n",
       "      <td>Y</td>\n",
       "      <td>47.732467</td>\n",
       "      <td>-122.343786</td>\n",
       "      <td>Great value for home buyers or investors!  2 b...</td>\n",
       "    </tr>\n",
       "    <tr>\n",
       "      <th>7059</th>\n",
       "      <td>PAST SALE</td>\n",
       "      <td>December-6-2022</td>\n",
       "      <td>Single Family Residential</td>\n",
       "      <td>727 N 128th St</td>\n",
       "      <td>Seattle</td>\n",
       "      <td>WA</td>\n",
       "      <td>98117.0</td>\n",
       "      <td>755000.0</td>\n",
       "      <td>2.0</td>\n",
       "      <td>2.0</td>\n",
       "      <td>...</td>\n",
       "      <td>NaN</td>\n",
       "      <td>NaN</td>\n",
       "      <td>https://www.redfin.com/WA/Seattle/727-N-128th-...</td>\n",
       "      <td>NWMLS as Distributed by MLS Grid</td>\n",
       "      <td>2005454.0</td>\n",
       "      <td>N</td>\n",
       "      <td>Y</td>\n",
       "      <td>47.722070</td>\n",
       "      <td>-122.349220</td>\n",
       "      <td>Stand-alone new construction with heated 400 S...</td>\n",
       "    </tr>\n",
       "    <tr>\n",
       "      <th>7060</th>\n",
       "      <td>PAST SALE</td>\n",
       "      <td>February-28-2023</td>\n",
       "      <td>Condo/Co-op</td>\n",
       "      <td>11550 Stone Ave N Unit 101-A</td>\n",
       "      <td>Seattle</td>\n",
       "      <td>WA</td>\n",
       "      <td>98133.0</td>\n",
       "      <td>277000.0</td>\n",
       "      <td>1.0</td>\n",
       "      <td>1.0</td>\n",
       "      <td>...</td>\n",
       "      <td>NaN</td>\n",
       "      <td>NaN</td>\n",
       "      <td>https://www.redfin.com/WA/Seattle/11550-Stone-...</td>\n",
       "      <td>NWMLS as Distributed by MLS Grid</td>\n",
       "      <td>2028003.0</td>\n",
       "      <td>N</td>\n",
       "      <td>Y</td>\n",
       "      <td>47.713939</td>\n",
       "      <td>-122.341618</td>\n",
       "      <td>As you enter this ground floor condo, you'll b...</td>\n",
       "    </tr>\n",
       "  </tbody>\n",
       "</table>\n",
       "<p>6308 rows × 28 columns</p>\n",
       "</div>"
      ],
      "text/plain": [
       "      SALE TYPE          SOLD DATE              PROPERTY TYPE  \\\n",
       "0     PAST SALE        May-30-2023  Single Family Residential   \n",
       "1     PAST SALE  September-22-2023  Single Family Residential   \n",
       "2     PAST SALE    October-27-2023                Condo/Co-op   \n",
       "3     PAST SALE       July-20-2023                Condo/Co-op   \n",
       "4     PAST SALE        May-26-2023                Condo/Co-op   \n",
       "...         ...                ...                        ...   \n",
       "7056  PAST SALE    November-9-2022                Condo/Co-op   \n",
       "7057  PAST SALE      April-20-2023                  Townhouse   \n",
       "7058  PAST SALE         May-4-2023                  Townhouse   \n",
       "7059  PAST SALE    December-6-2022  Single Family Residential   \n",
       "7060  PAST SALE   February-28-2023                Condo/Co-op   \n",
       "\n",
       "                             ADDRESS     CITY STATE OR PROVINCE  \\\n",
       "0                9238 Evanston Ave N  Seattle                WA   \n",
       "1                     1412 N 46th St  Seattle                WA   \n",
       "2                   731 N 94th St #4  Seattle                WA   \n",
       "3          6801 Greenwood Ave N #105  Seattle                WA   \n",
       "4     8760 Greenwood Ave N Unit N405  Seattle                WA   \n",
       "...                              ...      ...               ...   \n",
       "7056    14029 Greenwood Ave N Unit B  Seattle                WA   \n",
       "7057       10170 Holman Rd NW Unit C  Seattle                WA   \n",
       "7058             14302 Midvale Ave N  Seattle                WA   \n",
       "7059                  727 N 128th St  Seattle                WA   \n",
       "7060    11550 Stone Ave N Unit 101-A  Seattle                WA   \n",
       "\n",
       "      ZIP OR POSTAL CODE     PRICE  BEDS  BATHS  ...  \\\n",
       "0                98103.0  690000.0   2.0    1.0  ...   \n",
       "1                98103.0  900000.0   2.0    1.5  ...   \n",
       "2                98103.0  410000.0   2.0    2.0  ...   \n",
       "3                98103.0  515000.0   1.0    1.0  ...   \n",
       "4                98103.0  398500.0   1.0    1.0  ...   \n",
       "...                  ...       ...   ...    ...  ...   \n",
       "7056             98133.0  430000.0   2.0    2.0  ...   \n",
       "7057             98177.0  622500.0   2.0    2.0  ...   \n",
       "7058             98133.0  550000.0   2.0    2.0  ...   \n",
       "7059             98117.0  755000.0   2.0    2.0  ...   \n",
       "7060             98133.0  277000.0   1.0    1.0  ...   \n",
       "\n",
       "     NEXT OPEN HOUSE START TIME  NEXT OPEN HOUSE END TIME  \\\n",
       "0                           NaN                       NaN   \n",
       "1                           NaN                       NaN   \n",
       "2                           NaN                       NaN   \n",
       "3                           NaN                       NaN   \n",
       "4                           NaN                       NaN   \n",
       "...                         ...                       ...   \n",
       "7056                        NaN                       NaN   \n",
       "7057                        NaN                       NaN   \n",
       "7058                        NaN                       NaN   \n",
       "7059                        NaN                       NaN   \n",
       "7060                        NaN                       NaN   \n",
       "\n",
       "                                                    URL  \\\n",
       "0     https://www.redfin.com/WA/Seattle/9238-Evansto...   \n",
       "1     https://www.redfin.com/WA/Seattle/1412-N-46th-...   \n",
       "2     https://www.redfin.com/WA/Seattle/731-N-94th-S...   \n",
       "3     https://www.redfin.com/WA/Seattle/6801-Greenwo...   \n",
       "4     https://www.redfin.com/WA/Seattle/8760-Greenwo...   \n",
       "...                                                 ...   \n",
       "7056  https://www.redfin.com/WA/Seattle/14029-Greenw...   \n",
       "7057  https://www.redfin.com/WA/Seattle/10170-Holman...   \n",
       "7058  https://www.redfin.com/WA/Seattle/14302-Midval...   \n",
       "7059  https://www.redfin.com/WA/Seattle/727-N-128th-...   \n",
       "7060  https://www.redfin.com/WA/Seattle/11550-Stone-...   \n",
       "\n",
       "                                SOURCE       MLS#  FAVORITE  INTERESTED  \\\n",
       "0     NWMLS as Distributed by MLS Grid  2065664.0         N           Y   \n",
       "1     NWMLS as Distributed by MLS Grid  2150815.0         N           Y   \n",
       "2     NWMLS as Distributed by MLS Grid  2167654.0         N           Y   \n",
       "3     NWMLS as Distributed by MLS Grid  2127918.0         N           Y   \n",
       "4     NWMLS as Distributed by MLS Grid  2062567.0         N           Y   \n",
       "...                                ...        ...       ...         ...   \n",
       "7056  NWMLS as Distributed by MLS Grid  1990579.0         N           Y   \n",
       "7057  NWMLS as Distributed by MLS Grid  2038206.0         N           Y   \n",
       "7058  NWMLS as Distributed by MLS Grid  2042405.0         N           Y   \n",
       "7059  NWMLS as Distributed by MLS Grid  2005454.0         N           Y   \n",
       "7060  NWMLS as Distributed by MLS Grid  2028003.0         N           Y   \n",
       "\n",
       "       LATITUDE   LONGITUDE                                        Description  \n",
       "0     47.697164 -122.351014  INVESTORS & homebuyers- Check out this FULLY u...  \n",
       "1     47.662339 -122.339990  Charming & undeniably special, you'll fall in ...  \n",
       "2     47.696649 -122.348650  Welcome home to this move-in ready, recently u...  \n",
       "3     47.678871 -122.355649  Rare opportunity for a bright & airy condo w/ ...  \n",
       "4     47.694002 -122.355046  Light, bright, & centrally located - this beau...  \n",
       "...         ...         ...                                                ...  \n",
       "7056  47.731340 -122.356059  Seller offering $8K credit to buyer for intere...  \n",
       "7057  47.703461 -122.358204  New Pricing! Stunning new construction in Crow...  \n",
       "7058  47.732467 -122.343786  Great value for home buyers or investors!  2 b...  \n",
       "7059  47.722070 -122.349220  Stand-alone new construction with heated 400 S...  \n",
       "7060  47.713939 -122.341618  As you enter this ground floor condo, you'll b...  \n",
       "\n",
       "[6308 rows x 28 columns]"
      ]
     },
     "execution_count": 96,
     "metadata": {},
     "output_type": "execute_result"
    }
   ],
   "source": [
    "df"
   ]
  },
  {
   "cell_type": "markdown",
   "id": "bdfcea7d",
   "metadata": {},
   "source": [
    "###### Lowercasing all Descriptions"
   ]
  },
  {
   "cell_type": "code",
   "execution_count": 97,
   "id": "0be0809a",
   "metadata": {},
   "outputs": [],
   "source": [
    "df [\"Description\"] = df[\"Description\"].str.lower()"
   ]
  },
  {
   "cell_type": "markdown",
   "id": "dddb9765",
   "metadata": {},
   "source": [
    "###### Checking to ensure Descriptions are lowercased correctly"
   ]
  },
  {
   "cell_type": "code",
   "execution_count": 98,
   "id": "dd239a33",
   "metadata": {},
   "outputs": [
    {
     "data": {
      "text/plain": [
       "0    investors & homebuyers- check out this fully u...\n",
       "1    charming & undeniably special, you'll fall in ...\n",
       "2    welcome home to this move-in ready, recently u...\n",
       "3    rare opportunity for a bright & airy condo w/ ...\n",
       "4    light, bright, & centrally located - this beau...\n",
       "Name: Description, dtype: object"
      ]
     },
     "execution_count": 98,
     "metadata": {},
     "output_type": "execute_result"
    }
   ],
   "source": [
    "df[\"Description\"].head()"
   ]
  },
  {
   "cell_type": "markdown",
   "id": "fc737898",
   "metadata": {},
   "source": [
    "###### Lemmatizing "
   ]
  },
  {
   "cell_type": "code",
   "execution_count": 99,
   "id": "85276158",
   "metadata": {},
   "outputs": [],
   "source": [
    "nlp = spacy.load('en_core_web_sm')\n",
    "#Lemmitization Function\n",
    "def lemmatize(text): \n",
    "    doc = nlp(text)\n",
    "    lemmatized_text = \" \".join([token.lemma_ for token in doc])\n",
    "    return lemmatized_text"
   ]
  },
  {
   "cell_type": "markdown",
   "id": "2aaedc32",
   "metadata": {},
   "source": [
    "###### Applying the Lemmitization Function"
   ]
  },
  {
   "cell_type": "code",
   "execution_count": 100,
   "id": "01644663",
   "metadata": {},
   "outputs": [],
   "source": [
    "df[\"Description\"] = df[\"Description\"].apply(lemmatize)"
   ]
  },
  {
   "cell_type": "markdown",
   "id": "c23e3a65",
   "metadata": {},
   "source": [
    "###### Looking at the Text Content after Lemmatization"
   ]
  },
  {
   "cell_type": "code",
   "execution_count": 101,
   "id": "0b109ea2",
   "metadata": {},
   "outputs": [
    {
     "data": {
      "text/plain": [
       "0    investor & homebuyers- check out this fully up...\n",
       "1    charming & undeniably special , you 'll fall i...\n",
       "2    welcome home to this move - in ready , recentl...\n",
       "3    rare opportunity for a bright & airy condo w/ ...\n",
       "4    light , bright , & centrally locate - this bea...\n",
       "Name: Description, dtype: object"
      ]
     },
     "execution_count": 101,
     "metadata": {},
     "output_type": "execute_result"
    }
   ],
   "source": [
    "df[\"Description\"].head()"
   ]
  },
  {
   "cell_type": "markdown",
   "id": "e2636e6b",
   "metadata": {},
   "source": [
    "###### Removing Stop Words"
   ]
  },
  {
   "cell_type": "code",
   "execution_count": 102,
   "id": "11a4fc1f",
   "metadata": {},
   "outputs": [],
   "source": [
    "stop_words = set(stopwords.words('english'))"
   ]
  },
  {
   "cell_type": "code",
   "execution_count": 103,
   "id": "12c66d6b",
   "metadata": {},
   "outputs": [],
   "source": [
    "df[\"Description\"] = df[\"Description\"].apply(word_tokenize)"
   ]
  },
  {
   "cell_type": "code",
   "execution_count": 104,
   "id": "5b76b16a",
   "metadata": {},
   "outputs": [],
   "source": [
    "clean_words = []\n",
    "for tokenized_description in df[\"Description\"]:\n",
    "    cleaned_tokens = [token for token in tokenized_description if token not in stop_words]\n",
    "    clean_words.append(cleaned_tokens)"
   ]
  },
  {
   "cell_type": "code",
   "execution_count": 105,
   "id": "ef15b713",
   "metadata": {},
   "outputs": [],
   "source": [
    "df[\"Description\"] = clean_words"
   ]
  },
  {
   "cell_type": "markdown",
   "id": "0d9b12e8",
   "metadata": {},
   "source": [
    "###### Cleaning Tokens (Removing Special Characters) "
   ]
  },
  {
   "cell_type": "code",
   "execution_count": 106,
   "id": "1a15d2e1",
   "metadata": {},
   "outputs": [],
   "source": [
    "def clean_tokens(tokens):\n",
    "    cleaned_tokens = []\n",
    "    for token in tokens:\n",
    "        cleaned_token = re.sub(r'[^a-zA-Z0-9]', '', token)\n",
    "        if cleaned_token:\n",
    "            cleaned_tokens.append(cleaned_token)\n",
    "    return cleaned_tokens\n",
    "\n",
    "# Apply the clean_tokens function to the \"Description\" column\n"
   ]
  },
  {
   "cell_type": "markdown",
   "id": "ba41bace",
   "metadata": {},
   "source": [
    "###### Applying the Clean Functions"
   ]
  },
  {
   "cell_type": "code",
   "execution_count": 107,
   "id": "e22c3634",
   "metadata": {},
   "outputs": [],
   "source": [
    "df[\"Description\"] = df[\"Description\"].apply(clean_tokens)"
   ]
  },
  {
   "cell_type": "markdown",
   "id": "185b0c74",
   "metadata": {},
   "source": [
    "###### Rejoin the Cleaned Tokens"
   ]
  },
  {
   "cell_type": "code",
   "execution_count": 108,
   "id": "594844bb",
   "metadata": {},
   "outputs": [],
   "source": [
    "df[\"Description\"] = df[\"Description\"].apply(lambda tokens: ' '.join(tokens))"
   ]
  },
  {
   "cell_type": "markdown",
   "id": "7afc675e",
   "metadata": {},
   "source": [
    "###### Intializing the CountVectorizer (BOW)"
   ]
  },
  {
   "cell_type": "code",
   "execution_count": 109,
   "id": "0d8abeb5",
   "metadata": {},
   "outputs": [],
   "source": [
    "vectorizer = CountVectorizer(stop_words='english', max_df = .95, min_df = .01)"
   ]
  },
  {
   "cell_type": "markdown",
   "id": "23fb2c14",
   "metadata": {},
   "source": [
    "###### Fitting the CountVectorizer(BOW); Setting Max_DF relatively low because common words not likely to be instructive for prediction"
   ]
  },
  {
   "cell_type": "code",
   "execution_count": 110,
   "id": "faf7052e",
   "metadata": {},
   "outputs": [
    {
     "data": {
      "text/html": [
       "<style>#sk-container-id-2 {color: black;}#sk-container-id-2 pre{padding: 0;}#sk-container-id-2 div.sk-toggleable {background-color: white;}#sk-container-id-2 label.sk-toggleable__label {cursor: pointer;display: block;width: 100%;margin-bottom: 0;padding: 0.3em;box-sizing: border-box;text-align: center;}#sk-container-id-2 label.sk-toggleable__label-arrow:before {content: \"▸\";float: left;margin-right: 0.25em;color: #696969;}#sk-container-id-2 label.sk-toggleable__label-arrow:hover:before {color: black;}#sk-container-id-2 div.sk-estimator:hover label.sk-toggleable__label-arrow:before {color: black;}#sk-container-id-2 div.sk-toggleable__content {max-height: 0;max-width: 0;overflow: hidden;text-align: left;background-color: #f0f8ff;}#sk-container-id-2 div.sk-toggleable__content pre {margin: 0.2em;color: black;border-radius: 0.25em;background-color: #f0f8ff;}#sk-container-id-2 input.sk-toggleable__control:checked~div.sk-toggleable__content {max-height: 200px;max-width: 100%;overflow: auto;}#sk-container-id-2 input.sk-toggleable__control:checked~label.sk-toggleable__label-arrow:before {content: \"▾\";}#sk-container-id-2 div.sk-estimator input.sk-toggleable__control:checked~label.sk-toggleable__label {background-color: #d4ebff;}#sk-container-id-2 div.sk-label input.sk-toggleable__control:checked~label.sk-toggleable__label {background-color: #d4ebff;}#sk-container-id-2 input.sk-hidden--visually {border: 0;clip: rect(1px 1px 1px 1px);clip: rect(1px, 1px, 1px, 1px);height: 1px;margin: -1px;overflow: hidden;padding: 0;position: absolute;width: 1px;}#sk-container-id-2 div.sk-estimator {font-family: monospace;background-color: #f0f8ff;border: 1px dotted black;border-radius: 0.25em;box-sizing: border-box;margin-bottom: 0.5em;}#sk-container-id-2 div.sk-estimator:hover {background-color: #d4ebff;}#sk-container-id-2 div.sk-parallel-item::after {content: \"\";width: 100%;border-bottom: 1px solid gray;flex-grow: 1;}#sk-container-id-2 div.sk-label:hover label.sk-toggleable__label {background-color: #d4ebff;}#sk-container-id-2 div.sk-serial::before {content: \"\";position: absolute;border-left: 1px solid gray;box-sizing: border-box;top: 0;bottom: 0;left: 50%;z-index: 0;}#sk-container-id-2 div.sk-serial {display: flex;flex-direction: column;align-items: center;background-color: white;padding-right: 0.2em;padding-left: 0.2em;position: relative;}#sk-container-id-2 div.sk-item {position: relative;z-index: 1;}#sk-container-id-2 div.sk-parallel {display: flex;align-items: stretch;justify-content: center;background-color: white;position: relative;}#sk-container-id-2 div.sk-item::before, #sk-container-id-2 div.sk-parallel-item::before {content: \"\";position: absolute;border-left: 1px solid gray;box-sizing: border-box;top: 0;bottom: 0;left: 50%;z-index: -1;}#sk-container-id-2 div.sk-parallel-item {display: flex;flex-direction: column;z-index: 1;position: relative;background-color: white;}#sk-container-id-2 div.sk-parallel-item:first-child::after {align-self: flex-end;width: 50%;}#sk-container-id-2 div.sk-parallel-item:last-child::after {align-self: flex-start;width: 50%;}#sk-container-id-2 div.sk-parallel-item:only-child::after {width: 0;}#sk-container-id-2 div.sk-dashed-wrapped {border: 1px dashed gray;margin: 0 0.4em 0.5em 0.4em;box-sizing: border-box;padding-bottom: 0.4em;background-color: white;}#sk-container-id-2 div.sk-label label {font-family: monospace;font-weight: bold;display: inline-block;line-height: 1.2em;}#sk-container-id-2 div.sk-label-container {text-align: center;}#sk-container-id-2 div.sk-container {/* jupyter's `normalize.less` sets `[hidden] { display: none; }` but bootstrap.min.css set `[hidden] { display: none !important; }` so we also need the `!important` here to be able to override the default hidden behavior on the sphinx rendered scikit-learn.org. See: https://github.com/scikit-learn/scikit-learn/issues/21755 */display: inline-block !important;position: relative;}#sk-container-id-2 div.sk-text-repr-fallback {display: none;}</style><div id=\"sk-container-id-2\" class=\"sk-top-container\"><div class=\"sk-text-repr-fallback\"><pre>CountVectorizer(max_df=0.95, min_df=0.01, stop_words=&#x27;english&#x27;)</pre><b>In a Jupyter environment, please rerun this cell to show the HTML representation or trust the notebook. <br />On GitHub, the HTML representation is unable to render, please try loading this page with nbviewer.org.</b></div><div class=\"sk-container\" hidden><div class=\"sk-item\"><div class=\"sk-estimator sk-toggleable\"><input class=\"sk-toggleable__control sk-hidden--visually\" id=\"sk-estimator-id-2\" type=\"checkbox\" checked><label for=\"sk-estimator-id-2\" class=\"sk-toggleable__label sk-toggleable__label-arrow\">CountVectorizer</label><div class=\"sk-toggleable__content\"><pre>CountVectorizer(max_df=0.95, min_df=0.01, stop_words=&#x27;english&#x27;)</pre></div></div></div></div></div>"
      ],
      "text/plain": [
       "CountVectorizer(max_df=0.95, min_df=0.01, stop_words='english')"
      ]
     },
     "execution_count": 110,
     "metadata": {},
     "output_type": "execute_result"
    }
   ],
   "source": [
    "vectorizer.fit(df[\"Description\"])"
   ]
  },
  {
   "cell_type": "markdown",
   "id": "639f1732",
   "metadata": {},
   "source": [
    "###### Transforming"
   ]
  },
  {
   "cell_type": "code",
   "execution_count": 111,
   "id": "0f31982e",
   "metadata": {},
   "outputs": [],
   "source": [
    "transformed_df = vectorizer.transform(df[\"Description\"])"
   ]
  },
  {
   "cell_type": "markdown",
   "id": "0821447c",
   "metadata": {},
   "source": [
    "###### Rejoining the Dataframe"
   ]
  },
  {
   "cell_type": "code",
   "execution_count": 112,
   "id": "69003e1f",
   "metadata": {},
   "outputs": [],
   "source": [
    "df_bow = pd.DataFrame(transformed_df.toarray(), columns=vectorizer.get_feature_names_out())"
   ]
  },
  {
   "cell_type": "code",
   "execution_count": 113,
   "id": "e188fed9",
   "metadata": {},
   "outputs": [],
   "source": [
    "word_counts = df_bow.sum()"
   ]
  },
  {
   "cell_type": "code",
   "execution_count": 114,
   "id": "75adec45",
   "metadata": {},
   "outputs": [],
   "source": [
    "\n",
    "word_counts_df = word_counts.to_frame(name='count')\n",
    "\n",
    "word_counts_df.reset_index(inplace=True)\n",
    "word_counts_df.rename(columns={'index': 'word'}, inplace=True)\n",
    "\n",
    "\n",
    "sorted_df = word_counts_df.sort_values(by='count', ascending=False)\n"
   ]
  },
  {
   "cell_type": "code",
   "execution_count": 116,
   "id": "9835ab59",
   "metadata": {},
   "outputs": [
    {
     "data": {
      "text/html": [
       "<div>\n",
       "<style scoped>\n",
       "    .dataframe tbody tr th:only-of-type {\n",
       "        vertical-align: middle;\n",
       "    }\n",
       "\n",
       "    .dataframe tbody tr th {\n",
       "        vertical-align: top;\n",
       "    }\n",
       "\n",
       "    .dataframe thead th {\n",
       "        text-align: right;\n",
       "    }\n",
       "</style>\n",
       "<table border=\"1\" class=\"dataframe\">\n",
       "  <thead>\n",
       "    <tr style=\"text-align: right;\">\n",
       "      <th></th>\n",
       "      <th>word</th>\n",
       "      <th>count</th>\n",
       "    </tr>\n",
       "  </thead>\n",
       "  <tbody>\n",
       "    <tr>\n",
       "      <th>431</th>\n",
       "      <td>home</td>\n",
       "      <td>7773</td>\n",
       "    </tr>\n",
       "    <tr>\n",
       "      <th>701</th>\n",
       "      <td>room</td>\n",
       "      <td>6428</td>\n",
       "    </tr>\n",
       "    <tr>\n",
       "      <th>349</th>\n",
       "      <td>floor</td>\n",
       "      <td>5749</td>\n",
       "    </tr>\n",
       "    <tr>\n",
       "      <th>88</th>\n",
       "      <td>bedroom</td>\n",
       "      <td>5331</td>\n",
       "    </tr>\n",
       "    <tr>\n",
       "      <th>466</th>\n",
       "      <td>kitchen</td>\n",
       "      <td>5057</td>\n",
       "    </tr>\n",
       "    <tr>\n",
       "      <th>...</th>\n",
       "      <td>...</td>\n",
       "      <td>...</td>\n",
       "    </tr>\n",
       "    <tr>\n",
       "      <th>227</th>\n",
       "      <td>deep</td>\n",
       "      <td>65</td>\n",
       "    </tr>\n",
       "    <tr>\n",
       "      <th>456</th>\n",
       "      <td>introduce</td>\n",
       "      <td>64</td>\n",
       "    </tr>\n",
       "    <tr>\n",
       "      <th>228</th>\n",
       "      <td>degree</td>\n",
       "      <td>64</td>\n",
       "    </tr>\n",
       "    <tr>\n",
       "      <th>819</th>\n",
       "      <td>sure</td>\n",
       "      <td>64</td>\n",
       "    </tr>\n",
       "    <tr>\n",
       "      <th>540</th>\n",
       "      <td>mind</td>\n",
       "      <td>64</td>\n",
       "    </tr>\n",
       "  </tbody>\n",
       "</table>\n",
       "<p>939 rows × 2 columns</p>\n",
       "</div>"
      ],
      "text/plain": [
       "          word  count\n",
       "431       home   7773\n",
       "701       room   6428\n",
       "349      floor   5749\n",
       "88     bedroom   5331\n",
       "466    kitchen   5057\n",
       "..         ...    ...\n",
       "227       deep     65\n",
       "456  introduce     64\n",
       "228     degree     64\n",
       "819       sure     64\n",
       "540       mind     64\n",
       "\n",
       "[939 rows x 2 columns]"
      ]
     },
     "execution_count": 116,
     "metadata": {},
     "output_type": "execute_result"
    }
   ],
   "source": [
    "sorted_df"
   ]
  },
  {
   "cell_type": "markdown",
   "id": "c5342b18",
   "metadata": {},
   "source": [
    "###### Reseting Indexes to Prepare to Recombine"
   ]
  },
  {
   "cell_type": "code",
   "execution_count": 117,
   "id": "8a5d17ec",
   "metadata": {},
   "outputs": [],
   "source": [
    "df.reset_index(drop=True, inplace=True)\n",
    "df_bow.reset_index(drop=True, inplace=True)"
   ]
  },
  {
   "cell_type": "markdown",
   "id": "886b98a8",
   "metadata": {},
   "source": [
    "###### Combining the DF's"
   ]
  },
  {
   "cell_type": "code",
   "execution_count": 118,
   "id": "019928b1",
   "metadata": {},
   "outputs": [],
   "source": [
    "df_combined = pd.concat([df.drop('Description', axis=1), df_bow], axis=1)"
   ]
  },
  {
   "cell_type": "markdown",
   "id": "b7523b4b",
   "metadata": {},
   "source": [
    "###### Dropping Irrelevent Features"
   ]
  },
  {
   "cell_type": "code",
   "execution_count": 119,
   "id": "648595c9",
   "metadata": {},
   "outputs": [],
   "source": [
    "df_combined.drop([\"INTERESTED\",\"FAVORITE\",\"SOURCE\",\"URL\", \"HOA/MONTH\",\"DAYS ON MARKET\",\"NEXT OPEN HOUSE START TIME\", \"NEXT OPEN HOUSE END TIME\"], axis=1 , inplace = True)"
   ]
  },
  {
   "cell_type": "code",
   "execution_count": 120,
   "id": "85acd2b9",
   "metadata": {},
   "outputs": [
    {
     "data": {
      "text/plain": [
       "SALE TYPE                0\n",
       "SOLD DATE              225\n",
       "PROPERTY TYPE            0\n",
       "ADDRESS                  0\n",
       "CITY                     0\n",
       "STATE OR PROVINCE        0\n",
       "ZIP OR POSTAL CODE       0\n",
       "PRICE                    0\n",
       "BEDS                    12\n",
       "BATHS                   12\n",
       "LOCATION               225\n",
       "SQUARE FEET              8\n",
       "LOT SIZE              1198\n",
       "YEAR BUILT              14\n",
       "$/SQUARE FEET            9\n",
       "STATUS                 225\n",
       "MLS#                   225\n",
       "LATITUDE                 0\n",
       "LONGITUDE                0\n",
       "dtype: int64"
      ]
     },
     "execution_count": 120,
     "metadata": {},
     "output_type": "execute_result"
    }
   ],
   "source": [
    "df_combined.iloc[:,:19].isna().sum()"
   ]
  },
  {
   "cell_type": "markdown",
   "id": "31ce4834",
   "metadata": {},
   "source": [
    "###### Filtering Out Multifamily Properties"
   ]
  },
  {
   "cell_type": "code",
   "execution_count": 121,
   "id": "47c52b55",
   "metadata": {},
   "outputs": [],
   "source": [
    "property_types = [\"Single Family Residential\", \"Condo/Co-op\", \"Townhouse\"]\n",
    "df_filtered = df_combined[df_combined[\"PROPERTY TYPE\"].isin(property_types)]"
   ]
  },
  {
   "cell_type": "markdown",
   "id": "47235ea3",
   "metadata": {},
   "source": [
    "###### NLP Preprocessing is Complete"
   ]
  },
  {
   "cell_type": "markdown",
   "id": "3ab8cff6",
   "metadata": {},
   "source": [
    "## Exploratory Data Analysis before Machine Learning"
   ]
  },
  {
   "cell_type": "markdown",
   "id": "10e6b8cf",
   "metadata": {},
   "source": [
    "#### Let's Start by looking at distributions of Price, Square Footage and Lot Size"
   ]
  },
  {
   "cell_type": "markdown",
   "id": "dc7ad846",
   "metadata": {},
   "source": [
    "###### Distribution of Home Price "
   ]
  },
  {
   "cell_type": "code",
   "execution_count": 122,
   "id": "dcb4b65e",
   "metadata": {},
   "outputs": [
    {
     "ename": "NameError",
     "evalue": "name 'df_preprocessed' is not defined",
     "output_type": "error",
     "traceback": [
      "\u001b[1;31m---------------------------------------------------------------------------\u001b[0m",
      "\u001b[1;31mNameError\u001b[0m                                 Traceback (most recent call last)",
      "\u001b[1;32m<ipython-input-122-aea1d1d52719>\u001b[0m in \u001b[0;36m<module>\u001b[1;34m\u001b[0m\n\u001b[1;32m----> 1\u001b[1;33m \u001b[0max1\u001b[0m \u001b[1;33m=\u001b[0m \u001b[0msns\u001b[0m\u001b[1;33m.\u001b[0m\u001b[0mhistplot\u001b[0m\u001b[1;33m(\u001b[0m\u001b[0mx\u001b[0m\u001b[1;33m=\u001b[0m\u001b[1;34m\"PRICE\"\u001b[0m\u001b[1;33m,\u001b[0m \u001b[0mdata\u001b[0m\u001b[1;33m=\u001b[0m\u001b[0mdf_preprocessed\u001b[0m\u001b[1;33m)\u001b[0m\u001b[1;33m\u001b[0m\u001b[1;33m\u001b[0m\u001b[0m\n\u001b[0m\u001b[0;32m      2\u001b[0m \u001b[0mmean_price\u001b[0m \u001b[1;33m=\u001b[0m \u001b[0mdf_preprocessed\u001b[0m\u001b[1;33m[\u001b[0m\u001b[1;34m\"PRICE\"\u001b[0m\u001b[1;33m]\u001b[0m\u001b[1;33m.\u001b[0m\u001b[0mmean\u001b[0m\u001b[1;33m(\u001b[0m\u001b[1;33m)\u001b[0m\u001b[1;33m\u001b[0m\u001b[1;33m\u001b[0m\u001b[0m\n\u001b[0;32m      3\u001b[0m \u001b[0mmedian_price\u001b[0m \u001b[1;33m=\u001b[0m \u001b[0mdf_preprocessed\u001b[0m\u001b[1;33m[\u001b[0m\u001b[1;34m\"PRICE\"\u001b[0m\u001b[1;33m]\u001b[0m\u001b[1;33m.\u001b[0m\u001b[0mmedian\u001b[0m\u001b[1;33m(\u001b[0m\u001b[1;33m)\u001b[0m\u001b[1;33m\u001b[0m\u001b[1;33m\u001b[0m\u001b[0m\n\u001b[0;32m      4\u001b[0m \u001b[0max1\u001b[0m\u001b[1;33m.\u001b[0m\u001b[0maxvline\u001b[0m\u001b[1;33m(\u001b[0m\u001b[0mmean_price\u001b[0m\u001b[1;33m,\u001b[0m \u001b[0mcolor\u001b[0m\u001b[1;33m=\u001b[0m\u001b[1;34m'r'\u001b[0m\u001b[1;33m,\u001b[0m \u001b[0mlinestyle\u001b[0m\u001b[1;33m=\u001b[0m\u001b[1;34m'--'\u001b[0m\u001b[1;33m,\u001b[0m \u001b[0mlinewidth\u001b[0m\u001b[1;33m=\u001b[0m\u001b[1;36m2\u001b[0m\u001b[1;33m,\u001b[0m \u001b[0mlabel\u001b[0m\u001b[1;33m=\u001b[0m\u001b[1;34m'Mean'\u001b[0m\u001b[1;33m)\u001b[0m\u001b[1;33m\u001b[0m\u001b[1;33m\u001b[0m\u001b[0m\n\u001b[0;32m      5\u001b[0m \u001b[0max1\u001b[0m\u001b[1;33m.\u001b[0m\u001b[0maxvline\u001b[0m\u001b[1;33m(\u001b[0m\u001b[0mmedian_price\u001b[0m\u001b[1;33m,\u001b[0m \u001b[0mcolor\u001b[0m\u001b[1;33m=\u001b[0m\u001b[1;34m'g'\u001b[0m\u001b[1;33m,\u001b[0m \u001b[0mlinestyle\u001b[0m\u001b[1;33m=\u001b[0m\u001b[1;34m'--'\u001b[0m\u001b[1;33m,\u001b[0m \u001b[0mlinewidth\u001b[0m\u001b[1;33m=\u001b[0m\u001b[1;36m2\u001b[0m\u001b[1;33m,\u001b[0m \u001b[0mlabel\u001b[0m\u001b[1;33m=\u001b[0m\u001b[1;34m'Median'\u001b[0m\u001b[1;33m)\u001b[0m\u001b[1;33m\u001b[0m\u001b[1;33m\u001b[0m\u001b[0m\n",
      "\u001b[1;31mNameError\u001b[0m: name 'df_preprocessed' is not defined"
     ]
    }
   ],
   "source": [
    "ax1 = sns.histplot(x=\"PRICE\", data=df_preprocessed)\n",
    "mean_price = df_preprocessed[\"PRICE\"].mean()\n",
    "median_price = df_preprocessed[\"PRICE\"].median()\n",
    "ax1.axvline(mean_price, color='r', linestyle='--', linewidth=2, label='Mean')\n",
    "ax1.axvline(median_price, color='g', linestyle='--', linewidth=2, label='Median')\n",
    "ax1.set_ylabel(\"Price (in $ Millions)\")\n",
    "ax1.set_title(\"Distribution of Home Price (in $ Millions)\")\n",
    "print(mean_price, median_price)\n",
    "ax1.legend()"
   ]
  },
  {
   "cell_type": "markdown",
   "id": "1ae12b92",
   "metadata": {},
   "source": [
    "- The Mean Home Price in the Set is 958K\n",
    "- The Median Home Price in the Set is 820K\n",
    "- The Dataset is skewed to the right"
   ]
  },
  {
   "cell_type": "markdown",
   "id": "121bb444",
   "metadata": {},
   "source": [
    "###### Distribution of Square Footages"
   ]
  },
  {
   "cell_type": "code",
   "execution_count": 48,
   "id": "cb596da9",
   "metadata": {},
   "outputs": [
    {
     "name": "stdout",
     "output_type": "stream",
     "text": [
      "1738.5988000774144 1568.0\n"
     ]
    },
    {
     "data": {
      "image/png": "[encoded data removed]",
      "text/plain": [
       "<Figure size 432x288 with 1 Axes>"
      ]
     },
     "metadata": {
      "needs_background": "light"
     },
     "output_type": "display_data"
    }
   ],
   "source": [
    "ax2 = sns.histplot(x=\"SQUARE FEET\", data=df_preprocessed)\n",
    "mean_price2 = df_preprocessed[\"SQUARE FEET\"].mean()\n",
    "median_price2 = df_preprocessed[\"SQUARE FEET\"].median()\n",
    "ax2.axvline(mean_price2, color='r', linestyle='--', linewidth=2, label='Mean')\n",
    "ax2.axvline(median_price2, color='g', linestyle='--', linewidth=2, label='Median')\n",
    "ax2.set_ylabel(\"Price (in $ Millions)\")\n",
    "ax2.set_title(\"Distribution of Square Footages\")\n",
    "ax2.legend()\n",
    "print(mean_price2, median_price2)"
   ]
  },
  {
   "cell_type": "markdown",
   "id": "bdb19c3f",
   "metadata": {},
   "source": [
    "- The Mean Square Footage in the Set is 1,729 Sq. Ft.\n",
    "- The Median Square Footage in the Set is 1,568 Sq. Ft.\n",
    "- The Dataset is slightly skewed to the right"
   ]
  },
  {
   "cell_type": "markdown",
   "id": "b00edcc1",
   "metadata": {},
   "source": [
    "###### Distribution of Lot Square Footages"
   ]
  },
  {
   "cell_type": "code",
   "execution_count": 49,
   "id": "491f77a2",
   "metadata": {},
   "outputs": [
    {
     "name": "stdout",
     "output_type": "stream",
     "text": [
      "4577.712161611834 3376.0\n"
     ]
    },
    {
     "data": {
      "image/png": "[encoded data removed]",
      "text/plain": [
       "<Figure size 432x288 with 1 Axes>"
      ]
     },
     "metadata": {
      "needs_background": "light"
     },
     "output_type": "display_data"
    }
   ],
   "source": [
    "ax3 = sns.histplot(x=\"SQUARE FEET\", data=df_preprocessed)\n",
    "mean_price3 = df_preprocessed[\"LOT SIZE\"].mean()\n",
    "median_price3 = df_preprocessed[\"LOT SIZE\"].median()\n",
    "ax3.axvline(mean_price3, color='r', linestyle='--', linewidth=2, label='Mean')\n",
    "ax3.axvline(median_price3, color='g', linestyle='--', linewidth=2, label='Median')\n",
    "ax3.set_ylabel(\"Lot Size (in Sq. Ft.)\")\n",
    "ax3.set_title(\"Distribution of Lot Square Footages\")\n",
    "ax3.legend()\n",
    "print(mean_price3, median_price3)"
   ]
  },
  {
   "cell_type": "markdown",
   "id": "51364ed7",
   "metadata": {},
   "source": [
    "- The Mean Square Footage in the Set is 4,039 Sq. Ft.\n",
    "- The Median Square Footage in the Set is 3,330 Sq. Ft.\n",
    "- The Dataset is slightly skewed to the right"
   ]
  },
  {
   "cell_type": "code",
   "execution_count": 50,
   "id": "706894e9",
   "metadata": {},
   "outputs": [
    {
     "name": "stdout",
     "output_type": "stream",
     "text": [
      "48.738196594427244 44.0\n"
     ]
    },
    {
     "data": {
      "image/png": "[encoded data removed]",
      "text/plain": [
       "<Figure size 432x288 with 1 Axes>"
      ]
     },
     "metadata": {
      "needs_background": "light"
     },
     "output_type": "display_data"
    }
   ],
   "source": [
    "ax4 = sns.histplot(x=\"Age\", data=df_preprocessed)\n",
    "mean_price4 = df_preprocessed[\"Age\"].mean()\n",
    "median_price4 = df_preprocessed[\"Age\"].median()\n",
    "ax4.axvline(mean_price4, color='r', linestyle='--', linewidth=2, label='Mean')\n",
    "ax4.axvline(median_price4, color='g', linestyle='--', linewidth=2, label='Median')\n",
    "ax4.set_ylabel(\"Property Age\")\n",
    "ax4.set_title(\"Distribution of Property Ages\")\n",
    "ax4.legend()\n",
    "print(mean_price4, median_price4)"
   ]
  },
  {
   "cell_type": "markdown",
   "id": "4f5de953",
   "metadata": {},
   "source": [
    "- The Mean Home Age in the Set is ~ 49 Years Old\n",
    "- The Median Home Age in the Set is ~ 44 Years Old\n",
    "- The Dataset is skewed to the right"
   ]
  },
  {
   "cell_type": "markdown",
   "id": "9eea8498",
   "metadata": {},
   "source": [
    "### Comparing Statistics by Type"
   ]
  },
  {
   "cell_type": "markdown",
   "id": "f21184df",
   "metadata": {},
   "source": [
    "###### Price by Property Type"
   ]
  },
  {
   "cell_type": "code",
   "execution_count": 52,
   "id": "ecc59fe1",
   "metadata": {},
   "outputs": [
    {
     "data": {
      "text/plain": [
       "Text(0.5, 1.0, 'Price (in $ Millions) by Property Type')"
      ]
     },
     "execution_count": 52,
     "metadata": {},
     "output_type": "execute_result"
    },
    {
     "data": {
      "image/png": "[encoded data removed]",
      "text/plain": [
       "<Figure size 432x288 with 1 Axes>"
      ]
     },
     "metadata": {
      "needs_background": "light"
     },
     "output_type": "display_data"
    }
   ],
   "source": [
    "ax5 = sns.boxplot(x=\"PROPERTY TYPE\", y=\"PRICE\", data=df_preprocessed, palette=\"pastel\", showfliers = False)\n",
    "ax5.set_xlabel(\"Property Type\")\n",
    "ax5.set_ylabel(\"Price (in $ Millions)\")\n",
    "ax5.set_title(\"Price (in $ Millions) by Property Type\")\n"
   ]
  },
  {
   "cell_type": "markdown",
   "id": "8886c2a3",
   "metadata": {},
   "source": [
    "- SFR tends to cost more than attached product, though condos have outliers that rival SFR Pricing"
   ]
  },
  {
   "cell_type": "markdown",
   "id": "ef76444c",
   "metadata": {},
   "source": [
    "###### Square Footage by Property Type"
   ]
  },
  {
   "cell_type": "code",
   "execution_count": 149,
   "id": "4fb10fb0",
   "metadata": {},
   "outputs": [
    {
     "data": {
      "text/plain": [
       "Text(0.5, 1.0, 'Square Footage by Property Type')"
      ]
     },
     "execution_count": 149,
     "metadata": {},
     "output_type": "execute_result"
    },
    {
     "data": {
      "image/png": "[encoded data removed]",
      "text/plain": [
       "<Figure size 432x288 with 1 Axes>"
      ]
     },
     "metadata": {
      "needs_background": "light"
     },
     "output_type": "display_data"
    }
   ],
   "source": [
    "ax6 = sns.boxplot(x=\"PROPERTY TYPE\", y=\"SQUARE FEET\", data=df_preprocessed, palette =\"pastel\")\n",
    "ax6.set_xlabel(\"Property Type\")\n",
    "ax6.set_ylabel(\"Square Feet\")\n",
    "ax6.set_title(\"Square Footage by Property Type\")\n",
    "\n"
   ]
  },
  {
   "cell_type": "markdown",
   "id": "8f8ff957",
   "metadata": {},
   "source": [
    "- Similar to the Price dynamics above; however much less outliers in TH and Condo categories"
   ]
  },
  {
   "cell_type": "code",
   "execution_count": 34,
   "id": "e57f6121",
   "metadata": {},
   "outputs": [
    {
     "data": {
      "text/plain": [
       "Text(0.5, 1.0, 'Lot Size by Property Type')"
      ]
     },
     "execution_count": 34,
     "metadata": {},
     "output_type": "execute_result"
    },
    {
     "data": {
      "image/png": "[encoded data removed]",
      "text/plain": [
       "<Figure size 432x288 with 1 Axes>"
      ]
     },
     "metadata": {
      "needs_background": "light"
     },
     "output_type": "display_data"
    }
   ],
   "source": [
    "ax7 = sns.boxplot(x=\"PROPERTY TYPE\", y=\"LOT SIZE\", data=df_preprocessed, palette =\"pastel\", showfliers = False)\n",
    "ax7.set_xlabel(\"Property Type\")\n",
    "ax7.set_ylabel(\"Square Feet\")\n",
    "ax7.set_title(\"Lot Size by Property Type\")\n",
    "\n"
   ]
  },
  {
   "cell_type": "markdown",
   "id": "b57fec0d",
   "metadata": {},
   "source": [
    "- Lot Size for TH and Condo/Co-op are nearly identical to the structure square footages given that they are attached product; this is important for imputation strategy going forward"
   ]
  },
  {
   "cell_type": "code",
   "execution_count": 33,
   "id": "d54e9b9f",
   "metadata": {},
   "outputs": [
    {
     "ename": "ValueError",
     "evalue": "Could not interpret input 'Age'",
     "output_type": "error",
     "traceback": [
      "\u001b[1;31m---------------------------------------------------------------------------\u001b[0m",
      "\u001b[1;31mValueError\u001b[0m                                Traceback (most recent call last)",
      "\u001b[1;32m<ipython-input-33-f5290b6639bf>\u001b[0m in \u001b[0;36m<module>\u001b[1;34m\u001b[0m\n\u001b[1;32m----> 1\u001b[1;33m \u001b[0max7\u001b[0m \u001b[1;33m=\u001b[0m \u001b[0msns\u001b[0m\u001b[1;33m.\u001b[0m\u001b[0mboxplot\u001b[0m\u001b[1;33m(\u001b[0m\u001b[0mx\u001b[0m\u001b[1;33m=\u001b[0m\u001b[1;34m\"PROPERTY TYPE\"\u001b[0m\u001b[1;33m,\u001b[0m \u001b[0my\u001b[0m\u001b[1;33m=\u001b[0m\u001b[1;34m\"Age\"\u001b[0m\u001b[1;33m,\u001b[0m \u001b[0mdata\u001b[0m\u001b[1;33m=\u001b[0m\u001b[0mdf\u001b[0m\u001b[1;33m,\u001b[0m \u001b[0mpalette\u001b[0m \u001b[1;33m=\u001b[0m\u001b[1;34m\"pastel\"\u001b[0m\u001b[1;33m,\u001b[0m \u001b[0mshowfliers\u001b[0m \u001b[1;33m=\u001b[0m \u001b[1;32mFalse\u001b[0m\u001b[1;33m)\u001b[0m\u001b[1;33m\u001b[0m\u001b[1;33m\u001b[0m\u001b[0m\n\u001b[0m\u001b[0;32m      2\u001b[0m \u001b[0max7\u001b[0m\u001b[1;33m.\u001b[0m\u001b[0mset_xlabel\u001b[0m\u001b[1;33m(\u001b[0m\u001b[1;34m\"Property Type\"\u001b[0m\u001b[1;33m)\u001b[0m\u001b[1;33m\u001b[0m\u001b[1;33m\u001b[0m\u001b[0m\n\u001b[0;32m      3\u001b[0m \u001b[0max7\u001b[0m\u001b[1;33m.\u001b[0m\u001b[0mset_ylabel\u001b[0m\u001b[1;33m(\u001b[0m\u001b[1;34m\"Age (in Years)\"\u001b[0m\u001b[1;33m)\u001b[0m\u001b[1;33m\u001b[0m\u001b[1;33m\u001b[0m\u001b[0m\n\u001b[0;32m      4\u001b[0m \u001b[0max7\u001b[0m\u001b[1;33m.\u001b[0m\u001b[0mset_title\u001b[0m\u001b[1;33m(\u001b[0m\u001b[1;34m\"Age by Property Type\"\u001b[0m\u001b[1;33m)\u001b[0m\u001b[1;33m\u001b[0m\u001b[1;33m\u001b[0m\u001b[0m\n\u001b[0;32m      5\u001b[0m \u001b[1;33m\u001b[0m\u001b[0m\n",
      "\u001b[1;32m~\\anaconda3\\envs\\learn-env\\lib\\site-packages\\seaborn\\_decorators.py\u001b[0m in \u001b[0;36minner_f\u001b[1;34m(*args, **kwargs)\u001b[0m\n\u001b[0;32m     44\u001b[0m             )\n\u001b[0;32m     45\u001b[0m         \u001b[0mkwargs\u001b[0m\u001b[1;33m.\u001b[0m\u001b[0mupdate\u001b[0m\u001b[1;33m(\u001b[0m\u001b[1;33m{\u001b[0m\u001b[0mk\u001b[0m\u001b[1;33m:\u001b[0m \u001b[0marg\u001b[0m \u001b[1;32mfor\u001b[0m \u001b[0mk\u001b[0m\u001b[1;33m,\u001b[0m \u001b[0marg\u001b[0m \u001b[1;32min\u001b[0m \u001b[0mzip\u001b[0m\u001b[1;33m(\u001b[0m\u001b[0msig\u001b[0m\u001b[1;33m.\u001b[0m\u001b[0mparameters\u001b[0m\u001b[1;33m,\u001b[0m \u001b[0margs\u001b[0m\u001b[1;33m)\u001b[0m\u001b[1;33m}\u001b[0m\u001b[1;33m)\u001b[0m\u001b[1;33m\u001b[0m\u001b[1;33m\u001b[0m\u001b[0m\n\u001b[1;32m---> 46\u001b[1;33m         \u001b[1;32mreturn\u001b[0m \u001b[0mf\u001b[0m\u001b[1;33m(\u001b[0m\u001b[1;33m**\u001b[0m\u001b[0mkwargs\u001b[0m\u001b[1;33m)\u001b[0m\u001b[1;33m\u001b[0m\u001b[1;33m\u001b[0m\u001b[0m\n\u001b[0m\u001b[0;32m     47\u001b[0m     \u001b[1;32mreturn\u001b[0m \u001b[0minner_f\u001b[0m\u001b[1;33m\u001b[0m\u001b[1;33m\u001b[0m\u001b[0m\n\u001b[0;32m     48\u001b[0m \u001b[1;33m\u001b[0m\u001b[0m\n",
      "\u001b[1;32m~\\anaconda3\\envs\\learn-env\\lib\\site-packages\\seaborn\\categorical.py\u001b[0m in \u001b[0;36mboxplot\u001b[1;34m(x, y, hue, data, order, hue_order, orient, color, palette, saturation, width, dodge, fliersize, linewidth, whis, ax, **kwargs)\u001b[0m\n\u001b[0;32m   2228\u001b[0m ):\n\u001b[0;32m   2229\u001b[0m \u001b[1;33m\u001b[0m\u001b[0m\n\u001b[1;32m-> 2230\u001b[1;33m     plotter = _BoxPlotter(x, y, hue, data, order, hue_order,\n\u001b[0m\u001b[0;32m   2231\u001b[0m                           \u001b[0morient\u001b[0m\u001b[1;33m,\u001b[0m \u001b[0mcolor\u001b[0m\u001b[1;33m,\u001b[0m \u001b[0mpalette\u001b[0m\u001b[1;33m,\u001b[0m \u001b[0msaturation\u001b[0m\u001b[1;33m,\u001b[0m\u001b[1;33m\u001b[0m\u001b[1;33m\u001b[0m\u001b[0m\n\u001b[0;32m   2232\u001b[0m                           width, dodge, fliersize, linewidth)\n",
      "\u001b[1;32m~\\anaconda3\\envs\\learn-env\\lib\\site-packages\\seaborn\\categorical.py\u001b[0m in \u001b[0;36m__init__\u001b[1;34m(self, x, y, hue, data, order, hue_order, orient, color, palette, saturation, width, dodge, fliersize, linewidth)\u001b[0m\n\u001b[0;32m    404\u001b[0m                  width, dodge, fliersize, linewidth):\n\u001b[0;32m    405\u001b[0m \u001b[1;33m\u001b[0m\u001b[0m\n\u001b[1;32m--> 406\u001b[1;33m         \u001b[0mself\u001b[0m\u001b[1;33m.\u001b[0m\u001b[0mestablish_variables\u001b[0m\u001b[1;33m(\u001b[0m\u001b[0mx\u001b[0m\u001b[1;33m,\u001b[0m \u001b[0my\u001b[0m\u001b[1;33m,\u001b[0m \u001b[0mhue\u001b[0m\u001b[1;33m,\u001b[0m \u001b[0mdata\u001b[0m\u001b[1;33m,\u001b[0m \u001b[0morient\u001b[0m\u001b[1;33m,\u001b[0m \u001b[0morder\u001b[0m\u001b[1;33m,\u001b[0m \u001b[0mhue_order\u001b[0m\u001b[1;33m)\u001b[0m\u001b[1;33m\u001b[0m\u001b[1;33m\u001b[0m\u001b[0m\n\u001b[0m\u001b[0;32m    407\u001b[0m         \u001b[0mself\u001b[0m\u001b[1;33m.\u001b[0m\u001b[0mestablish_colors\u001b[0m\u001b[1;33m(\u001b[0m\u001b[0mcolor\u001b[0m\u001b[1;33m,\u001b[0m \u001b[0mpalette\u001b[0m\u001b[1;33m,\u001b[0m \u001b[0msaturation\u001b[0m\u001b[1;33m)\u001b[0m\u001b[1;33m\u001b[0m\u001b[1;33m\u001b[0m\u001b[0m\n\u001b[0;32m    408\u001b[0m \u001b[1;33m\u001b[0m\u001b[0m\n",
      "\u001b[1;32m~\\anaconda3\\envs\\learn-env\\lib\\site-packages\\seaborn\\categorical.py\u001b[0m in \u001b[0;36mestablish_variables\u001b[1;34m(self, x, y, hue, data, orient, order, hue_order, units)\u001b[0m\n\u001b[0;32m    151\u001b[0m                 \u001b[1;32mif\u001b[0m \u001b[0misinstance\u001b[0m\u001b[1;33m(\u001b[0m\u001b[0mvar\u001b[0m\u001b[1;33m,\u001b[0m \u001b[0mstr\u001b[0m\u001b[1;33m)\u001b[0m\u001b[1;33m:\u001b[0m\u001b[1;33m\u001b[0m\u001b[1;33m\u001b[0m\u001b[0m\n\u001b[0;32m    152\u001b[0m                     \u001b[0merr\u001b[0m \u001b[1;33m=\u001b[0m \u001b[1;34m\"Could not interpret input '{}'\"\u001b[0m\u001b[1;33m.\u001b[0m\u001b[0mformat\u001b[0m\u001b[1;33m(\u001b[0m\u001b[0mvar\u001b[0m\u001b[1;33m)\u001b[0m\u001b[1;33m\u001b[0m\u001b[1;33m\u001b[0m\u001b[0m\n\u001b[1;32m--> 153\u001b[1;33m                     \u001b[1;32mraise\u001b[0m \u001b[0mValueError\u001b[0m\u001b[1;33m(\u001b[0m\u001b[0merr\u001b[0m\u001b[1;33m)\u001b[0m\u001b[1;33m\u001b[0m\u001b[1;33m\u001b[0m\u001b[0m\n\u001b[0m\u001b[0;32m    154\u001b[0m \u001b[1;33m\u001b[0m\u001b[0m\n\u001b[0;32m    155\u001b[0m             \u001b[1;31m# Figure out the plotting orientation\u001b[0m\u001b[1;33m\u001b[0m\u001b[1;33m\u001b[0m\u001b[1;33m\u001b[0m\u001b[0m\n",
      "\u001b[1;31mValueError\u001b[0m: Could not interpret input 'Age'"
     ]
    }
   ],
   "source": [
    "ax7 = sns.boxplot(x=\"PROPERTY TYPE\", y=\"Age\", data=df_, palette =\"pastel\", showfliers = False)\n",
    "ax7.set_xlabel(\"Property Type\")\n",
    "ax7.set_ylabel(\"Age (in Years)\")\n",
    "ax7.set_title(\"Age by Property Type\")\n",
    "\n"
   ]
  },
  {
   "cell_type": "markdown",
   "id": "2649573b",
   "metadata": {},
   "source": [
    "- Townhomes are by far the youngest on average, followed by Condo/Co-Ops and then Homes"
   ]
  },
  {
   "cell_type": "markdown",
   "id": "4729697a",
   "metadata": {},
   "source": [
    "###### Correlation Heat Map"
   ]
  },
  {
   "cell_type": "code",
   "execution_count": 41,
   "id": "615c1990",
   "metadata": {},
   "outputs": [],
   "source": [
    "correlation_matrix = df_preprocessed.iloc[:,:13].select_dtypes([\"int\", \"float\"]).corr()"
   ]
  },
  {
   "cell_type": "code",
   "execution_count": 42,
   "id": "f414a4d1",
   "metadata": {},
   "outputs": [
    {
     "data": {
      "text/plain": [
       "<AxesSubplot:>"
      ]
     },
     "execution_count": 42,
     "metadata": {},
     "output_type": "execute_result"
    },
    {
     "data": {
      "image/png": "[encoded data removed]",
      "text/plain": [
       "<Figure size 432x288 with 2 Axes>"
      ]
     },
     "metadata": {
      "needs_background": "light"
     },
     "output_type": "display_data"
    }
   ],
   "source": [
    "sns.heatmap(correlation_matrix, annot=True, cmap='coolwarm')"
   ]
  },
  {
   "cell_type": "code",
   "execution_count": null,
   "id": "e7a967ad",
   "metadata": {},
   "outputs": [],
   "source": []
  },
  {
   "cell_type": "markdown",
   "id": "4d926207",
   "metadata": {},
   "source": [
    "###### Imputing Lotsizes "
   ]
  },
  {
   "cell_type": "code",
   "execution_count": 123,
   "id": "b483997c",
   "metadata": {},
   "outputs": [
    {
     "name": "stdout",
     "output_type": "stream",
     "text": [
      "Missing 'LOT SIZE' values after imputation: 1\n"
     ]
    }
   ],
   "source": [
    "#FOR SFH we're imputing based on the mean lot size to square footage ratio. Otherwise, we can assume lot size and square footage are roughly equal in attached product.\n",
    "sfh_average_ratio = df_filtered[df_filtered['PROPERTY TYPE'] == 'Single Family Residential']['SQUARE FEET'].mean() / df_filtered[df_filtered['PROPERTY TYPE'] == 'Single Family Residential']['LOT SIZE'].mean()\n",
    "\n",
    "for index, row in df_filtered.iterrows():\n",
    "    if pd.isna(row['LOT SIZE']):\n",
    "        if row['PROPERTY TYPE'] in ['Condo/Co-op', 'Townhouse']:\n",
    "            df_filtered.at[index, 'LOT SIZE'] = row['SQUARE FEET']\n",
    "        elif row['PROPERTY TYPE'] == 'Single Family Residential' and not pd.isna(row['SQUARE FEET']):\n",
    "            imputed_lot_size = row['SQUARE FEET'] / sfh_average_ratio\n",
    "            df_filtered.at[index, 'LOT SIZE'] = imputed_lot_size\n",
    "\n",
    "\n",
    "missing_lot_size_count = df_filtered['LOT SIZE'].isna().sum()\n",
    "print(f\"Missing 'LOT SIZE' values after imputation: {missing_lot_size_count}\")\n"
   ]
  },
  {
   "cell_type": "markdown",
   "id": "afa5dc2a",
   "metadata": {},
   "source": [
    "###### Dropping any NA's in the BATHS Column"
   ]
  },
  {
   "cell_type": "code",
   "execution_count": 124,
   "id": "039f63fb",
   "metadata": {},
   "outputs": [],
   "source": [
    "df_filtered = df_filtered.dropna(subset=[\"BATHS\"])"
   ]
  },
  {
   "cell_type": "code",
   "execution_count": 125,
   "id": "dadf040b",
   "metadata": {},
   "outputs": [
    {
     "data": {
      "text/plain": [
       "SALE TYPE               0\n",
       "SOLD DATE             218\n",
       "PROPERTY TYPE           0\n",
       "ADDRESS                 0\n",
       "CITY                    0\n",
       "STATE OR PROVINCE       0\n",
       "ZIP OR POSTAL CODE      0\n",
       "PRICE                   0\n",
       "BEDS                    5\n",
       "BATHS                   0\n",
       "LOCATION              218\n",
       "SQUARE FEET             1\n",
       "LOT SIZE                1\n",
       "YEAR BUILT              7\n",
       "$/SQUARE FEET           2\n",
       "STATUS                218\n",
       "MLS#                  218\n",
       "LATITUDE                0\n",
       "LONGITUDE               0\n",
       "10                      0\n",
       "dtype: int64"
      ]
     },
     "execution_count": 125,
     "metadata": {},
     "output_type": "execute_result"
    }
   ],
   "source": [
    "df_filtered.iloc[:, :20].isna().sum()"
   ]
  },
  {
   "cell_type": "markdown",
   "id": "cdb5b777",
   "metadata": {},
   "source": [
    "###### Dropping BOW that include digits"
   ]
  },
  {
   "cell_type": "code",
   "execution_count": 126,
   "id": "fbb2bd9d",
   "metadata": {},
   "outputs": [],
   "source": [
    "columns_to_drop = [col for col in df_filtered.columns if col.isdigit()]\n",
    "df_filtered = df_filtered.drop(columns=columns_to_drop)\n"
   ]
  },
  {
   "cell_type": "markdown",
   "id": "001ed200",
   "metadata": {},
   "source": [
    "###### Dropping $/Square Feet because it will provide info on the target variable"
   ]
  },
  {
   "cell_type": "code",
   "execution_count": 127,
   "id": "841cfdca",
   "metadata": {},
   "outputs": [],
   "source": [
    "df_preprocessed = df_filtered.drop([\"$/SQUARE FEET\"], axis=1)"
   ]
  },
  {
   "cell_type": "markdown",
   "id": "a9faa90d",
   "metadata": {},
   "source": [
    "###### Filtering to ensure all entries are from the City of Seattle"
   ]
  },
  {
   "cell_type": "code",
   "execution_count": 128,
   "id": "d81f7603",
   "metadata": {},
   "outputs": [],
   "source": [
    "df_preprocessed = df_preprocessed[df_preprocessed[\"CITY\"] == \"Seattle\"]"
   ]
  },
  {
   "cell_type": "markdown",
   "id": "10f629ee",
   "metadata": {},
   "source": [
    "###### Dropping Other Irrelevent Columns"
   ]
  },
  {
   "cell_type": "code",
   "execution_count": 129,
   "id": "72525a88",
   "metadata": {},
   "outputs": [],
   "source": [
    "df_preprocessed.drop([\"STATE OR PROVINCE\", \"MLS#\", \"LONGITUDE\", \"LATITUDE\", \"STATUS\",\"ADDRESS\",\"CITY\"], axis=1, inplace=True)"
   ]
  },
  {
   "cell_type": "markdown",
   "id": "8f894bed",
   "metadata": {},
   "source": [
    "###### Filtering out obscure Locations/Gated Communities"
   ]
  },
  {
   "cell_type": "code",
   "execution_count": 130,
   "id": "5245161d",
   "metadata": {},
   "outputs": [],
   "source": [
    "\n",
    "value_counts = df_preprocessed['LOCATION'].value_counts()\n",
    "\n",
    "categories_to_keep = value_counts[value_counts > 6].index\n",
    "\n",
    "df_preprocessed = df_preprocessed[df_preprocessed['LOCATION'].isin(categories_to_keep)]\n"
   ]
  },
  {
   "cell_type": "markdown",
   "id": "34e422f8",
   "metadata": {},
   "source": [
    "###### Creating A Quarter and Year Column"
   ]
  },
  {
   "cell_type": "code",
   "execution_count": 131,
   "id": "4b818418",
   "metadata": {},
   "outputs": [],
   "source": [
    "df_preprocessed['SOLD DATE'] = pd.to_datetime(df_preprocessed['SOLD DATE'], format='%B-%d-%Y')\n",
    "\n",
    "df_preprocessed['Quarter'] = df_preprocessed['SOLD DATE'].dt.quarter\n",
    "df_preprocessed['Year'] = df_preprocessed['SOLD DATE'].dt.year"
   ]
  },
  {
   "cell_type": "markdown",
   "id": "cc1718a0",
   "metadata": {},
   "source": [
    "###### Substituting the Age of the Property instead of Year Built"
   ]
  },
  {
   "cell_type": "code",
   "execution_count": 132,
   "id": "c82a3fca",
   "metadata": {},
   "outputs": [],
   "source": [
    "df_preprocessed['Age'] = 2023 - df_preprocessed[\"YEAR BUILT\"]"
   ]
  },
  {
   "cell_type": "markdown",
   "id": "55b3deb4",
   "metadata": {},
   "source": [
    "###### Reinsating the new columns at the beginning of the Data Frame"
   ]
  },
  {
   "cell_type": "code",
   "execution_count": 133,
   "id": "c23204a6",
   "metadata": {},
   "outputs": [],
   "source": [
    "columns = list(df_preprocessed.columns)\n",
    "columns.remove('Quarter')\n",
    "columns.remove('Year')\n",
    "columns.remove('Age')\n",
    "df_preprocessed = df_preprocessed[['Quarter', 'Year', 'Age'] + columns]"
   ]
  },
  {
   "cell_type": "markdown",
   "id": "094ddc21",
   "metadata": {},
   "source": [
    "###### Dropping Year Built"
   ]
  },
  {
   "cell_type": "code",
   "execution_count": 134,
   "id": "c743ac69",
   "metadata": {},
   "outputs": [],
   "source": [
    "df_preprocessed.drop(\"YEAR BUILT\", axis=1, inplace=True)\n",
    "df_preprocessed.reset_index(drop=True, inplace=True)"
   ]
  },
  {
   "cell_type": "markdown",
   "id": "540739f0",
   "metadata": {},
   "source": [
    "## Time to Machine Learn"
   ]
  },
  {
   "cell_type": "code",
   "execution_count": 135,
   "id": "c968b3f6",
   "metadata": {},
   "outputs": [],
   "source": [
    "import numpy as np\n",
    "from sklearn.model_selection import train_test_split\n",
    "from sklearn.preprocessing import StandardScaler, OneHotEncoder\n",
    "from sklearn.compose import ColumnTransformer\n",
    "from sklearn.pipeline import Pipeline\n",
    "import xgboost as xgb \n",
    "from sklearn.metrics import mean_absolute_error, mean_squared_error, r2_score\n",
    "from sklearn.model_selection import GridSearchCV\n",
    "from sklearn.ensemble import RandomForestRegressor\n",
    "from sklearn.tree import DecisionTreeRegressor\n",
    "from sklearn.impute import SimpleImputer\n",
    "from xgboost import XGBRegressor\n",
    "from sklearn.ensemble import StackingRegressor"
   ]
  },
  {
   "cell_type": "code",
   "execution_count": 136,
   "id": "78473ebb",
   "metadata": {},
   "outputs": [
    {
     "data": {
      "text/plain": [
       "16200000.0"
      ]
     },
     "execution_count": 136,
     "metadata": {},
     "output_type": "execute_result"
    }
   ],
   "source": [
    "df_preprocessed[\"PRICE\"].max()"
   ]
  },
  {
   "cell_type": "code",
   "execution_count": 137,
   "id": "66a1a3b6",
   "metadata": {},
   "outputs": [
    {
     "data": {
      "text/html": [
       "<div>\n",
       "<style scoped>\n",
       "    .dataframe tbody tr th:only-of-type {\n",
       "        vertical-align: middle;\n",
       "    }\n",
       "\n",
       "    .dataframe tbody tr th {\n",
       "        vertical-align: top;\n",
       "    }\n",
       "\n",
       "    .dataframe thead th {\n",
       "        text-align: right;\n",
       "    }\n",
       "</style>\n",
       "<table border=\"1\" class=\"dataframe\">\n",
       "  <thead>\n",
       "    <tr style=\"text-align: right;\">\n",
       "      <th></th>\n",
       "      <th>Quarter</th>\n",
       "      <th>Year</th>\n",
       "      <th>Age</th>\n",
       "      <th>SALE TYPE</th>\n",
       "      <th>SOLD DATE</th>\n",
       "      <th>PROPERTY TYPE</th>\n",
       "      <th>ZIP OR POSTAL CODE</th>\n",
       "      <th>PRICE</th>\n",
       "      <th>BEDS</th>\n",
       "      <th>BATHS</th>\n",
       "      <th>...</th>\n",
       "      <th>work</th>\n",
       "      <th>workout</th>\n",
       "      <th>workshop</th>\n",
       "      <th>world</th>\n",
       "      <th>wrap</th>\n",
       "      <th>yard</th>\n",
       "      <th>year</th>\n",
       "      <th>yoga</th>\n",
       "      <th>zone</th>\n",
       "      <th>zoo</th>\n",
       "    </tr>\n",
       "  </thead>\n",
       "  <tbody>\n",
       "    <tr>\n",
       "      <th>0</th>\n",
       "      <td>2</td>\n",
       "      <td>2023</td>\n",
       "      <td>83.0</td>\n",
       "      <td>PAST SALE</td>\n",
       "      <td>2023-05-30</td>\n",
       "      <td>Single Family Residential</td>\n",
       "      <td>98103.0</td>\n",
       "      <td>690000.0</td>\n",
       "      <td>2.0</td>\n",
       "      <td>1.0</td>\n",
       "      <td>...</td>\n",
       "      <td>0</td>\n",
       "      <td>0</td>\n",
       "      <td>0</td>\n",
       "      <td>0</td>\n",
       "      <td>0</td>\n",
       "      <td>1</td>\n",
       "      <td>1</td>\n",
       "      <td>0</td>\n",
       "      <td>0</td>\n",
       "      <td>0</td>\n",
       "    </tr>\n",
       "    <tr>\n",
       "      <th>1</th>\n",
       "      <td>3</td>\n",
       "      <td>2023</td>\n",
       "      <td>99.0</td>\n",
       "      <td>PAST SALE</td>\n",
       "      <td>2023-09-22</td>\n",
       "      <td>Single Family Residential</td>\n",
       "      <td>98103.0</td>\n",
       "      <td>900000.0</td>\n",
       "      <td>2.0</td>\n",
       "      <td>1.5</td>\n",
       "      <td>...</td>\n",
       "      <td>0</td>\n",
       "      <td>0</td>\n",
       "      <td>0</td>\n",
       "      <td>0</td>\n",
       "      <td>0</td>\n",
       "      <td>0</td>\n",
       "      <td>0</td>\n",
       "      <td>0</td>\n",
       "      <td>0</td>\n",
       "      <td>1</td>\n",
       "    </tr>\n",
       "    <tr>\n",
       "      <th>2</th>\n",
       "      <td>4</td>\n",
       "      <td>2023</td>\n",
       "      <td>36.0</td>\n",
       "      <td>PAST SALE</td>\n",
       "      <td>2023-10-27</td>\n",
       "      <td>Condo/Co-op</td>\n",
       "      <td>98103.0</td>\n",
       "      <td>410000.0</td>\n",
       "      <td>2.0</td>\n",
       "      <td>2.0</td>\n",
       "      <td>...</td>\n",
       "      <td>0</td>\n",
       "      <td>0</td>\n",
       "      <td>0</td>\n",
       "      <td>0</td>\n",
       "      <td>0</td>\n",
       "      <td>0</td>\n",
       "      <td>1</td>\n",
       "      <td>0</td>\n",
       "      <td>0</td>\n",
       "      <td>0</td>\n",
       "    </tr>\n",
       "    <tr>\n",
       "      <th>3</th>\n",
       "      <td>3</td>\n",
       "      <td>2023</td>\n",
       "      <td>16.0</td>\n",
       "      <td>PAST SALE</td>\n",
       "      <td>2023-07-20</td>\n",
       "      <td>Condo/Co-op</td>\n",
       "      <td>98103.0</td>\n",
       "      <td>515000.0</td>\n",
       "      <td>1.0</td>\n",
       "      <td>1.0</td>\n",
       "      <td>...</td>\n",
       "      <td>0</td>\n",
       "      <td>0</td>\n",
       "      <td>0</td>\n",
       "      <td>0</td>\n",
       "      <td>0</td>\n",
       "      <td>1</td>\n",
       "      <td>0</td>\n",
       "      <td>1</td>\n",
       "      <td>0</td>\n",
       "      <td>0</td>\n",
       "    </tr>\n",
       "    <tr>\n",
       "      <th>4</th>\n",
       "      <td>2</td>\n",
       "      <td>2023</td>\n",
       "      <td>25.0</td>\n",
       "      <td>PAST SALE</td>\n",
       "      <td>2023-05-26</td>\n",
       "      <td>Condo/Co-op</td>\n",
       "      <td>98103.0</td>\n",
       "      <td>398500.0</td>\n",
       "      <td>1.0</td>\n",
       "      <td>1.0</td>\n",
       "      <td>...</td>\n",
       "      <td>0</td>\n",
       "      <td>0</td>\n",
       "      <td>0</td>\n",
       "      <td>0</td>\n",
       "      <td>0</td>\n",
       "      <td>0</td>\n",
       "      <td>0</td>\n",
       "      <td>0</td>\n",
       "      <td>0</td>\n",
       "      <td>0</td>\n",
       "    </tr>\n",
       "    <tr>\n",
       "      <th>...</th>\n",
       "      <td>...</td>\n",
       "      <td>...</td>\n",
       "      <td>...</td>\n",
       "      <td>...</td>\n",
       "      <td>...</td>\n",
       "      <td>...</td>\n",
       "      <td>...</td>\n",
       "      <td>...</td>\n",
       "      <td>...</td>\n",
       "      <td>...</td>\n",
       "      <td>...</td>\n",
       "      <td>...</td>\n",
       "      <td>...</td>\n",
       "      <td>...</td>\n",
       "      <td>...</td>\n",
       "      <td>...</td>\n",
       "      <td>...</td>\n",
       "      <td>...</td>\n",
       "      <td>...</td>\n",
       "      <td>...</td>\n",
       "      <td>...</td>\n",
       "    </tr>\n",
       "    <tr>\n",
       "      <th>5163</th>\n",
       "      <td>4</td>\n",
       "      <td>2022</td>\n",
       "      <td>28.0</td>\n",
       "      <td>PAST SALE</td>\n",
       "      <td>2022-11-09</td>\n",
       "      <td>Condo/Co-op</td>\n",
       "      <td>98133.0</td>\n",
       "      <td>430000.0</td>\n",
       "      <td>2.0</td>\n",
       "      <td>2.0</td>\n",
       "      <td>...</td>\n",
       "      <td>0</td>\n",
       "      <td>0</td>\n",
       "      <td>0</td>\n",
       "      <td>0</td>\n",
       "      <td>0</td>\n",
       "      <td>0</td>\n",
       "      <td>0</td>\n",
       "      <td>0</td>\n",
       "      <td>0</td>\n",
       "      <td>0</td>\n",
       "    </tr>\n",
       "    <tr>\n",
       "      <th>5164</th>\n",
       "      <td>2</td>\n",
       "      <td>2023</td>\n",
       "      <td>0.0</td>\n",
       "      <td>PAST SALE</td>\n",
       "      <td>2023-04-20</td>\n",
       "      <td>Townhouse</td>\n",
       "      <td>98177.0</td>\n",
       "      <td>622500.0</td>\n",
       "      <td>2.0</td>\n",
       "      <td>2.0</td>\n",
       "      <td>...</td>\n",
       "      <td>0</td>\n",
       "      <td>0</td>\n",
       "      <td>0</td>\n",
       "      <td>0</td>\n",
       "      <td>0</td>\n",
       "      <td>0</td>\n",
       "      <td>0</td>\n",
       "      <td>0</td>\n",
       "      <td>0</td>\n",
       "      <td>0</td>\n",
       "    </tr>\n",
       "    <tr>\n",
       "      <th>5165</th>\n",
       "      <td>2</td>\n",
       "      <td>2023</td>\n",
       "      <td>6.0</td>\n",
       "      <td>PAST SALE</td>\n",
       "      <td>2023-05-04</td>\n",
       "      <td>Townhouse</td>\n",
       "      <td>98133.0</td>\n",
       "      <td>550000.0</td>\n",
       "      <td>2.0</td>\n",
       "      <td>2.0</td>\n",
       "      <td>...</td>\n",
       "      <td>0</td>\n",
       "      <td>0</td>\n",
       "      <td>0</td>\n",
       "      <td>0</td>\n",
       "      <td>0</td>\n",
       "      <td>0</td>\n",
       "      <td>0</td>\n",
       "      <td>0</td>\n",
       "      <td>0</td>\n",
       "      <td>0</td>\n",
       "    </tr>\n",
       "    <tr>\n",
       "      <th>5166</th>\n",
       "      <td>4</td>\n",
       "      <td>2022</td>\n",
       "      <td>1.0</td>\n",
       "      <td>PAST SALE</td>\n",
       "      <td>2022-12-06</td>\n",
       "      <td>Single Family Residential</td>\n",
       "      <td>98117.0</td>\n",
       "      <td>755000.0</td>\n",
       "      <td>2.0</td>\n",
       "      <td>2.0</td>\n",
       "      <td>...</td>\n",
       "      <td>0</td>\n",
       "      <td>0</td>\n",
       "      <td>0</td>\n",
       "      <td>0</td>\n",
       "      <td>0</td>\n",
       "      <td>0</td>\n",
       "      <td>0</td>\n",
       "      <td>0</td>\n",
       "      <td>0</td>\n",
       "      <td>0</td>\n",
       "    </tr>\n",
       "    <tr>\n",
       "      <th>5167</th>\n",
       "      <td>1</td>\n",
       "      <td>2023</td>\n",
       "      <td>23.0</td>\n",
       "      <td>PAST SALE</td>\n",
       "      <td>2023-02-28</td>\n",
       "      <td>Condo/Co-op</td>\n",
       "      <td>98133.0</td>\n",
       "      <td>277000.0</td>\n",
       "      <td>1.0</td>\n",
       "      <td>1.0</td>\n",
       "      <td>...</td>\n",
       "      <td>0</td>\n",
       "      <td>0</td>\n",
       "      <td>0</td>\n",
       "      <td>0</td>\n",
       "      <td>0</td>\n",
       "      <td>0</td>\n",
       "      <td>0</td>\n",
       "      <td>0</td>\n",
       "      <td>0</td>\n",
       "      <td>0</td>\n",
       "    </tr>\n",
       "  </tbody>\n",
       "</table>\n",
       "<p>5168 rows × 939 columns</p>\n",
       "</div>"
      ],
      "text/plain": [
       "      Quarter  Year   Age  SALE TYPE  SOLD DATE              PROPERTY TYPE  \\\n",
       "0           2  2023  83.0  PAST SALE 2023-05-30  Single Family Residential   \n",
       "1           3  2023  99.0  PAST SALE 2023-09-22  Single Family Residential   \n",
       "2           4  2023  36.0  PAST SALE 2023-10-27                Condo/Co-op   \n",
       "3           3  2023  16.0  PAST SALE 2023-07-20                Condo/Co-op   \n",
       "4           2  2023  25.0  PAST SALE 2023-05-26                Condo/Co-op   \n",
       "...       ...   ...   ...        ...        ...                        ...   \n",
       "5163        4  2022  28.0  PAST SALE 2022-11-09                Condo/Co-op   \n",
       "5164        2  2023   0.0  PAST SALE 2023-04-20                  Townhouse   \n",
       "5165        2  2023   6.0  PAST SALE 2023-05-04                  Townhouse   \n",
       "5166        4  2022   1.0  PAST SALE 2022-12-06  Single Family Residential   \n",
       "5167        1  2023  23.0  PAST SALE 2023-02-28                Condo/Co-op   \n",
       "\n",
       "      ZIP OR POSTAL CODE     PRICE  BEDS  BATHS  ... work  workout  workshop  \\\n",
       "0                98103.0  690000.0   2.0    1.0  ...    0        0         0   \n",
       "1                98103.0  900000.0   2.0    1.5  ...    0        0         0   \n",
       "2                98103.0  410000.0   2.0    2.0  ...    0        0         0   \n",
       "3                98103.0  515000.0   1.0    1.0  ...    0        0         0   \n",
       "4                98103.0  398500.0   1.0    1.0  ...    0        0         0   \n",
       "...                  ...       ...   ...    ...  ...  ...      ...       ...   \n",
       "5163             98133.0  430000.0   2.0    2.0  ...    0        0         0   \n",
       "5164             98177.0  622500.0   2.0    2.0  ...    0        0         0   \n",
       "5165             98133.0  550000.0   2.0    2.0  ...    0        0         0   \n",
       "5166             98117.0  755000.0   2.0    2.0  ...    0        0         0   \n",
       "5167             98133.0  277000.0   1.0    1.0  ...    0        0         0   \n",
       "\n",
       "      world  wrap  yard  year  yoga  zone  zoo  \n",
       "0         0     0     1     1     0     0    0  \n",
       "1         0     0     0     0     0     0    1  \n",
       "2         0     0     0     1     0     0    0  \n",
       "3         0     0     1     0     1     0    0  \n",
       "4         0     0     0     0     0     0    0  \n",
       "...     ...   ...   ...   ...   ...   ...  ...  \n",
       "5163      0     0     0     0     0     0    0  \n",
       "5164      0     0     0     0     0     0    0  \n",
       "5165      0     0     0     0     0     0    0  \n",
       "5166      0     0     0     0     0     0    0  \n",
       "5167      0     0     0     0     0     0    0  \n",
       "\n",
       "[5168 rows x 939 columns]"
      ]
     },
     "execution_count": 137,
     "metadata": {},
     "output_type": "execute_result"
    }
   ],
   "source": [
    "df_preprocessed"
   ]
  },
  {
   "cell_type": "code",
   "execution_count": 138,
   "id": "56667e4d",
   "metadata": {},
   "outputs": [
    {
     "data": {
      "text/html": [
       "<div>\n",
       "<style scoped>\n",
       "    .dataframe tbody tr th:only-of-type {\n",
       "        vertical-align: middle;\n",
       "    }\n",
       "\n",
       "    .dataframe tbody tr th {\n",
       "        vertical-align: top;\n",
       "    }\n",
       "\n",
       "    .dataframe thead th {\n",
       "        text-align: right;\n",
       "    }\n",
       "</style>\n",
       "<table border=\"1\" class=\"dataframe\">\n",
       "  <thead>\n",
       "    <tr style=\"text-align: right;\">\n",
       "      <th></th>\n",
       "      <th>Quarter</th>\n",
       "      <th>Year</th>\n",
       "      <th>Age</th>\n",
       "      <th>SOLD DATE</th>\n",
       "      <th>ZIP OR POSTAL CODE</th>\n",
       "      <th>PRICE</th>\n",
       "      <th>BEDS</th>\n",
       "      <th>BATHS</th>\n",
       "      <th>SQUARE FEET</th>\n",
       "      <th>LOT SIZE</th>\n",
       "      <th>...</th>\n",
       "      <th>work</th>\n",
       "      <th>workout</th>\n",
       "      <th>workshop</th>\n",
       "      <th>world</th>\n",
       "      <th>wrap</th>\n",
       "      <th>yard</th>\n",
       "      <th>year</th>\n",
       "      <th>yoga</th>\n",
       "      <th>zone</th>\n",
       "      <th>zoo</th>\n",
       "    </tr>\n",
       "  </thead>\n",
       "  <tbody>\n",
       "    <tr>\n",
       "      <th>count</th>\n",
       "      <td>5168.000000</td>\n",
       "      <td>5168.000000</td>\n",
       "      <td>5168.000000</td>\n",
       "      <td>5168</td>\n",
       "      <td>5168.000000</td>\n",
       "      <td>5.168000e+03</td>\n",
       "      <td>5168.000000</td>\n",
       "      <td>5168.000000</td>\n",
       "      <td>5167.000000</td>\n",
       "      <td>5167.000000</td>\n",
       "      <td>...</td>\n",
       "      <td>5168.000000</td>\n",
       "      <td>5168.000000</td>\n",
       "      <td>5168.000000</td>\n",
       "      <td>5168.000000</td>\n",
       "      <td>5168.000000</td>\n",
       "      <td>5168.000000</td>\n",
       "      <td>5168.000000</td>\n",
       "      <td>5168.000000</td>\n",
       "      <td>5168.000000</td>\n",
       "      <td>5168.000000</td>\n",
       "    </tr>\n",
       "    <tr>\n",
       "      <th>mean</th>\n",
       "      <td>2.496904</td>\n",
       "      <td>2022.859133</td>\n",
       "      <td>48.738197</td>\n",
       "      <td>2023-05-12 20:24:53.498451968</td>\n",
       "      <td>98118.741680</td>\n",
       "      <td>9.708339e+05</td>\n",
       "      <td>2.807082</td>\n",
       "      <td>2.121130</td>\n",
       "      <td>1738.598800</td>\n",
       "      <td>4577.712162</td>\n",
       "      <td>...</td>\n",
       "      <td>0.087655</td>\n",
       "      <td>0.011223</td>\n",
       "      <td>0.017995</td>\n",
       "      <td>0.031540</td>\n",
       "      <td>0.017221</td>\n",
       "      <td>0.219621</td>\n",
       "      <td>0.094814</td>\n",
       "      <td>0.013545</td>\n",
       "      <td>0.016060</td>\n",
       "      <td>0.015673</td>\n",
       "    </tr>\n",
       "    <tr>\n",
       "      <th>min</th>\n",
       "      <td>1.000000</td>\n",
       "      <td>2022.000000</td>\n",
       "      <td>-2.000000</td>\n",
       "      <td>2022-10-31 00:00:00</td>\n",
       "      <td>98012.000000</td>\n",
       "      <td>2.025000e+05</td>\n",
       "      <td>0.000000</td>\n",
       "      <td>0.500000</td>\n",
       "      <td>268.000000</td>\n",
       "      <td>1.000000</td>\n",
       "      <td>...</td>\n",
       "      <td>0.000000</td>\n",
       "      <td>0.000000</td>\n",
       "      <td>0.000000</td>\n",
       "      <td>0.000000</td>\n",
       "      <td>0.000000</td>\n",
       "      <td>0.000000</td>\n",
       "      <td>0.000000</td>\n",
       "      <td>0.000000</td>\n",
       "      <td>0.000000</td>\n",
       "      <td>0.000000</td>\n",
       "    </tr>\n",
       "    <tr>\n",
       "      <th>25%</th>\n",
       "      <td>2.000000</td>\n",
       "      <td>2023.000000</td>\n",
       "      <td>7.000000</td>\n",
       "      <td>2023-02-28 00:00:00</td>\n",
       "      <td>98105.000000</td>\n",
       "      <td>6.250000e+05</td>\n",
       "      <td>2.000000</td>\n",
       "      <td>1.500000</td>\n",
       "      <td>1097.000000</td>\n",
       "      <td>1098.500000</td>\n",
       "      <td>...</td>\n",
       "      <td>0.000000</td>\n",
       "      <td>0.000000</td>\n",
       "      <td>0.000000</td>\n",
       "      <td>0.000000</td>\n",
       "      <td>0.000000</td>\n",
       "      <td>0.000000</td>\n",
       "      <td>0.000000</td>\n",
       "      <td>0.000000</td>\n",
       "      <td>0.000000</td>\n",
       "      <td>0.000000</td>\n",
       "    </tr>\n",
       "    <tr>\n",
       "      <th>50%</th>\n",
       "      <td>2.000000</td>\n",
       "      <td>2023.000000</td>\n",
       "      <td>44.000000</td>\n",
       "      <td>2023-05-18 12:00:00</td>\n",
       "      <td>98112.000000</td>\n",
       "      <td>8.200000e+05</td>\n",
       "      <td>3.000000</td>\n",
       "      <td>2.000000</td>\n",
       "      <td>1568.000000</td>\n",
       "      <td>3376.000000</td>\n",
       "      <td>...</td>\n",
       "      <td>0.000000</td>\n",
       "      <td>0.000000</td>\n",
       "      <td>0.000000</td>\n",
       "      <td>0.000000</td>\n",
       "      <td>0.000000</td>\n",
       "      <td>0.000000</td>\n",
       "      <td>0.000000</td>\n",
       "      <td>0.000000</td>\n",
       "      <td>0.000000</td>\n",
       "      <td>0.000000</td>\n",
       "    </tr>\n",
       "    <tr>\n",
       "      <th>75%</th>\n",
       "      <td>3.000000</td>\n",
       "      <td>2023.000000</td>\n",
       "      <td>82.000000</td>\n",
       "      <td>2023-08-02 00:00:00</td>\n",
       "      <td>98117.000000</td>\n",
       "      <td>1.149950e+06</td>\n",
       "      <td>3.000000</td>\n",
       "      <td>2.500000</td>\n",
       "      <td>2220.000000</td>\n",
       "      <td>5669.500000</td>\n",
       "      <td>...</td>\n",
       "      <td>0.000000</td>\n",
       "      <td>0.000000</td>\n",
       "      <td>0.000000</td>\n",
       "      <td>0.000000</td>\n",
       "      <td>0.000000</td>\n",
       "      <td>0.000000</td>\n",
       "      <td>0.000000</td>\n",
       "      <td>0.000000</td>\n",
       "      <td>0.000000</td>\n",
       "      <td>0.000000</td>\n",
       "    </tr>\n",
       "    <tr>\n",
       "      <th>max</th>\n",
       "      <td>4.000000</td>\n",
       "      <td>2023.000000</td>\n",
       "      <td>133.000000</td>\n",
       "      <td>2023-10-31 00:00:00</td>\n",
       "      <td>98199.000000</td>\n",
       "      <td>1.620000e+07</td>\n",
       "      <td>8.000000</td>\n",
       "      <td>9.000000</td>\n",
       "      <td>11573.000000</td>\n",
       "      <td>493925.000000</td>\n",
       "      <td>...</td>\n",
       "      <td>3.000000</td>\n",
       "      <td>1.000000</td>\n",
       "      <td>2.000000</td>\n",
       "      <td>2.000000</td>\n",
       "      <td>2.000000</td>\n",
       "      <td>3.000000</td>\n",
       "      <td>2.000000</td>\n",
       "      <td>1.000000</td>\n",
       "      <td>2.000000</td>\n",
       "      <td>1.000000</td>\n",
       "    </tr>\n",
       "    <tr>\n",
       "      <th>std</th>\n",
       "      <td>1.049385</td>\n",
       "      <td>0.347918</td>\n",
       "      <td>39.912593</td>\n",
       "      <td>NaN</td>\n",
       "      <td>22.525671</td>\n",
       "      <td>6.412133e+05</td>\n",
       "      <td>1.134352</td>\n",
       "      <td>0.845035</td>\n",
       "      <td>892.240766</td>\n",
       "      <td>11468.584615</td>\n",
       "      <td>...</td>\n",
       "      <td>0.308355</td>\n",
       "      <td>0.105352</td>\n",
       "      <td>0.134395</td>\n",
       "      <td>0.182376</td>\n",
       "      <td>0.131587</td>\n",
       "      <td>0.467179</td>\n",
       "      <td>0.308433</td>\n",
       "      <td>0.115603</td>\n",
       "      <td>0.131734</td>\n",
       "      <td>0.124220</td>\n",
       "    </tr>\n",
       "  </tbody>\n",
       "</table>\n",
       "<p>8 rows × 936 columns</p>\n",
       "</div>"
      ],
      "text/plain": [
       "           Quarter         Year          Age                      SOLD DATE  \\\n",
       "count  5168.000000  5168.000000  5168.000000                           5168   \n",
       "mean      2.496904  2022.859133    48.738197  2023-05-12 20:24:53.498451968   \n",
       "min       1.000000  2022.000000    -2.000000            2022-10-31 00:00:00   \n",
       "25%       2.000000  2023.000000     7.000000            2023-02-28 00:00:00   \n",
       "50%       2.000000  2023.000000    44.000000            2023-05-18 12:00:00   \n",
       "75%       3.000000  2023.000000    82.000000            2023-08-02 00:00:00   \n",
       "max       4.000000  2023.000000   133.000000            2023-10-31 00:00:00   \n",
       "std       1.049385     0.347918    39.912593                            NaN   \n",
       "\n",
       "       ZIP OR POSTAL CODE         PRICE         BEDS        BATHS  \\\n",
       "count         5168.000000  5.168000e+03  5168.000000  5168.000000   \n",
       "mean         98118.741680  9.708339e+05     2.807082     2.121130   \n",
       "min          98012.000000  2.025000e+05     0.000000     0.500000   \n",
       "25%          98105.000000  6.250000e+05     2.000000     1.500000   \n",
       "50%          98112.000000  8.200000e+05     3.000000     2.000000   \n",
       "75%          98117.000000  1.149950e+06     3.000000     2.500000   \n",
       "max          98199.000000  1.620000e+07     8.000000     9.000000   \n",
       "std             22.525671  6.412133e+05     1.134352     0.845035   \n",
       "\n",
       "        SQUARE FEET       LOT SIZE  ...         work      workout  \\\n",
       "count   5167.000000    5167.000000  ...  5168.000000  5168.000000   \n",
       "mean    1738.598800    4577.712162  ...     0.087655     0.011223   \n",
       "min      268.000000       1.000000  ...     0.000000     0.000000   \n",
       "25%     1097.000000    1098.500000  ...     0.000000     0.000000   \n",
       "50%     1568.000000    3376.000000  ...     0.000000     0.000000   \n",
       "75%     2220.000000    5669.500000  ...     0.000000     0.000000   \n",
       "max    11573.000000  493925.000000  ...     3.000000     1.000000   \n",
       "std      892.240766   11468.584615  ...     0.308355     0.105352   \n",
       "\n",
       "          workshop        world         wrap         yard         year  \\\n",
       "count  5168.000000  5168.000000  5168.000000  5168.000000  5168.000000   \n",
       "mean      0.017995     0.031540     0.017221     0.219621     0.094814   \n",
       "min       0.000000     0.000000     0.000000     0.000000     0.000000   \n",
       "25%       0.000000     0.000000     0.000000     0.000000     0.000000   \n",
       "50%       0.000000     0.000000     0.000000     0.000000     0.000000   \n",
       "75%       0.000000     0.000000     0.000000     0.000000     0.000000   \n",
       "max       2.000000     2.000000     2.000000     3.000000     2.000000   \n",
       "std       0.134395     0.182376     0.131587     0.467179     0.308433   \n",
       "\n",
       "              yoga         zone          zoo  \n",
       "count  5168.000000  5168.000000  5168.000000  \n",
       "mean      0.013545     0.016060     0.015673  \n",
       "min       0.000000     0.000000     0.000000  \n",
       "25%       0.000000     0.000000     0.000000  \n",
       "50%       0.000000     0.000000     0.000000  \n",
       "75%       0.000000     0.000000     0.000000  \n",
       "max       1.000000     2.000000     1.000000  \n",
       "std       0.115603     0.131734     0.124220  \n",
       "\n",
       "[8 rows x 936 columns]"
      ]
     },
     "execution_count": 138,
     "metadata": {},
     "output_type": "execute_result"
    }
   ],
   "source": [
    "df_preprocessed.describe()"
   ]
  },
  {
   "cell_type": "markdown",
   "id": "2da93ca8",
   "metadata": {},
   "source": [
    "###### Filtering Out Large Outliers"
   ]
  },
  {
   "cell_type": "code",
   "execution_count": 139,
   "id": "d82ae815",
   "metadata": {},
   "outputs": [],
   "source": [
    "df_preprocessed['Z_Price'] = np.abs((df_preprocessed['PRICE'] - df_preprocessed['PRICE'].mean()) / df_preprocessed['PRICE'].std())\n",
    "df_preprocessed['Z_LotSize'] = np.abs((df_preprocessed['LOT SIZE'] - df_preprocessed['LOT SIZE'].mean()) / df_preprocessed['LOT SIZE'].std())\n",
    "df_preprocessed = df_preprocessed[(df_preprocessed['Z_Price'] < 7) & (df_preprocessed['Z_LotSize'] < 4)]\n",
    "df_preprocessed = df_preprocessed.drop(columns=['Z_Price', 'Z_LotSize'])"
   ]
  },
  {
   "cell_type": "markdown",
   "id": "d7ace29b",
   "metadata": {},
   "source": [
    "###### Looking at Final Dataset Stats Before Split"
   ]
  },
  {
   "cell_type": "code",
   "execution_count": 140,
   "id": "f9552c4c",
   "metadata": {},
   "outputs": [
    {
     "data": {
      "text/html": [
       "<div>\n",
       "<style scoped>\n",
       "    .dataframe tbody tr th:only-of-type {\n",
       "        vertical-align: middle;\n",
       "    }\n",
       "\n",
       "    .dataframe tbody tr th {\n",
       "        vertical-align: top;\n",
       "    }\n",
       "\n",
       "    .dataframe thead th {\n",
       "        text-align: right;\n",
       "    }\n",
       "</style>\n",
       "<table border=\"1\" class=\"dataframe\">\n",
       "  <thead>\n",
       "    <tr style=\"text-align: right;\">\n",
       "      <th></th>\n",
       "      <th>Quarter</th>\n",
       "      <th>Year</th>\n",
       "      <th>Age</th>\n",
       "      <th>SOLD DATE</th>\n",
       "      <th>ZIP OR POSTAL CODE</th>\n",
       "      <th>PRICE</th>\n",
       "      <th>BEDS</th>\n",
       "      <th>BATHS</th>\n",
       "      <th>SQUARE FEET</th>\n",
       "      <th>LOT SIZE</th>\n",
       "      <th>...</th>\n",
       "      <th>work</th>\n",
       "      <th>workout</th>\n",
       "      <th>workshop</th>\n",
       "      <th>world</th>\n",
       "      <th>wrap</th>\n",
       "      <th>yard</th>\n",
       "      <th>year</th>\n",
       "      <th>yoga</th>\n",
       "      <th>zone</th>\n",
       "      <th>zoo</th>\n",
       "    </tr>\n",
       "  </thead>\n",
       "  <tbody>\n",
       "    <tr>\n",
       "      <th>count</th>\n",
       "      <td>5137.000000</td>\n",
       "      <td>5137.000000</td>\n",
       "      <td>5137.000000</td>\n",
       "      <td>5137</td>\n",
       "      <td>5137.000000</td>\n",
       "      <td>5.137000e+03</td>\n",
       "      <td>5137.000000</td>\n",
       "      <td>5137.000000</td>\n",
       "      <td>5137.000000</td>\n",
       "      <td>5137.000000</td>\n",
       "      <td>...</td>\n",
       "      <td>5137.000000</td>\n",
       "      <td>5137.000000</td>\n",
       "      <td>5137.000000</td>\n",
       "      <td>5137.000000</td>\n",
       "      <td>5137.000000</td>\n",
       "      <td>5137.000000</td>\n",
       "      <td>5137.000000</td>\n",
       "      <td>5137.000000</td>\n",
       "      <td>5137.000000</td>\n",
       "      <td>5137.000000</td>\n",
       "    </tr>\n",
       "    <tr>\n",
       "      <th>mean</th>\n",
       "      <td>2.495815</td>\n",
       "      <td>2022.859256</td>\n",
       "      <td>48.726494</td>\n",
       "      <td>2023-05-12 19:40:25.462332160</td>\n",
       "      <td>98118.723185</td>\n",
       "      <td>9.583315e+05</td>\n",
       "      <td>2.805529</td>\n",
       "      <td>2.115632</td>\n",
       "      <td>1729.580300</td>\n",
       "      <td>4039.244255</td>\n",
       "      <td>...</td>\n",
       "      <td>0.087600</td>\n",
       "      <td>0.011096</td>\n",
       "      <td>0.018104</td>\n",
       "      <td>0.031341</td>\n",
       "      <td>0.017325</td>\n",
       "      <td>0.220751</td>\n",
       "      <td>0.094802</td>\n",
       "      <td>0.013627</td>\n",
       "      <td>0.016157</td>\n",
       "      <td>0.015768</td>\n",
       "    </tr>\n",
       "    <tr>\n",
       "      <th>min</th>\n",
       "      <td>1.000000</td>\n",
       "      <td>2022.000000</td>\n",
       "      <td>-2.000000</td>\n",
       "      <td>2022-10-31 00:00:00</td>\n",
       "      <td>98012.000000</td>\n",
       "      <td>2.025000e+05</td>\n",
       "      <td>0.000000</td>\n",
       "      <td>0.500000</td>\n",
       "      <td>268.000000</td>\n",
       "      <td>1.000000</td>\n",
       "      <td>...</td>\n",
       "      <td>0.000000</td>\n",
       "      <td>0.000000</td>\n",
       "      <td>0.000000</td>\n",
       "      <td>0.000000</td>\n",
       "      <td>0.000000</td>\n",
       "      <td>0.000000</td>\n",
       "      <td>0.000000</td>\n",
       "      <td>0.000000</td>\n",
       "      <td>0.000000</td>\n",
       "      <td>0.000000</td>\n",
       "    </tr>\n",
       "    <tr>\n",
       "      <th>25%</th>\n",
       "      <td>2.000000</td>\n",
       "      <td>2023.000000</td>\n",
       "      <td>7.000000</td>\n",
       "      <td>2023-02-28 00:00:00</td>\n",
       "      <td>98105.000000</td>\n",
       "      <td>6.250000e+05</td>\n",
       "      <td>2.000000</td>\n",
       "      <td>1.500000</td>\n",
       "      <td>1097.000000</td>\n",
       "      <td>1093.000000</td>\n",
       "      <td>...</td>\n",
       "      <td>0.000000</td>\n",
       "      <td>0.000000</td>\n",
       "      <td>0.000000</td>\n",
       "      <td>0.000000</td>\n",
       "      <td>0.000000</td>\n",
       "      <td>0.000000</td>\n",
       "      <td>0.000000</td>\n",
       "      <td>0.000000</td>\n",
       "      <td>0.000000</td>\n",
       "      <td>0.000000</td>\n",
       "    </tr>\n",
       "    <tr>\n",
       "      <th>50%</th>\n",
       "      <td>2.000000</td>\n",
       "      <td>2023.000000</td>\n",
       "      <td>44.000000</td>\n",
       "      <td>2023-05-19 00:00:00</td>\n",
       "      <td>98112.000000</td>\n",
       "      <td>8.200000e+05</td>\n",
       "      <td>3.000000</td>\n",
       "      <td>2.000000</td>\n",
       "      <td>1568.000000</td>\n",
       "      <td>3330.000000</td>\n",
       "      <td>...</td>\n",
       "      <td>0.000000</td>\n",
       "      <td>0.000000</td>\n",
       "      <td>0.000000</td>\n",
       "      <td>0.000000</td>\n",
       "      <td>0.000000</td>\n",
       "      <td>0.000000</td>\n",
       "      <td>0.000000</td>\n",
       "      <td>0.000000</td>\n",
       "      <td>0.000000</td>\n",
       "      <td>0.000000</td>\n",
       "    </tr>\n",
       "    <tr>\n",
       "      <th>75%</th>\n",
       "      <td>3.000000</td>\n",
       "      <td>2023.000000</td>\n",
       "      <td>82.000000</td>\n",
       "      <td>2023-08-02 00:00:00</td>\n",
       "      <td>98117.000000</td>\n",
       "      <td>1.149000e+06</td>\n",
       "      <td>3.000000</td>\n",
       "      <td>2.500000</td>\n",
       "      <td>2213.000000</td>\n",
       "      <td>5580.000000</td>\n",
       "      <td>...</td>\n",
       "      <td>0.000000</td>\n",
       "      <td>0.000000</td>\n",
       "      <td>0.000000</td>\n",
       "      <td>0.000000</td>\n",
       "      <td>0.000000</td>\n",
       "      <td>0.000000</td>\n",
       "      <td>0.000000</td>\n",
       "      <td>0.000000</td>\n",
       "      <td>0.000000</td>\n",
       "      <td>0.000000</td>\n",
       "    </tr>\n",
       "    <tr>\n",
       "      <th>max</th>\n",
       "      <td>4.000000</td>\n",
       "      <td>2023.000000</td>\n",
       "      <td>133.000000</td>\n",
       "      <td>2023-10-31 00:00:00</td>\n",
       "      <td>98199.000000</td>\n",
       "      <td>4.764000e+06</td>\n",
       "      <td>8.000000</td>\n",
       "      <td>7.500000</td>\n",
       "      <td>9600.000000</td>\n",
       "      <td>47354.000000</td>\n",
       "      <td>...</td>\n",
       "      <td>3.000000</td>\n",
       "      <td>1.000000</td>\n",
       "      <td>2.000000</td>\n",
       "      <td>2.000000</td>\n",
       "      <td>2.000000</td>\n",
       "      <td>3.000000</td>\n",
       "      <td>2.000000</td>\n",
       "      <td>1.000000</td>\n",
       "      <td>2.000000</td>\n",
       "      <td>1.000000</td>\n",
       "    </tr>\n",
       "    <tr>\n",
       "      <th>std</th>\n",
       "      <td>1.049603</td>\n",
       "      <td>0.347791</td>\n",
       "      <td>39.954927</td>\n",
       "      <td>NaN</td>\n",
       "      <td>22.511534</td>\n",
       "      <td>5.418514e+05</td>\n",
       "      <td>1.130738</td>\n",
       "      <td>0.829663</td>\n",
       "      <td>855.035205</td>\n",
       "      <td>4236.172292</td>\n",
       "      <td>...</td>\n",
       "      <td>0.308429</td>\n",
       "      <td>0.104762</td>\n",
       "      <td>0.134793</td>\n",
       "      <td>0.181909</td>\n",
       "      <td>0.131977</td>\n",
       "      <td>0.468158</td>\n",
       "      <td>0.308508</td>\n",
       "      <td>0.115946</td>\n",
       "      <td>0.132125</td>\n",
       "      <td>0.124589</td>\n",
       "    </tr>\n",
       "  </tbody>\n",
       "</table>\n",
       "<p>8 rows × 936 columns</p>\n",
       "</div>"
      ],
      "text/plain": [
       "           Quarter         Year          Age                      SOLD DATE  \\\n",
       "count  5137.000000  5137.000000  5137.000000                           5137   \n",
       "mean      2.495815  2022.859256    48.726494  2023-05-12 19:40:25.462332160   \n",
       "min       1.000000  2022.000000    -2.000000            2022-10-31 00:00:00   \n",
       "25%       2.000000  2023.000000     7.000000            2023-02-28 00:00:00   \n",
       "50%       2.000000  2023.000000    44.000000            2023-05-19 00:00:00   \n",
       "75%       3.000000  2023.000000    82.000000            2023-08-02 00:00:00   \n",
       "max       4.000000  2023.000000   133.000000            2023-10-31 00:00:00   \n",
       "std       1.049603     0.347791    39.954927                            NaN   \n",
       "\n",
       "       ZIP OR POSTAL CODE         PRICE         BEDS        BATHS  \\\n",
       "count         5137.000000  5.137000e+03  5137.000000  5137.000000   \n",
       "mean         98118.723185  9.583315e+05     2.805529     2.115632   \n",
       "min          98012.000000  2.025000e+05     0.000000     0.500000   \n",
       "25%          98105.000000  6.250000e+05     2.000000     1.500000   \n",
       "50%          98112.000000  8.200000e+05     3.000000     2.000000   \n",
       "75%          98117.000000  1.149000e+06     3.000000     2.500000   \n",
       "max          98199.000000  4.764000e+06     8.000000     7.500000   \n",
       "std             22.511534  5.418514e+05     1.130738     0.829663   \n",
       "\n",
       "       SQUARE FEET      LOT SIZE  ...         work      workout     workshop  \\\n",
       "count  5137.000000   5137.000000  ...  5137.000000  5137.000000  5137.000000   \n",
       "mean   1729.580300   4039.244255  ...     0.087600     0.011096     0.018104   \n",
       "min     268.000000      1.000000  ...     0.000000     0.000000     0.000000   \n",
       "25%    1097.000000   1093.000000  ...     0.000000     0.000000     0.000000   \n",
       "50%    1568.000000   3330.000000  ...     0.000000     0.000000     0.000000   \n",
       "75%    2213.000000   5580.000000  ...     0.000000     0.000000     0.000000   \n",
       "max    9600.000000  47354.000000  ...     3.000000     1.000000     2.000000   \n",
       "std     855.035205   4236.172292  ...     0.308429     0.104762     0.134793   \n",
       "\n",
       "             world         wrap         yard         year         yoga  \\\n",
       "count  5137.000000  5137.000000  5137.000000  5137.000000  5137.000000   \n",
       "mean      0.031341     0.017325     0.220751     0.094802     0.013627   \n",
       "min       0.000000     0.000000     0.000000     0.000000     0.000000   \n",
       "25%       0.000000     0.000000     0.000000     0.000000     0.000000   \n",
       "50%       0.000000     0.000000     0.000000     0.000000     0.000000   \n",
       "75%       0.000000     0.000000     0.000000     0.000000     0.000000   \n",
       "max       2.000000     2.000000     3.000000     2.000000     1.000000   \n",
       "std       0.181909     0.131977     0.468158     0.308508     0.115946   \n",
       "\n",
       "              zone          zoo  \n",
       "count  5137.000000  5137.000000  \n",
       "mean      0.016157     0.015768  \n",
       "min       0.000000     0.000000  \n",
       "25%       0.000000     0.000000  \n",
       "50%       0.000000     0.000000  \n",
       "75%       0.000000     0.000000  \n",
       "max       2.000000     1.000000  \n",
       "std       0.132125     0.124589  \n",
       "\n",
       "[8 rows x 936 columns]"
      ]
     },
     "execution_count": 140,
     "metadata": {},
     "output_type": "execute_result"
    }
   ],
   "source": [
    "df_preprocessed.describe()"
   ]
  },
  {
   "cell_type": "markdown",
   "id": "a30ffce2",
   "metadata": {},
   "source": [
    "###### Splitting Price (Target) from rest of DataFrame"
   ]
  },
  {
   "cell_type": "code",
   "execution_count": 141,
   "id": "996e6e42",
   "metadata": {},
   "outputs": [],
   "source": [
    "X = df_preprocessed.drop(\"PRICE\", axis=1)\n",
    "y = df_preprocessed[\"PRICE\"]"
   ]
  },
  {
   "cell_type": "markdown",
   "id": "50494800",
   "metadata": {},
   "source": [
    "###### Filtering 1st 12 columns (Non-BOW columns) to pass through transformers"
   ]
  },
  {
   "cell_type": "code",
   "execution_count": 142,
   "id": "79cc8d7b",
   "metadata": {},
   "outputs": [],
   "source": [
    "first_12_columns = X.iloc[:, :12]\n",
    "numeric_cols = first_12_columns.select_dtypes(include=['int64', 'float64']).columns\n",
    "categorical_cols = first_12_columns.select_dtypes(include=['object']).columns"
   ]
  },
  {
   "cell_type": "markdown",
   "id": "60b453ee",
   "metadata": {},
   "source": [
    "###### Creating the Transformers for each dtype"
   ]
  },
  {
   "cell_type": "code",
   "execution_count": 143,
   "id": "bda795c3",
   "metadata": {},
   "outputs": [],
   "source": [
    "numeric_transformer = Pipeline(steps=[\n",
    "    ('imputer', SimpleImputer(strategy='mean')),\n",
    "    ('scaler', StandardScaler()), \n",
    "])\n",
    "\n",
    "categorical_transformer = Pipeline(steps=[\n",
    "    ('onehot', OneHotEncoder(drop = \"first\"))\n",
    "])\n"
   ]
  },
  {
   "cell_type": "markdown",
   "id": "854d2a26",
   "metadata": {},
   "source": [
    "###### BOW's doesn't need to be transformed "
   ]
  },
  {
   "cell_type": "code",
   "execution_count": 144,
   "id": "027c10f9",
   "metadata": {},
   "outputs": [],
   "source": [
    "bow_cols = X.columns[12:]"
   ]
  },
  {
   "cell_type": "markdown",
   "id": "680f44c7",
   "metadata": {},
   "source": [
    "###### Creating Preprocessor"
   ]
  },
  {
   "cell_type": "code",
   "execution_count": 145,
   "id": "9f767d5a",
   "metadata": {},
   "outputs": [],
   "source": [
    "preprocessor = ColumnTransformer(\n",
    "    transformers=[\n",
    "        ('num', numeric_transformer, numeric_cols),\n",
    "        ('cat', categorical_transformer, categorical_cols),\n",
    "        ('bow', 'passthrough', bow_cols)\n",
    "    ]\n",
    ")"
   ]
  },
  {
   "cell_type": "markdown",
   "id": "a6c450d8",
   "metadata": {},
   "source": [
    "###### Test Train Split"
   ]
  },
  {
   "cell_type": "code",
   "execution_count": 146,
   "id": "4de84651",
   "metadata": {},
   "outputs": [],
   "source": [
    "X_train, X_test, y_train, y_test = train_test_split(X, y, test_size=0.20, random_state=42)"
   ]
  },
  {
   "cell_type": "markdown",
   "id": "7c2b5e4f",
   "metadata": {},
   "source": [
    "#### Intiating 1st Simple Baseline Model: Decision Tree Classifier (No Tuning)"
   ]
  },
  {
   "cell_type": "code",
   "execution_count": 52,
   "id": "203fa427",
   "metadata": {},
   "outputs": [],
   "source": [
    "pipeline1 = Pipeline(steps=[\n",
    "    ('preprocessor', preprocessor),\n",
    "    (\"classifier\", DecisionTreeRegressor())\n",
    "])\n"
   ]
  },
  {
   "cell_type": "markdown",
   "id": "73c94b98",
   "metadata": {},
   "source": [
    "###### Fitting the Pipeline"
   ]
  },
  {
   "cell_type": "code",
   "execution_count": 53,
   "id": "98216f88",
   "metadata": {},
   "outputs": [
    {
     "data": {
      "text/html": [
       "<style>#sk-container-id-2 {color: black;}#sk-container-id-2 pre{padding: 0;}#sk-container-id-2 div.sk-toggleable {background-color: white;}#sk-container-id-2 label.sk-toggleable__label {cursor: pointer;display: block;width: 100%;margin-bottom: 0;padding: 0.3em;box-sizing: border-box;text-align: center;}#sk-container-id-2 label.sk-toggleable__label-arrow:before {content: \"▸\";float: left;margin-right: 0.25em;color: #696969;}#sk-container-id-2 label.sk-toggleable__label-arrow:hover:before {color: black;}#sk-container-id-2 div.sk-estimator:hover label.sk-toggleable__label-arrow:before {color: black;}#sk-container-id-2 div.sk-toggleable__content {max-height: 0;max-width: 0;overflow: hidden;text-align: left;background-color: #f0f8ff;}#sk-container-id-2 div.sk-toggleable__content pre {margin: 0.2em;color: black;border-radius: 0.25em;background-color: #f0f8ff;}#sk-container-id-2 input.sk-toggleable__control:checked~div.sk-toggleable__content {max-height: 200px;max-width: 100%;overflow: auto;}#sk-container-id-2 input.sk-toggleable__control:checked~label.sk-toggleable__label-arrow:before {content: \"▾\";}#sk-container-id-2 div.sk-estimator input.sk-toggleable__control:checked~label.sk-toggleable__label {background-color: #d4ebff;}#sk-container-id-2 div.sk-label input.sk-toggleable__control:checked~label.sk-toggleable__label {background-color: #d4ebff;}#sk-container-id-2 input.sk-hidden--visually {border: 0;clip: rect(1px 1px 1px 1px);clip: rect(1px, 1px, 1px, 1px);height: 1px;margin: -1px;overflow: hidden;padding: 0;position: absolute;width: 1px;}#sk-container-id-2 div.sk-estimator {font-family: monospace;background-color: #f0f8ff;border: 1px dotted black;border-radius: 0.25em;box-sizing: border-box;margin-bottom: 0.5em;}#sk-container-id-2 div.sk-estimator:hover {background-color: #d4ebff;}#sk-container-id-2 div.sk-parallel-item::after {content: \"\";width: 100%;border-bottom: 1px solid gray;flex-grow: 1;}#sk-container-id-2 div.sk-label:hover label.sk-toggleable__label {background-color: #d4ebff;}#sk-container-id-2 div.sk-serial::before {content: \"\";position: absolute;border-left: 1px solid gray;box-sizing: border-box;top: 0;bottom: 0;left: 50%;z-index: 0;}#sk-container-id-2 div.sk-serial {display: flex;flex-direction: column;align-items: center;background-color: white;padding-right: 0.2em;padding-left: 0.2em;position: relative;}#sk-container-id-2 div.sk-item {position: relative;z-index: 1;}#sk-container-id-2 div.sk-parallel {display: flex;align-items: stretch;justify-content: center;background-color: white;position: relative;}#sk-container-id-2 div.sk-item::before, #sk-container-id-2 div.sk-parallel-item::before {content: \"\";position: absolute;border-left: 1px solid gray;box-sizing: border-box;top: 0;bottom: 0;left: 50%;z-index: -1;}#sk-container-id-2 div.sk-parallel-item {display: flex;flex-direction: column;z-index: 1;position: relative;background-color: white;}#sk-container-id-2 div.sk-parallel-item:first-child::after {align-self: flex-end;width: 50%;}#sk-container-id-2 div.sk-parallel-item:last-child::after {align-self: flex-start;width: 50%;}#sk-container-id-2 div.sk-parallel-item:only-child::after {width: 0;}#sk-container-id-2 div.sk-dashed-wrapped {border: 1px dashed gray;margin: 0 0.4em 0.5em 0.4em;box-sizing: border-box;padding-bottom: 0.4em;background-color: white;}#sk-container-id-2 div.sk-label label {font-family: monospace;font-weight: bold;display: inline-block;line-height: 1.2em;}#sk-container-id-2 div.sk-label-container {text-align: center;}#sk-container-id-2 div.sk-container {/* jupyter's `normalize.less` sets `[hidden] { display: none; }` but bootstrap.min.css set `[hidden] { display: none !important; }` so we also need the `!important` here to be able to override the default hidden behavior on the sphinx rendered scikit-learn.org. See: https://github.com/scikit-learn/scikit-learn/issues/21755 */display: inline-block !important;position: relative;}#sk-container-id-2 div.sk-text-repr-fallback {display: none;}</style><div id=\"sk-container-id-2\" class=\"sk-top-container\"><div class=\"sk-text-repr-fallback\"><pre>Pipeline(steps=[(&#x27;preprocessor&#x27;,\n",
       "                 ColumnTransformer(transformers=[(&#x27;num&#x27;,\n",
       "                                                  Pipeline(steps=[(&#x27;imputer&#x27;,\n",
       "                                                                   SimpleImputer()),\n",
       "                                                                  (&#x27;scaler&#x27;,\n",
       "                                                                   StandardScaler())]),\n",
       "                                                  Index([&#x27;Age&#x27;, &#x27;ZIP OR POSTAL CODE&#x27;, &#x27;BEDS&#x27;, &#x27;BATHS&#x27;, &#x27;SQUARE FEET&#x27;,\n",
       "       &#x27;LOT SIZE&#x27;],\n",
       "      dtype=&#x27;object&#x27;)),\n",
       "                                                 (&#x27;cat&#x27;,\n",
       "                                                  Pipeline(steps=[(&#x27;onehot&#x27;,\n",
       "                                                                   OneHotEncoder(drop=&#x27;first&#x27;))]),\n",
       "                                                  Index([&#x27;SALE TYPE&#x27;, &#x27;PROPERTY TYPE&#x27;, &#x27;LOCATION&#x27;], dtype=&#x27;object&#x27;)),\n",
       "                                                 (&#x27;bow&#x27;, &#x27;passthrough&#x27;,\n",
       "                                                  Index([&#x27;1st&#x27;, &#x27;2nd&#x27;, &#x27;3rd&#x27;, &#x27;4th&#x27;, &#x27;abundance&#x27;, &#x27;abundant&#x27;, &#x27;ac&#x27;, &#x27;accent&#x27;,\n",
       "       &#x27;access&#x27;, &#x27;acre&#x27;,\n",
       "       ...\n",
       "       &#x27;work&#x27;, &#x27;workout&#x27;, &#x27;workshop&#x27;, &#x27;world&#x27;, &#x27;wrap&#x27;, &#x27;yard&#x27;, &#x27;year&#x27;, &#x27;yoga&#x27;,\n",
       "       &#x27;zone&#x27;, &#x27;zoo&#x27;],\n",
       "      dtype=&#x27;object&#x27;, length=926))])),\n",
       "                (&#x27;classifier&#x27;, DecisionTreeRegressor())])</pre><b>In a Jupyter environment, please rerun this cell to show the HTML representation or trust the notebook. <br />On GitHub, the HTML representation is unable to render, please try loading this page with nbviewer.org.</b></div><div class=\"sk-container\" hidden><div class=\"sk-item sk-dashed-wrapped\"><div class=\"sk-label-container\"><div class=\"sk-label sk-toggleable\"><input class=\"sk-toggleable__control sk-hidden--visually\" id=\"sk-estimator-id-2\" type=\"checkbox\" ><label for=\"sk-estimator-id-2\" class=\"sk-toggleable__label sk-toggleable__label-arrow\">Pipeline</label><div class=\"sk-toggleable__content\"><pre>Pipeline(steps=[(&#x27;preprocessor&#x27;,\n",
       "                 ColumnTransformer(transformers=[(&#x27;num&#x27;,\n",
       "                                                  Pipeline(steps=[(&#x27;imputer&#x27;,\n",
       "                                                                   SimpleImputer()),\n",
       "                                                                  (&#x27;scaler&#x27;,\n",
       "                                                                   StandardScaler())]),\n",
       "                                                  Index([&#x27;Age&#x27;, &#x27;ZIP OR POSTAL CODE&#x27;, &#x27;BEDS&#x27;, &#x27;BATHS&#x27;, &#x27;SQUARE FEET&#x27;,\n",
       "       &#x27;LOT SIZE&#x27;],\n",
       "      dtype=&#x27;object&#x27;)),\n",
       "                                                 (&#x27;cat&#x27;,\n",
       "                                                  Pipeline(steps=[(&#x27;onehot&#x27;,\n",
       "                                                                   OneHotEncoder(drop=&#x27;first&#x27;))]),\n",
       "                                                  Index([&#x27;SALE TYPE&#x27;, &#x27;PROPERTY TYPE&#x27;, &#x27;LOCATION&#x27;], dtype=&#x27;object&#x27;)),\n",
       "                                                 (&#x27;bow&#x27;, &#x27;passthrough&#x27;,\n",
       "                                                  Index([&#x27;1st&#x27;, &#x27;2nd&#x27;, &#x27;3rd&#x27;, &#x27;4th&#x27;, &#x27;abundance&#x27;, &#x27;abundant&#x27;, &#x27;ac&#x27;, &#x27;accent&#x27;,\n",
       "       &#x27;access&#x27;, &#x27;acre&#x27;,\n",
       "       ...\n",
       "       &#x27;work&#x27;, &#x27;workout&#x27;, &#x27;workshop&#x27;, &#x27;world&#x27;, &#x27;wrap&#x27;, &#x27;yard&#x27;, &#x27;year&#x27;, &#x27;yoga&#x27;,\n",
       "       &#x27;zone&#x27;, &#x27;zoo&#x27;],\n",
       "      dtype=&#x27;object&#x27;, length=926))])),\n",
       "                (&#x27;classifier&#x27;, DecisionTreeRegressor())])</pre></div></div></div><div class=\"sk-serial\"><div class=\"sk-item sk-dashed-wrapped\"><div class=\"sk-label-container\"><div class=\"sk-label sk-toggleable\"><input class=\"sk-toggleable__control sk-hidden--visually\" id=\"sk-estimator-id-3\" type=\"checkbox\" ><label for=\"sk-estimator-id-3\" class=\"sk-toggleable__label sk-toggleable__label-arrow\">preprocessor: ColumnTransformer</label><div class=\"sk-toggleable__content\"><pre>ColumnTransformer(transformers=[(&#x27;num&#x27;,\n",
       "                                 Pipeline(steps=[(&#x27;imputer&#x27;, SimpleImputer()),\n",
       "                                                 (&#x27;scaler&#x27;, StandardScaler())]),\n",
       "                                 Index([&#x27;Age&#x27;, &#x27;ZIP OR POSTAL CODE&#x27;, &#x27;BEDS&#x27;, &#x27;BATHS&#x27;, &#x27;SQUARE FEET&#x27;,\n",
       "       &#x27;LOT SIZE&#x27;],\n",
       "      dtype=&#x27;object&#x27;)),\n",
       "                                (&#x27;cat&#x27;,\n",
       "                                 Pipeline(steps=[(&#x27;onehot&#x27;,\n",
       "                                                  OneHotEncoder(drop=&#x27;first&#x27;))]),\n",
       "                                 Index([&#x27;SALE TYPE&#x27;, &#x27;PROPERTY TYPE&#x27;, &#x27;LOCATION&#x27;], dtype=&#x27;object&#x27;)),\n",
       "                                (&#x27;bow&#x27;, &#x27;passthrough&#x27;,\n",
       "                                 Index([&#x27;1st&#x27;, &#x27;2nd&#x27;, &#x27;3rd&#x27;, &#x27;4th&#x27;, &#x27;abundance&#x27;, &#x27;abundant&#x27;, &#x27;ac&#x27;, &#x27;accent&#x27;,\n",
       "       &#x27;access&#x27;, &#x27;acre&#x27;,\n",
       "       ...\n",
       "       &#x27;work&#x27;, &#x27;workout&#x27;, &#x27;workshop&#x27;, &#x27;world&#x27;, &#x27;wrap&#x27;, &#x27;yard&#x27;, &#x27;year&#x27;, &#x27;yoga&#x27;,\n",
       "       &#x27;zone&#x27;, &#x27;zoo&#x27;],\n",
       "      dtype=&#x27;object&#x27;, length=926))])</pre></div></div></div><div class=\"sk-parallel\"><div class=\"sk-parallel-item\"><div class=\"sk-item\"><div class=\"sk-label-container\"><div class=\"sk-label sk-toggleable\"><input class=\"sk-toggleable__control sk-hidden--visually\" id=\"sk-estimator-id-4\" type=\"checkbox\" ><label for=\"sk-estimator-id-4\" class=\"sk-toggleable__label sk-toggleable__label-arrow\">num</label><div class=\"sk-toggleable__content\"><pre>Index([&#x27;Age&#x27;, &#x27;ZIP OR POSTAL CODE&#x27;, &#x27;BEDS&#x27;, &#x27;BATHS&#x27;, &#x27;SQUARE FEET&#x27;,\n",
       "       &#x27;LOT SIZE&#x27;],\n",
       "      dtype=&#x27;object&#x27;)</pre></div></div></div><div class=\"sk-serial\"><div class=\"sk-item\"><div class=\"sk-serial\"><div class=\"sk-item\"><div class=\"sk-estimator sk-toggleable\"><input class=\"sk-toggleable__control sk-hidden--visually\" id=\"sk-estimator-id-5\" type=\"checkbox\" ><label for=\"sk-estimator-id-5\" class=\"sk-toggleable__label sk-toggleable__label-arrow\">SimpleImputer</label><div class=\"sk-toggleable__content\"><pre>SimpleImputer()</pre></div></div></div><div class=\"sk-item\"><div class=\"sk-estimator sk-toggleable\"><input class=\"sk-toggleable__control sk-hidden--visually\" id=\"sk-estimator-id-6\" type=\"checkbox\" ><label for=\"sk-estimator-id-6\" class=\"sk-toggleable__label sk-toggleable__label-arrow\">StandardScaler</label><div class=\"sk-toggleable__content\"><pre>StandardScaler()</pre></div></div></div></div></div></div></div></div><div class=\"sk-parallel-item\"><div class=\"sk-item\"><div class=\"sk-label-container\"><div class=\"sk-label sk-toggleable\"><input class=\"sk-toggleable__control sk-hidden--visually\" id=\"sk-estimator-id-7\" type=\"checkbox\" ><label for=\"sk-estimator-id-7\" class=\"sk-toggleable__label sk-toggleable__label-arrow\">cat</label><div class=\"sk-toggleable__content\"><pre>Index([&#x27;SALE TYPE&#x27;, &#x27;PROPERTY TYPE&#x27;, &#x27;LOCATION&#x27;], dtype=&#x27;object&#x27;)</pre></div></div></div><div class=\"sk-serial\"><div class=\"sk-item\"><div class=\"sk-serial\"><div class=\"sk-item\"><div class=\"sk-estimator sk-toggleable\"><input class=\"sk-toggleable__control sk-hidden--visually\" id=\"sk-estimator-id-8\" type=\"checkbox\" ><label for=\"sk-estimator-id-8\" class=\"sk-toggleable__label sk-toggleable__label-arrow\">OneHotEncoder</label><div class=\"sk-toggleable__content\"><pre>OneHotEncoder(drop=&#x27;first&#x27;)</pre></div></div></div></div></div></div></div></div><div class=\"sk-parallel-item\"><div class=\"sk-item\"><div class=\"sk-label-container\"><div class=\"sk-label sk-toggleable\"><input class=\"sk-toggleable__control sk-hidden--visually\" id=\"sk-estimator-id-9\" type=\"checkbox\" ><label for=\"sk-estimator-id-9\" class=\"sk-toggleable__label sk-toggleable__label-arrow\">bow</label><div class=\"sk-toggleable__content\"><pre>Index([&#x27;1st&#x27;, &#x27;2nd&#x27;, &#x27;3rd&#x27;, &#x27;4th&#x27;, &#x27;abundance&#x27;, &#x27;abundant&#x27;, &#x27;ac&#x27;, &#x27;accent&#x27;,\n",
       "       &#x27;access&#x27;, &#x27;acre&#x27;,\n",
       "       ...\n",
       "       &#x27;work&#x27;, &#x27;workout&#x27;, &#x27;workshop&#x27;, &#x27;world&#x27;, &#x27;wrap&#x27;, &#x27;yard&#x27;, &#x27;year&#x27;, &#x27;yoga&#x27;,\n",
       "       &#x27;zone&#x27;, &#x27;zoo&#x27;],\n",
       "      dtype=&#x27;object&#x27;, length=926)</pre></div></div></div><div class=\"sk-serial\"><div class=\"sk-item\"><div class=\"sk-estimator sk-toggleable\"><input class=\"sk-toggleable__control sk-hidden--visually\" id=\"sk-estimator-id-10\" type=\"checkbox\" ><label for=\"sk-estimator-id-10\" class=\"sk-toggleable__label sk-toggleable__label-arrow\">passthrough</label><div class=\"sk-toggleable__content\"><pre>passthrough</pre></div></div></div></div></div></div></div></div><div class=\"sk-item\"><div class=\"sk-estimator sk-toggleable\"><input class=\"sk-toggleable__control sk-hidden--visually\" id=\"sk-estimator-id-11\" type=\"checkbox\" ><label for=\"sk-estimator-id-11\" class=\"sk-toggleable__label sk-toggleable__label-arrow\">DecisionTreeRegressor</label><div class=\"sk-toggleable__content\"><pre>DecisionTreeRegressor()</pre></div></div></div></div></div></div></div>"
      ],
      "text/plain": [
       "Pipeline(steps=[('preprocessor',\n",
       "                 ColumnTransformer(transformers=[('num',\n",
       "                                                  Pipeline(steps=[('imputer',\n",
       "                                                                   SimpleImputer()),\n",
       "                                                                  ('scaler',\n",
       "                                                                   StandardScaler())]),\n",
       "                                                  Index(['Age', 'ZIP OR POSTAL CODE', 'BEDS', 'BATHS', 'SQUARE FEET',\n",
       "       'LOT SIZE'],\n",
       "      dtype='object')),\n",
       "                                                 ('cat',\n",
       "                                                  Pipeline(steps=[('onehot',\n",
       "                                                                   OneHotEncoder(drop='first'))]),\n",
       "                                                  Index(['SALE TYPE', 'PROPERTY TYPE', 'LOCATION'], dtype='object')),\n",
       "                                                 ('bow', 'passthrough',\n",
       "                                                  Index(['1st', '2nd', '3rd', '4th', 'abundance', 'abundant', 'ac', 'accent',\n",
       "       'access', 'acre',\n",
       "       ...\n",
       "       'work', 'workout', 'workshop', 'world', 'wrap', 'yard', 'year', 'yoga',\n",
       "       'zone', 'zoo'],\n",
       "      dtype='object', length=926))])),\n",
       "                ('classifier', DecisionTreeRegressor())])"
      ]
     },
     "execution_count": 53,
     "metadata": {},
     "output_type": "execute_result"
    }
   ],
   "source": [
    "pipeline1.fit(X_train,y_train)"
   ]
  },
  {
   "cell_type": "markdown",
   "id": "db8a8f88",
   "metadata": {},
   "source": [
    "###### Predicting on the Test "
   ]
  },
  {
   "cell_type": "code",
   "execution_count": 54,
   "id": "49079b42",
   "metadata": {},
   "outputs": [],
   "source": [
    "y_pred1 = pipeline1.predict(X_test)"
   ]
  },
  {
   "cell_type": "markdown",
   "id": "27295e26",
   "metadata": {},
   "source": [
    "###### Evaluating Performance"
   ]
  },
  {
   "cell_type": "code",
   "execution_count": 55,
   "id": "711c3173",
   "metadata": {
    "scrolled": true
   },
   "outputs": [
    {
     "name": "stdout",
     "output_type": "stream",
     "text": [
      "Mean Absolute Error: 182491.89785992217\n",
      "Mean Squared Error: 105776209439.48541\n",
      "r2: 0.6492184855051994\n"
     ]
    }
   ],
   "source": [
    "\n",
    "mae1 = mean_absolute_error(y_test, y_pred1)\n",
    "mse1 = mean_squared_error(y_test, y_pred1)\n",
    "r21 = r2_score(y_test, y_pred1)\n",
    "\n",
    "print(f\"Mean Absolute Error: {mae1}\")\n",
    "print(f\"Mean Squared Error: {mse1}\")\n",
    "print(f\"r2: {r21}\")"
   ]
  },
  {
   "cell_type": "code",
   "execution_count": 296,
   "id": "81409e93",
   "metadata": {},
   "outputs": [],
   "source": [
    "y_testnp, y_prednp = np.array(y_test), np.array(y_pred1)"
   ]
  },
  {
   "cell_type": "code",
   "execution_count": 297,
   "id": "18b4003b",
   "metadata": {},
   "outputs": [],
   "source": [
    "mape = np.mean(np.abs((y_testnp - y_prednp) / y_testnp)) * 100"
   ]
  },
  {
   "cell_type": "code",
   "execution_count": 298,
   "id": "cb8a0a72",
   "metadata": {},
   "outputs": [
    {
     "name": "stdout",
     "output_type": "stream",
     "text": [
      "Mean Absolute Percentage Error%: 18.448744575468996\n"
     ]
    }
   ],
   "source": [
    "print(f\"Mean Absolute Percentage Error%: {mape}\")"
   ]
  },
  {
   "cell_type": "markdown",
   "id": "2d01db83",
   "metadata": {},
   "source": [
    "###### Model Prediction Values vs. Ground Truth Values"
   ]
  },
  {
   "cell_type": "code",
   "execution_count": 183,
   "id": "b8422d97",
   "metadata": {},
   "outputs": [
    {
     "data": {
      "image/png": "[encoded data removed]",
      "text/plain": [
       "<Figure size 432x288 with 1 Axes>"
      ]
     },
     "metadata": {
      "needs_background": "light"
     },
     "output_type": "display_data"
    }
   ],
   "source": [
    "plt.scatter(y_test, y_pred1, alpha=0.2)\n",
    "plt.xlabel(\"Actual Values\")\n",
    "plt.ylabel(\"Predicted Values\")\n",
    "plt.title(\"Actual vs Predicted Values\")\n",
    "\n",
    "plt.show()"
   ]
  },
  {
   "cell_type": "markdown",
   "id": "88825152",
   "metadata": {},
   "source": [
    "###### Residual Values"
   ]
  },
  {
   "cell_type": "code",
   "execution_count": 182,
   "id": "abb1df84",
   "metadata": {},
   "outputs": [
    {
     "data": {
      "image/png": "[encoded data removed]",
      "text/plain": [
       "<Figure size 432x288 with 1 Axes>"
      ]
     },
     "metadata": {
      "needs_background": "light"
     },
     "output_type": "display_data"
    }
   ],
   "source": [
    "residuals = y_test - y_pred1\n",
    "plt.scatter(y_pred1, residuals, alpha =0.2)\n",
    "plt.xlabel(\"Predicted Values\")\n",
    "plt.ylabel(\"Residuals (in Millions)\")\n",
    "plt.title(\"Residuals vs Predicted Values\")\n",
    "plt.axhline(y=0, color='r', linestyle='-')\n",
    "plt.show()\n"
   ]
  },
  {
   "cell_type": "markdown",
   "id": "d8996cae",
   "metadata": {},
   "source": [
    "###### Model Evaluation"
   ]
  },
  {
   "cell_type": "markdown",
   "id": "677a36f1",
   "metadata": {},
   "source": [
    "- The Model is relatively accurate among the lower price points under the 1mm price point\n",
    "- The Model displays a tendency to underestimate prices above the 3 million dollar point \n",
    "- The Model is off by a mean of 18.5%, which is a pretty substantial sum"
   ]
  },
  {
   "cell_type": "markdown",
   "id": "d3b8e02d",
   "metadata": {},
   "source": [
    "\n",
    "#### Model #2 Random Forest Regressor (With Hyperparameter Tuning)"
   ]
  },
  {
   "cell_type": "code",
   "execution_count": 56,
   "id": "b223ad3f",
   "metadata": {},
   "outputs": [
    {
     "name": "stdout",
     "output_type": "stream",
     "text": [
      "Fitting 5 folds for each of 144 candidates, totalling 720 fits\n",
      "Best Hyperparameters: {'regressor__max_depth': None, 'regressor__min_samples_leaf': 1, 'regressor__min_samples_split': 2, 'regressor__n_estimators': 500}\n"
     ]
    }
   ],
   "source": [
    "\n",
    "\n",
    "pipeline2 = Pipeline([\n",
    "    ('preprocessing', preprocessor),\n",
    "    ('regressor', RandomForestRegressor(bootstrap=True, random_state =42))  \n",
    "])\n",
    "\n",
    "\n",
    "param_grid = {\n",
    "    'regressor__n_estimators': [100, 200, 300, 500],\n",
    "    'regressor__max_depth': [None, 10, 20, 30],\n",
    "    'regressor__min_samples_split': [2, 5, 10],\n",
    "    'regressor__min_samples_leaf': [1, 2, 4]\n",
    "}\n",
    "\n",
    "grid_search = GridSearchCV(estimator=pipeline2, param_grid=param_grid, cv=5, scoring='neg_mean_absolute_error', n_jobs=-1, verbose = 10)\n",
    "\n",
    "\n",
    "grid_search.fit(X_train, y_train)\n",
    "\n",
    "best_params = grid_search.best_params_\n",
    "best_model = grid_search.best_estimator_\n",
    "\n",
    "print(\"Best Hyperparameters:\", best_params)\n",
    "y_pred = best_model.predict(X_test)\n"
   ]
  },
  {
   "cell_type": "code",
   "execution_count": 57,
   "id": "9d7f1281",
   "metadata": {},
   "outputs": [
    {
     "name": "stdout",
     "output_type": "stream",
     "text": [
      "Mean Absolute Error: 136867.49097411218\n",
      "Mean Squared Error: 54535833944.99021\n",
      "r2: 0.8191449426403865\n"
     ]
    }
   ],
   "source": [
    "mae = mean_absolute_error(y_test, y_pred)\n",
    "mse = mean_squared_error(y_test, y_pred)\n",
    "r2= r2_score(y_test, y_pred)\n",
    "print(f\"Mean Absolute Error: {mae}\")\n",
    "print(f\"Mean Squared Error: {mse}\")\n",
    "print(f\"r2: {r2}\")"
   ]
  },
  {
   "cell_type": "code",
   "execution_count": 293,
   "id": "ca00a92a",
   "metadata": {},
   "outputs": [],
   "source": [
    "y_testnp1, y_prednp1 = np.array(y_test), np.array(y_pred)"
   ]
  },
  {
   "cell_type": "code",
   "execution_count": 294,
   "id": "577a97ac",
   "metadata": {},
   "outputs": [],
   "source": [
    "mape2 = np.mean(np.abs((y_testnp1 - y_prednp1) / y_testnp1)) * 100"
   ]
  },
  {
   "cell_type": "code",
   "execution_count": 326,
   "id": "b674ddb5",
   "metadata": {},
   "outputs": [
    {
     "name": "stdout",
     "output_type": "stream",
     "text": [
      "Mean Absolute Percentage Error: 14.352428536378326%\n"
     ]
    }
   ],
   "source": [
    "print(f\"Mean Absolute Percentage Error: {mape2}%\")"
   ]
  },
  {
   "cell_type": "markdown",
   "id": "9dcdcf8b",
   "metadata": {},
   "source": [
    "###### Model Prediction Values vs. Ground Truth Values"
   ]
  },
  {
   "cell_type": "code",
   "execution_count": 181,
   "id": "d52ac70c",
   "metadata": {},
   "outputs": [
    {
     "data": {
      "image/png": "[encoded data removed]",
      "text/plain": [
       "<Figure size 432x288 with 1 Axes>"
      ]
     },
     "metadata": {
      "needs_background": "light"
     },
     "output_type": "display_data"
    }
   ],
   "source": [
    "plt.scatter(y_test, y_pred, alpha =0.2)\n",
    "plt.xlabel(\"Actual Values\")\n",
    "plt.ylabel(\"Predicted Values\")\n",
    "plt.title(\"Actual vs Predicted Values\")\n",
    "\n",
    "plt.show()"
   ]
  },
  {
   "cell_type": "code",
   "execution_count": 180,
   "id": "0ba1f06e",
   "metadata": {},
   "outputs": [
    {
     "data": {
      "image/png": "[encoded data removed]",
      "text/plain": [
       "<Figure size 432x288 with 1 Axes>"
      ]
     },
     "metadata": {
      "needs_background": "light"
     },
     "output_type": "display_data"
    }
   ],
   "source": [
    "residual2 = y_test - y_pred\n",
    "plt.scatter(y_pred, residual2, alpha=0.2)\n",
    "plt.xlabel(\"Predicted Values\")\n",
    "plt.ylabel(\"Residuals (in Millions)\")\n",
    "plt.title(\"Residuals vs Predicted Values\")\n",
    "plt.axhline(y=0, color='r', linestyle='-')\n",
    "plt.show()\n"
   ]
  },
  {
   "cell_type": "markdown",
   "id": "94fafbbe",
   "metadata": {},
   "source": [
    "###### Model Evaluation"
   ]
  },
  {
   "cell_type": "markdown",
   "id": "2e5f28a0",
   "metadata": {},
   "source": [
    "- This random forest regressor model is much more accurate; it's mean error is 50k less than the basic decision tree regressor \n",
    "- It again displays relatively good accuracy below the 1.5 mm price point, although some of this is just a result of the higher absolute price point\n",
    "- The model predicts prices with a mean-error of approximately 14.5% which is a large improvement from the simple model"
   ]
  },
  {
   "cell_type": "markdown",
   "id": "6fa4fa79",
   "metadata": {},
   "source": [
    "#### Model #3 XGBoost Regressor (Hyperparameter Tuned)"
   ]
  },
  {
   "cell_type": "code",
   "execution_count": 58,
   "id": "e3618032",
   "metadata": {},
   "outputs": [
    {
     "name": "stdout",
     "output_type": "stream",
     "text": [
      "Fitting 3 folds for each of 162 candidates, totalling 486 fits\n"
     ]
    }
   ],
   "source": [
    "from xgboost import XGBRegressor\n",
    "from sklearn.pipeline import Pipeline\n",
    "from sklearn.model_selection import GridSearchCV\n",
    "pipeline3 = Pipeline([\n",
    "    ('preprocessing', preprocessor),\n",
    "    ('regressor', XGBRegressor(random_state=42)) \n",
    "])\n",
    "param_grid = {\n",
    "    'regressor__n_estimators': [300, 500],\n",
    "    'regressor__max_depth': [10],\n",
    "    'regressor__learning_rate': [0.01, 0.05, 0.1],\n",
    "    'regressor__min_child_weight': [1, 2, 4],\n",
    "    'regressor__subsample': [0.6, 0.8, 1.0],\n",
    "    'regressor__colsample_bytree': [0.6, 0.8, 1.0]\n",
    "\n",
    "}\n",
    "grid_search1 = GridSearchCV(estimator=pipeline3,\n",
    "                           param_grid=param_grid,\n",
    "                           cv=3,\n",
    "                           scoring='neg_mean_absolute_error', \n",
    "                           n_jobs=-1,\n",
    "                           verbose=10)\n",
    "grid_search1.fit(X_train, y_train)\n",
    "best_params1 = grid_search1.best_params_\n",
    "best_model1 = grid_search1.best_estimator_"
   ]
  },
  {
   "cell_type": "code",
   "execution_count": 64,
   "id": "9b75c910",
   "metadata": {},
   "outputs": [
    {
     "data": {
      "text/plain": [
       "{'regressor__colsample_bytree': 0.8,\n",
       " 'regressor__learning_rate': 0.05,\n",
       " 'regressor__max_depth': 10,\n",
       " 'regressor__min_child_weight': 4,\n",
       " 'regressor__n_estimators': 500,\n",
       " 'regressor__subsample': 0.6}"
      ]
     },
     "execution_count": 64,
     "metadata": {},
     "output_type": "execute_result"
    }
   ],
   "source": [
    "y_pred2 = best_model1.predict(X_test)"
   ]
  },
  {
   "cell_type": "code",
   "execution_count": 164,
   "id": "391d6a26",
   "metadata": {},
   "outputs": [
    {
     "name": "stdout",
     "output_type": "stream",
     "text": [
      "Mean Absolute Error: 110997.67772677529\n",
      "Mean Squared Error: 35474883909.69019\n",
      "r2: 0.8823560272171831\n"
     ]
    }
   ],
   "source": [
    "mae2 = mean_absolute_error(y_test, y_pred2)\n",
    "mse2 = mean_squared_error(y_test, y_pred2)\n",
    "r22= r2_score(y_test, y_pred2)\n",
    "\n",
    "print(f\"Mean Absolute Error: {mae2}\")\n",
    "print(f\"Mean Squared Error: {mse2}\")\n",
    "print(f\"r2: {r22}\")"
   ]
  },
  {
   "cell_type": "code",
   "execution_count": 323,
   "id": "59edfd27",
   "metadata": {},
   "outputs": [],
   "source": [
    "y_testnp2, y_prednp2 = np.array(y_test), np.array(y_pred2)"
   ]
  },
  {
   "cell_type": "code",
   "execution_count": 324,
   "id": "3321c70b",
   "metadata": {},
   "outputs": [],
   "source": [
    "mape3 = np.mean(np.abs((y_testnp2 - y_prednp2) / y_testnp2)) * 100"
   ]
  },
  {
   "cell_type": "code",
   "execution_count": 325,
   "id": "3bf75f2f",
   "metadata": {},
   "outputs": [
    {
     "name": "stdout",
     "output_type": "stream",
     "text": [
      "Mean Absolute Percentage Error%: 11.641435807425673\n"
     ]
    }
   ],
   "source": [
    "print(f\"Mean Absolute Percentage Error%: {mape3}\")"
   ]
  },
  {
   "cell_type": "markdown",
   "id": "2cd5dda1",
   "metadata": {},
   "source": [
    "###### TEMPORARY: CALCULATING MEDIAN PRECENTAGE ERROR ON BEST PARAMS FOR XGBOOST"
   ]
  },
  {
   "cell_type": "code",
   "execution_count": 150,
   "id": "e00e2c7d",
   "metadata": {},
   "outputs": [],
   "source": [
    "pipeline8 = Pipeline([\n",
    "    ('preprocessing', preprocessor),\n",
    "    ('regressor', XGBRegressor(random_state=42, \n",
    "                               colsample_bytree=0.8, \n",
    "                               learning_rate=0.05,\n",
    "                               max_depth=10,\n",
    "                               min_child_weight=4,\n",
    "                               n_estimators=500,\n",
    "                               subsample=0.6))\n",
    "])"
   ]
  },
  {
   "cell_type": "code",
   "execution_count": 151,
   "id": "bf574e4e",
   "metadata": {},
   "outputs": [
    {
     "data": {
      "text/html": [
       "<style>#sk-container-id-3 {color: black;}#sk-container-id-3 pre{padding: 0;}#sk-container-id-3 div.sk-toggleable {background-color: white;}#sk-container-id-3 label.sk-toggleable__label {cursor: pointer;display: block;width: 100%;margin-bottom: 0;padding: 0.3em;box-sizing: border-box;text-align: center;}#sk-container-id-3 label.sk-toggleable__label-arrow:before {content: \"▸\";float: left;margin-right: 0.25em;color: #696969;}#sk-container-id-3 label.sk-toggleable__label-arrow:hover:before {color: black;}#sk-container-id-3 div.sk-estimator:hover label.sk-toggleable__label-arrow:before {color: black;}#sk-container-id-3 div.sk-toggleable__content {max-height: 0;max-width: 0;overflow: hidden;text-align: left;background-color: #f0f8ff;}#sk-container-id-3 div.sk-toggleable__content pre {margin: 0.2em;color: black;border-radius: 0.25em;background-color: #f0f8ff;}#sk-container-id-3 input.sk-toggleable__control:checked~div.sk-toggleable__content {max-height: 200px;max-width: 100%;overflow: auto;}#sk-container-id-3 input.sk-toggleable__control:checked~label.sk-toggleable__label-arrow:before {content: \"▾\";}#sk-container-id-3 div.sk-estimator input.sk-toggleable__control:checked~label.sk-toggleable__label {background-color: #d4ebff;}#sk-container-id-3 div.sk-label input.sk-toggleable__control:checked~label.sk-toggleable__label {background-color: #d4ebff;}#sk-container-id-3 input.sk-hidden--visually {border: 0;clip: rect(1px 1px 1px 1px);clip: rect(1px, 1px, 1px, 1px);height: 1px;margin: -1px;overflow: hidden;padding: 0;position: absolute;width: 1px;}#sk-container-id-3 div.sk-estimator {font-family: monospace;background-color: #f0f8ff;border: 1px dotted black;border-radius: 0.25em;box-sizing: border-box;margin-bottom: 0.5em;}#sk-container-id-3 div.sk-estimator:hover {background-color: #d4ebff;}#sk-container-id-3 div.sk-parallel-item::after {content: \"\";width: 100%;border-bottom: 1px solid gray;flex-grow: 1;}#sk-container-id-3 div.sk-label:hover label.sk-toggleable__label {background-color: #d4ebff;}#sk-container-id-3 div.sk-serial::before {content: \"\";position: absolute;border-left: 1px solid gray;box-sizing: border-box;top: 0;bottom: 0;left: 50%;z-index: 0;}#sk-container-id-3 div.sk-serial {display: flex;flex-direction: column;align-items: center;background-color: white;padding-right: 0.2em;padding-left: 0.2em;position: relative;}#sk-container-id-3 div.sk-item {position: relative;z-index: 1;}#sk-container-id-3 div.sk-parallel {display: flex;align-items: stretch;justify-content: center;background-color: white;position: relative;}#sk-container-id-3 div.sk-item::before, #sk-container-id-3 div.sk-parallel-item::before {content: \"\";position: absolute;border-left: 1px solid gray;box-sizing: border-box;top: 0;bottom: 0;left: 50%;z-index: -1;}#sk-container-id-3 div.sk-parallel-item {display: flex;flex-direction: column;z-index: 1;position: relative;background-color: white;}#sk-container-id-3 div.sk-parallel-item:first-child::after {align-self: flex-end;width: 50%;}#sk-container-id-3 div.sk-parallel-item:last-child::after {align-self: flex-start;width: 50%;}#sk-container-id-3 div.sk-parallel-item:only-child::after {width: 0;}#sk-container-id-3 div.sk-dashed-wrapped {border: 1px dashed gray;margin: 0 0.4em 0.5em 0.4em;box-sizing: border-box;padding-bottom: 0.4em;background-color: white;}#sk-container-id-3 div.sk-label label {font-family: monospace;font-weight: bold;display: inline-block;line-height: 1.2em;}#sk-container-id-3 div.sk-label-container {text-align: center;}#sk-container-id-3 div.sk-container {/* jupyter's `normalize.less` sets `[hidden] { display: none; }` but bootstrap.min.css set `[hidden] { display: none !important; }` so we also need the `!important` here to be able to override the default hidden behavior on the sphinx rendered scikit-learn.org. See: https://github.com/scikit-learn/scikit-learn/issues/21755 */display: inline-block !important;position: relative;}#sk-container-id-3 div.sk-text-repr-fallback {display: none;}</style><div id=\"sk-container-id-3\" class=\"sk-top-container\"><div class=\"sk-text-repr-fallback\"><pre>Pipeline(steps=[(&#x27;preprocessing&#x27;,\n",
       "                 ColumnTransformer(transformers=[(&#x27;num&#x27;,\n",
       "                                                  Pipeline(steps=[(&#x27;imputer&#x27;,\n",
       "                                                                   SimpleImputer()),\n",
       "                                                                  (&#x27;scaler&#x27;,\n",
       "                                                                   StandardScaler())]),\n",
       "                                                  Index([&#x27;Age&#x27;, &#x27;ZIP OR POSTAL CODE&#x27;, &#x27;BEDS&#x27;, &#x27;BATHS&#x27;, &#x27;SQUARE FEET&#x27;,\n",
       "       &#x27;LOT SIZE&#x27;],\n",
       "      dtype=&#x27;object&#x27;)),\n",
       "                                                 (&#x27;cat&#x27;,\n",
       "                                                  Pipeline(steps=[(&#x27;onehot&#x27;,\n",
       "                                                                   OneHotEncoder(drop=&#x27;first&#x27;))]),\n",
       "                                                  Index([&#x27;SALE TYPE&#x27;, &#x27;PROPERTY TYPE&#x27;, &#x27;LOCATION&#x27;], dtype=&#x27;o...\n",
       "                              colsample_bytree=0.8, gamma=0, gpu_id=-1,\n",
       "                              importance_type=&#x27;gain&#x27;,\n",
       "                              interaction_constraints=&#x27;&#x27;, learning_rate=0.05,\n",
       "                              max_delta_step=0, max_depth=10,\n",
       "                              min_child_weight=4, missing=nan,\n",
       "                              monotone_constraints=&#x27;()&#x27;, n_estimators=500,\n",
       "                              n_jobs=0, num_parallel_tree=1, random_state=42,\n",
       "                              reg_alpha=0, reg_lambda=1, scale_pos_weight=1,\n",
       "                              subsample=0.6, tree_method=&#x27;exact&#x27;,\n",
       "                              validate_parameters=1, verbosity=None))])</pre><b>In a Jupyter environment, please rerun this cell to show the HTML representation or trust the notebook. <br />On GitHub, the HTML representation is unable to render, please try loading this page with nbviewer.org.</b></div><div class=\"sk-container\" hidden><div class=\"sk-item sk-dashed-wrapped\"><div class=\"sk-label-container\"><div class=\"sk-label sk-toggleable\"><input class=\"sk-toggleable__control sk-hidden--visually\" id=\"sk-estimator-id-3\" type=\"checkbox\" ><label for=\"sk-estimator-id-3\" class=\"sk-toggleable__label sk-toggleable__label-arrow\">Pipeline</label><div class=\"sk-toggleable__content\"><pre>Pipeline(steps=[(&#x27;preprocessing&#x27;,\n",
       "                 ColumnTransformer(transformers=[(&#x27;num&#x27;,\n",
       "                                                  Pipeline(steps=[(&#x27;imputer&#x27;,\n",
       "                                                                   SimpleImputer()),\n",
       "                                                                  (&#x27;scaler&#x27;,\n",
       "                                                                   StandardScaler())]),\n",
       "                                                  Index([&#x27;Age&#x27;, &#x27;ZIP OR POSTAL CODE&#x27;, &#x27;BEDS&#x27;, &#x27;BATHS&#x27;, &#x27;SQUARE FEET&#x27;,\n",
       "       &#x27;LOT SIZE&#x27;],\n",
       "      dtype=&#x27;object&#x27;)),\n",
       "                                                 (&#x27;cat&#x27;,\n",
       "                                                  Pipeline(steps=[(&#x27;onehot&#x27;,\n",
       "                                                                   OneHotEncoder(drop=&#x27;first&#x27;))]),\n",
       "                                                  Index([&#x27;SALE TYPE&#x27;, &#x27;PROPERTY TYPE&#x27;, &#x27;LOCATION&#x27;], dtype=&#x27;o...\n",
       "                              colsample_bytree=0.8, gamma=0, gpu_id=-1,\n",
       "                              importance_type=&#x27;gain&#x27;,\n",
       "                              interaction_constraints=&#x27;&#x27;, learning_rate=0.05,\n",
       "                              max_delta_step=0, max_depth=10,\n",
       "                              min_child_weight=4, missing=nan,\n",
       "                              monotone_constraints=&#x27;()&#x27;, n_estimators=500,\n",
       "                              n_jobs=0, num_parallel_tree=1, random_state=42,\n",
       "                              reg_alpha=0, reg_lambda=1, scale_pos_weight=1,\n",
       "                              subsample=0.6, tree_method=&#x27;exact&#x27;,\n",
       "                              validate_parameters=1, verbosity=None))])</pre></div></div></div><div class=\"sk-serial\"><div class=\"sk-item sk-dashed-wrapped\"><div class=\"sk-label-container\"><div class=\"sk-label sk-toggleable\"><input class=\"sk-toggleable__control sk-hidden--visually\" id=\"sk-estimator-id-4\" type=\"checkbox\" ><label for=\"sk-estimator-id-4\" class=\"sk-toggleable__label sk-toggleable__label-arrow\">preprocessing: ColumnTransformer</label><div class=\"sk-toggleable__content\"><pre>ColumnTransformer(transformers=[(&#x27;num&#x27;,\n",
       "                                 Pipeline(steps=[(&#x27;imputer&#x27;, SimpleImputer()),\n",
       "                                                 (&#x27;scaler&#x27;, StandardScaler())]),\n",
       "                                 Index([&#x27;Age&#x27;, &#x27;ZIP OR POSTAL CODE&#x27;, &#x27;BEDS&#x27;, &#x27;BATHS&#x27;, &#x27;SQUARE FEET&#x27;,\n",
       "       &#x27;LOT SIZE&#x27;],\n",
       "      dtype=&#x27;object&#x27;)),\n",
       "                                (&#x27;cat&#x27;,\n",
       "                                 Pipeline(steps=[(&#x27;onehot&#x27;,\n",
       "                                                  OneHotEncoder(drop=&#x27;first&#x27;))]),\n",
       "                                 Index([&#x27;SALE TYPE&#x27;, &#x27;PROPERTY TYPE&#x27;, &#x27;LOCATION&#x27;], dtype=&#x27;object&#x27;)),\n",
       "                                (&#x27;bow&#x27;, &#x27;passthrough&#x27;,\n",
       "                                 Index([&#x27;1st&#x27;, &#x27;2nd&#x27;, &#x27;3rd&#x27;, &#x27;4th&#x27;, &#x27;abundance&#x27;, &#x27;abundant&#x27;, &#x27;ac&#x27;, &#x27;accent&#x27;,\n",
       "       &#x27;access&#x27;, &#x27;acre&#x27;,\n",
       "       ...\n",
       "       &#x27;work&#x27;, &#x27;workout&#x27;, &#x27;workshop&#x27;, &#x27;world&#x27;, &#x27;wrap&#x27;, &#x27;yard&#x27;, &#x27;year&#x27;, &#x27;yoga&#x27;,\n",
       "       &#x27;zone&#x27;, &#x27;zoo&#x27;],\n",
       "      dtype=&#x27;object&#x27;, length=926))])</pre></div></div></div><div class=\"sk-parallel\"><div class=\"sk-parallel-item\"><div class=\"sk-item\"><div class=\"sk-label-container\"><div class=\"sk-label sk-toggleable\"><input class=\"sk-toggleable__control sk-hidden--visually\" id=\"sk-estimator-id-5\" type=\"checkbox\" ><label for=\"sk-estimator-id-5\" class=\"sk-toggleable__label sk-toggleable__label-arrow\">num</label><div class=\"sk-toggleable__content\"><pre>Index([&#x27;Age&#x27;, &#x27;ZIP OR POSTAL CODE&#x27;, &#x27;BEDS&#x27;, &#x27;BATHS&#x27;, &#x27;SQUARE FEET&#x27;,\n",
       "       &#x27;LOT SIZE&#x27;],\n",
       "      dtype=&#x27;object&#x27;)</pre></div></div></div><div class=\"sk-serial\"><div class=\"sk-item\"><div class=\"sk-serial\"><div class=\"sk-item\"><div class=\"sk-estimator sk-toggleable\"><input class=\"sk-toggleable__control sk-hidden--visually\" id=\"sk-estimator-id-6\" type=\"checkbox\" ><label for=\"sk-estimator-id-6\" class=\"sk-toggleable__label sk-toggleable__label-arrow\">SimpleImputer</label><div class=\"sk-toggleable__content\"><pre>SimpleImputer()</pre></div></div></div><div class=\"sk-item\"><div class=\"sk-estimator sk-toggleable\"><input class=\"sk-toggleable__control sk-hidden--visually\" id=\"sk-estimator-id-7\" type=\"checkbox\" ><label for=\"sk-estimator-id-7\" class=\"sk-toggleable__label sk-toggleable__label-arrow\">StandardScaler</label><div class=\"sk-toggleable__content\"><pre>StandardScaler()</pre></div></div></div></div></div></div></div></div><div class=\"sk-parallel-item\"><div class=\"sk-item\"><div class=\"sk-label-container\"><div class=\"sk-label sk-toggleable\"><input class=\"sk-toggleable__control sk-hidden--visually\" id=\"sk-estimator-id-8\" type=\"checkbox\" ><label for=\"sk-estimator-id-8\" class=\"sk-toggleable__label sk-toggleable__label-arrow\">cat</label><div class=\"sk-toggleable__content\"><pre>Index([&#x27;SALE TYPE&#x27;, &#x27;PROPERTY TYPE&#x27;, &#x27;LOCATION&#x27;], dtype=&#x27;object&#x27;)</pre></div></div></div><div class=\"sk-serial\"><div class=\"sk-item\"><div class=\"sk-serial\"><div class=\"sk-item\"><div class=\"sk-estimator sk-toggleable\"><input class=\"sk-toggleable__control sk-hidden--visually\" id=\"sk-estimator-id-9\" type=\"checkbox\" ><label for=\"sk-estimator-id-9\" class=\"sk-toggleable__label sk-toggleable__label-arrow\">OneHotEncoder</label><div class=\"sk-toggleable__content\"><pre>OneHotEncoder(drop=&#x27;first&#x27;)</pre></div></div></div></div></div></div></div></div><div class=\"sk-parallel-item\"><div class=\"sk-item\"><div class=\"sk-label-container\"><div class=\"sk-label sk-toggleable\"><input class=\"sk-toggleable__control sk-hidden--visually\" id=\"sk-estimator-id-10\" type=\"checkbox\" ><label for=\"sk-estimator-id-10\" class=\"sk-toggleable__label sk-toggleable__label-arrow\">bow</label><div class=\"sk-toggleable__content\"><pre>Index([&#x27;1st&#x27;, &#x27;2nd&#x27;, &#x27;3rd&#x27;, &#x27;4th&#x27;, &#x27;abundance&#x27;, &#x27;abundant&#x27;, &#x27;ac&#x27;, &#x27;accent&#x27;,\n",
       "       &#x27;access&#x27;, &#x27;acre&#x27;,\n",
       "       ...\n",
       "       &#x27;work&#x27;, &#x27;workout&#x27;, &#x27;workshop&#x27;, &#x27;world&#x27;, &#x27;wrap&#x27;, &#x27;yard&#x27;, &#x27;year&#x27;, &#x27;yoga&#x27;,\n",
       "       &#x27;zone&#x27;, &#x27;zoo&#x27;],\n",
       "      dtype=&#x27;object&#x27;, length=926)</pre></div></div></div><div class=\"sk-serial\"><div class=\"sk-item\"><div class=\"sk-estimator sk-toggleable\"><input class=\"sk-toggleable__control sk-hidden--visually\" id=\"sk-estimator-id-11\" type=\"checkbox\" ><label for=\"sk-estimator-id-11\" class=\"sk-toggleable__label sk-toggleable__label-arrow\">passthrough</label><div class=\"sk-toggleable__content\"><pre>passthrough</pre></div></div></div></div></div></div></div></div><div class=\"sk-item\"><div class=\"sk-estimator sk-toggleable\"><input class=\"sk-toggleable__control sk-hidden--visually\" id=\"sk-estimator-id-12\" type=\"checkbox\" ><label for=\"sk-estimator-id-12\" class=\"sk-toggleable__label sk-toggleable__label-arrow\">XGBRegressor</label><div class=\"sk-toggleable__content\"><pre>XGBRegressor(base_score=0.5, booster=&#x27;gbtree&#x27;, colsample_bylevel=1,\n",
       "             colsample_bynode=1, colsample_bytree=0.8, gamma=0, gpu_id=-1,\n",
       "             importance_type=&#x27;gain&#x27;, interaction_constraints=&#x27;&#x27;,\n",
       "             learning_rate=0.05, max_delta_step=0, max_depth=10,\n",
       "             min_child_weight=4, missing=nan, monotone_constraints=&#x27;()&#x27;,\n",
       "             n_estimators=500, n_jobs=0, num_parallel_tree=1, random_state=42,\n",
       "             reg_alpha=0, reg_lambda=1, scale_pos_weight=1, subsample=0.6,\n",
       "             tree_method=&#x27;exact&#x27;, validate_parameters=1, verbosity=None)</pre></div></div></div></div></div></div></div>"
      ],
      "text/plain": [
       "Pipeline(steps=[('preprocessing',\n",
       "                 ColumnTransformer(transformers=[('num',\n",
       "                                                  Pipeline(steps=[('imputer',\n",
       "                                                                   SimpleImputer()),\n",
       "                                                                  ('scaler',\n",
       "                                                                   StandardScaler())]),\n",
       "                                                  Index(['Age', 'ZIP OR POSTAL CODE', 'BEDS', 'BATHS', 'SQUARE FEET',\n",
       "       'LOT SIZE'],\n",
       "      dtype='object')),\n",
       "                                                 ('cat',\n",
       "                                                  Pipeline(steps=[('onehot',\n",
       "                                                                   OneHotEncoder(drop='first'))]),\n",
       "                                                  Index(['SALE TYPE', 'PROPERTY TYPE', 'LOCATION'], dtype='o...\n",
       "                              colsample_bytree=0.8, gamma=0, gpu_id=-1,\n",
       "                              importance_type='gain',\n",
       "                              interaction_constraints='', learning_rate=0.05,\n",
       "                              max_delta_step=0, max_depth=10,\n",
       "                              min_child_weight=4, missing=nan,\n",
       "                              monotone_constraints='()', n_estimators=500,\n",
       "                              n_jobs=0, num_parallel_tree=1, random_state=42,\n",
       "                              reg_alpha=0, reg_lambda=1, scale_pos_weight=1,\n",
       "                              subsample=0.6, tree_method='exact',\n",
       "                              validate_parameters=1, verbosity=None))])"
      ]
     },
     "execution_count": 151,
     "metadata": {},
     "output_type": "execute_result"
    }
   ],
   "source": [
    "pipeline8.fit(X_train, y_train)"
   ]
  },
  {
   "cell_type": "code",
   "execution_count": null,
   "id": "d78883a8",
   "metadata": {},
   "outputs": [],
   "source": []
  },
  {
   "cell_type": "code",
   "execution_count": 157,
   "id": "c5871407",
   "metadata": {},
   "outputs": [],
   "source": [
    "y_pred8=pipeline8.predict(X_test)"
   ]
  },
  {
   "cell_type": "markdown",
   "id": "77b6bb43",
   "metadata": {},
   "source": [
    "###### Getting Absolute Percentage Errors"
   ]
  },
  {
   "cell_type": "code",
   "execution_count": 158,
   "id": "c1b4d482",
   "metadata": {},
   "outputs": [],
   "source": [
    "absolute_percentage_errors = [(abs(y_test - y_pred8) / abs(y_test)) * 100 for y_test, y_pred8 in zip(y_test, y_pred8)]"
   ]
  },
  {
   "cell_type": "markdown",
   "id": "fd8b573a",
   "metadata": {},
   "source": [
    "###### Getting the Median Error"
   ]
  },
  {
   "cell_type": "code",
   "execution_count": 159,
   "id": "95dd407e",
   "metadata": {},
   "outputs": [],
   "source": [
    "median_percentage_error = np.median(absolute_percentage_errors)"
   ]
  },
  {
   "cell_type": "code",
   "execution_count": 163,
   "id": "49db5488",
   "metadata": {},
   "outputs": [
    {
     "name": "stdout",
     "output_type": "stream",
     "text": [
      "Median Percentage Error: 7.206228519955653%\n"
     ]
    }
   ],
   "source": [
    "print(f\"Median Percentage Error: {median_percentage_error}%\")"
   ]
  },
  {
   "cell_type": "code",
   "execution_count": 299,
   "id": "2aa7f1aa",
   "metadata": {},
   "outputs": [
    {
     "data": {
      "text/plain": [
       "{'regressor__colsample_bytree': 0.8,\n",
       " 'regressor__learning_rate': 0.05,\n",
       " 'regressor__max_depth': 10,\n",
       " 'regressor__min_child_weight': 4,\n",
       " 'regressor__n_estimators': 500,\n",
       " 'regressor__subsample': 0.6}"
      ]
     },
     "execution_count": 299,
     "metadata": {},
     "output_type": "execute_result"
    }
   ],
   "source": [
    "best_params1"
   ]
  },
  {
   "cell_type": "markdown",
   "id": "d732b2db",
   "metadata": {},
   "source": [
    "###### Model Prediction Values vs. Ground Truth Values"
   ]
  },
  {
   "cell_type": "code",
   "execution_count": 179,
   "id": "a38448e1",
   "metadata": {},
   "outputs": [
    {
     "data": {
      "image/png": "[encoded data removed]",
      "text/plain": [
       "<Figure size 432x288 with 1 Axes>"
      ]
     },
     "metadata": {
      "needs_background": "light"
     },
     "output_type": "display_data"
    }
   ],
   "source": [
    "plt.scatter(y_test, y_pred2, alpha=0.2)\n",
    "plt.xlabel(\"Actual Values\")\n",
    "plt.ylabel(\"Predicted Values\")\n",
    "plt.title(\"Actual vs Predicted Values\")\n",
    "\n",
    "plt.show()"
   ]
  },
  {
   "cell_type": "markdown",
   "id": "c787b096",
   "metadata": {},
   "source": [
    "###### Residuals"
   ]
  },
  {
   "cell_type": "code",
   "execution_count": 178,
   "id": "e1fc6087",
   "metadata": {},
   "outputs": [
    {
     "data": {
      "image/png": "[encoded data removed]",
      "text/plain": [
       "<Figure size 432x288 with 1 Axes>"
      ]
     },
     "metadata": {
      "needs_background": "light"
     },
     "output_type": "display_data"
    }
   ],
   "source": [
    "residual3 = y_test - y_pred2\n",
    "plt.scatter(y_pred, residual3, alpha=0.2)\n",
    "plt.xlabel(\"Predicted Values (in Millions)\")\n",
    "plt.ylabel(\"Residuals (in Millions)\")\n",
    "plt.title(\"Residuals vs Predicted Values\")\n",
    "plt.axhline(y=0, color='r', linestyle='-')\n",
    "plt.show()\n"
   ]
  },
  {
   "cell_type": "markdown",
   "id": "37e3b6a6",
   "metadata": {},
   "source": [
    "###### Feature Importances"
   ]
  },
  {
   "cell_type": "markdown",
   "id": "203c011e",
   "metadata": {},
   "source": [
    "###### Extracting Model from Pipeline"
   ]
  },
  {
   "cell_type": "code",
   "execution_count": 233,
   "id": "7348bb90",
   "metadata": {},
   "outputs": [],
   "source": [
    "best_model_model1 = best_model1.named_steps[\"regressor\"]\n",
    "importances = best_model_model1.feature_importances_"
   ]
  },
  {
   "cell_type": "markdown",
   "id": "1b0581af",
   "metadata": {},
   "source": [
    "###### Creating Sorted Importances for Visualization"
   ]
  },
  {
   "cell_type": "code",
   "execution_count": 234,
   "id": "60117525",
   "metadata": {},
   "outputs": [],
   "source": [
    "feature_names = X_train.columns\n",
    "feature_importances = dict(zip(feature_names, importances))\n",
    "sorted_importances = sorted(feature_importances.items(), key=lambda x: x[1], reverse=True)"
   ]
  },
  {
   "cell_type": "markdown",
   "id": "4d83cd16",
   "metadata": {},
   "source": [
    "###### Visualizing Top 20 Features"
   ]
  },
  {
   "cell_type": "code",
   "execution_count": 327,
   "id": "63575fc0",
   "metadata": {},
   "outputs": [
    {
     "data": {
      "image/png": "[encoded data removed]",
      "text/plain": [
       "<Figure size 720x576 with 1 Axes>"
      ]
     },
     "metadata": {
      "needs_background": "light"
     },
     "output_type": "display_data"
    }
   ],
   "source": [
    "features, scores = zip(*sorted_importances)\n",
    "plt.figure(figsize=(10, 8))\n",
    "plt.barh(features[0:20], scores[0:20])\n",
    "plt.xlabel('Importance')\n",
    "plt.ylabel('Feature')\n",
    "plt.title('Feature Importances')\n",
    "plt.gca().invert_yaxis() \n",
    "plt.show()\n"
   ]
  },
  {
   "cell_type": "markdown",
   "id": "05810543",
   "metadata": {},
   "source": [
    "###### Model Evaluation"
   ]
  },
  {
   "cell_type": "markdown",
   "id": "23a90987",
   "metadata": {},
   "source": [
    "- This XGBoost Regressor Model represents a substantial upgrade over the last 2 models with a mean absolute error of 111k\n",
    "- This XGBoost Model shows the same error tendencies as the above random forest model with much more consistently \n",
    "  accurate predictions under $1mm\n",
    "- The model has a mean absolute error percentage of just 11.5% "
   ]
  },
  {
   "cell_type": "markdown",
   "id": "833c7226",
   "metadata": {},
   "source": [
    "#### Model #4: Support Vector Regressor (Hyperparameter Tuned)"
   ]
  },
  {
   "cell_type": "code",
   "execution_count": 68,
   "id": "3a769541",
   "metadata": {},
   "outputs": [
    {
     "name": "stdout",
     "output_type": "stream",
     "text": [
      "Fitting 5 folds for each of 700 candidates, totalling 3500 fits\n",
      "Best Hyperparameters: {'regressor__max_depth': None, 'regressor__min_samples_leaf': 1, 'regressor__min_samples_split': 2, 'regressor__n_estimators': 500}\n"
     ]
    }
   ],
   "source": [
    "from sklearn.svm import SVR\n",
    "pipeline4 = Pipeline([\n",
    "    ('preprocessing', preprocessor),\n",
    "    ('svr', SVR())  # Use XGBRegressor here\n",
    "])\n",
    "\n",
    "param_grid4 = {\n",
    "    'svr__C': [0.1, 1, 10, 100, 1000],\n",
    "    'svr__gamma': ['scale', 'auto', 0.001, 0.01, 0.1, 1, 10],\n",
    "    'svr__epsilon': [0.01, 0.1, 0.5, 1, 2],\n",
    "    'svr__kernel': ['linear', 'poly', 'rbf', 'sigmoid']\n",
    "}\n",
    "grid_search3 = GridSearchCV(estimator=pipeline4,\n",
    "                           param_grid=param_grid4,\n",
    "                           cv=5,  \n",
    "                           scoring='neg_mean_absolute_error',\n",
    "                           n_jobs=-1,  \n",
    "                           verbose=10)\n",
    "\n",
    "grid_search3.fit(X_train, y_train)\n",
    "\n",
    "best_params2 = grid_search3.best_params_\n",
    "best_model2 = grid_search3.best_estimator_\n",
    "\n",
    "print(\"Best Hyperparameters:\", best_params)\n",
    "\n",
    "y_pred3 = best_model2.predict(X_test)"
   ]
  },
  {
   "cell_type": "code",
   "execution_count": 244,
   "id": "ab4ae028",
   "metadata": {},
   "outputs": [
    {
     "name": "stdout",
     "output_type": "stream",
     "text": [
      "Mean Absolute Error: 162079.2767236765\n",
      "Mean Squared Error: 80158671194.10493\n",
      "r2: 0.7341729276331717\n"
     ]
    }
   ],
   "source": [
    "mae3 = mean_absolute_error(y_test, y_pred3)\n",
    "mse3 = mean_squared_error(y_test, y_pred3)\n",
    "r23= r2_score(y_test, y_pred3)\n",
    "print(f\"Mean Absolute Error: {mae3}\")\n",
    "print(f\"Mean Squared Error: {mse3}\")\n",
    "print(f\"r2: {r23}\")"
   ]
  },
  {
   "cell_type": "code",
   "execution_count": 177,
   "id": "cf70035d",
   "metadata": {},
   "outputs": [
    {
     "data": {
      "image/png": "[encoded data removed]",
      "text/plain": [
       "<Figure size 432x288 with 1 Axes>"
      ]
     },
     "metadata": {
      "needs_background": "light"
     },
     "output_type": "display_data"
    }
   ],
   "source": [
    "plt.scatter(y_test, y_pred3, alpha =0.2)\n",
    "plt.xlabel(\"Actual Values\")\n",
    "plt.ylabel(\"Predicted Values\")\n",
    "plt.title(\"Actual vs Predicted Values\")\n",
    "\n",
    "plt.show()"
   ]
  },
  {
   "cell_type": "code",
   "execution_count": 176,
   "id": "bc0ced6c",
   "metadata": {},
   "outputs": [
    {
     "data": {
      "image/png": "[encoded data removed]",
      "text/plain": [
       "<Figure size 432x288 with 1 Axes>"
      ]
     },
     "metadata": {
      "needs_background": "light"
     },
     "output_type": "display_data"
    }
   ],
   "source": [
    "residual4 = y_test - y_pred3\n",
    "plt.scatter(y_pred, residual4, alpha = 0.2)\n",
    "plt.xlabel(\"Predicted Values (in Millions)\")\n",
    "plt.ylabel(\"Residuals (in Millions)\")\n",
    "plt.title(\"Residuals vs Predicted Values\")\n",
    "plt.axhline(y=0, color='r', linestyle='-')\n",
    "plt.show()\n"
   ]
  },
  {
   "cell_type": "markdown",
   "id": "5966e114",
   "metadata": {},
   "source": [
    "###### Stacking Classifier: Random Forest, SVR, and XGBoost with XGBoost Metamodel"
   ]
  },
  {
   "cell_type": "code",
   "execution_count": 252,
   "id": "209e0c97",
   "metadata": {},
   "outputs": [],
   "source": [
    "estimators = [\n",
    "    ('xgbr',best_model1)\n",
    "]"
   ]
  },
  {
   "cell_type": "code",
   "execution_count": 253,
   "id": "ec056f62",
   "metadata": {},
   "outputs": [],
   "source": [
    "stack = StackingRegressor(\n",
    "    estimators=estimators, final_estimator=XGBRegressor())"
   ]
  },
  {
   "cell_type": "code",
   "execution_count": 254,
   "id": "fcc3c3fa",
   "metadata": {},
   "outputs": [
    {
     "data": {
      "text/html": [
       "<style>#sk-container-id-8 {color: black;}#sk-container-id-8 pre{padding: 0;}#sk-container-id-8 div.sk-toggleable {background-color: white;}#sk-container-id-8 label.sk-toggleable__label {cursor: pointer;display: block;width: 100%;margin-bottom: 0;padding: 0.3em;box-sizing: border-box;text-align: center;}#sk-container-id-8 label.sk-toggleable__label-arrow:before {content: \"▸\";float: left;margin-right: 0.25em;color: #696969;}#sk-container-id-8 label.sk-toggleable__label-arrow:hover:before {color: black;}#sk-container-id-8 div.sk-estimator:hover label.sk-toggleable__label-arrow:before {color: black;}#sk-container-id-8 div.sk-toggleable__content {max-height: 0;max-width: 0;overflow: hidden;text-align: left;background-color: #f0f8ff;}#sk-container-id-8 div.sk-toggleable__content pre {margin: 0.2em;color: black;border-radius: 0.25em;background-color: #f0f8ff;}#sk-container-id-8 input.sk-toggleable__control:checked~div.sk-toggleable__content {max-height: 200px;max-width: 100%;overflow: auto;}#sk-container-id-8 input.sk-toggleable__control:checked~label.sk-toggleable__label-arrow:before {content: \"▾\";}#sk-container-id-8 div.sk-estimator input.sk-toggleable__control:checked~label.sk-toggleable__label {background-color: #d4ebff;}#sk-container-id-8 div.sk-label input.sk-toggleable__control:checked~label.sk-toggleable__label {background-color: #d4ebff;}#sk-container-id-8 input.sk-hidden--visually {border: 0;clip: rect(1px 1px 1px 1px);clip: rect(1px, 1px, 1px, 1px);height: 1px;margin: -1px;overflow: hidden;padding: 0;position: absolute;width: 1px;}#sk-container-id-8 div.sk-estimator {font-family: monospace;background-color: #f0f8ff;border: 1px dotted black;border-radius: 0.25em;box-sizing: border-box;margin-bottom: 0.5em;}#sk-container-id-8 div.sk-estimator:hover {background-color: #d4ebff;}#sk-container-id-8 div.sk-parallel-item::after {content: \"\";width: 100%;border-bottom: 1px solid gray;flex-grow: 1;}#sk-container-id-8 div.sk-label:hover label.sk-toggleable__label {background-color: #d4ebff;}#sk-container-id-8 div.sk-serial::before {content: \"\";position: absolute;border-left: 1px solid gray;box-sizing: border-box;top: 0;bottom: 0;left: 50%;z-index: 0;}#sk-container-id-8 div.sk-serial {display: flex;flex-direction: column;align-items: center;background-color: white;padding-right: 0.2em;padding-left: 0.2em;position: relative;}#sk-container-id-8 div.sk-item {position: relative;z-index: 1;}#sk-container-id-8 div.sk-parallel {display: flex;align-items: stretch;justify-content: center;background-color: white;position: relative;}#sk-container-id-8 div.sk-item::before, #sk-container-id-8 div.sk-parallel-item::before {content: \"\";position: absolute;border-left: 1px solid gray;box-sizing: border-box;top: 0;bottom: 0;left: 50%;z-index: -1;}#sk-container-id-8 div.sk-parallel-item {display: flex;flex-direction: column;z-index: 1;position: relative;background-color: white;}#sk-container-id-8 div.sk-parallel-item:first-child::after {align-self: flex-end;width: 50%;}#sk-container-id-8 div.sk-parallel-item:last-child::after {align-self: flex-start;width: 50%;}#sk-container-id-8 div.sk-parallel-item:only-child::after {width: 0;}#sk-container-id-8 div.sk-dashed-wrapped {border: 1px dashed gray;margin: 0 0.4em 0.5em 0.4em;box-sizing: border-box;padding-bottom: 0.4em;background-color: white;}#sk-container-id-8 div.sk-label label {font-family: monospace;font-weight: bold;display: inline-block;line-height: 1.2em;}#sk-container-id-8 div.sk-label-container {text-align: center;}#sk-container-id-8 div.sk-container {/* jupyter's `normalize.less` sets `[hidden] { display: none; }` but bootstrap.min.css set `[hidden] { display: none !important; }` so we also need the `!important` here to be able to override the default hidden behavior on the sphinx rendered scikit-learn.org. See: https://github.com/scikit-learn/scikit-learn/issues/21755 */display: inline-block !important;position: relative;}#sk-container-id-8 div.sk-text-repr-fallback {display: none;}</style><div id=\"sk-container-id-8\" class=\"sk-top-container\"><div class=\"sk-text-repr-fallback\"><pre>StackingRegressor(estimators=[(&#x27;xgbr&#x27;,\n",
       "                               Pipeline(steps=[(&#x27;preprocessing&#x27;,\n",
       "                                                ColumnTransformer(transformers=[(&#x27;num&#x27;,\n",
       "                                                                                 Pipeline(steps=[(&#x27;imputer&#x27;,\n",
       "                                                                                                  SimpleImputer()),\n",
       "                                                                                                 (&#x27;scaler&#x27;,\n",
       "                                                                                                  StandardScaler())]),\n",
       "                                                                                 Index([&#x27;Age&#x27;, &#x27;ZIP OR POSTAL CODE&#x27;, &#x27;BEDS&#x27;, &#x27;BATHS&#x27;, &#x27;SQUARE FEET&#x27;,\n",
       "       &#x27;LOT SIZE&#x27;],\n",
       "      dtype=&#x27;object&#x27;)),\n",
       "                                                                                (&#x27;cat&#x27;,\n",
       "                                                                                 Pipeline(steps=[(&#x27;onehot&#x27;,\n",
       "                                                                                                  OneHotEncoder(drop=&#x27;first&#x27;))]),\n",
       "                                                                                 Index([&#x27;SALE TYP...\n",
       "                                               importance_type=&#x27;gain&#x27;,\n",
       "                                               interaction_constraints=None,\n",
       "                                               learning_rate=None,\n",
       "                                               max_delta_step=None,\n",
       "                                               max_depth=None,\n",
       "                                               min_child_weight=None,\n",
       "                                               missing=nan,\n",
       "                                               monotone_constraints=None,\n",
       "                                               n_estimators=100, n_jobs=None,\n",
       "                                               num_parallel_tree=None,\n",
       "                                               random_state=None,\n",
       "                                               reg_alpha=None, reg_lambda=None,\n",
       "                                               scale_pos_weight=None,\n",
       "                                               subsample=None, tree_method=None,\n",
       "                                               validate_parameters=None,\n",
       "                                               verbosity=None))</pre><b>In a Jupyter environment, please rerun this cell to show the HTML representation or trust the notebook. <br />On GitHub, the HTML representation is unable to render, please try loading this page with nbviewer.org.</b></div><div class=\"sk-container\" hidden><div class=\"sk-item sk-dashed-wrapped\"><div class=\"sk-label-container\"><div class=\"sk-label sk-toggleable\"><input class=\"sk-toggleable__control sk-hidden--visually\" id=\"sk-estimator-id-111\" type=\"checkbox\" ><label for=\"sk-estimator-id-111\" class=\"sk-toggleable__label sk-toggleable__label-arrow\">StackingRegressor</label><div class=\"sk-toggleable__content\"><pre>StackingRegressor(estimators=[(&#x27;xgbr&#x27;,\n",
       "                               Pipeline(steps=[(&#x27;preprocessing&#x27;,\n",
       "                                                ColumnTransformer(transformers=[(&#x27;num&#x27;,\n",
       "                                                                                 Pipeline(steps=[(&#x27;imputer&#x27;,\n",
       "                                                                                                  SimpleImputer()),\n",
       "                                                                                                 (&#x27;scaler&#x27;,\n",
       "                                                                                                  StandardScaler())]),\n",
       "                                                                                 Index([&#x27;Age&#x27;, &#x27;ZIP OR POSTAL CODE&#x27;, &#x27;BEDS&#x27;, &#x27;BATHS&#x27;, &#x27;SQUARE FEET&#x27;,\n",
       "       &#x27;LOT SIZE&#x27;],\n",
       "      dtype=&#x27;object&#x27;)),\n",
       "                                                                                (&#x27;cat&#x27;,\n",
       "                                                                                 Pipeline(steps=[(&#x27;onehot&#x27;,\n",
       "                                                                                                  OneHotEncoder(drop=&#x27;first&#x27;))]),\n",
       "                                                                                 Index([&#x27;SALE TYP...\n",
       "                                               importance_type=&#x27;gain&#x27;,\n",
       "                                               interaction_constraints=None,\n",
       "                                               learning_rate=None,\n",
       "                                               max_delta_step=None,\n",
       "                                               max_depth=None,\n",
       "                                               min_child_weight=None,\n",
       "                                               missing=nan,\n",
       "                                               monotone_constraints=None,\n",
       "                                               n_estimators=100, n_jobs=None,\n",
       "                                               num_parallel_tree=None,\n",
       "                                               random_state=None,\n",
       "                                               reg_alpha=None, reg_lambda=None,\n",
       "                                               scale_pos_weight=None,\n",
       "                                               subsample=None, tree_method=None,\n",
       "                                               validate_parameters=None,\n",
       "                                               verbosity=None))</pre></div></div></div><div class=\"sk-serial\"><div class=\"sk-item\"><div class=\"sk-parallel\"><div class=\"sk-parallel-item\"><div class=\"sk-item\"><div class=\"sk-label-container\"><div class=\"sk-label sk-toggleable\"><label>xgbr</label></div></div><div class=\"sk-serial\"><div class=\"sk-item\"><div class=\"sk-serial\"><div class=\"sk-item sk-dashed-wrapped\"><div class=\"sk-label-container\"><div class=\"sk-label sk-toggleable\"><input class=\"sk-toggleable__control sk-hidden--visually\" id=\"sk-estimator-id-112\" type=\"checkbox\" ><label for=\"sk-estimator-id-112\" class=\"sk-toggleable__label sk-toggleable__label-arrow\">preprocessing: ColumnTransformer</label><div class=\"sk-toggleable__content\"><pre>ColumnTransformer(transformers=[(&#x27;num&#x27;,\n",
       "                                 Pipeline(steps=[(&#x27;imputer&#x27;, SimpleImputer()),\n",
       "                                                 (&#x27;scaler&#x27;, StandardScaler())]),\n",
       "                                 Index([&#x27;Age&#x27;, &#x27;ZIP OR POSTAL CODE&#x27;, &#x27;BEDS&#x27;, &#x27;BATHS&#x27;, &#x27;SQUARE FEET&#x27;,\n",
       "       &#x27;LOT SIZE&#x27;],\n",
       "      dtype=&#x27;object&#x27;)),\n",
       "                                (&#x27;cat&#x27;,\n",
       "                                 Pipeline(steps=[(&#x27;onehot&#x27;,\n",
       "                                                  OneHotEncoder(drop=&#x27;first&#x27;))]),\n",
       "                                 Index([&#x27;SALE TYPE&#x27;, &#x27;PROPERTY TYPE&#x27;, &#x27;LOCATION&#x27;], dtype=&#x27;object&#x27;)),\n",
       "                                (&#x27;bow&#x27;, &#x27;passthrough&#x27;,\n",
       "                                 Index([&#x27;1st&#x27;, &#x27;2nd&#x27;, &#x27;3rd&#x27;, &#x27;4th&#x27;, &#x27;abundance&#x27;, &#x27;abundant&#x27;, &#x27;ac&#x27;, &#x27;accent&#x27;,\n",
       "       &#x27;access&#x27;, &#x27;acre&#x27;,\n",
       "       ...\n",
       "       &#x27;work&#x27;, &#x27;workout&#x27;, &#x27;workshop&#x27;, &#x27;world&#x27;, &#x27;wrap&#x27;, &#x27;yard&#x27;, &#x27;year&#x27;, &#x27;yoga&#x27;,\n",
       "       &#x27;zone&#x27;, &#x27;zoo&#x27;],\n",
       "      dtype=&#x27;object&#x27;, length=926))])</pre></div></div></div><div class=\"sk-parallel\"><div class=\"sk-parallel-item\"><div class=\"sk-item\"><div class=\"sk-label-container\"><div class=\"sk-label sk-toggleable\"><input class=\"sk-toggleable__control sk-hidden--visually\" id=\"sk-estimator-id-113\" type=\"checkbox\" ><label for=\"sk-estimator-id-113\" class=\"sk-toggleable__label sk-toggleable__label-arrow\">num</label><div class=\"sk-toggleable__content\"><pre>Index([&#x27;Age&#x27;, &#x27;ZIP OR POSTAL CODE&#x27;, &#x27;BEDS&#x27;, &#x27;BATHS&#x27;, &#x27;SQUARE FEET&#x27;,\n",
       "       &#x27;LOT SIZE&#x27;],\n",
       "      dtype=&#x27;object&#x27;)</pre></div></div></div><div class=\"sk-serial\"><div class=\"sk-item\"><div class=\"sk-serial\"><div class=\"sk-item\"><div class=\"sk-estimator sk-toggleable\"><input class=\"sk-toggleable__control sk-hidden--visually\" id=\"sk-estimator-id-114\" type=\"checkbox\" ><label for=\"sk-estimator-id-114\" class=\"sk-toggleable__label sk-toggleable__label-arrow\">SimpleImputer</label><div class=\"sk-toggleable__content\"><pre>SimpleImputer()</pre></div></div></div><div class=\"sk-item\"><div class=\"sk-estimator sk-toggleable\"><input class=\"sk-toggleable__control sk-hidden--visually\" id=\"sk-estimator-id-115\" type=\"checkbox\" ><label for=\"sk-estimator-id-115\" class=\"sk-toggleable__label sk-toggleable__label-arrow\">StandardScaler</label><div class=\"sk-toggleable__content\"><pre>StandardScaler()</pre></div></div></div></div></div></div></div></div><div class=\"sk-parallel-item\"><div class=\"sk-item\"><div class=\"sk-label-container\"><div class=\"sk-label sk-toggleable\"><input class=\"sk-toggleable__control sk-hidden--visually\" id=\"sk-estimator-id-116\" type=\"checkbox\" ><label for=\"sk-estimator-id-116\" class=\"sk-toggleable__label sk-toggleable__label-arrow\">cat</label><div class=\"sk-toggleable__content\"><pre>Index([&#x27;SALE TYPE&#x27;, &#x27;PROPERTY TYPE&#x27;, &#x27;LOCATION&#x27;], dtype=&#x27;object&#x27;)</pre></div></div></div><div class=\"sk-serial\"><div class=\"sk-item\"><div class=\"sk-serial\"><div class=\"sk-item\"><div class=\"sk-estimator sk-toggleable\"><input class=\"sk-toggleable__control sk-hidden--visually\" id=\"sk-estimator-id-117\" type=\"checkbox\" ><label for=\"sk-estimator-id-117\" class=\"sk-toggleable__label sk-toggleable__label-arrow\">OneHotEncoder</label><div class=\"sk-toggleable__content\"><pre>OneHotEncoder(drop=&#x27;first&#x27;)</pre></div></div></div></div></div></div></div></div><div class=\"sk-parallel-item\"><div class=\"sk-item\"><div class=\"sk-label-container\"><div class=\"sk-label sk-toggleable\"><input class=\"sk-toggleable__control sk-hidden--visually\" id=\"sk-estimator-id-118\" type=\"checkbox\" ><label for=\"sk-estimator-id-118\" class=\"sk-toggleable__label sk-toggleable__label-arrow\">bow</label><div class=\"sk-toggleable__content\"><pre>Index([&#x27;1st&#x27;, &#x27;2nd&#x27;, &#x27;3rd&#x27;, &#x27;4th&#x27;, &#x27;abundance&#x27;, &#x27;abundant&#x27;, &#x27;ac&#x27;, &#x27;accent&#x27;,\n",
       "       &#x27;access&#x27;, &#x27;acre&#x27;,\n",
       "       ...\n",
       "       &#x27;work&#x27;, &#x27;workout&#x27;, &#x27;workshop&#x27;, &#x27;world&#x27;, &#x27;wrap&#x27;, &#x27;yard&#x27;, &#x27;year&#x27;, &#x27;yoga&#x27;,\n",
       "       &#x27;zone&#x27;, &#x27;zoo&#x27;],\n",
       "      dtype=&#x27;object&#x27;, length=926)</pre></div></div></div><div class=\"sk-serial\"><div class=\"sk-item\"><div class=\"sk-estimator sk-toggleable\"><input class=\"sk-toggleable__control sk-hidden--visually\" id=\"sk-estimator-id-119\" type=\"checkbox\" ><label for=\"sk-estimator-id-119\" class=\"sk-toggleable__label sk-toggleable__label-arrow\">passthrough</label><div class=\"sk-toggleable__content\"><pre>passthrough</pre></div></div></div></div></div></div></div></div><div class=\"sk-item\"><div class=\"sk-estimator sk-toggleable\"><input class=\"sk-toggleable__control sk-hidden--visually\" id=\"sk-estimator-id-120\" type=\"checkbox\" ><label for=\"sk-estimator-id-120\" class=\"sk-toggleable__label sk-toggleable__label-arrow\">XGBRegressor</label><div class=\"sk-toggleable__content\"><pre>XGBRegressor(base_score=0.5, booster=&#x27;gbtree&#x27;, colsample_bylevel=1,\n",
       "             colsample_bynode=1, colsample_bytree=0.8, gamma=0, gpu_id=-1,\n",
       "             importance_type=&#x27;gain&#x27;, interaction_constraints=&#x27;&#x27;,\n",
       "             learning_rate=0.05, max_delta_step=0, max_depth=10,\n",
       "             min_child_weight=4, missing=nan, monotone_constraints=&#x27;()&#x27;,\n",
       "             n_estimators=500, n_jobs=0, num_parallel_tree=1, random_state=42,\n",
       "             reg_alpha=0, reg_lambda=1, scale_pos_weight=1, subsample=0.6,\n",
       "             tree_method=&#x27;exact&#x27;, validate_parameters=1, verbosity=None)</pre></div></div></div></div></div></div></div></div></div></div><div class=\"sk-item\"><div class=\"sk-parallel\"><div class=\"sk-parallel-item\"><div class=\"sk-item\"><div class=\"sk-label-container\"><div class=\"sk-label sk-toggleable\"><label>final_estimator</label></div></div><div class=\"sk-serial\"><div class=\"sk-item\"><div class=\"sk-estimator sk-toggleable\"><input class=\"sk-toggleable__control sk-hidden--visually\" id=\"sk-estimator-id-121\" type=\"checkbox\" ><label for=\"sk-estimator-id-121\" class=\"sk-toggleable__label sk-toggleable__label-arrow\">XGBRegressor</label><div class=\"sk-toggleable__content\"><pre>XGBRegressor(base_score=None, booster=None, colsample_bylevel=None,\n",
       "             colsample_bynode=None, colsample_bytree=None, gamma=None,\n",
       "             gpu_id=None, importance_type=&#x27;gain&#x27;, interaction_constraints=None,\n",
       "             learning_rate=None, max_delta_step=None, max_depth=None,\n",
       "             min_child_weight=None, missing=nan, monotone_constraints=None,\n",
       "             n_estimators=100, n_jobs=None, num_parallel_tree=None,\n",
       "             random_state=None, reg_alpha=None, reg_lambda=None,\n",
       "             scale_pos_weight=None, subsample=None, tree_method=None,\n",
       "             validate_parameters=None, verbosity=None)</pre></div></div></div></div></div></div></div></div></div></div></div></div>"
      ],
      "text/plain": [
       "StackingRegressor(estimators=[('xgbr',\n",
       "                               Pipeline(steps=[('preprocessing',\n",
       "                                                ColumnTransformer(transformers=[('num',\n",
       "                                                                                 Pipeline(steps=[('imputer',\n",
       "                                                                                                  SimpleImputer()),\n",
       "                                                                                                 ('scaler',\n",
       "                                                                                                  StandardScaler())]),\n",
       "                                                                                 Index(['Age', 'ZIP OR POSTAL CODE', 'BEDS', 'BATHS', 'SQUARE FEET',\n",
       "       'LOT SIZE'],\n",
       "      dtype='object')),\n",
       "                                                                                ('cat',\n",
       "                                                                                 Pipeline(steps=[('onehot',\n",
       "                                                                                                  OneHotEncoder(drop='first'))]),\n",
       "                                                                                 Index(['SALE TYP...\n",
       "                                               importance_type='gain',\n",
       "                                               interaction_constraints=None,\n",
       "                                               learning_rate=None,\n",
       "                                               max_delta_step=None,\n",
       "                                               max_depth=None,\n",
       "                                               min_child_weight=None,\n",
       "                                               missing=nan,\n",
       "                                               monotone_constraints=None,\n",
       "                                               n_estimators=100, n_jobs=None,\n",
       "                                               num_parallel_tree=None,\n",
       "                                               random_state=None,\n",
       "                                               reg_alpha=None, reg_lambda=None,\n",
       "                                               scale_pos_weight=None,\n",
       "                                               subsample=None, tree_method=None,\n",
       "                                               validate_parameters=None,\n",
       "                                               verbosity=None))"
      ]
     },
     "execution_count": 254,
     "metadata": {},
     "output_type": "execute_result"
    }
   ],
   "source": [
    "stack.fit(X_train, y_train)"
   ]
  },
  {
   "cell_type": "code",
   "execution_count": 255,
   "id": "7d9ec09a",
   "metadata": {},
   "outputs": [],
   "source": [
    "ypred6 = stack.predict(X_test)"
   ]
  },
  {
   "cell_type": "code",
   "execution_count": 256,
   "id": "aefbd46d",
   "metadata": {},
   "outputs": [
    {
     "name": "stdout",
     "output_type": "stream",
     "text": [
      "Mean Absolute Error: 134655.39539761672\n",
      "Mean Squared Error: 59919207148.75251\n",
      "r2: 0.8012922722193803\n"
     ]
    }
   ],
   "source": [
    "mae6 = mean_absolute_error(y_test, ypred6)\n",
    "mse6 = mean_squared_error(y_test, ypred6)\n",
    "r26= r2_score(y_test, ypred6)\n",
    "print(f\"Mean Absolute Error: {mae6}\")\n",
    "print(f\"Mean Squared Error: {mse6}\")\n",
    "print(f\"r2: {r26}\")"
   ]
  },
  {
   "cell_type": "markdown",
   "id": "ba46916e",
   "metadata": {},
   "source": [
    "###### Conclusion:\n",
    "- TBD after Running Bigrams"
   ]
  },
  {
   "cell_type": "code",
   "execution_count": null,
   "id": "a813f983",
   "metadata": {},
   "outputs": [],
   "source": []
  }
 ],
 "metadata": {
  "kernelspec": {
   "display_name": "Python (learn-env)",
   "language": "python",
   "name": "learn-env"
  },
  "language_info": {
   "codemirror_mode": {
    "name": "ipython",
    "version": 3
   },
   "file_extension": ".py",
   "mimetype": "text/x-python",
   "name": "python",
   "nbconvert_exporter": "python",
   "pygments_lexer": "ipython3",
   "version": "3.8.5"
  }
 },
 "nbformat": 4,
 "nbformat_minor": 5
}
